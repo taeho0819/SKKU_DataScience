{
  "nbformat": 4,
  "nbformat_minor": 0,
  "metadata": {
    "colab": {
      "name": "Breast_cancer.ipynb",
      "provenance": [],
      "collapsed_sections": []
    },
    "kernelspec": {
      "name": "python3",
      "display_name": "Python 3"
    },
    "language_info": {
      "name": "python"
    }
  },
  "cells": [
    {
      "cell_type": "code",
      "execution_count": 24,
      "metadata": {
        "id": "oxdpsFNOKZaI"
      },
      "outputs": [],
      "source": [
        "#sklearn에서 breast cancer dataset을 불러옵니다.\n",
        "from sklearn.datasets import load_breast_cancer\n",
        "\n",
        "breast_cancer_data = load_breast_cancer()\n",
        "X, y = breast_cancer_data.data, breast_cancer_data.target"
      ]
    },
    {
      "cell_type": "markdown",
      "source": [
        ""
      ],
      "metadata": {
        "id": "qRh0oZH6lNJ1"
      }
    },
    {
      "cell_type": "code",
      "source": [
        "#sklearn에서 제공하는 함수 train_test_split을 활용하여 데이터세트를 train set과 test set으로 분리하여 줍니다(8:2)\n",
        "from sklearn.model_selection import train_test_split\n",
        "\n",
        "X_train, X_test, y_train, y_test = train_test_split(X,y, test_size=0.2)"
      ],
      "metadata": {
        "id": "ncV9XWQtLJ46"
      },
      "execution_count": 25,
      "outputs": []
    },
    {
      "cell_type": "code",
      "source": [
        "print(X_train.shape, y_train.shape)"
      ],
      "metadata": {
        "colab": {
          "base_uri": "https://localhost:8080/"
        },
        "id": "oYe0P4msL5aq",
        "outputId": "d13b7649-2038-4755-c2a9-c40c72cd0fa1"
      },
      "execution_count": 26,
      "outputs": [
        {
          "output_type": "stream",
          "name": "stdout",
          "text": [
            "(455, 30) (455,)\n"
          ]
        }
      ]
    },
    {
      "cell_type": "code",
      "source": [
        "print(X_test.shape, y_test.shape)"
      ],
      "metadata": {
        "colab": {
          "base_uri": "https://localhost:8080/"
        },
        "id": "5A-tWZcgMGv_",
        "outputId": "b4ef0931-5100-4f2c-8d1e-b03da4bbb011"
      },
      "execution_count": 27,
      "outputs": [
        {
          "output_type": "stream",
          "name": "stdout",
          "text": [
            "(114, 30) (114,)\n"
          ]
        }
      ]
    },
    {
      "cell_type": "code",
      "source": [
        "#sklearn에서 제공하는 함수 StandardScaler를 활용하여 feature의 값을 Scaling하여 줍니다.\n",
        "from sklearn.preprocessing import StandardScaler\n",
        "\n",
        "scaler = StandardScaler()\n",
        "X_train = scaler.fit_transform(X_train)\n",
        "X_test = scaler.transform(X_test)"
      ],
      "metadata": {
        "id": "VO1crbSgLisi"
      },
      "execution_count": 28,
      "outputs": []
    },
    {
      "cell_type": "code",
      "source": [
        "import torch\n",
        "import torch.nn as nn\n",
        "import numpy as np\n",
        "import torch.optim as optim\n",
        "import torch.functional as F"
      ],
      "metadata": {
        "id": "RE1bZ0xgL43M"
      },
      "execution_count": 29,
      "outputs": []
    },
    {
      "cell_type": "code",
      "source": [
        "#TODO\n",
        "from sklearn.linear_model import LinearRegression\n",
        "\n",
        "model = LinearRegression()\n",
        "model.fit(X_train, y_train)"
      ],
      "metadata": {
        "id": "XjuTeA_NOmnL",
        "colab": {
          "base_uri": "https://localhost:8080/"
        },
        "outputId": "f644b901-1799-46f1-ab3e-c01bc15aaba9"
      },
      "execution_count": 30,
      "outputs": [
        {
          "output_type": "execute_result",
          "data": {
            "text/plain": [
              "LinearRegression()"
            ]
          },
          "metadata": {},
          "execution_count": 30
        }
      ]
    },
    {
      "cell_type": "code",
      "source": [
        "model.predict(X_test)"
      ],
      "metadata": {
        "colab": {
          "base_uri": "https://localhost:8080/"
        },
        "id": "AI_S_y98lktx",
        "outputId": "7d822f47-9b6c-4135-e011-0f5486d3813f"
      },
      "execution_count": 31,
      "outputs": [
        {
          "output_type": "execute_result",
          "data": {
            "text/plain": [
              "array([ 7.12173770e-01,  6.32803035e-01,  1.04349185e+00, -8.97162725e-02,\n",
              "        9.92331920e-01,  8.92665016e-01,  7.16364888e-02,  1.11938186e+00,\n",
              "        2.25519394e-01,  9.69243237e-01,  1.07460663e-01,  7.00020463e-01,\n",
              "        9.45665076e-01,  4.26635565e-01,  2.69484313e-01,  9.49427344e-01,\n",
              "        7.30789490e-01,  9.52610512e-01, -2.14809893e-04,  8.19684557e-02,\n",
              "        9.27388026e-01,  1.05687819e+00, -1.54529867e-01,  2.53438782e-01,\n",
              "        9.38946729e-01,  2.04735004e-01,  1.75258000e-01,  1.11364956e+00,\n",
              "        8.47591048e-01,  1.25245141e-01,  1.20844114e+00,  1.31648554e-01,\n",
              "        6.41310053e-03,  7.53058684e-01,  1.19437092e+00,  8.09754032e-01,\n",
              "        1.00574221e+00,  9.60914189e-01,  1.17885815e+00,  3.66298460e-01,\n",
              "        1.06617340e+00, -2.99984769e-01,  2.75233542e-01,  1.00248860e+00,\n",
              "        4.05567995e-01,  1.18882008e+00,  1.10662122e+00, -5.97834557e-02,\n",
              "        1.04054935e+00,  1.15028509e+00, -1.62404148e-03,  9.69618236e-01,\n",
              "        1.10510499e+00,  6.29899045e-01,  1.07391344e+00,  2.86582687e-01,\n",
              "        7.87605351e-01, -8.80987182e-02,  7.75633678e-01,  8.31729010e-01,\n",
              "        7.81508206e-02,  9.65795122e-01,  6.94138491e-01,  1.07166769e+00,\n",
              "        7.93317972e-01,  9.54739653e-01,  1.06793535e+00,  1.07821672e+00,\n",
              "        1.26647065e-02,  6.81273236e-01, -2.99313996e-01,  9.45127207e-01,\n",
              "        4.28836958e-01,  2.37412043e-01,  4.25675141e-01,  8.60742218e-01,\n",
              "        1.15347944e+00,  7.09854199e-01, -1.89028551e-01,  1.08917997e+00,\n",
              "        1.73752454e-01,  1.14871560e+00,  1.11597983e+00,  6.15917407e-01,\n",
              "        1.08957404e+00,  7.98985852e-01,  7.74889957e-01,  8.78104309e-01,\n",
              "        6.66077304e-01,  9.78410329e-02,  6.70186236e-01,  9.07717492e-01,\n",
              "        7.43612063e-01,  8.03116274e-01,  8.32605073e-01,  9.41089583e-01,\n",
              "        9.22740654e-01,  6.28964401e-01,  7.24335133e-01,  9.29598624e-01,\n",
              "        2.45213320e-01,  1.04799966e+00,  1.48307541e+00,  5.48272988e-01,\n",
              "        9.05999391e-01, -9.00679536e-02,  4.46303276e-01,  2.77265255e-01,\n",
              "        6.00585305e-01,  1.11579940e+00,  1.21897619e+00,  4.32378960e-01,\n",
              "        7.09769236e-01,  1.84692878e-01])"
            ]
          },
          "metadata": {},
          "execution_count": 31
        }
      ]
    },
    {
      "cell_type": "code",
      "source": [
        "model.score(X_test, y_test)"
      ],
      "metadata": {
        "colab": {
          "base_uri": "https://localhost:8080/"
        },
        "id": "MlNoL5DMlvwT",
        "outputId": "4c09af3d-d801-4fd8-a9e3-29344563581f"
      },
      "execution_count": 32,
      "outputs": [
        {
          "output_type": "execute_result",
          "data": {
            "text/plain": [
              "0.7777093473071585"
            ]
          },
          "metadata": {},
          "execution_count": 32
        }
      ]
    },
    {
      "cell_type": "code",
      "source": [
        "import torch\n",
        "import torch.nn as nn\n",
        "import numpy as np\n",
        "import torch.optim as optim\n",
        "import torch.nn.functional as F\n",
        "\n",
        "# 모델 클래스 생성\n",
        "class MultivariateLinearRegressionModel(nn.Module):\n",
        "    def __init__(self):\n",
        "        super().__init__()\n",
        "        self.linear1 = nn.Linear(30, 256) # 다중 선형 회귀이므로 input_dim=3, output_dim=1.\n",
        "        self.linear2 = nn.Linear(256, 128)\n",
        "        self.linear3 = nn.Linear(128, 32)\n",
        "        self.linear4 = nn.Linear(32, 1)\n",
        "\n",
        "    def forward(self, x):\n",
        "        pred = self.linear1(torch.Tensor(x))\n",
        "        pred = torch.sigmoid(pred)\n",
        "        pred = self.linear2(pred)\n",
        "        pred = torch.sigmoid(pred)\n",
        "        pred = self.linear3(pred)\n",
        "        pred = torch.sigmoid(pred)\n",
        "        pred = self.linear4(pred)\n",
        "        pred = torch.sigmoid(pred)\n",
        "        return pred\n",
        "\n",
        "# 모델 객체 생성\n",
        "model = MultivariateLinearRegressionModel()\n",
        "\n",
        "# optimizer 설정. 경사 하강법 SGD를 사용하고 learning rate를 의미하는 lr은 0.01\n",
        "optimizer = torch.optim.SGD(model.parameters(), lr=1e-5) \n",
        "\n",
        "# 전체 훈련 데이터에 대해 경사 하강법을 2,000회 반복\n",
        "nb_epochs = 2000\n",
        "for epoch in range(nb_epochs+1):\n",
        "\n",
        "    # H(x) 계산\n",
        "    prediction = model(X_train)\n",
        "    # model(x_train)은 model.forward(x_train)와 동일함.\n",
        "\n",
        "    # cost 계산\n",
        "    cost = F.mse_loss(prediction, torch.Tensor(y_train)) # <== 파이토치에서 제공하는 평균 제곱 오차 함수\n",
        "\n",
        "    # cost로 H(x) 개선하는 부분\n",
        "    # gradient를 0으로 초기화\n",
        "    optimizer.zero_grad()\n",
        "    # 비용 함수를 미분하여 gradient 계산\n",
        "    cost.backward()\n",
        "    # W와 b를 업데이트\n",
        "    optimizer.step()\n",
        "\n",
        "    if epoch % 100 == 0:\n",
        "    # 100번마다 로그 출력\n",
        "      print('Epoch {:4d}/{} Cost: {:.6f}'.format(\n",
        "          epoch, nb_epochs, cost.item()\n",
        "      ))"
      ],
      "metadata": {
        "colab": {
          "base_uri": "https://localhost:8080/"
        },
        "id": "ATBEH3scl0MA",
        "outputId": "2a48a3be-71b7-40ad-ef05-5cdf9751e892"
      },
      "execution_count": 46,
      "outputs": [
        {
          "output_type": "stream",
          "name": "stderr",
          "text": [
            "/usr/local/lib/python3.7/dist-packages/ipykernel_launcher.py:42: UserWarning: Using a target size (torch.Size([455])) that is different to the input size (torch.Size([455, 1])). This will likely lead to incorrect results due to broadcasting. Please ensure they have the same size.\n"
          ]
        },
        {
          "output_type": "stream",
          "name": "stdout",
          "text": [
            "Epoch    0/2000 Cost: 0.243108\n",
            "Epoch  100/2000 Cost: 0.243087\n",
            "Epoch  200/2000 Cost: 0.243067\n",
            "Epoch  300/2000 Cost: 0.243046\n",
            "Epoch  400/2000 Cost: 0.243026\n",
            "Epoch  500/2000 Cost: 0.243006\n",
            "Epoch  600/2000 Cost: 0.242985\n",
            "Epoch  700/2000 Cost: 0.242965\n",
            "Epoch  800/2000 Cost: 0.242945\n",
            "Epoch  900/2000 Cost: 0.242925\n",
            "Epoch 1000/2000 Cost: 0.242905\n",
            "Epoch 1100/2000 Cost: 0.242885\n",
            "Epoch 1200/2000 Cost: 0.242865\n",
            "Epoch 1300/2000 Cost: 0.242845\n",
            "Epoch 1400/2000 Cost: 0.242825\n",
            "Epoch 1500/2000 Cost: 0.242805\n",
            "Epoch 1600/2000 Cost: 0.242785\n",
            "Epoch 1700/2000 Cost: 0.242766\n",
            "Epoch 1800/2000 Cost: 0.242746\n",
            "Epoch 1900/2000 Cost: 0.242726\n",
            "Epoch 2000/2000 Cost: 0.242707\n"
          ]
        }
      ]
    },
    {
      "cell_type": "code",
      "source": [
        ""
      ],
      "metadata": {
        "id": "goX-EnK1mTeF"
      },
      "execution_count": null,
      "outputs": []
    }
  ]
}
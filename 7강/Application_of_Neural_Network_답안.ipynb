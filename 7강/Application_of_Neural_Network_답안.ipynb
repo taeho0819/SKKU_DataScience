{
  "nbformat": 4,
  "nbformat_minor": 0,
  "metadata": {
    "colab": {
      "name": "NH_07________1_.ipynb",
      "provenance": [],
      "collapsed_sections": [
        "mfMmnR7EprMl",
        "4gkpsZe1poMD",
        "o-Cbo-WMpjqz",
        "o60E9G3OyS7i",
        "ev3ejMf4qof-",
        "W78izUR1wCQy",
        "24felM2d0iX2",
        "InfZuoyz0y37",
        "hWcDfOBHMvVF",
        "UJpiS3MQNutn",
        "Xz_nRoawNvQb",
        "loumMVtxsOBG",
        "85IT3xHasA6z"
      ]
    },
    "kernelspec": {
      "name": "python3",
      "display_name": "Python 3"
    },
    "language_info": {
      "name": "python"
    },
    "widgets": {
      "application/vnd.jupyter.widget-state+json": {
        "9c49e38457f047beaf16855dfed3955c": {
          "model_module": "@jupyter-widgets/controls",
          "model_name": "HBoxModel",
          "model_module_version": "1.5.0",
          "state": {
            "_dom_classes": [],
            "_model_module": "@jupyter-widgets/controls",
            "_model_module_version": "1.5.0",
            "_model_name": "HBoxModel",
            "_view_count": null,
            "_view_module": "@jupyter-widgets/controls",
            "_view_module_version": "1.5.0",
            "_view_name": "HBoxView",
            "box_style": "",
            "children": [
              "IPY_MODEL_82c43cf3bfc34b71beb864b5bffec923",
              "IPY_MODEL_1450ae83e2754b13aa094aad52ddf8da",
              "IPY_MODEL_c8eae918ba1742b08904c9ec4fb0ce71"
            ],
            "layout": "IPY_MODEL_d583dba61b174e5f9e5604216be46307"
          }
        },
        "82c43cf3bfc34b71beb864b5bffec923": {
          "model_module": "@jupyter-widgets/controls",
          "model_name": "HTMLModel",
          "model_module_version": "1.5.0",
          "state": {
            "_dom_classes": [],
            "_model_module": "@jupyter-widgets/controls",
            "_model_module_version": "1.5.0",
            "_model_name": "HTMLModel",
            "_view_count": null,
            "_view_module": "@jupyter-widgets/controls",
            "_view_module_version": "1.5.0",
            "_view_name": "HTMLView",
            "description": "",
            "description_tooltip": null,
            "layout": "IPY_MODEL_9c3e7f804172420787683bd4ccff3fc0",
            "placeholder": "​",
            "style": "IPY_MODEL_226908b5e5dc442b9123835edbcca33b",
            "value": ""
          }
        },
        "1450ae83e2754b13aa094aad52ddf8da": {
          "model_module": "@jupyter-widgets/controls",
          "model_name": "FloatProgressModel",
          "model_module_version": "1.5.0",
          "state": {
            "_dom_classes": [],
            "_model_module": "@jupyter-widgets/controls",
            "_model_module_version": "1.5.0",
            "_model_name": "FloatProgressModel",
            "_view_count": null,
            "_view_module": "@jupyter-widgets/controls",
            "_view_module_version": "1.5.0",
            "_view_name": "ProgressView",
            "bar_style": "success",
            "description": "",
            "description_tooltip": null,
            "layout": "IPY_MODEL_263253c993f74b71ad26736e2d74f26a",
            "max": 9912422,
            "min": 0,
            "orientation": "horizontal",
            "style": "IPY_MODEL_270f6e55d6984d619d5159f4d31abbde",
            "value": 9912422
          }
        },
        "c8eae918ba1742b08904c9ec4fb0ce71": {
          "model_module": "@jupyter-widgets/controls",
          "model_name": "HTMLModel",
          "model_module_version": "1.5.0",
          "state": {
            "_dom_classes": [],
            "_model_module": "@jupyter-widgets/controls",
            "_model_module_version": "1.5.0",
            "_model_name": "HTMLModel",
            "_view_count": null,
            "_view_module": "@jupyter-widgets/controls",
            "_view_module_version": "1.5.0",
            "_view_name": "HTMLView",
            "description": "",
            "description_tooltip": null,
            "layout": "IPY_MODEL_cdb2171d6d424692bc2f254b5d0afec0",
            "placeholder": "​",
            "style": "IPY_MODEL_658af6a78fc34c4387a22755c2215e4b",
            "value": " 9913344/? [00:00&lt;00:00, 32551982.11it/s]"
          }
        },
        "d583dba61b174e5f9e5604216be46307": {
          "model_module": "@jupyter-widgets/base",
          "model_name": "LayoutModel",
          "model_module_version": "1.2.0",
          "state": {
            "_model_module": "@jupyter-widgets/base",
            "_model_module_version": "1.2.0",
            "_model_name": "LayoutModel",
            "_view_count": null,
            "_view_module": "@jupyter-widgets/base",
            "_view_module_version": "1.2.0",
            "_view_name": "LayoutView",
            "align_content": null,
            "align_items": null,
            "align_self": null,
            "border": null,
            "bottom": null,
            "display": null,
            "flex": null,
            "flex_flow": null,
            "grid_area": null,
            "grid_auto_columns": null,
            "grid_auto_flow": null,
            "grid_auto_rows": null,
            "grid_column": null,
            "grid_gap": null,
            "grid_row": null,
            "grid_template_areas": null,
            "grid_template_columns": null,
            "grid_template_rows": null,
            "height": null,
            "justify_content": null,
            "justify_items": null,
            "left": null,
            "margin": null,
            "max_height": null,
            "max_width": null,
            "min_height": null,
            "min_width": null,
            "object_fit": null,
            "object_position": null,
            "order": null,
            "overflow": null,
            "overflow_x": null,
            "overflow_y": null,
            "padding": null,
            "right": null,
            "top": null,
            "visibility": null,
            "width": null
          }
        },
        "9c3e7f804172420787683bd4ccff3fc0": {
          "model_module": "@jupyter-widgets/base",
          "model_name": "LayoutModel",
          "model_module_version": "1.2.0",
          "state": {
            "_model_module": "@jupyter-widgets/base",
            "_model_module_version": "1.2.0",
            "_model_name": "LayoutModel",
            "_view_count": null,
            "_view_module": "@jupyter-widgets/base",
            "_view_module_version": "1.2.0",
            "_view_name": "LayoutView",
            "align_content": null,
            "align_items": null,
            "align_self": null,
            "border": null,
            "bottom": null,
            "display": null,
            "flex": null,
            "flex_flow": null,
            "grid_area": null,
            "grid_auto_columns": null,
            "grid_auto_flow": null,
            "grid_auto_rows": null,
            "grid_column": null,
            "grid_gap": null,
            "grid_row": null,
            "grid_template_areas": null,
            "grid_template_columns": null,
            "grid_template_rows": null,
            "height": null,
            "justify_content": null,
            "justify_items": null,
            "left": null,
            "margin": null,
            "max_height": null,
            "max_width": null,
            "min_height": null,
            "min_width": null,
            "object_fit": null,
            "object_position": null,
            "order": null,
            "overflow": null,
            "overflow_x": null,
            "overflow_y": null,
            "padding": null,
            "right": null,
            "top": null,
            "visibility": null,
            "width": null
          }
        },
        "226908b5e5dc442b9123835edbcca33b": {
          "model_module": "@jupyter-widgets/controls",
          "model_name": "DescriptionStyleModel",
          "model_module_version": "1.5.0",
          "state": {
            "_model_module": "@jupyter-widgets/controls",
            "_model_module_version": "1.5.0",
            "_model_name": "DescriptionStyleModel",
            "_view_count": null,
            "_view_module": "@jupyter-widgets/base",
            "_view_module_version": "1.2.0",
            "_view_name": "StyleView",
            "description_width": ""
          }
        },
        "263253c993f74b71ad26736e2d74f26a": {
          "model_module": "@jupyter-widgets/base",
          "model_name": "LayoutModel",
          "model_module_version": "1.2.0",
          "state": {
            "_model_module": "@jupyter-widgets/base",
            "_model_module_version": "1.2.0",
            "_model_name": "LayoutModel",
            "_view_count": null,
            "_view_module": "@jupyter-widgets/base",
            "_view_module_version": "1.2.0",
            "_view_name": "LayoutView",
            "align_content": null,
            "align_items": null,
            "align_self": null,
            "border": null,
            "bottom": null,
            "display": null,
            "flex": null,
            "flex_flow": null,
            "grid_area": null,
            "grid_auto_columns": null,
            "grid_auto_flow": null,
            "grid_auto_rows": null,
            "grid_column": null,
            "grid_gap": null,
            "grid_row": null,
            "grid_template_areas": null,
            "grid_template_columns": null,
            "grid_template_rows": null,
            "height": null,
            "justify_content": null,
            "justify_items": null,
            "left": null,
            "margin": null,
            "max_height": null,
            "max_width": null,
            "min_height": null,
            "min_width": null,
            "object_fit": null,
            "object_position": null,
            "order": null,
            "overflow": null,
            "overflow_x": null,
            "overflow_y": null,
            "padding": null,
            "right": null,
            "top": null,
            "visibility": null,
            "width": null
          }
        },
        "270f6e55d6984d619d5159f4d31abbde": {
          "model_module": "@jupyter-widgets/controls",
          "model_name": "ProgressStyleModel",
          "model_module_version": "1.5.0",
          "state": {
            "_model_module": "@jupyter-widgets/controls",
            "_model_module_version": "1.5.0",
            "_model_name": "ProgressStyleModel",
            "_view_count": null,
            "_view_module": "@jupyter-widgets/base",
            "_view_module_version": "1.2.0",
            "_view_name": "StyleView",
            "bar_color": null,
            "description_width": ""
          }
        },
        "cdb2171d6d424692bc2f254b5d0afec0": {
          "model_module": "@jupyter-widgets/base",
          "model_name": "LayoutModel",
          "model_module_version": "1.2.0",
          "state": {
            "_model_module": "@jupyter-widgets/base",
            "_model_module_version": "1.2.0",
            "_model_name": "LayoutModel",
            "_view_count": null,
            "_view_module": "@jupyter-widgets/base",
            "_view_module_version": "1.2.0",
            "_view_name": "LayoutView",
            "align_content": null,
            "align_items": null,
            "align_self": null,
            "border": null,
            "bottom": null,
            "display": null,
            "flex": null,
            "flex_flow": null,
            "grid_area": null,
            "grid_auto_columns": null,
            "grid_auto_flow": null,
            "grid_auto_rows": null,
            "grid_column": null,
            "grid_gap": null,
            "grid_row": null,
            "grid_template_areas": null,
            "grid_template_columns": null,
            "grid_template_rows": null,
            "height": null,
            "justify_content": null,
            "justify_items": null,
            "left": null,
            "margin": null,
            "max_height": null,
            "max_width": null,
            "min_height": null,
            "min_width": null,
            "object_fit": null,
            "object_position": null,
            "order": null,
            "overflow": null,
            "overflow_x": null,
            "overflow_y": null,
            "padding": null,
            "right": null,
            "top": null,
            "visibility": null,
            "width": null
          }
        },
        "658af6a78fc34c4387a22755c2215e4b": {
          "model_module": "@jupyter-widgets/controls",
          "model_name": "DescriptionStyleModel",
          "model_module_version": "1.5.0",
          "state": {
            "_model_module": "@jupyter-widgets/controls",
            "_model_module_version": "1.5.0",
            "_model_name": "DescriptionStyleModel",
            "_view_count": null,
            "_view_module": "@jupyter-widgets/base",
            "_view_module_version": "1.2.0",
            "_view_name": "StyleView",
            "description_width": ""
          }
        },
        "edce75e15eca4fdeb230e76e56f0c7d3": {
          "model_module": "@jupyter-widgets/controls",
          "model_name": "HBoxModel",
          "model_module_version": "1.5.0",
          "state": {
            "_dom_classes": [],
            "_model_module": "@jupyter-widgets/controls",
            "_model_module_version": "1.5.0",
            "_model_name": "HBoxModel",
            "_view_count": null,
            "_view_module": "@jupyter-widgets/controls",
            "_view_module_version": "1.5.0",
            "_view_name": "HBoxView",
            "box_style": "",
            "children": [
              "IPY_MODEL_3e74363cee3a4f8aa8730921f5bfa108",
              "IPY_MODEL_fbf0baed751b400fba5c436a5c3c11c2",
              "IPY_MODEL_fbc117d5aaf645c5a78c7519680d6c74"
            ],
            "layout": "IPY_MODEL_521ef1abf08942acb73658209ca6b10f"
          }
        },
        "3e74363cee3a4f8aa8730921f5bfa108": {
          "model_module": "@jupyter-widgets/controls",
          "model_name": "HTMLModel",
          "model_module_version": "1.5.0",
          "state": {
            "_dom_classes": [],
            "_model_module": "@jupyter-widgets/controls",
            "_model_module_version": "1.5.0",
            "_model_name": "HTMLModel",
            "_view_count": null,
            "_view_module": "@jupyter-widgets/controls",
            "_view_module_version": "1.5.0",
            "_view_name": "HTMLView",
            "description": "",
            "description_tooltip": null,
            "layout": "IPY_MODEL_4c2fe336ab1a45a28bb36b802b64d839",
            "placeholder": "​",
            "style": "IPY_MODEL_c73a8ba331c34fba97c3aa2469a3e55b",
            "value": ""
          }
        },
        "fbf0baed751b400fba5c436a5c3c11c2": {
          "model_module": "@jupyter-widgets/controls",
          "model_name": "FloatProgressModel",
          "model_module_version": "1.5.0",
          "state": {
            "_dom_classes": [],
            "_model_module": "@jupyter-widgets/controls",
            "_model_module_version": "1.5.0",
            "_model_name": "FloatProgressModel",
            "_view_count": null,
            "_view_module": "@jupyter-widgets/controls",
            "_view_module_version": "1.5.0",
            "_view_name": "ProgressView",
            "bar_style": "success",
            "description": "",
            "description_tooltip": null,
            "layout": "IPY_MODEL_597a85864c2445539535dd6e0db014f9",
            "max": 28881,
            "min": 0,
            "orientation": "horizontal",
            "style": "IPY_MODEL_b6e2eb2cfd784086b2389876247207b3",
            "value": 28881
          }
        },
        "fbc117d5aaf645c5a78c7519680d6c74": {
          "model_module": "@jupyter-widgets/controls",
          "model_name": "HTMLModel",
          "model_module_version": "1.5.0",
          "state": {
            "_dom_classes": [],
            "_model_module": "@jupyter-widgets/controls",
            "_model_module_version": "1.5.0",
            "_model_name": "HTMLModel",
            "_view_count": null,
            "_view_module": "@jupyter-widgets/controls",
            "_view_module_version": "1.5.0",
            "_view_name": "HTMLView",
            "description": "",
            "description_tooltip": null,
            "layout": "IPY_MODEL_9d379142f2004bc9b34fa9fa347c1a5c",
            "placeholder": "​",
            "style": "IPY_MODEL_9f2eecaf09064b44b0e3644561edec47",
            "value": " 29696/? [00:00&lt;00:00, 809186.63it/s]"
          }
        },
        "521ef1abf08942acb73658209ca6b10f": {
          "model_module": "@jupyter-widgets/base",
          "model_name": "LayoutModel",
          "model_module_version": "1.2.0",
          "state": {
            "_model_module": "@jupyter-widgets/base",
            "_model_module_version": "1.2.0",
            "_model_name": "LayoutModel",
            "_view_count": null,
            "_view_module": "@jupyter-widgets/base",
            "_view_module_version": "1.2.0",
            "_view_name": "LayoutView",
            "align_content": null,
            "align_items": null,
            "align_self": null,
            "border": null,
            "bottom": null,
            "display": null,
            "flex": null,
            "flex_flow": null,
            "grid_area": null,
            "grid_auto_columns": null,
            "grid_auto_flow": null,
            "grid_auto_rows": null,
            "grid_column": null,
            "grid_gap": null,
            "grid_row": null,
            "grid_template_areas": null,
            "grid_template_columns": null,
            "grid_template_rows": null,
            "height": null,
            "justify_content": null,
            "justify_items": null,
            "left": null,
            "margin": null,
            "max_height": null,
            "max_width": null,
            "min_height": null,
            "min_width": null,
            "object_fit": null,
            "object_position": null,
            "order": null,
            "overflow": null,
            "overflow_x": null,
            "overflow_y": null,
            "padding": null,
            "right": null,
            "top": null,
            "visibility": null,
            "width": null
          }
        },
        "4c2fe336ab1a45a28bb36b802b64d839": {
          "model_module": "@jupyter-widgets/base",
          "model_name": "LayoutModel",
          "model_module_version": "1.2.0",
          "state": {
            "_model_module": "@jupyter-widgets/base",
            "_model_module_version": "1.2.0",
            "_model_name": "LayoutModel",
            "_view_count": null,
            "_view_module": "@jupyter-widgets/base",
            "_view_module_version": "1.2.0",
            "_view_name": "LayoutView",
            "align_content": null,
            "align_items": null,
            "align_self": null,
            "border": null,
            "bottom": null,
            "display": null,
            "flex": null,
            "flex_flow": null,
            "grid_area": null,
            "grid_auto_columns": null,
            "grid_auto_flow": null,
            "grid_auto_rows": null,
            "grid_column": null,
            "grid_gap": null,
            "grid_row": null,
            "grid_template_areas": null,
            "grid_template_columns": null,
            "grid_template_rows": null,
            "height": null,
            "justify_content": null,
            "justify_items": null,
            "left": null,
            "margin": null,
            "max_height": null,
            "max_width": null,
            "min_height": null,
            "min_width": null,
            "object_fit": null,
            "object_position": null,
            "order": null,
            "overflow": null,
            "overflow_x": null,
            "overflow_y": null,
            "padding": null,
            "right": null,
            "top": null,
            "visibility": null,
            "width": null
          }
        },
        "c73a8ba331c34fba97c3aa2469a3e55b": {
          "model_module": "@jupyter-widgets/controls",
          "model_name": "DescriptionStyleModel",
          "model_module_version": "1.5.0",
          "state": {
            "_model_module": "@jupyter-widgets/controls",
            "_model_module_version": "1.5.0",
            "_model_name": "DescriptionStyleModel",
            "_view_count": null,
            "_view_module": "@jupyter-widgets/base",
            "_view_module_version": "1.2.0",
            "_view_name": "StyleView",
            "description_width": ""
          }
        },
        "597a85864c2445539535dd6e0db014f9": {
          "model_module": "@jupyter-widgets/base",
          "model_name": "LayoutModel",
          "model_module_version": "1.2.0",
          "state": {
            "_model_module": "@jupyter-widgets/base",
            "_model_module_version": "1.2.0",
            "_model_name": "LayoutModel",
            "_view_count": null,
            "_view_module": "@jupyter-widgets/base",
            "_view_module_version": "1.2.0",
            "_view_name": "LayoutView",
            "align_content": null,
            "align_items": null,
            "align_self": null,
            "border": null,
            "bottom": null,
            "display": null,
            "flex": null,
            "flex_flow": null,
            "grid_area": null,
            "grid_auto_columns": null,
            "grid_auto_flow": null,
            "grid_auto_rows": null,
            "grid_column": null,
            "grid_gap": null,
            "grid_row": null,
            "grid_template_areas": null,
            "grid_template_columns": null,
            "grid_template_rows": null,
            "height": null,
            "justify_content": null,
            "justify_items": null,
            "left": null,
            "margin": null,
            "max_height": null,
            "max_width": null,
            "min_height": null,
            "min_width": null,
            "object_fit": null,
            "object_position": null,
            "order": null,
            "overflow": null,
            "overflow_x": null,
            "overflow_y": null,
            "padding": null,
            "right": null,
            "top": null,
            "visibility": null,
            "width": null
          }
        },
        "b6e2eb2cfd784086b2389876247207b3": {
          "model_module": "@jupyter-widgets/controls",
          "model_name": "ProgressStyleModel",
          "model_module_version": "1.5.0",
          "state": {
            "_model_module": "@jupyter-widgets/controls",
            "_model_module_version": "1.5.0",
            "_model_name": "ProgressStyleModel",
            "_view_count": null,
            "_view_module": "@jupyter-widgets/base",
            "_view_module_version": "1.2.0",
            "_view_name": "StyleView",
            "bar_color": null,
            "description_width": ""
          }
        },
        "9d379142f2004bc9b34fa9fa347c1a5c": {
          "model_module": "@jupyter-widgets/base",
          "model_name": "LayoutModel",
          "model_module_version": "1.2.0",
          "state": {
            "_model_module": "@jupyter-widgets/base",
            "_model_module_version": "1.2.0",
            "_model_name": "LayoutModel",
            "_view_count": null,
            "_view_module": "@jupyter-widgets/base",
            "_view_module_version": "1.2.0",
            "_view_name": "LayoutView",
            "align_content": null,
            "align_items": null,
            "align_self": null,
            "border": null,
            "bottom": null,
            "display": null,
            "flex": null,
            "flex_flow": null,
            "grid_area": null,
            "grid_auto_columns": null,
            "grid_auto_flow": null,
            "grid_auto_rows": null,
            "grid_column": null,
            "grid_gap": null,
            "grid_row": null,
            "grid_template_areas": null,
            "grid_template_columns": null,
            "grid_template_rows": null,
            "height": null,
            "justify_content": null,
            "justify_items": null,
            "left": null,
            "margin": null,
            "max_height": null,
            "max_width": null,
            "min_height": null,
            "min_width": null,
            "object_fit": null,
            "object_position": null,
            "order": null,
            "overflow": null,
            "overflow_x": null,
            "overflow_y": null,
            "padding": null,
            "right": null,
            "top": null,
            "visibility": null,
            "width": null
          }
        },
        "9f2eecaf09064b44b0e3644561edec47": {
          "model_module": "@jupyter-widgets/controls",
          "model_name": "DescriptionStyleModel",
          "model_module_version": "1.5.0",
          "state": {
            "_model_module": "@jupyter-widgets/controls",
            "_model_module_version": "1.5.0",
            "_model_name": "DescriptionStyleModel",
            "_view_count": null,
            "_view_module": "@jupyter-widgets/base",
            "_view_module_version": "1.2.0",
            "_view_name": "StyleView",
            "description_width": ""
          }
        },
        "244686612d9e46c0b2ed88282afac6fb": {
          "model_module": "@jupyter-widgets/controls",
          "model_name": "HBoxModel",
          "model_module_version": "1.5.0",
          "state": {
            "_dom_classes": [],
            "_model_module": "@jupyter-widgets/controls",
            "_model_module_version": "1.5.0",
            "_model_name": "HBoxModel",
            "_view_count": null,
            "_view_module": "@jupyter-widgets/controls",
            "_view_module_version": "1.5.0",
            "_view_name": "HBoxView",
            "box_style": "",
            "children": [
              "IPY_MODEL_96d2f21907c14050929a243beafa9868",
              "IPY_MODEL_3a744a7c8d154d3cb27bc7b4437bf1df",
              "IPY_MODEL_2a50d1ed12c74091b7c19a99b2c9e97a"
            ],
            "layout": "IPY_MODEL_52780d6576744ccc963fa3f54f475960"
          }
        },
        "96d2f21907c14050929a243beafa9868": {
          "model_module": "@jupyter-widgets/controls",
          "model_name": "HTMLModel",
          "model_module_version": "1.5.0",
          "state": {
            "_dom_classes": [],
            "_model_module": "@jupyter-widgets/controls",
            "_model_module_version": "1.5.0",
            "_model_name": "HTMLModel",
            "_view_count": null,
            "_view_module": "@jupyter-widgets/controls",
            "_view_module_version": "1.5.0",
            "_view_name": "HTMLView",
            "description": "",
            "description_tooltip": null,
            "layout": "IPY_MODEL_81da4a21a91348c89d7579964c9e4c5d",
            "placeholder": "​",
            "style": "IPY_MODEL_47ffb8bd27eb4b559e8942130274ea2c",
            "value": ""
          }
        },
        "3a744a7c8d154d3cb27bc7b4437bf1df": {
          "model_module": "@jupyter-widgets/controls",
          "model_name": "FloatProgressModel",
          "model_module_version": "1.5.0",
          "state": {
            "_dom_classes": [],
            "_model_module": "@jupyter-widgets/controls",
            "_model_module_version": "1.5.0",
            "_model_name": "FloatProgressModel",
            "_view_count": null,
            "_view_module": "@jupyter-widgets/controls",
            "_view_module_version": "1.5.0",
            "_view_name": "ProgressView",
            "bar_style": "success",
            "description": "",
            "description_tooltip": null,
            "layout": "IPY_MODEL_f0c057ddb5c647de8b476230dcc829bb",
            "max": 1648877,
            "min": 0,
            "orientation": "horizontal",
            "style": "IPY_MODEL_1bf3f22203714f0f829798edfcbbfacb",
            "value": 1648877
          }
        },
        "2a50d1ed12c74091b7c19a99b2c9e97a": {
          "model_module": "@jupyter-widgets/controls",
          "model_name": "HTMLModel",
          "model_module_version": "1.5.0",
          "state": {
            "_dom_classes": [],
            "_model_module": "@jupyter-widgets/controls",
            "_model_module_version": "1.5.0",
            "_model_name": "HTMLModel",
            "_view_count": null,
            "_view_module": "@jupyter-widgets/controls",
            "_view_module_version": "1.5.0",
            "_view_name": "HTMLView",
            "description": "",
            "description_tooltip": null,
            "layout": "IPY_MODEL_59cadc099a0541a08d0e4685d56f067f",
            "placeholder": "​",
            "style": "IPY_MODEL_f4bc29d00a8d43849c889ddf4e77541c",
            "value": " 1649664/? [00:00&lt;00:00, 19502274.07it/s]"
          }
        },
        "52780d6576744ccc963fa3f54f475960": {
          "model_module": "@jupyter-widgets/base",
          "model_name": "LayoutModel",
          "model_module_version": "1.2.0",
          "state": {
            "_model_module": "@jupyter-widgets/base",
            "_model_module_version": "1.2.0",
            "_model_name": "LayoutModel",
            "_view_count": null,
            "_view_module": "@jupyter-widgets/base",
            "_view_module_version": "1.2.0",
            "_view_name": "LayoutView",
            "align_content": null,
            "align_items": null,
            "align_self": null,
            "border": null,
            "bottom": null,
            "display": null,
            "flex": null,
            "flex_flow": null,
            "grid_area": null,
            "grid_auto_columns": null,
            "grid_auto_flow": null,
            "grid_auto_rows": null,
            "grid_column": null,
            "grid_gap": null,
            "grid_row": null,
            "grid_template_areas": null,
            "grid_template_columns": null,
            "grid_template_rows": null,
            "height": null,
            "justify_content": null,
            "justify_items": null,
            "left": null,
            "margin": null,
            "max_height": null,
            "max_width": null,
            "min_height": null,
            "min_width": null,
            "object_fit": null,
            "object_position": null,
            "order": null,
            "overflow": null,
            "overflow_x": null,
            "overflow_y": null,
            "padding": null,
            "right": null,
            "top": null,
            "visibility": null,
            "width": null
          }
        },
        "81da4a21a91348c89d7579964c9e4c5d": {
          "model_module": "@jupyter-widgets/base",
          "model_name": "LayoutModel",
          "model_module_version": "1.2.0",
          "state": {
            "_model_module": "@jupyter-widgets/base",
            "_model_module_version": "1.2.0",
            "_model_name": "LayoutModel",
            "_view_count": null,
            "_view_module": "@jupyter-widgets/base",
            "_view_module_version": "1.2.0",
            "_view_name": "LayoutView",
            "align_content": null,
            "align_items": null,
            "align_self": null,
            "border": null,
            "bottom": null,
            "display": null,
            "flex": null,
            "flex_flow": null,
            "grid_area": null,
            "grid_auto_columns": null,
            "grid_auto_flow": null,
            "grid_auto_rows": null,
            "grid_column": null,
            "grid_gap": null,
            "grid_row": null,
            "grid_template_areas": null,
            "grid_template_columns": null,
            "grid_template_rows": null,
            "height": null,
            "justify_content": null,
            "justify_items": null,
            "left": null,
            "margin": null,
            "max_height": null,
            "max_width": null,
            "min_height": null,
            "min_width": null,
            "object_fit": null,
            "object_position": null,
            "order": null,
            "overflow": null,
            "overflow_x": null,
            "overflow_y": null,
            "padding": null,
            "right": null,
            "top": null,
            "visibility": null,
            "width": null
          }
        },
        "47ffb8bd27eb4b559e8942130274ea2c": {
          "model_module": "@jupyter-widgets/controls",
          "model_name": "DescriptionStyleModel",
          "model_module_version": "1.5.0",
          "state": {
            "_model_module": "@jupyter-widgets/controls",
            "_model_module_version": "1.5.0",
            "_model_name": "DescriptionStyleModel",
            "_view_count": null,
            "_view_module": "@jupyter-widgets/base",
            "_view_module_version": "1.2.0",
            "_view_name": "StyleView",
            "description_width": ""
          }
        },
        "f0c057ddb5c647de8b476230dcc829bb": {
          "model_module": "@jupyter-widgets/base",
          "model_name": "LayoutModel",
          "model_module_version": "1.2.0",
          "state": {
            "_model_module": "@jupyter-widgets/base",
            "_model_module_version": "1.2.0",
            "_model_name": "LayoutModel",
            "_view_count": null,
            "_view_module": "@jupyter-widgets/base",
            "_view_module_version": "1.2.0",
            "_view_name": "LayoutView",
            "align_content": null,
            "align_items": null,
            "align_self": null,
            "border": null,
            "bottom": null,
            "display": null,
            "flex": null,
            "flex_flow": null,
            "grid_area": null,
            "grid_auto_columns": null,
            "grid_auto_flow": null,
            "grid_auto_rows": null,
            "grid_column": null,
            "grid_gap": null,
            "grid_row": null,
            "grid_template_areas": null,
            "grid_template_columns": null,
            "grid_template_rows": null,
            "height": null,
            "justify_content": null,
            "justify_items": null,
            "left": null,
            "margin": null,
            "max_height": null,
            "max_width": null,
            "min_height": null,
            "min_width": null,
            "object_fit": null,
            "object_position": null,
            "order": null,
            "overflow": null,
            "overflow_x": null,
            "overflow_y": null,
            "padding": null,
            "right": null,
            "top": null,
            "visibility": null,
            "width": null
          }
        },
        "1bf3f22203714f0f829798edfcbbfacb": {
          "model_module": "@jupyter-widgets/controls",
          "model_name": "ProgressStyleModel",
          "model_module_version": "1.5.0",
          "state": {
            "_model_module": "@jupyter-widgets/controls",
            "_model_module_version": "1.5.0",
            "_model_name": "ProgressStyleModel",
            "_view_count": null,
            "_view_module": "@jupyter-widgets/base",
            "_view_module_version": "1.2.0",
            "_view_name": "StyleView",
            "bar_color": null,
            "description_width": ""
          }
        },
        "59cadc099a0541a08d0e4685d56f067f": {
          "model_module": "@jupyter-widgets/base",
          "model_name": "LayoutModel",
          "model_module_version": "1.2.0",
          "state": {
            "_model_module": "@jupyter-widgets/base",
            "_model_module_version": "1.2.0",
            "_model_name": "LayoutModel",
            "_view_count": null,
            "_view_module": "@jupyter-widgets/base",
            "_view_module_version": "1.2.0",
            "_view_name": "LayoutView",
            "align_content": null,
            "align_items": null,
            "align_self": null,
            "border": null,
            "bottom": null,
            "display": null,
            "flex": null,
            "flex_flow": null,
            "grid_area": null,
            "grid_auto_columns": null,
            "grid_auto_flow": null,
            "grid_auto_rows": null,
            "grid_column": null,
            "grid_gap": null,
            "grid_row": null,
            "grid_template_areas": null,
            "grid_template_columns": null,
            "grid_template_rows": null,
            "height": null,
            "justify_content": null,
            "justify_items": null,
            "left": null,
            "margin": null,
            "max_height": null,
            "max_width": null,
            "min_height": null,
            "min_width": null,
            "object_fit": null,
            "object_position": null,
            "order": null,
            "overflow": null,
            "overflow_x": null,
            "overflow_y": null,
            "padding": null,
            "right": null,
            "top": null,
            "visibility": null,
            "width": null
          }
        },
        "f4bc29d00a8d43849c889ddf4e77541c": {
          "model_module": "@jupyter-widgets/controls",
          "model_name": "DescriptionStyleModel",
          "model_module_version": "1.5.0",
          "state": {
            "_model_module": "@jupyter-widgets/controls",
            "_model_module_version": "1.5.0",
            "_model_name": "DescriptionStyleModel",
            "_view_count": null,
            "_view_module": "@jupyter-widgets/base",
            "_view_module_version": "1.2.0",
            "_view_name": "StyleView",
            "description_width": ""
          }
        },
        "e97f7cd1407e43e79911b169ac3cae3f": {
          "model_module": "@jupyter-widgets/controls",
          "model_name": "HBoxModel",
          "model_module_version": "1.5.0",
          "state": {
            "_dom_classes": [],
            "_model_module": "@jupyter-widgets/controls",
            "_model_module_version": "1.5.0",
            "_model_name": "HBoxModel",
            "_view_count": null,
            "_view_module": "@jupyter-widgets/controls",
            "_view_module_version": "1.5.0",
            "_view_name": "HBoxView",
            "box_style": "",
            "children": [
              "IPY_MODEL_9a3824305d9b406aa0725ed5fe67bf56",
              "IPY_MODEL_91e2a1a7e46841b88a3fd48fbf4b23db",
              "IPY_MODEL_bf3597fb03fd42cb9238d36848afb538"
            ],
            "layout": "IPY_MODEL_9386a39a20554f68aaba176f6a3a6f37"
          }
        },
        "9a3824305d9b406aa0725ed5fe67bf56": {
          "model_module": "@jupyter-widgets/controls",
          "model_name": "HTMLModel",
          "model_module_version": "1.5.0",
          "state": {
            "_dom_classes": [],
            "_model_module": "@jupyter-widgets/controls",
            "_model_module_version": "1.5.0",
            "_model_name": "HTMLModel",
            "_view_count": null,
            "_view_module": "@jupyter-widgets/controls",
            "_view_module_version": "1.5.0",
            "_view_name": "HTMLView",
            "description": "",
            "description_tooltip": null,
            "layout": "IPY_MODEL_68b549e7df3f45d78f3fa27294be5958",
            "placeholder": "​",
            "style": "IPY_MODEL_a158b1ae2eb24d2dbb0231c7f5003e3a",
            "value": ""
          }
        },
        "91e2a1a7e46841b88a3fd48fbf4b23db": {
          "model_module": "@jupyter-widgets/controls",
          "model_name": "FloatProgressModel",
          "model_module_version": "1.5.0",
          "state": {
            "_dom_classes": [],
            "_model_module": "@jupyter-widgets/controls",
            "_model_module_version": "1.5.0",
            "_model_name": "FloatProgressModel",
            "_view_count": null,
            "_view_module": "@jupyter-widgets/controls",
            "_view_module_version": "1.5.0",
            "_view_name": "ProgressView",
            "bar_style": "success",
            "description": "",
            "description_tooltip": null,
            "layout": "IPY_MODEL_8cdedd538c244221a0b2b3e6274c1eaa",
            "max": 4542,
            "min": 0,
            "orientation": "horizontal",
            "style": "IPY_MODEL_b55ab9f60f9840c785809a032e249c98",
            "value": 4542
          }
        },
        "bf3597fb03fd42cb9238d36848afb538": {
          "model_module": "@jupyter-widgets/controls",
          "model_name": "HTMLModel",
          "model_module_version": "1.5.0",
          "state": {
            "_dom_classes": [],
            "_model_module": "@jupyter-widgets/controls",
            "_model_module_version": "1.5.0",
            "_model_name": "HTMLModel",
            "_view_count": null,
            "_view_module": "@jupyter-widgets/controls",
            "_view_module_version": "1.5.0",
            "_view_name": "HTMLView",
            "description": "",
            "description_tooltip": null,
            "layout": "IPY_MODEL_9dfdd88d028f41c3b9c5fd492f39d788",
            "placeholder": "​",
            "style": "IPY_MODEL_65be3551c48e40a79feb390a2ceecd04",
            "value": " 5120/? [00:00&lt;00:00, 146698.07it/s]"
          }
        },
        "9386a39a20554f68aaba176f6a3a6f37": {
          "model_module": "@jupyter-widgets/base",
          "model_name": "LayoutModel",
          "model_module_version": "1.2.0",
          "state": {
            "_model_module": "@jupyter-widgets/base",
            "_model_module_version": "1.2.0",
            "_model_name": "LayoutModel",
            "_view_count": null,
            "_view_module": "@jupyter-widgets/base",
            "_view_module_version": "1.2.0",
            "_view_name": "LayoutView",
            "align_content": null,
            "align_items": null,
            "align_self": null,
            "border": null,
            "bottom": null,
            "display": null,
            "flex": null,
            "flex_flow": null,
            "grid_area": null,
            "grid_auto_columns": null,
            "grid_auto_flow": null,
            "grid_auto_rows": null,
            "grid_column": null,
            "grid_gap": null,
            "grid_row": null,
            "grid_template_areas": null,
            "grid_template_columns": null,
            "grid_template_rows": null,
            "height": null,
            "justify_content": null,
            "justify_items": null,
            "left": null,
            "margin": null,
            "max_height": null,
            "max_width": null,
            "min_height": null,
            "min_width": null,
            "object_fit": null,
            "object_position": null,
            "order": null,
            "overflow": null,
            "overflow_x": null,
            "overflow_y": null,
            "padding": null,
            "right": null,
            "top": null,
            "visibility": null,
            "width": null
          }
        },
        "68b549e7df3f45d78f3fa27294be5958": {
          "model_module": "@jupyter-widgets/base",
          "model_name": "LayoutModel",
          "model_module_version": "1.2.0",
          "state": {
            "_model_module": "@jupyter-widgets/base",
            "_model_module_version": "1.2.0",
            "_model_name": "LayoutModel",
            "_view_count": null,
            "_view_module": "@jupyter-widgets/base",
            "_view_module_version": "1.2.0",
            "_view_name": "LayoutView",
            "align_content": null,
            "align_items": null,
            "align_self": null,
            "border": null,
            "bottom": null,
            "display": null,
            "flex": null,
            "flex_flow": null,
            "grid_area": null,
            "grid_auto_columns": null,
            "grid_auto_flow": null,
            "grid_auto_rows": null,
            "grid_column": null,
            "grid_gap": null,
            "grid_row": null,
            "grid_template_areas": null,
            "grid_template_columns": null,
            "grid_template_rows": null,
            "height": null,
            "justify_content": null,
            "justify_items": null,
            "left": null,
            "margin": null,
            "max_height": null,
            "max_width": null,
            "min_height": null,
            "min_width": null,
            "object_fit": null,
            "object_position": null,
            "order": null,
            "overflow": null,
            "overflow_x": null,
            "overflow_y": null,
            "padding": null,
            "right": null,
            "top": null,
            "visibility": null,
            "width": null
          }
        },
        "a158b1ae2eb24d2dbb0231c7f5003e3a": {
          "model_module": "@jupyter-widgets/controls",
          "model_name": "DescriptionStyleModel",
          "model_module_version": "1.5.0",
          "state": {
            "_model_module": "@jupyter-widgets/controls",
            "_model_module_version": "1.5.0",
            "_model_name": "DescriptionStyleModel",
            "_view_count": null,
            "_view_module": "@jupyter-widgets/base",
            "_view_module_version": "1.2.0",
            "_view_name": "StyleView",
            "description_width": ""
          }
        },
        "8cdedd538c244221a0b2b3e6274c1eaa": {
          "model_module": "@jupyter-widgets/base",
          "model_name": "LayoutModel",
          "model_module_version": "1.2.0",
          "state": {
            "_model_module": "@jupyter-widgets/base",
            "_model_module_version": "1.2.0",
            "_model_name": "LayoutModel",
            "_view_count": null,
            "_view_module": "@jupyter-widgets/base",
            "_view_module_version": "1.2.0",
            "_view_name": "LayoutView",
            "align_content": null,
            "align_items": null,
            "align_self": null,
            "border": null,
            "bottom": null,
            "display": null,
            "flex": null,
            "flex_flow": null,
            "grid_area": null,
            "grid_auto_columns": null,
            "grid_auto_flow": null,
            "grid_auto_rows": null,
            "grid_column": null,
            "grid_gap": null,
            "grid_row": null,
            "grid_template_areas": null,
            "grid_template_columns": null,
            "grid_template_rows": null,
            "height": null,
            "justify_content": null,
            "justify_items": null,
            "left": null,
            "margin": null,
            "max_height": null,
            "max_width": null,
            "min_height": null,
            "min_width": null,
            "object_fit": null,
            "object_position": null,
            "order": null,
            "overflow": null,
            "overflow_x": null,
            "overflow_y": null,
            "padding": null,
            "right": null,
            "top": null,
            "visibility": null,
            "width": null
          }
        },
        "b55ab9f60f9840c785809a032e249c98": {
          "model_module": "@jupyter-widgets/controls",
          "model_name": "ProgressStyleModel",
          "model_module_version": "1.5.0",
          "state": {
            "_model_module": "@jupyter-widgets/controls",
            "_model_module_version": "1.5.0",
            "_model_name": "ProgressStyleModel",
            "_view_count": null,
            "_view_module": "@jupyter-widgets/base",
            "_view_module_version": "1.2.0",
            "_view_name": "StyleView",
            "bar_color": null,
            "description_width": ""
          }
        },
        "9dfdd88d028f41c3b9c5fd492f39d788": {
          "model_module": "@jupyter-widgets/base",
          "model_name": "LayoutModel",
          "model_module_version": "1.2.0",
          "state": {
            "_model_module": "@jupyter-widgets/base",
            "_model_module_version": "1.2.0",
            "_model_name": "LayoutModel",
            "_view_count": null,
            "_view_module": "@jupyter-widgets/base",
            "_view_module_version": "1.2.0",
            "_view_name": "LayoutView",
            "align_content": null,
            "align_items": null,
            "align_self": null,
            "border": null,
            "bottom": null,
            "display": null,
            "flex": null,
            "flex_flow": null,
            "grid_area": null,
            "grid_auto_columns": null,
            "grid_auto_flow": null,
            "grid_auto_rows": null,
            "grid_column": null,
            "grid_gap": null,
            "grid_row": null,
            "grid_template_areas": null,
            "grid_template_columns": null,
            "grid_template_rows": null,
            "height": null,
            "justify_content": null,
            "justify_items": null,
            "left": null,
            "margin": null,
            "max_height": null,
            "max_width": null,
            "min_height": null,
            "min_width": null,
            "object_fit": null,
            "object_position": null,
            "order": null,
            "overflow": null,
            "overflow_x": null,
            "overflow_y": null,
            "padding": null,
            "right": null,
            "top": null,
            "visibility": null,
            "width": null
          }
        },
        "65be3551c48e40a79feb390a2ceecd04": {
          "model_module": "@jupyter-widgets/controls",
          "model_name": "DescriptionStyleModel",
          "model_module_version": "1.5.0",
          "state": {
            "_model_module": "@jupyter-widgets/controls",
            "_model_module_version": "1.5.0",
            "_model_name": "DescriptionStyleModel",
            "_view_count": null,
            "_view_module": "@jupyter-widgets/base",
            "_view_module_version": "1.2.0",
            "_view_name": "StyleView",
            "description_width": ""
          }
        }
      }
    }
  },
  "cells": [
    {
      "cell_type": "markdown",
      "source": [
        "# Application of Neural Network 01"
      ],
      "metadata": {
        "id": "2Kt71monigXc"
      }
    },
    {
      "cell_type": "markdown",
      "source": [
        "### Contents\n",
        "\n",
        "- 선형회귀\n",
        "- 경사하강법\n",
        "- 손실함수\n",
        "- 선형회귀를 위한 뉴런\n",
        "- Summary"
      ],
      "metadata": {
        "id": "9im4zoNZmu9f"
      }
    },
    {
      "cell_type": "markdown",
      "source": [
        "### 선형회귀\n",
        "- 1차 선형회귀"
      ],
      "metadata": {
        "id": "8VovZn5hmwGJ"
      }
    },
    {
      "cell_type": "markdown",
      "source": [
        "- 데이터\n",
        "- 공부한 시간과 점수에 대한 상관관계를 예측\n",
        "- 4시간을 공부한다면 몇 점이 나올까?"
      ],
      "metadata": {
        "id": "iVVv2y_WmxgP"
      }
    },
    {
      "cell_type": "markdown",
      "source": [
        "# [선형회귀 torch 사용]\n",
        "\n"
      ],
      "metadata": {
        "id": "mfMmnR7EprMl"
      }
    },
    {
      "cell_type": "code",
      "source": [
        "# 도구 임포트\n",
        "import torch\n",
        "import torch.nn as nn\n",
        "import torch.nn.functional as F\n",
        "import torch.optim as optim\n",
        "\n",
        "# 데이터\n",
        "x_train = torch.FloatTensor([[1], [2], [3]])\n",
        "y_train = torch.FloatTensor([[2], [4], [6]])\n",
        "\n",
        "# 모델 초기화\n",
        "W = torch.zeros(1, requires_grad=True)\n",
        "b = torch.zeros(1, requires_grad=True)\n",
        "\n",
        "# optimizer 설정\n",
        "optimizer = optim.SGD([W, b], lr=0.01)\n",
        "\n",
        "nb_epochs = 1999 # 원하는만큼 경사 하강법을 반복\n",
        "for epoch in range(nb_epochs + 1):\n",
        "\n",
        "    # H(x) 계산\n",
        "    hypothesis = x_train * W + b\n",
        "\n",
        "    # cost 계산\n",
        "    cost = torch.mean((hypothesis - y_train) ** 2)\n",
        "\n",
        "    # cost로 H(x) 개선\n",
        "    optimizer.zero_grad()\n",
        "    cost.backward()\n",
        "    optimizer.step()\n",
        "\n",
        "    # 100번마다 로그 출력\n",
        "    if epoch % 100 == 0:\n",
        "        print('Epoch {:4d}/{} W: {:.3f}, b: {:.3f} Cost: {:.6f}'.format(\n",
        "            epoch, nb_epochs, W.item(), b.item(), cost.item()\n",
        "        ))"
      ],
      "metadata": {
        "colab": {
          "base_uri": "https://localhost:8080/"
        },
        "id": "6VYzoTQlAjPH",
        "outputId": "b53378c7-9e44-4073-f0c2-7b65daae60ad"
      },
      "execution_count": null,
      "outputs": [
        {
          "output_type": "stream",
          "name": "stdout",
          "text": [
            "Epoch    0/1999 W: 0.187, b: 0.080 Cost: 18.666666\n",
            "Epoch  100/1999 W: 1.746, b: 0.578 Cost: 0.048171\n",
            "Epoch  200/1999 W: 1.800, b: 0.454 Cost: 0.029767\n",
            "Epoch  300/1999 W: 1.843, b: 0.357 Cost: 0.018394\n",
            "Epoch  400/1999 W: 1.876, b: 0.281 Cost: 0.011366\n",
            "Epoch  500/1999 W: 1.903, b: 0.221 Cost: 0.007024\n",
            "Epoch  600/1999 W: 1.924, b: 0.174 Cost: 0.004340\n",
            "Epoch  700/1999 W: 1.940, b: 0.136 Cost: 0.002682\n",
            "Epoch  800/1999 W: 1.953, b: 0.107 Cost: 0.001657\n",
            "Epoch  900/1999 W: 1.963, b: 0.084 Cost: 0.001024\n",
            "Epoch 1000/1999 W: 1.971, b: 0.066 Cost: 0.000633\n",
            "Epoch 1100/1999 W: 1.977, b: 0.052 Cost: 0.000391\n",
            "Epoch 1200/1999 W: 1.982, b: 0.041 Cost: 0.000242\n",
            "Epoch 1300/1999 W: 1.986, b: 0.032 Cost: 0.000149\n",
            "Epoch 1400/1999 W: 1.989, b: 0.025 Cost: 0.000092\n",
            "Epoch 1500/1999 W: 1.991, b: 0.020 Cost: 0.000057\n",
            "Epoch 1600/1999 W: 1.993, b: 0.016 Cost: 0.000035\n",
            "Epoch 1700/1999 W: 1.995, b: 0.012 Cost: 0.000022\n",
            "Epoch 1800/1999 W: 1.996, b: 0.010 Cost: 0.000013\n",
            "Epoch 1900/1999 W: 1.997, b: 0.008 Cost: 0.000008\n"
          ]
        }
      ]
    },
    {
      "cell_type": "markdown",
      "source": [
        "# [선형회귀 torch.nn.Module 사용]"
      ],
      "metadata": {
        "id": "4gkpsZe1poMD"
      }
    },
    {
      "cell_type": "code",
      "source": [
        "# 도구 임포트 및 시드 고정\n",
        "import torch\n",
        "import torch.nn as nn\n",
        "import torch.nn.functional as F\n",
        "\n",
        "torch.manual_seed(1)\n",
        "\n",
        "# 데이터\n",
        "x_train = torch.FloatTensor([[1], [2], [3]])\n",
        "y_train = torch.FloatTensor([[2], [4], [6]])\n",
        "\n",
        "# 모델을 선언 및 초기화. 단순 선형 회귀이므로 input_dim=1, output_dim=1.\n",
        "# to do\n",
        "model = nn.Linear(1,1)\n",
        "\n",
        "print(list(model.parameters()))\n",
        "\n",
        "# optimizer 설정. 경사 하강법 SGD를 사용하고 learning rate를 의미하는 lr은 0.01\n",
        "optimizer = torch.optim.SGD(model.parameters(), lr=0.01)\n",
        "\n",
        "# 전체 훈련 데이터에 대해 경사 하강법을 2,000회 반복\n",
        "nb_epochs = 2000\n",
        "for epoch in range(nb_epochs+1):\n",
        "\n",
        "    # H(x) 계산\n",
        "    # to do\n",
        "    prediction = model(x_train)\n",
        "\n",
        "    # cost 계산\n",
        "    # to do\n",
        "    cost = F.mse_loss(prediction, y_train) # <== 파이토치에서 제공하는 평균 제곱 오차 함수\n",
        "\n",
        "    # cost로 H(x) 개선하는 부분\n",
        "    # gradient를 0으로 초기화\n",
        "    # to do\n",
        "    optimizer.zero_grad()\n",
        "    # 비용 함수를 미분하여 gradient 계산\n",
        "    # to do\n",
        "    cost.backward() # backward 연산\n",
        "    # W와 b를 업데이트\n",
        "    # to do\n",
        "    optimizer.step()\n",
        "\n",
        "    if epoch % 100 == 0:\n",
        "    # 100번마다 로그 출력\n",
        "      print('Epoch {:4d}/{} Cost: {:.6f}'.format(\n",
        "          epoch, nb_epochs, cost.item()\n",
        "      ))"
      ],
      "metadata": {
        "colab": {
          "base_uri": "https://localhost:8080/"
        },
        "id": "nt1fWTiRzkI7",
        "outputId": "063c35ff-fe18-4a85-fad7-f47f82d8fd4f"
      },
      "execution_count": null,
      "outputs": [
        {
          "output_type": "stream",
          "name": "stdout",
          "text": [
            "[Parameter containing:\n",
            "tensor([[0.5153]], requires_grad=True), Parameter containing:\n",
            "tensor([-0.4414], requires_grad=True)]\n",
            "Epoch    0/2000 Cost: 13.103541\n",
            "Epoch  100/2000 Cost: 0.002791\n",
            "Epoch  200/2000 Cost: 0.001724\n",
            "Epoch  300/2000 Cost: 0.001066\n",
            "Epoch  400/2000 Cost: 0.000658\n",
            "Epoch  500/2000 Cost: 0.000407\n",
            "Epoch  600/2000 Cost: 0.000251\n",
            "Epoch  700/2000 Cost: 0.000155\n",
            "Epoch  800/2000 Cost: 0.000096\n",
            "Epoch  900/2000 Cost: 0.000059\n",
            "Epoch 1000/2000 Cost: 0.000037\n",
            "Epoch 1100/2000 Cost: 0.000023\n",
            "Epoch 1200/2000 Cost: 0.000014\n",
            "Epoch 1300/2000 Cost: 0.000009\n",
            "Epoch 1400/2000 Cost: 0.000005\n",
            "Epoch 1500/2000 Cost: 0.000003\n",
            "Epoch 1600/2000 Cost: 0.000002\n",
            "Epoch 1700/2000 Cost: 0.000001\n",
            "Epoch 1800/2000 Cost: 0.000001\n",
            "Epoch 1900/2000 Cost: 0.000000\n",
            "Epoch 2000/2000 Cost: 0.000000\n"
          ]
        }
      ]
    },
    {
      "cell_type": "code",
      "source": [
        "# 임의의 입력 4를 선언\n",
        "new_var =  torch.FloatTensor([[4.0]]) \n",
        "# 입력한 값 4에 대해서 예측값 y를 리턴받아서 pred_y에 저장\n",
        "pred_y = model(new_var) # forward 연산\n",
        "# y = 2x 이므로 입력이 4라면 y가 8에 가까운 값이 나와야 제대로 학습이 된 것\n",
        "print(\"훈련 후 입력이 4일 때의 예측값 :\", pred_y)"
      ],
      "metadata": {
        "id": "JU5lZOOYzq_Z",
        "colab": {
          "base_uri": "https://localhost:8080/"
        },
        "outputId": "0cff0bf1-9dcd-4fbe-8176-c4fa094f024b"
      },
      "execution_count": null,
      "outputs": [
        {
          "output_type": "stream",
          "name": "stdout",
          "text": [
            "훈련 후 입력이 4일 때의 예측값 : tensor([[7.9989]], grad_fn=<AddmmBackward0>)\n"
          ]
        }
      ]
    },
    {
      "cell_type": "markdown",
      "source": [
        "# [클래스로 pytorch 선형회귀 모델 구현]"
      ],
      "metadata": {
        "id": "o-Cbo-WMpjqz"
      }
    },
    {
      "cell_type": "code",
      "source": [
        "# 도구 임포트\n",
        "import torch\n",
        "import torch.nn as nn\n",
        "import torch.nn.functional as F\n",
        "\n",
        "# 랜덤 시드 고정\n",
        "torch.manual_seed(1)\n",
        "\n",
        "# 데이터 로드\n",
        "x_train = torch.FloatTensor([[1], [2], [3]])\n",
        "y_train = torch.FloatTensor([[2], [4], [6]])\n",
        "\n",
        "# 모델 클래스 생성\n",
        "class LinearRegressionModel(nn.Module): # torch.nn.Module을 상속받는 파이썬 클래스\n",
        "    def __init__(self):\n",
        "        super().__init__()\n",
        "        # to do\n",
        "        self.linear = nn.Linear(1, 1)   # 단순 선형 회귀이므로 input_dim=1, output_dim=1.\n",
        "\n",
        "    def forward(self, x):\n",
        "        return self.linear(x)\n",
        "\n",
        "# 모델 객체 생성\n",
        "model = LinearRegressionModel()\n",
        "\n",
        "# optimizer 설정. 경사 하강법 SGD를 사용하고 learning rate를 의미하는 lr은 0.01\n",
        "# to do\n",
        "optimizer = torch.optim.SGD(model.parameters(), lr=0.01) \n",
        "\n",
        "# 전체 훈련 데이터에 대해 경사 하강법을 2,000회 반복\n",
        "nb_epochs = 2000\n",
        "for epoch in range(nb_epochs+1):\n",
        "\n",
        "    # H(x) 계산\n",
        "    # to do\n",
        "    prediction = model(x_train)\n",
        "\n",
        "    # cost 계산\n",
        "    # to do\n",
        "    cost = F.mse_loss(prediction, y_train) # <== 파이토치에서 제공하는 평균 제곱 오차 함수\n",
        "\n",
        "    # cost로 H(x) 개선하는 부분\n",
        "    # gradient를 0으로 초기화\n",
        "    # to do\n",
        "    optimizer.zero_grad()\n",
        "    # 비용 함수를 미분하여 gradient 계산\n",
        "    # to do\n",
        "    cost.backward() # backward 연산\n",
        "    # W와 b를 업데이트\n",
        "    # to do\n",
        "    optimizer.step()\n",
        "\n",
        "    if epoch % 100 == 0:\n",
        "    # 100번마다 로그 출력\n",
        "      print('Epoch {:4d}/{} Cost: {:.6f}'.format(\n",
        "          epoch, nb_epochs, cost.item()\n",
        "      ))"
      ],
      "metadata": {
        "id": "bTLEKOR7p4mW",
        "colab": {
          "base_uri": "https://localhost:8080/"
        },
        "outputId": "39bb5350-c960-4dc2-fb1f-76105fefae6b"
      },
      "execution_count": null,
      "outputs": [
        {
          "output_type": "stream",
          "name": "stdout",
          "text": [
            "Epoch    0/2000 Cost: 13.103541\n",
            "Epoch  100/2000 Cost: 0.002791\n",
            "Epoch  200/2000 Cost: 0.001724\n",
            "Epoch  300/2000 Cost: 0.001066\n",
            "Epoch  400/2000 Cost: 0.000658\n",
            "Epoch  500/2000 Cost: 0.000407\n",
            "Epoch  600/2000 Cost: 0.000251\n",
            "Epoch  700/2000 Cost: 0.000155\n",
            "Epoch  800/2000 Cost: 0.000096\n",
            "Epoch  900/2000 Cost: 0.000059\n",
            "Epoch 1000/2000 Cost: 0.000037\n",
            "Epoch 1100/2000 Cost: 0.000023\n",
            "Epoch 1200/2000 Cost: 0.000014\n",
            "Epoch 1300/2000 Cost: 0.000009\n",
            "Epoch 1400/2000 Cost: 0.000005\n",
            "Epoch 1500/2000 Cost: 0.000003\n",
            "Epoch 1600/2000 Cost: 0.000002\n",
            "Epoch 1700/2000 Cost: 0.000001\n",
            "Epoch 1800/2000 Cost: 0.000001\n",
            "Epoch 1900/2000 Cost: 0.000000\n",
            "Epoch 2000/2000 Cost: 0.000000\n"
          ]
        }
      ]
    },
    {
      "cell_type": "code",
      "source": [
        "model(torch.FloatTensor([[3]]))"
      ],
      "metadata": {
        "id": "NcgYja2_qDoG",
        "colab": {
          "base_uri": "https://localhost:8080/"
        },
        "outputId": "122d5949-0624-4fa0-8957-200a2f1346bc"
      },
      "execution_count": null,
      "outputs": [
        {
          "output_type": "execute_result",
          "data": {
            "text/plain": [
              "tensor([[5.9995]], grad_fn=<AddmmBackward0>)"
            ]
          },
          "metadata": {},
          "execution_count": 6
        }
      ]
    },
    {
      "cell_type": "code",
      "source": [
        "model(torch.FloatTensor([[4]]))"
      ],
      "metadata": {
        "id": "xcw1WJiMqb4z",
        "colab": {
          "base_uri": "https://localhost:8080/"
        },
        "outputId": "3d015c98-2964-4f95-fead-3162368a7fdf"
      },
      "execution_count": null,
      "outputs": [
        {
          "output_type": "execute_result",
          "data": {
            "text/plain": [
              "tensor([[7.9989]], grad_fn=<AddmmBackward0>)"
            ]
          },
          "metadata": {},
          "execution_count": 7
        }
      ]
    },
    {
      "cell_type": "markdown",
      "source": [
        "# [다중 선형회귀 torch 사용]"
      ],
      "metadata": {
        "id": "o60E9G3OyS7i"
      }
    },
    {
      "cell_type": "code",
      "source": [
        "# 도구 임포트 및 랜덤 시드 고정\n",
        "import torch\n",
        "import torch.nn as nn\n",
        "import torch.nn.functional as F\n",
        "import torch.optim as optim\n",
        "\n",
        "torch.manual_seed(1)\n",
        "\n",
        "# 훈련 데이터 선언\n",
        "x1_train = torch.FloatTensor([[73], [93], [89], [96], [73]])\n",
        "x2_train = torch.FloatTensor([[80], [88], [91], [98], [66]])\n",
        "x3_train = torch.FloatTensor([[75], [93], [90], [100], [70]])\n",
        "y_train = torch.FloatTensor([[152], [185], [180], [196], [142]])\n",
        "\n",
        "# 가중치 w와 편향 b 초기화\n",
        "w1 = torch.zeros(1, requires_grad=True)\n",
        "w2 = torch.zeros(1, requires_grad=True)\n",
        "w3 = torch.zeros(1, requires_grad=True)\n",
        "b = torch.zeros(1, requires_grad=True)\n",
        "\n",
        "# 가설, 비용 함수, 옵티마이저를 선언한 후 경사 하강법을 1,000회 반복\n",
        "# optimizer 설정\n",
        "# to do\n",
        "optimizer = optim.SGD([w1, w2, w3, b], lr=1e-5)\n",
        "\n",
        "# 모델 훈련\n",
        "nb_epochs = 1000\n",
        "for epoch in range(nb_epochs + 1):\n",
        "\n",
        "    # H(x) 계산\n",
        "    # to do\n",
        "    hypothesis = w1 * x1_train + w2 * x2_train + w3 * x3_train + b\n",
        "\n",
        "    # cost 계산\n",
        "    # to do\n",
        "    cost = torch.mean((hypothesis - y_train)**2)\n",
        "\n",
        "    # cost로 H(x) 개선\n",
        "    # to do\n",
        "    optimizer.zero_grad()\n",
        "    cost.backward()\n",
        "    optimizer.step()\n",
        "\n",
        "    # 100번마다 로그 출력\n",
        "    if epoch % 100 == 0:\n",
        "        print('Epoch {:4d}/{} w1: {:.3f} w2: {:.3f} w3: {:.3f} b: {:.3f} Cost: {:.6f}'.format(\n",
        "            epoch, nb_epochs, w1.item(), w2.item(), w3.item(), b.item(), cost.item()\n",
        "        ))"
      ],
      "metadata": {
        "id": "ACcixm_27pR_",
        "colab": {
          "base_uri": "https://localhost:8080/"
        },
        "outputId": "e7344067-d7b5-4ffb-fc51-3e79e1571bda"
      },
      "execution_count": null,
      "outputs": [
        {
          "output_type": "stream",
          "name": "stdout",
          "text": [
            "Epoch    0/1000 w1: 0.294 w2: 0.294 w3: 0.297 b: 0.003 Cost: 29661.800781\n",
            "Epoch  100/1000 w1: 0.674 w2: 0.661 w3: 0.676 b: 0.008 Cost: 1.563628\n",
            "Epoch  200/1000 w1: 0.679 w2: 0.655 w3: 0.677 b: 0.008 Cost: 1.497595\n",
            "Epoch  300/1000 w1: 0.684 w2: 0.649 w3: 0.677 b: 0.008 Cost: 1.435044\n",
            "Epoch  400/1000 w1: 0.689 w2: 0.643 w3: 0.678 b: 0.008 Cost: 1.375726\n",
            "Epoch  500/1000 w1: 0.694 w2: 0.638 w3: 0.678 b: 0.009 Cost: 1.319507\n",
            "Epoch  600/1000 w1: 0.699 w2: 0.633 w3: 0.679 b: 0.009 Cost: 1.266222\n",
            "Epoch  700/1000 w1: 0.704 w2: 0.627 w3: 0.679 b: 0.009 Cost: 1.215703\n",
            "Epoch  800/1000 w1: 0.709 w2: 0.622 w3: 0.679 b: 0.009 Cost: 1.167810\n",
            "Epoch  900/1000 w1: 0.713 w2: 0.617 w3: 0.680 b: 0.009 Cost: 1.122429\n",
            "Epoch 1000/1000 w1: 0.718 w2: 0.613 w3: 0.680 b: 0.009 Cost: 1.079390\n"
          ]
        }
      ]
    },
    {
      "cell_type": "markdown",
      "source": [
        "# [다중 선형회귀 torch.nn.Module 사용]"
      ],
      "metadata": {
        "id": "ev3ejMf4qof-"
      }
    },
    {
      "cell_type": "code",
      "source": [
        "# 도구 임포트 및 시드 고정\n",
        "import torch\n",
        "import torch.nn as nn\n",
        "import torch.nn.functional as F\n",
        "\n",
        "torch.manual_seed(1)\n",
        "\n",
        "# 데이터 선언, 3개의 x로부터 하나의 y를 예측\n",
        "x_train = torch.FloatTensor([[73, 80, 75],\n",
        "                             [93, 88, 93],\n",
        "                             [89, 91, 90],\n",
        "                             [96, 98, 100],\n",
        "                             [73, 66, 70]])\n",
        "y_train = torch.FloatTensor([[152], [185], [180], [196], [142]])\n",
        "\n",
        "# 선형 회귀 모델 구현\n",
        "# 모델을 선언 및 초기화. 다중 선형 회귀이므로 input_dim=3, output_dim=1.\n",
        "# to do\n",
        "model = nn.Linear(3,1)\n",
        "\n",
        "print(list(model.parameters()))\n",
        "\n",
        "# to do\n",
        "optimizer = torch.optim.SGD(model.parameters(), lr=1e-5)\n",
        "\n",
        "nb_epochs = 2000\n",
        "for epoch in range(nb_epochs+1):\n",
        "\n",
        "    # H(x) 계산\n",
        "    # to do\n",
        "    prediction = model(x_train)\n",
        "    # model(x_train)은 model.forward(x_train)와 동일함.\n",
        "\n",
        "    # cost 계산\n",
        "    # to do\n",
        "    cost = F.mse_loss(prediction, y_train) # <== 파이토치에서 제공하는 평균 제곱 오차 함수\n",
        "\n",
        "    # cost로 H(x) 개선하는 부분\n",
        "    # gradient를 0으로 초기화\n",
        "    # to do\n",
        "    optimizer.zero_grad()\n",
        "    # 비용 함수를 미분하여 gradient 계산\n",
        "    # to do\n",
        "    cost.backward()\n",
        "    # W와 b를 업데이트\n",
        "    # to do\n",
        "    optimizer.step()\n",
        "\n",
        "    if epoch % 100 == 0:\n",
        "    # 100번마다 로그 출력\n",
        "      print('Epoch {:4d}/{} Cost: {:.6f}'.format(\n",
        "          epoch, nb_epochs, cost.item()\n",
        "      ))"
      ],
      "metadata": {
        "id": "INBWP3FEz1fq",
        "colab": {
          "base_uri": "https://localhost:8080/"
        },
        "outputId": "ee020cda-5430-4b56-bafe-93ba87984bfa"
      },
      "execution_count": null,
      "outputs": [
        {
          "output_type": "stream",
          "name": "stdout",
          "text": [
            "[Parameter containing:\n",
            "tensor([[ 0.2975, -0.2548, -0.1119]], requires_grad=True), Parameter containing:\n",
            "tensor([0.2710], requires_grad=True)]\n",
            "Epoch    0/2000 Cost: 31667.597656\n",
            "Epoch  100/2000 Cost: 0.225993\n",
            "Epoch  200/2000 Cost: 0.223911\n",
            "Epoch  300/2000 Cost: 0.221941\n",
            "Epoch  400/2000 Cost: 0.220059\n",
            "Epoch  500/2000 Cost: 0.218271\n",
            "Epoch  600/2000 Cost: 0.216575\n",
            "Epoch  700/2000 Cost: 0.214950\n",
            "Epoch  800/2000 Cost: 0.213413\n",
            "Epoch  900/2000 Cost: 0.211952\n",
            "Epoch 1000/2000 Cost: 0.210560\n",
            "Epoch 1100/2000 Cost: 0.209232\n",
            "Epoch 1200/2000 Cost: 0.207967\n",
            "Epoch 1300/2000 Cost: 0.206761\n",
            "Epoch 1400/2000 Cost: 0.205619\n",
            "Epoch 1500/2000 Cost: 0.204522\n",
            "Epoch 1600/2000 Cost: 0.203484\n",
            "Epoch 1700/2000 Cost: 0.202485\n",
            "Epoch 1800/2000 Cost: 0.201542\n",
            "Epoch 1900/2000 Cost: 0.200635\n",
            "Epoch 2000/2000 Cost: 0.199769\n"
          ]
        }
      ]
    },
    {
      "cell_type": "code",
      "source": [
        "# 3개의 w와 b의 값 최적화 확인\n",
        "# 임의의 입력 [73, 80, 75]를 선언\n",
        "new_var =  torch.FloatTensor([[73, 80, 75]]) \n",
        "# 입력한 값 [73, 80, 75]에 대해서 예측값 y를 리턴받아서 pred_y에 저장\n",
        "pred_y = model(new_var) \n",
        "print(\"훈련 후 입력이 73, 80, 75일 때의 예측값 :\", pred_y)"
      ],
      "metadata": {
        "id": "szdGwgdhz13n"
      },
      "execution_count": null,
      "outputs": []
    },
    {
      "cell_type": "markdown",
      "source": [
        "# [클래스로 pytorch 다중 선형회귀 모델 구현]"
      ],
      "metadata": {
        "id": "W78izUR1wCQy"
      }
    },
    {
      "cell_type": "code",
      "source": [
        "# 도구 임포트\n",
        "import torch\n",
        "import torch.nn as nn\n",
        "import torch.nn.functional as F\n",
        "\n",
        "# 랜덤 시드 고정\n",
        "torch.manual_seed(1)\n",
        "\n",
        "# 데이터 로드\n",
        "x_train = torch.FloatTensor([[73, 80, 75],\n",
        "                             [93, 88, 93],\n",
        "                             [89, 91, 90],\n",
        "                             [96, 98, 100],\n",
        "                             [73, 66, 70]])\n",
        "y_train = torch.FloatTensor([[152], [185], [180], [196], [142]])\n",
        "\n",
        "# 모델 클래스 생성\n",
        "class MultivariateLinearRegressionModel(nn.Module):\n",
        "    def __init__(self):\n",
        "        super().__init__()\n",
        "        # to do\n",
        "        self.linear = nn.Linear(3, 1) # 다중 선형 회귀이므로 input_dim=3, output_dim=1.\n",
        "\n",
        "    def forward(self, x):\n",
        "        return self.linear(x)\n",
        "\n",
        "# 모델 객체 생성\n",
        "model = MultivariateLinearRegressionModel()\n",
        "\n",
        "# optimizer 설정. 경사 하강법 SGD를 사용하고 learning rate를 의미하는 lr은 0.01\n",
        "# to do\n",
        "optimizer = torch.optim.SGD(model.parameters(), lr=0.001) \n",
        "\n",
        "# 전체 훈련 데이터에 대해 경사 하강법을 2,000회 반복\n",
        "nb_epochs = 2000\n",
        "for epoch in range(nb_epochs+1):\n",
        "\n",
        "    # H(x) 계산\n",
        "    # to do\n",
        "    prediction = model(x_train)\n",
        "    # model(x_train)은 model.forward(x_train)와 동일함.\n",
        "\n",
        "    # cost 계산\n",
        "    # to do\n",
        "    cost = F.mse_loss(prediction, y_train) # <== 파이토치에서 제공하는 평균 제곱 오차 함수\n",
        "\n",
        "    # cost로 H(x) 개선하는 부분\n",
        "    # gradient를 0으로 초기화\n",
        "    # to do\n",
        "    optimizer.zero_grad()\n",
        "    # 비용 함수를 미분하여 gradient 계산\n",
        "    # to do\n",
        "    cost.backward()\n",
        "    # W와 b를 업데이트\n",
        "    # to do\n",
        "    optimizer.step()\n",
        "\n",
        "    if epoch % 100 == 0:\n",
        "    # 100번마다 로그 출력\n",
        "      print('Epoch {:4d}/{} Cost: {:.6f}'.format(\n",
        "          epoch, nb_epochs, cost.item()\n",
        "      ))"
      ],
      "metadata": {
        "id": "8O21Q0LSwLb_",
        "colab": {
          "base_uri": "https://localhost:8080/"
        },
        "outputId": "c6747470-9d04-4750-ddfe-3363fd3555be"
      },
      "execution_count": null,
      "outputs": [
        {
          "output_type": "stream",
          "name": "stdout",
          "text": [
            "Epoch    0/2000 Cost: 31667.597656\n",
            "Epoch  100/2000 Cost: nan\n",
            "Epoch  200/2000 Cost: nan\n",
            "Epoch  300/2000 Cost: nan\n",
            "Epoch  400/2000 Cost: nan\n",
            "Epoch  500/2000 Cost: nan\n",
            "Epoch  600/2000 Cost: nan\n",
            "Epoch  700/2000 Cost: nan\n",
            "Epoch  800/2000 Cost: nan\n",
            "Epoch  900/2000 Cost: nan\n",
            "Epoch 1000/2000 Cost: nan\n",
            "Epoch 1100/2000 Cost: nan\n",
            "Epoch 1200/2000 Cost: nan\n",
            "Epoch 1300/2000 Cost: nan\n",
            "Epoch 1400/2000 Cost: nan\n",
            "Epoch 1500/2000 Cost: nan\n",
            "Epoch 1600/2000 Cost: nan\n",
            "Epoch 1700/2000 Cost: nan\n",
            "Epoch 1800/2000 Cost: nan\n",
            "Epoch 1900/2000 Cost: nan\n",
            "Epoch 2000/2000 Cost: nan\n"
          ]
        }
      ]
    },
    {
      "cell_type": "code",
      "source": [
        "model(torch.FloatTensor([[73, 80, 75]]))"
      ],
      "metadata": {
        "id": "M5Dukpne0Xc1",
        "colab": {
          "base_uri": "https://localhost:8080/"
        },
        "outputId": "f7d0035c-116f-4be5-af4b-86573424965d"
      },
      "execution_count": null,
      "outputs": [
        {
          "output_type": "execute_result",
          "data": {
            "text/plain": [
              "tensor([[151.2305]], grad_fn=<AddmmBackward0>)"
            ]
          },
          "metadata": {},
          "execution_count": 14
        }
      ]
    },
    {
      "cell_type": "markdown",
      "source": [
        "# Application of Neural Network 02"
      ],
      "metadata": {
        "id": "24felM2d0iX2"
      }
    },
    {
      "cell_type": "markdown",
      "source": [
        "### Contents\n",
        "- 퍼셉트론 (Perceptron)\n",
        "- 로지스틱 회귀\n",
        "- Summary"
      ],
      "metadata": {
        "id": "yk5VhlWh0tLL"
      }
    },
    {
      "cell_type": "markdown",
      "source": [
        "# [퍼셉트론 (Perceptron)]"
      ],
      "metadata": {
        "id": "InfZuoyz0y37"
      }
    },
    {
      "cell_type": "code",
      "source": [
        "import matplotlib.pyplot as plt\n",
        "import numpy as np\n",
        "import pandas as pd\n",
        "\n",
        "# 데이터셋 생성(날개 길이, 무게에 따른 이동 거리 예측)\n",
        "bird_wingspans = np.concatenate([np.random.randint(170, 230, size = 50)/100.0, \n",
        "                                 np.random.randint(60, 100, size = 50)/100.0])\n",
        "print(bird_wingspans)\n",
        "\n",
        "bird_weights = np.concatenate([(11 - 10)*np.random.randn(50)+10, np.abs(np.random.randn(50))+1])\n",
        "print(bird_weights)\n",
        "\n",
        "# 길이, 무게 합치기\n",
        "X = np.vstack((bird_wingspans, bird_weights)).T\n",
        "\n",
        "# 레이블 생성\n",
        "y = np.concatenate([np.zeros(50), np.ones(50)])\n",
        "\n",
        "# shape 확인하기\n",
        "print(\"The shape of our input matrix, X, is: {0}.\".format(X.shape))\n",
        "print(\"The shape of our output vector, y, is: {0}.\".format(y.shape))\n",
        "\n",
        "# 그림 표현\n",
        "# first 50 samples = Golden Eagle - plot both input features (columns 0 and 1 of X)\n",
        "plt.scatter(X[:50, 0], X[:50, 1], color='r', marker='o', label='Golden Eagle')\n",
        "# last 50 samples = Horned Owls\n",
        "plt.scatter(X[50:, 0], X[50:, 1], color='b', marker='x', label = \"Horned Owl\")\n",
        "plt.title(\"Bird Classification Sample Data\")\n",
        "plt.xlabel(\"Wingspan (metres)\")\n",
        "plt.ylabel(\"Weight (kilograms)\")\n",
        "plt.legend(loc = 'upper left')\n",
        "plt.xlim([0, 2.5])\n",
        "plt.ylim([0, 14])\n",
        "plt.show()"
      ],
      "metadata": {
        "colab": {
          "base_uri": "https://localhost:8080/"
        },
        "id": "FGv9h9qjLZl2",
        "outputId": "b6d56f5a-5978-4599-dd8f-dee61a811272"
      },
      "execution_count": null,
      "outputs": [
        {
          "output_type": "stream",
          "name": "stdout",
          "text": [
            "[1.71 2.25 2.14 1.76 1.99 1.72 1.87 2.   1.92 2.21 2.08 2.22 1.77 1.94\n",
            " 2.22 1.7  1.86 1.78 2.05 2.26 1.94 1.89 1.95 1.94 1.8  2.27 1.84 2.07\n",
            " 2.04 1.84 2.1  1.79 2.18 2.25 1.78 2.25 2.19 1.77 2.08 1.8  1.71 2.24\n",
            " 2.04 1.92 2.1  2.26 1.86 1.83 2.14 2.05 0.97 0.73 0.94 0.61 0.96 0.87\n",
            " 0.82 0.6  0.88 0.62 0.68 0.71 0.62 0.66 0.87 0.68 0.7  0.79 0.97 0.65\n",
            " 0.84 0.68 0.78 0.76 0.76 0.9  0.71 0.84 0.93 0.8  0.94 0.71 0.98 0.77\n",
            " 0.94 0.67 0.9  0.92 0.72 0.83 0.75 0.77 0.66 0.65 0.92 0.66 0.61 0.94\n",
            " 0.74 0.98]\n",
            "[10.53888608 11.44358832  9.73978344  8.36961632  9.77314423  9.42864619\n",
            " 10.70957693  8.52186096 10.8112479  11.24365515  9.96964272  9.26499115\n",
            " 11.35329791  9.08229405  9.84900175 10.67466982  9.32779993  8.96472634\n",
            "  8.40796547 11.03151611  9.29215966 10.10232348 11.67051495  9.85447034\n",
            " 10.3621583  10.76910628  9.45099447 11.83332068  9.08767868  8.59112235\n",
            "  8.41814195 10.51599572 10.22214321 10.42825712  8.19603626  9.62647436\n",
            " 11.32784884  9.59374352  9.33251658 10.99573905  9.81703114  9.31762714\n",
            " 11.65391876 10.77897578  9.93083885 11.73333759  8.58820371 10.85786917\n",
            "  9.58843087 10.48491365  1.11595539  1.06006076  1.35680072  1.61615688\n",
            "  2.16210546  1.97401944  1.78641944  1.13077768  3.48227247  1.65012071\n",
            "  1.07243913  3.22371467  1.03336545  1.35352266  1.87207984  2.37133183\n",
            "  2.68929435  2.62945933  1.05796926  2.17335746  1.6229044   2.22712303\n",
            "  1.26079402  1.68563168  1.57770126  2.45528756  1.30208129  2.68132819\n",
            "  1.71890071  1.30449092  1.18918257  1.48499707  1.35202298  1.06060935\n",
            "  1.04085688  2.04901222  1.46941948  1.55946812  1.60996433  1.27372844\n",
            "  2.63062115  1.32820015  1.24392194  1.17597103  1.55990425  2.02306038\n",
            "  1.57503861  1.19291047  2.2915896   2.21317466]\n",
            "The shape of our input matrix, X, is: (100, 2).\n",
            "The shape of our output vector, y, is: (100,).\n"
          ]
        },
        {
          "output_type": "display_data",
          "data": {
            "text/plain": [
              "<Figure size 432x288 with 1 Axes>"
            ],
            "image/png": "[encoded data removed]"
          },
          "metadata": {
            "needs_background": "light"
          }
        }
      ]
    },
    {
      "cell_type": "code",
      "source": [
        "import numpy as np\n",
        "import matplotlib.pyplot as plt\n",
        "\n",
        "##퍼셉트론 선언\n",
        "class Perceptron():\n",
        "    def __init__(self, input_dim, learning_rate = 0.01, epochs = 10):\n",
        "        self.learning_rate = learning_rate\n",
        "        self.epochs = epochs\n",
        "        self.weight = np.zeros(1+input_dim[1])\n",
        "        self.errors = []\n",
        "    #fit\n",
        "    def fit(self, X, y):\n",
        "        for i in range(self.epochs):\n",
        "            error = 0\n",
        "            for x_i, label in zip(X, y):\n",
        "                error += label-self.predict(x_i)\n",
        "                update_value = self.learning_rate * (error)\n",
        "                self.weight[1:] = self.weight[1:] + update_value * x_i\n",
        "                self.weight[0] = self.weight[0] + update_value\n",
        "            print(self.weight)\n",
        "            self.errors.append(error)\n",
        "        return self\n",
        "    \n",
        "    def forward(self, X):\n",
        "      return np.dot(X, self.weight[1:]) + self.weight[0]\n",
        "\n",
        "    def predict(self, X):\n",
        "        return np.where(self.forward(X) > 0, 1, 0)\n",
        "\n",
        "    \n",
        "# create a perceptron model and train on our data\n",
        "model = Perceptron(input_dim = X.shape)\n",
        "model.fit(X, y)\n",
        "\n",
        "# plot our misclassification error after each iteration of training\n",
        "plt.plot(range(1, len(model.errors) + 1), model.errors, marker = 'x')\n",
        "plt.title(\"Visualisation of errors\")\n",
        "plt.xlabel('Epochs')\n",
        "plt.ylabel('Errors')\n",
        "plt.show()"
      ],
      "metadata": {
        "colab": {
          "base_uri": "https://localhost:8080/"
        },
        "id": "JfZZ8WEvLxid",
        "outputId": "0aa95686-d006-445a-e4e1-aedaca73fb2e"
      },
      "execution_count": null,
      "outputs": [
        {
          "output_type": "stream",
          "name": "stdout",
          "text": [
            "[0.5       0.3939    0.8597112]\n",
            "[ 9.03        4.8302     -0.93919253]\n",
            "[16.82        8.6881     -3.95408934]\n",
            "[17.04        8.3426     -7.13261823]\n",
            "[17.46        8.6715     -6.39492999]\n",
            "[17.46        8.6715     -6.39492999]\n",
            "[17.46        8.6715     -6.39492999]\n",
            "[17.46        8.6715     -6.39492999]\n",
            "[17.46        8.6715     -6.39492999]\n",
            "[17.46        8.6715     -6.39492999]\n"
          ]
        },
        {
          "output_type": "display_data",
          "data": {
            "text/plain": [
              "<Figure size 432x288 with 1 Axes>"
            ],
            "image/png": "[encoded data removed]"
          },
          "metadata": {
            "needs_background": "light"
          }
        }
      ]
    },
    {
      "cell_type": "markdown",
      "source": [
        "# [로지스틱 회귀 torch 사용]"
      ],
      "metadata": {
        "id": "hWcDfOBHMvVF"
      }
    },
    {
      "cell_type": "code",
      "source": [
        "# 도구 임포트\n",
        "import torch\n",
        "import torch.nn as nn\n",
        "import torch.nn.functional as F\n",
        "import torch.optim as optim\n",
        "\n",
        "# 랜덤 시드 지정\n",
        "torch.manual_seed(1)\n",
        "\n",
        "# 데이터셋 텐서로 선언\n",
        "x_data = [[1, 2], [2, 3], [3, 1], [4, 3], [5, 3], [6, 2]]\n",
        "y_data = [[0], [0], [0], [1], [1], [1]]\n",
        "x_train = torch.FloatTensor(x_data)\n",
        "y_train = torch.FloatTensor(y_data)\n",
        "\n",
        "# 모델 초기화\n",
        "W = torch.zeros((2, 1), requires_grad=True)\n",
        "b = torch.zeros(1, requires_grad=True)\n",
        "\n",
        "# optimizer 설정\n",
        "optimizer = optim.SGD([W, b], lr=1)\n",
        "\n",
        "# 학습 실행\n",
        "nb_epochs = 1000\n",
        "for epoch in range(nb_epochs + 1):\n",
        "\n",
        "    # Cost 계산\n",
        "    hypothesis = torch.sigmoid(x_train.matmul(W) + b)\n",
        "    # cost = -(y_train * torch.log(hypothesis) + \n",
        "    #          (1 - y_train) * torch.log(1 - hypothesis)).mean()\n",
        "    cost = F.binary_cross_entropy(hypothesis, y_train) # 파이토치에서 제공하는 로지스틱 회귀 비용 함수\n",
        "\n",
        "\n",
        "    # cost로 H(x) 개선\n",
        "    optimizer.zero_grad()\n",
        "    cost.backward()\n",
        "    optimizer.step()\n",
        "\n",
        "    # 100번마다 로그 출력\n",
        "    if epoch % 100 == 0:\n",
        "        print('Epoch {:4d}/{} Cost: {:.6f}'.format(\n",
        "            epoch, nb_epochs, cost.item()\n",
        "        ))"
      ],
      "metadata": {
        "colab": {
          "base_uri": "https://localhost:8080/"
        },
        "id": "fKBUadr_N3JH",
        "outputId": "90ad2ebd-f533-41d5-9fe1-5bec01f72c39"
      },
      "execution_count": null,
      "outputs": [
        {
          "output_type": "stream",
          "name": "stdout",
          "text": [
            "Epoch    0/1000 Cost: 0.693147\n",
            "Epoch  100/1000 Cost: 0.134722\n",
            "Epoch  200/1000 Cost: 0.080643\n",
            "Epoch  300/1000 Cost: 0.057900\n",
            "Epoch  400/1000 Cost: 0.045300\n",
            "Epoch  500/1000 Cost: 0.037261\n",
            "Epoch  600/1000 Cost: 0.031672\n",
            "Epoch  700/1000 Cost: 0.027556\n",
            "Epoch  800/1000 Cost: 0.024394\n",
            "Epoch  900/1000 Cost: 0.021888\n",
            "Epoch 1000/1000 Cost: 0.019852\n"
          ]
        }
      ]
    },
    {
      "cell_type": "code",
      "source": [
        "# 훈련 데이터를 그대로 입력으로 사용했을 때 예측 값 확인\n",
        "hypothesis = torch.sigmoid(x_train.dot(W) + b)\n",
        "print(hypothesis)"
      ],
      "metadata": {
        "id": "a-ovwoa6N3eq"
      },
      "execution_count": null,
      "outputs": []
    },
    {
      "cell_type": "code",
      "source": [
        "# 0.5를 넘으면 True, 넘지 않으면 False로 값을 정하여 출력\n",
        "prediction = hypothesis >= torch.FloatTensor([0.5])\n",
        "print(prediction)"
      ],
      "metadata": {
        "id": "GizSR6fgN9Ht"
      },
      "execution_count": null,
      "outputs": []
    },
    {
      "cell_type": "code",
      "source": [
        "# 훈련이 끝난 상태의 W와 b의 값 출력\n",
        "print(W)\n",
        "print(b)"
      ],
      "metadata": {
        "id": "IvfoH0OZN9Ju"
      },
      "execution_count": null,
      "outputs": []
    },
    {
      "cell_type": "markdown",
      "source": [
        "# [로지스틱 회귀 torch.nn.Module 사용]"
      ],
      "metadata": {
        "id": "UJpiS3MQNutn"
      }
    },
    {
      "cell_type": "code",
      "source": [
        "# 도구 임포트\n",
        "import torch\n",
        "import torch.nn as nn\n",
        "import torch.nn.functional as F\n",
        "import torch.optim as optim\n",
        "\n",
        "# 랜덤 시드 지정\n",
        "torch.manual_seed(1)\n",
        "\n",
        "# 훈련 데이터 텐서로 선언\n",
        "x_data = [[1, 2], [2, 3], [3, 1], [4, 3], [5, 3], [6, 2]]\n",
        "y_data = [[0], [0], [0], [1], [1], [1]]\n",
        "x_train = torch.FloatTensor(x_data)\n",
        "y_train = torch.FloatTensor(y_data)\n",
        "\n",
        "# nn.Sequential()을 사용해 로지스틱 회귀 구현\n",
        "# to do\n",
        "model = nn.Sequential(\n",
        "   nn.Linear(2, 1), # input_dim = 2, output_dim = 1\n",
        "   nn.Sigmoid() # 출력은 시그모이드 함수를 거친다\n",
        ")\n",
        "# 경사 하강법을 사용해 훈련\n",
        "# optimizer 설정, lr=1\n",
        "# to do\n",
        "optimizer = optim.SGD(model.parameters(), lr=1)\n",
        "\n",
        "nb_epochs = 1000\n",
        "for epoch in range(nb_epochs + 1):\n",
        "\n",
        "    # H(x) 계산\n",
        "    # to do\n",
        "    hypothesis = model(x_train)\n",
        "\n",
        "    # cost 계산\n",
        "    # to do\n",
        "    cost = F.binary_cross_entropy(hypothesis, y_train)\n",
        "    #cost = F.mse_loss(hypothesis, y_train)\n",
        "\n",
        "    # cost로 H(x) 개선\n",
        "    # to do\n",
        "    optimizer.zero_grad()\n",
        "    cost.backward()\n",
        "    optimizer.step()\n",
        "\n",
        "    # 20번마다 로그 출력\n",
        "    if epoch % 10 == 0:\n",
        "        prediction = hypothesis >= torch.FloatTensor([0.5]) # 예측값이 0.5를 넘으면 True로 간주\n",
        "        correct_prediction = prediction.float() == y_train # 실제값과 일치하는 경우만 True로 간주\n",
        "        accuracy = correct_prediction.sum().item() / len(correct_prediction) # 정확도를 계산\n",
        "        print('Epoch {:4d}/{} Cost: {:.6f} Accuracy {:2.2f}%'.format( # 각 에포크마다 정확도를 출력\n",
        "            epoch, nb_epochs, cost.item(), accuracy * 100,\n",
        "        ))"
      ],
      "metadata": {
        "id": "j2MmNbWrN3_t",
        "colab": {
          "base_uri": "https://localhost:8080/"
        },
        "outputId": "990c81f7-e67d-4af9-dd26-6c1403d31872"
      },
      "execution_count": null,
      "outputs": [
        {
          "output_type": "stream",
          "name": "stdout",
          "text": [
            "Epoch    0/1000 Cost: 0.178059 Accuracy 83.33%\n",
            "Epoch   10/1000 Cost: 0.146749 Accuracy 83.33%\n",
            "Epoch   20/1000 Cost: 0.131545 Accuracy 83.33%\n",
            "Epoch   30/1000 Cost: 0.119427 Accuracy 83.33%\n",
            "Epoch   40/1000 Cost: 0.108303 Accuracy 83.33%\n",
            "Epoch   50/1000 Cost: 0.098214 Accuracy 83.33%\n",
            "Epoch   60/1000 Cost: 0.089265 Accuracy 83.33%\n",
            "Epoch   70/1000 Cost: 0.081434 Accuracy 100.00%\n",
            "Epoch   80/1000 Cost: 0.074620 Accuracy 100.00%\n",
            "Epoch   90/1000 Cost: 0.068696 Accuracy 100.00%\n",
            "Epoch  100/1000 Cost: 0.063533 Accuracy 100.00%\n",
            "Epoch  110/1000 Cost: 0.059016 Accuracy 100.00%\n",
            "Epoch  120/1000 Cost: 0.055046 Accuracy 100.00%\n",
            "Epoch  130/1000 Cost: 0.051540 Accuracy 100.00%\n",
            "Epoch  140/1000 Cost: 0.048426 Accuracy 100.00%\n",
            "Epoch  150/1000 Cost: 0.045646 Accuracy 100.00%\n",
            "Epoch  160/1000 Cost: 0.043153 Accuracy 100.00%\n",
            "Epoch  170/1000 Cost: 0.040906 Accuracy 100.00%\n",
            "Epoch  180/1000 Cost: 0.038872 Accuracy 100.00%\n",
            "Epoch  190/1000 Cost: 0.037023 Accuracy 100.00%\n",
            "Epoch  200/1000 Cost: 0.035335 Accuracy 100.00%\n",
            "Epoch  210/1000 Cost: 0.033789 Accuracy 100.00%\n",
            "Epoch  220/1000 Cost: 0.032369 Accuracy 100.00%\n",
            "Epoch  230/1000 Cost: 0.031059 Accuracy 100.00%\n",
            "Epoch  240/1000 Cost: 0.029847 Accuracy 100.00%\n",
            "Epoch  250/1000 Cost: 0.028723 Accuracy 100.00%\n",
            "Epoch  260/1000 Cost: 0.027679 Accuracy 100.00%\n",
            "Epoch  270/1000 Cost: 0.026705 Accuracy 100.00%\n",
            "Epoch  280/1000 Cost: 0.025795 Accuracy 100.00%\n",
            "Epoch  290/1000 Cost: 0.024942 Accuracy 100.00%\n",
            "Epoch  300/1000 Cost: 0.024143 Accuracy 100.00%\n",
            "Epoch  310/1000 Cost: 0.023391 Accuracy 100.00%\n",
            "Epoch  320/1000 Cost: 0.022684 Accuracy 100.00%\n",
            "Epoch  330/1000 Cost: 0.022016 Accuracy 100.00%\n",
            "Epoch  340/1000 Cost: 0.021385 Accuracy 100.00%\n",
            "Epoch  350/1000 Cost: 0.020788 Accuracy 100.00%\n",
            "Epoch  360/1000 Cost: 0.020222 Accuracy 100.00%\n",
            "Epoch  370/1000 Cost: 0.019685 Accuracy 100.00%\n",
            "Epoch  380/1000 Cost: 0.019175 Accuracy 100.00%\n",
            "Epoch  390/1000 Cost: 0.018689 Accuracy 100.00%\n",
            "Epoch  400/1000 Cost: 0.018227 Accuracy 100.00%\n",
            "Epoch  410/1000 Cost: 0.017786 Accuracy 100.00%\n",
            "Epoch  420/1000 Cost: 0.017364 Accuracy 100.00%\n",
            "Epoch  430/1000 Cost: 0.016962 Accuracy 100.00%\n",
            "Epoch  440/1000 Cost: 0.016577 Accuracy 100.00%\n",
            "Epoch  450/1000 Cost: 0.016209 Accuracy 100.00%\n",
            "Epoch  460/1000 Cost: 0.015855 Accuracy 100.00%\n",
            "Epoch  470/1000 Cost: 0.015517 Accuracy 100.00%\n",
            "Epoch  480/1000 Cost: 0.015191 Accuracy 100.00%\n",
            "Epoch  490/1000 Cost: 0.014879 Accuracy 100.00%\n",
            "Epoch  500/1000 Cost: 0.014579 Accuracy 100.00%\n",
            "Epoch  510/1000 Cost: 0.014290 Accuracy 100.00%\n",
            "Epoch  520/1000 Cost: 0.014011 Accuracy 100.00%\n",
            "Epoch  530/1000 Cost: 0.013743 Accuracy 100.00%\n",
            "Epoch  540/1000 Cost: 0.013485 Accuracy 100.00%\n",
            "Epoch  550/1000 Cost: 0.013235 Accuracy 100.00%\n",
            "Epoch  560/1000 Cost: 0.012994 Accuracy 100.00%\n",
            "Epoch  570/1000 Cost: 0.012762 Accuracy 100.00%\n",
            "Epoch  580/1000 Cost: 0.012537 Accuracy 100.00%\n",
            "Epoch  590/1000 Cost: 0.012320 Accuracy 100.00%\n",
            "Epoch  600/1000 Cost: 0.012110 Accuracy 100.00%\n",
            "Epoch  610/1000 Cost: 0.011906 Accuracy 100.00%\n",
            "Epoch  620/1000 Cost: 0.011709 Accuracy 100.00%\n",
            "Epoch  630/1000 Cost: 0.011518 Accuracy 100.00%\n",
            "Epoch  640/1000 Cost: 0.011333 Accuracy 100.00%\n",
            "Epoch  650/1000 Cost: 0.011153 Accuracy 100.00%\n",
            "Epoch  660/1000 Cost: 0.010979 Accuracy 100.00%\n",
            "Epoch  670/1000 Cost: 0.010810 Accuracy 100.00%\n",
            "Epoch  680/1000 Cost: 0.010646 Accuracy 100.00%\n",
            "Epoch  690/1000 Cost: 0.010486 Accuracy 100.00%\n",
            "Epoch  700/1000 Cost: 0.010331 Accuracy 100.00%\n",
            "Epoch  710/1000 Cost: 0.010180 Accuracy 100.00%\n",
            "Epoch  720/1000 Cost: 0.010034 Accuracy 100.00%\n",
            "Epoch  730/1000 Cost: 0.009891 Accuracy 100.00%\n",
            "Epoch  740/1000 Cost: 0.009752 Accuracy 100.00%\n",
            "Epoch  750/1000 Cost: 0.009617 Accuracy 100.00%\n",
            "Epoch  760/1000 Cost: 0.009486 Accuracy 100.00%\n",
            "Epoch  770/1000 Cost: 0.009357 Accuracy 100.00%\n",
            "Epoch  780/1000 Cost: 0.009232 Accuracy 100.00%\n",
            "Epoch  790/1000 Cost: 0.009110 Accuracy 100.00%\n",
            "Epoch  800/1000 Cost: 0.008992 Accuracy 100.00%\n",
            "Epoch  810/1000 Cost: 0.008876 Accuracy 100.00%\n",
            "Epoch  820/1000 Cost: 0.008763 Accuracy 100.00%\n",
            "Epoch  830/1000 Cost: 0.008652 Accuracy 100.00%\n",
            "Epoch  840/1000 Cost: 0.008544 Accuracy 100.00%\n",
            "Epoch  850/1000 Cost: 0.008439 Accuracy 100.00%\n",
            "Epoch  860/1000 Cost: 0.008336 Accuracy 100.00%\n",
            "Epoch  870/1000 Cost: 0.008236 Accuracy 100.00%\n",
            "Epoch  880/1000 Cost: 0.008138 Accuracy 100.00%\n",
            "Epoch  890/1000 Cost: 0.008042 Accuracy 100.00%\n",
            "Epoch  900/1000 Cost: 0.007948 Accuracy 100.00%\n",
            "Epoch  910/1000 Cost: 0.007856 Accuracy 100.00%\n",
            "Epoch  920/1000 Cost: 0.007766 Accuracy 100.00%\n",
            "Epoch  930/1000 Cost: 0.007679 Accuracy 100.00%\n",
            "Epoch  940/1000 Cost: 0.007593 Accuracy 100.00%\n",
            "Epoch  950/1000 Cost: 0.007508 Accuracy 100.00%\n",
            "Epoch  960/1000 Cost: 0.007426 Accuracy 100.00%\n",
            "Epoch  970/1000 Cost: 0.007345 Accuracy 100.00%\n",
            "Epoch  980/1000 Cost: 0.007266 Accuracy 100.00%\n",
            "Epoch  990/1000 Cost: 0.007189 Accuracy 100.00%\n",
            "Epoch 1000/1000 Cost: 0.007113 Accuracy 100.00%\n"
          ]
        }
      ]
    },
    {
      "cell_type": "code",
      "source": [
        "# 기존 훈련 데이터를 입력해 예측값 확인\n",
        "model(x_train)"
      ],
      "metadata": {
        "id": "1QgbVcVkO5C2"
      },
      "execution_count": null,
      "outputs": []
    },
    {
      "cell_type": "code",
      "source": [
        "print(list(model.parameters()))"
      ],
      "metadata": {
        "id": "jVV9pYSpO5Gm"
      },
      "execution_count": null,
      "outputs": []
    },
    {
      "cell_type": "markdown",
      "source": [
        "# [클래스로 pytorch 로지스틱 회귀 모델 구현]"
      ],
      "metadata": {
        "id": "Xz_nRoawNvQb"
      }
    },
    {
      "cell_type": "code",
      "source": [
        "# 도구 임포트\n",
        "import torch\n",
        "import torch.nn as nn\n",
        "import torch.nn.functional as F\n",
        "import torch.optim as optim\n",
        "\n",
        "# 랜덤 시드 지정\n",
        "torch.manual_seed(1)\n",
        "\n",
        "# 데이터 로딩\n",
        "x_data = [[1, 2], [2, 3], [3, 1], [4, 3], [5, 3], [6, 2]]\n",
        "y_data = [[0], [0], [0], [1], [1], [1]]\n",
        "x_train = torch.FloatTensor(x_data)\n",
        "y_train = torch.FloatTensor(y_data)\n",
        "\n",
        "# 클래스로 모델 생성\n",
        "class BinaryClassifier(nn.Module):\n",
        "    def __init__(self):\n",
        "        super().__init__()\n",
        "        # to do\n",
        "        self.linear = nn.Linear(2,1)\n",
        "        self.sigmoid = nn.Sigmoid()\n",
        "\n",
        "    def forward(self, x):\n",
        "        return self.sigmoid(self.linear(x))\n",
        "\n",
        "# 모델 객체 생성\n",
        "model = BinaryClassifier()\n",
        "\n",
        "# optimizer 설정\n",
        "optimizer = optim.SGD(model.parameters(), lr=0.1)\n",
        "\n",
        "nb_epochs = 2000\n",
        "for epoch in range(nb_epochs + 1):\n",
        "\n",
        "    # H(x) 계산\n",
        "    # to do\n",
        "    hypothesis = model(x_train)\n",
        "\n",
        "    # cost 계산\n",
        "    # to do\n",
        "    cost = F.binary_cross_entropy(hypothesis, y_train)\n",
        "\n",
        "    # cost로 H(x) 개선\n",
        "    # to do\n",
        "    optimizer.zero_grad()\n",
        "    cost.backward()\n",
        "    optimizer.step()\n",
        "\n",
        "    # 20번마다 로그 출력\n",
        "    if epoch % 10 == 0:\n",
        "        prediction = hypothesis >= torch.FloatTensor([0.5]) # 예측값이 0.5를 넘으면 True로 간주\n",
        "        correct_prediction = prediction.float() == y_train # 실제값과 일치하는 경우만 True로 간주\n",
        "        accuracy = correct_prediction.sum().item() / len(correct_prediction) # 정확도를 계산\n",
        "        print('Epoch {:4d}/{} Cost: {:.6f} Accuracy {:2.2f}%'.format( # 각 에포크마다 정확도를 출력\n",
        "            epoch, nb_epochs, cost.item(), accuracy * 100,\n",
        "        ))"
      ],
      "metadata": {
        "id": "2bdNc6ShNvWS",
        "colab": {
          "base_uri": "https://localhost:8080/"
        },
        "outputId": "3c344762-2672-4fdb-9cf1-a3c2edda6112"
      },
      "execution_count": null,
      "outputs": [
        {
          "output_type": "stream",
          "name": "stdout",
          "text": [
            "Epoch    0/2000 Cost: 0.539713 Accuracy 83.33%\n",
            "Epoch   10/2000 Cost: 0.510919 Accuracy 83.33%\n",
            "Epoch   20/2000 Cost: 0.490904 Accuracy 83.33%\n",
            "Epoch   30/2000 Cost: 0.475095 Accuracy 83.33%\n",
            "Epoch   40/2000 Cost: 0.461999 Accuracy 83.33%\n",
            "Epoch   50/2000 Cost: 0.450719 Accuracy 83.33%\n",
            "Epoch   60/2000 Cost: 0.440698 Accuracy 83.33%\n",
            "Epoch   70/2000 Cost: 0.431580 Accuracy 83.33%\n",
            "Epoch   80/2000 Cost: 0.423135 Accuracy 83.33%\n",
            "Epoch   90/2000 Cost: 0.415206 Accuracy 83.33%\n",
            "Epoch  100/2000 Cost: 0.407688 Accuracy 83.33%\n",
            "Epoch  110/2000 Cost: 0.400507 Accuracy 83.33%\n",
            "Epoch  120/2000 Cost: 0.393610 Accuracy 83.33%\n",
            "Epoch  130/2000 Cost: 0.386960 Accuracy 83.33%\n",
            "Epoch  140/2000 Cost: 0.380529 Accuracy 83.33%\n",
            "Epoch  150/2000 Cost: 0.374296 Accuracy 83.33%\n",
            "Epoch  160/2000 Cost: 0.368245 Accuracy 83.33%\n",
            "Epoch  170/2000 Cost: 0.362364 Accuracy 83.33%\n",
            "Epoch  180/2000 Cost: 0.356643 Accuracy 83.33%\n",
            "Epoch  190/2000 Cost: 0.351074 Accuracy 83.33%\n",
            "Epoch  200/2000 Cost: 0.345649 Accuracy 83.33%\n",
            "Epoch  210/2000 Cost: 0.340364 Accuracy 83.33%\n",
            "Epoch  220/2000 Cost: 0.335213 Accuracy 83.33%\n",
            "Epoch  230/2000 Cost: 0.330190 Accuracy 83.33%\n",
            "Epoch  240/2000 Cost: 0.325293 Accuracy 83.33%\n",
            "Epoch  250/2000 Cost: 0.320516 Accuracy 83.33%\n",
            "Epoch  260/2000 Cost: 0.315857 Accuracy 83.33%\n",
            "Epoch  270/2000 Cost: 0.311311 Accuracy 83.33%\n",
            "Epoch  280/2000 Cost: 0.306875 Accuracy 83.33%\n",
            "Epoch  290/2000 Cost: 0.302547 Accuracy 83.33%\n",
            "Epoch  300/2000 Cost: 0.298323 Accuracy 83.33%\n",
            "Epoch  310/2000 Cost: 0.294199 Accuracy 83.33%\n",
            "Epoch  320/2000 Cost: 0.290174 Accuracy 83.33%\n",
            "Epoch  330/2000 Cost: 0.286244 Accuracy 83.33%\n",
            "Epoch  340/2000 Cost: 0.282406 Accuracy 83.33%\n",
            "Epoch  350/2000 Cost: 0.278658 Accuracy 83.33%\n",
            "Epoch  360/2000 Cost: 0.274998 Accuracy 83.33%\n",
            "Epoch  370/2000 Cost: 0.271422 Accuracy 83.33%\n",
            "Epoch  380/2000 Cost: 0.267928 Accuracy 83.33%\n",
            "Epoch  390/2000 Cost: 0.264515 Accuracy 83.33%\n",
            "Epoch  400/2000 Cost: 0.261179 Accuracy 83.33%\n",
            "Epoch  410/2000 Cost: 0.257919 Accuracy 83.33%\n",
            "Epoch  420/2000 Cost: 0.254731 Accuracy 83.33%\n",
            "Epoch  430/2000 Cost: 0.251615 Accuracy 100.00%\n",
            "Epoch  440/2000 Cost: 0.248569 Accuracy 100.00%\n",
            "Epoch  450/2000 Cost: 0.245589 Accuracy 100.00%\n",
            "Epoch  460/2000 Cost: 0.242674 Accuracy 100.00%\n",
            "Epoch  470/2000 Cost: 0.239823 Accuracy 100.00%\n",
            "Epoch  480/2000 Cost: 0.237034 Accuracy 100.00%\n",
            "Epoch  490/2000 Cost: 0.234304 Accuracy 100.00%\n",
            "Epoch  500/2000 Cost: 0.231633 Accuracy 100.00%\n",
            "Epoch  510/2000 Cost: 0.229018 Accuracy 100.00%\n",
            "Epoch  520/2000 Cost: 0.226457 Accuracy 100.00%\n",
            "Epoch  530/2000 Cost: 0.223951 Accuracy 100.00%\n",
            "Epoch  540/2000 Cost: 0.221496 Accuracy 100.00%\n",
            "Epoch  550/2000 Cost: 0.219092 Accuracy 100.00%\n",
            "Epoch  560/2000 Cost: 0.216736 Accuracy 100.00%\n",
            "Epoch  570/2000 Cost: 0.214429 Accuracy 100.00%\n",
            "Epoch  580/2000 Cost: 0.212167 Accuracy 100.00%\n",
            "Epoch  590/2000 Cost: 0.209951 Accuracy 100.00%\n",
            "Epoch  600/2000 Cost: 0.207779 Accuracy 100.00%\n",
            "Epoch  610/2000 Cost: 0.205650 Accuracy 100.00%\n",
            "Epoch  620/2000 Cost: 0.203562 Accuracy 100.00%\n",
            "Epoch  630/2000 Cost: 0.201515 Accuracy 100.00%\n",
            "Epoch  640/2000 Cost: 0.199507 Accuracy 100.00%\n",
            "Epoch  650/2000 Cost: 0.197537 Accuracy 100.00%\n",
            "Epoch  660/2000 Cost: 0.195605 Accuracy 100.00%\n",
            "Epoch  670/2000 Cost: 0.193709 Accuracy 100.00%\n",
            "Epoch  680/2000 Cost: 0.191848 Accuracy 100.00%\n",
            "Epoch  690/2000 Cost: 0.190022 Accuracy 100.00%\n",
            "Epoch  700/2000 Cost: 0.188230 Accuracy 100.00%\n",
            "Epoch  710/2000 Cost: 0.186470 Accuracy 100.00%\n",
            "Epoch  720/2000 Cost: 0.184742 Accuracy 100.00%\n",
            "Epoch  730/2000 Cost: 0.183046 Accuracy 100.00%\n",
            "Epoch  740/2000 Cost: 0.181379 Accuracy 100.00%\n",
            "Epoch  750/2000 Cost: 0.179742 Accuracy 100.00%\n",
            "Epoch  760/2000 Cost: 0.178134 Accuracy 100.00%\n",
            "Epoch  770/2000 Cost: 0.176554 Accuracy 100.00%\n",
            "Epoch  780/2000 Cost: 0.175002 Accuracy 100.00%\n",
            "Epoch  790/2000 Cost: 0.173476 Accuracy 100.00%\n",
            "Epoch  800/2000 Cost: 0.171976 Accuracy 100.00%\n",
            "Epoch  810/2000 Cost: 0.170501 Accuracy 100.00%\n",
            "Epoch  820/2000 Cost: 0.169052 Accuracy 100.00%\n",
            "Epoch  830/2000 Cost: 0.167627 Accuracy 100.00%\n",
            "Epoch  840/2000 Cost: 0.166225 Accuracy 100.00%\n",
            "Epoch  850/2000 Cost: 0.164846 Accuracy 100.00%\n",
            "Epoch  860/2000 Cost: 0.163490 Accuracy 100.00%\n",
            "Epoch  870/2000 Cost: 0.162156 Accuracy 100.00%\n",
            "Epoch  880/2000 Cost: 0.160844 Accuracy 100.00%\n",
            "Epoch  890/2000 Cost: 0.159552 Accuracy 100.00%\n",
            "Epoch  900/2000 Cost: 0.158282 Accuracy 100.00%\n",
            "Epoch  910/2000 Cost: 0.157031 Accuracy 100.00%\n",
            "Epoch  920/2000 Cost: 0.155799 Accuracy 100.00%\n",
            "Epoch  930/2000 Cost: 0.154587 Accuracy 100.00%\n",
            "Epoch  940/2000 Cost: 0.153394 Accuracy 100.00%\n",
            "Epoch  950/2000 Cost: 0.152219 Accuracy 100.00%\n",
            "Epoch  960/2000 Cost: 0.151062 Accuracy 100.00%\n",
            "Epoch  970/2000 Cost: 0.149922 Accuracy 100.00%\n",
            "Epoch  980/2000 Cost: 0.148800 Accuracy 100.00%\n",
            "Epoch  990/2000 Cost: 0.147694 Accuracy 100.00%\n",
            "Epoch 1000/2000 Cost: 0.146605 Accuracy 100.00%\n",
            "Epoch 1010/2000 Cost: 0.145532 Accuracy 100.00%\n",
            "Epoch 1020/2000 Cost: 0.144474 Accuracy 100.00%\n",
            "Epoch 1030/2000 Cost: 0.143432 Accuracy 100.00%\n",
            "Epoch 1040/2000 Cost: 0.142405 Accuracy 100.00%\n",
            "Epoch 1050/2000 Cost: 0.141393 Accuracy 100.00%\n",
            "Epoch 1060/2000 Cost: 0.140395 Accuracy 100.00%\n",
            "Epoch 1070/2000 Cost: 0.139411 Accuracy 100.00%\n",
            "Epoch 1080/2000 Cost: 0.138441 Accuracy 100.00%\n",
            "Epoch 1090/2000 Cost: 0.137484 Accuracy 100.00%\n",
            "Epoch 1100/2000 Cost: 0.136541 Accuracy 100.00%\n",
            "Epoch 1110/2000 Cost: 0.135611 Accuracy 100.00%\n",
            "Epoch 1120/2000 Cost: 0.134693 Accuracy 100.00%\n",
            "Epoch 1130/2000 Cost: 0.133788 Accuracy 100.00%\n",
            "Epoch 1140/2000 Cost: 0.132896 Accuracy 100.00%\n",
            "Epoch 1150/2000 Cost: 0.132015 Accuracy 100.00%\n",
            "Epoch 1160/2000 Cost: 0.131146 Accuracy 100.00%\n",
            "Epoch 1170/2000 Cost: 0.130288 Accuracy 100.00%\n",
            "Epoch 1180/2000 Cost: 0.129442 Accuracy 100.00%\n",
            "Epoch 1190/2000 Cost: 0.128607 Accuracy 100.00%\n",
            "Epoch 1200/2000 Cost: 0.127783 Accuracy 100.00%\n",
            "Epoch 1210/2000 Cost: 0.126969 Accuracy 100.00%\n",
            "Epoch 1220/2000 Cost: 0.126166 Accuracy 100.00%\n",
            "Epoch 1230/2000 Cost: 0.125373 Accuracy 100.00%\n",
            "Epoch 1240/2000 Cost: 0.124591 Accuracy 100.00%\n",
            "Epoch 1250/2000 Cost: 0.123818 Accuracy 100.00%\n",
            "Epoch 1260/2000 Cost: 0.123054 Accuracy 100.00%\n",
            "Epoch 1270/2000 Cost: 0.122301 Accuracy 100.00%\n",
            "Epoch 1280/2000 Cost: 0.121556 Accuracy 100.00%\n",
            "Epoch 1290/2000 Cost: 0.120821 Accuracy 100.00%\n",
            "Epoch 1300/2000 Cost: 0.120095 Accuracy 100.00%\n",
            "Epoch 1310/2000 Cost: 0.119378 Accuracy 100.00%\n",
            "Epoch 1320/2000 Cost: 0.118669 Accuracy 100.00%\n",
            "Epoch 1330/2000 Cost: 0.117969 Accuracy 100.00%\n",
            "Epoch 1340/2000 Cost: 0.117277 Accuracy 100.00%\n",
            "Epoch 1350/2000 Cost: 0.116594 Accuracy 100.00%\n",
            "Epoch 1360/2000 Cost: 0.115918 Accuracy 100.00%\n",
            "Epoch 1370/2000 Cost: 0.115251 Accuracy 100.00%\n",
            "Epoch 1380/2000 Cost: 0.114591 Accuracy 100.00%\n",
            "Epoch 1390/2000 Cost: 0.113939 Accuracy 100.00%\n",
            "Epoch 1400/2000 Cost: 0.113294 Accuracy 100.00%\n",
            "Epoch 1410/2000 Cost: 0.112657 Accuracy 100.00%\n",
            "Epoch 1420/2000 Cost: 0.112028 Accuracy 100.00%\n",
            "Epoch 1430/2000 Cost: 0.111405 Accuracy 100.00%\n",
            "Epoch 1440/2000 Cost: 0.110789 Accuracy 100.00%\n",
            "Epoch 1450/2000 Cost: 0.110180 Accuracy 100.00%\n",
            "Epoch 1460/2000 Cost: 0.109579 Accuracy 100.00%\n",
            "Epoch 1470/2000 Cost: 0.108983 Accuracy 100.00%\n",
            "Epoch 1480/2000 Cost: 0.108395 Accuracy 100.00%\n",
            "Epoch 1490/2000 Cost: 0.107812 Accuracy 100.00%\n",
            "Epoch 1500/2000 Cost: 0.107237 Accuracy 100.00%\n",
            "Epoch 1510/2000 Cost: 0.106667 Accuracy 100.00%\n",
            "Epoch 1520/2000 Cost: 0.106104 Accuracy 100.00%\n",
            "Epoch 1530/2000 Cost: 0.105546 Accuracy 100.00%\n",
            "Epoch 1540/2000 Cost: 0.104995 Accuracy 100.00%\n",
            "Epoch 1550/2000 Cost: 0.104449 Accuracy 100.00%\n",
            "Epoch 1560/2000 Cost: 0.103910 Accuracy 100.00%\n",
            "Epoch 1570/2000 Cost: 0.103375 Accuracy 100.00%\n",
            "Epoch 1580/2000 Cost: 0.102847 Accuracy 100.00%\n",
            "Epoch 1590/2000 Cost: 0.102324 Accuracy 100.00%\n",
            "Epoch 1600/2000 Cost: 0.101806 Accuracy 100.00%\n",
            "Epoch 1610/2000 Cost: 0.101294 Accuracy 100.00%\n",
            "Epoch 1620/2000 Cost: 0.100787 Accuracy 100.00%\n",
            "Epoch 1630/2000 Cost: 0.100285 Accuracy 100.00%\n",
            "Epoch 1640/2000 Cost: 0.099789 Accuracy 100.00%\n",
            "Epoch 1650/2000 Cost: 0.099297 Accuracy 100.00%\n",
            "Epoch 1660/2000 Cost: 0.098810 Accuracy 100.00%\n",
            "Epoch 1670/2000 Cost: 0.098328 Accuracy 100.00%\n",
            "Epoch 1680/2000 Cost: 0.097851 Accuracy 100.00%\n",
            "Epoch 1690/2000 Cost: 0.097379 Accuracy 100.00%\n",
            "Epoch 1700/2000 Cost: 0.096911 Accuracy 100.00%\n",
            "Epoch 1710/2000 Cost: 0.096448 Accuracy 100.00%\n",
            "Epoch 1720/2000 Cost: 0.095990 Accuracy 100.00%\n",
            "Epoch 1730/2000 Cost: 0.095535 Accuracy 100.00%\n",
            "Epoch 1740/2000 Cost: 0.095086 Accuracy 100.00%\n",
            "Epoch 1750/2000 Cost: 0.094640 Accuracy 100.00%\n",
            "Epoch 1760/2000 Cost: 0.094199 Accuracy 100.00%\n",
            "Epoch 1770/2000 Cost: 0.093762 Accuracy 100.00%\n",
            "Epoch 1780/2000 Cost: 0.093329 Accuracy 100.00%\n",
            "Epoch 1790/2000 Cost: 0.092900 Accuracy 100.00%\n",
            "Epoch 1800/2000 Cost: 0.092476 Accuracy 100.00%\n",
            "Epoch 1810/2000 Cost: 0.092055 Accuracy 100.00%\n",
            "Epoch 1820/2000 Cost: 0.091638 Accuracy 100.00%\n",
            "Epoch 1830/2000 Cost: 0.091225 Accuracy 100.00%\n",
            "Epoch 1840/2000 Cost: 0.090816 Accuracy 100.00%\n",
            "Epoch 1850/2000 Cost: 0.090410 Accuracy 100.00%\n",
            "Epoch 1860/2000 Cost: 0.090008 Accuracy 100.00%\n",
            "Epoch 1870/2000 Cost: 0.089610 Accuracy 100.00%\n",
            "Epoch 1880/2000 Cost: 0.089216 Accuracy 100.00%\n",
            "Epoch 1890/2000 Cost: 0.088825 Accuracy 100.00%\n",
            "Epoch 1900/2000 Cost: 0.088437 Accuracy 100.00%\n",
            "Epoch 1910/2000 Cost: 0.088053 Accuracy 100.00%\n",
            "Epoch 1920/2000 Cost: 0.087673 Accuracy 100.00%\n",
            "Epoch 1930/2000 Cost: 0.087295 Accuracy 100.00%\n",
            "Epoch 1940/2000 Cost: 0.086922 Accuracy 100.00%\n",
            "Epoch 1950/2000 Cost: 0.086551 Accuracy 100.00%\n",
            "Epoch 1960/2000 Cost: 0.086183 Accuracy 100.00%\n",
            "Epoch 1970/2000 Cost: 0.085819 Accuracy 100.00%\n",
            "Epoch 1980/2000 Cost: 0.085458 Accuracy 100.00%\n",
            "Epoch 1990/2000 Cost: 0.085100 Accuracy 100.00%\n",
            "Epoch 2000/2000 Cost: 0.084745 Accuracy 100.00%\n"
          ]
        }
      ]
    },
    {
      "cell_type": "markdown",
      "source": [
        "# Application of Neural Network 03"
      ],
      "metadata": {
        "id": "OQkd6gAJNvZa"
      }
    },
    {
      "cell_type": "markdown",
      "source": [
        "### Contents\n",
        "- Wisconsin breast cancer dataset\n",
        "- A neuron for logistic regression\n",
        "- Logistic Regression with sci-learn\n",
        "- Summary"
      ],
      "metadata": {
        "id": "uXhKkuI9Pffs"
      }
    },
    {
      "cell_type": "markdown",
      "source": [
        "# [A Neuron for Logistic Regression]"
      ],
      "metadata": {
        "id": "loumMVtxsOBG"
      }
    },
    {
      "cell_type": "code",
      "source": [
        "%matplotlib inline"
      ],
      "metadata": {
        "id": "mrdedaxNPiRZ"
      },
      "execution_count": null,
      "outputs": []
    },
    {
      "cell_type": "markdown",
      "source": [
        "# Iris Dataset\n",
        "\n",
        "# feature 데이터 분포 확인 or feature 이름 확인"
      ],
      "metadata": {
        "id": "85IT3xHasA6z"
      }
    },
    {
      "cell_type": "code",
      "source": [
        "from sklearn import linear_model,datasets\n",
        "from sklearn.model_selection import train_test_split\n",
        "from sklearn.metrics import confusion_matrix\n",
        "\n",
        "import numpy as np\n",
        "import matplotlib.pyplot as plt\n",
        "import itertools"
      ],
      "metadata": {
        "id": "FeXpmK7esbiQ"
      },
      "execution_count": null,
      "outputs": []
    },
    {
      "cell_type": "code",
      "source": [
        "iris = datasets.load_iris()\n",
        "print(iris.data.shape)\n",
        "print(iris.target)\n"
      ],
      "metadata": {
        "id": "mQqR3GdssdH8",
        "colab": {
          "base_uri": "https://localhost:8080/"
        },
        "outputId": "0fcd25a4-9364-4c28-ce49-75a7930862a2"
      },
      "execution_count": null,
      "outputs": [
        {
          "output_type": "stream",
          "name": "stdout",
          "text": [
            "(150, 4)\n",
            "[0 0 0 0 0 0 0 0 0 0 0 0 0 0 0 0 0 0 0 0 0 0 0 0 0 0 0 0 0 0 0 0 0 0 0 0 0\n",
            " 0 0 0 0 0 0 0 0 0 0 0 0 0 1 1 1 1 1 1 1 1 1 1 1 1 1 1 1 1 1 1 1 1 1 1 1 1\n",
            " 1 1 1 1 1 1 1 1 1 1 1 1 1 1 1 1 1 1 1 1 1 1 1 1 1 1 2 2 2 2 2 2 2 2 2 2 2\n",
            " 2 2 2 2 2 2 2 2 2 2 2 2 2 2 2 2 2 2 2 2 2 2 2 2 2 2 2 2 2 2 2 2 2 2 2 2 2\n",
            " 2 2]\n"
          ]
        }
      ]
    },
    {
      "cell_type": "code",
      "source": [
        "X_train,X_test,y_train,y_test = train_test_split(iris.data,iris.target,test_size=0.30,random_state=7)\n",
        "log_reg_model = linear_model.LogisticRegression()\n",
        "log_reg_model.fit(X_train,y_train)\n",
        "log_reg_base_score = log_reg_model.score(X_test,y_test)\n",
        "print(\"The score for the Logistic Regression Model is : \", log_reg_base_score)\n"
      ],
      "metadata": {
        "id": "gkoLOTewtGFM",
        "colab": {
          "base_uri": "https://localhost:8080/"
        },
        "outputId": "76ee9813-9d5b-46e5-a3f9-95fa6372d3c6"
      },
      "execution_count": null,
      "outputs": [
        {
          "output_type": "stream",
          "name": "stdout",
          "text": [
            "The score for the Logistic Regression Model is :  0.9111111111111111\n"
          ]
        }
      ]
    },
    {
      "cell_type": "code",
      "source": [
        "cm = confusion_matrix(y_test,log_reg_model.predict(X_test))\n",
        "print(cm)"
      ],
      "metadata": {
        "id": "0xM4l4SAw-W1",
        "colab": {
          "base_uri": "https://localhost:8080/"
        },
        "outputId": "9cbb1f72-ca91-4ee0-8657-b622739fbee7"
      },
      "execution_count": null,
      "outputs": [
        {
          "output_type": "stream",
          "name": "stdout",
          "text": [
            "[[12  0  0]\n",
            " [ 0 14  2]\n",
            " [ 0  2 15]]\n"
          ]
        }
      ]
    },
    {
      "cell_type": "code",
      "source": [
        "X = iris.data[:,:2]\n",
        "y = iris.target\n",
        "\n",
        "log_reg_model.fit(X,y)\n",
        "\n",
        "x_min, x_max = X[:, 0].min() - .5, X[:, 0].max() + .5\n",
        "y_min, y_max = X[:, 1].min() - .5, X[:, 1].max() + .5\n",
        "\n",
        "xx, yy = np.meshgrid(np.arange(x_min, x_max, .01), np.arange(y_min, y_max, .01))\n",
        "\n",
        "Z = log_reg_model.predict(np.c_[xx.ravel(), yy.ravel()])\n",
        "\n",
        "Z = Z.reshape(xx.shape)\n",
        "plt.figure(1, figsize=(4, 3))\n",
        "plt.pcolormesh(xx, yy, Z, cmap=plt.cm.Paired)\n",
        "\n",
        "\n",
        "plt.scatter(X[:, 0], X[:, 1], c=Y, edgecolors='k', cmap=plt.cm.Paired)\n",
        "plt.xlabel('Sepal length')\n",
        "plt.ylabel('Sepal width')\n",
        "\n",
        "plt.xlim(xx.min(), xx.max())\n",
        "plt.ylim(yy.min(), yy.max())\n",
        "plt.xticks(())\n",
        "plt.yticks(())\n",
        "\n",
        "plt.show()"
      ],
      "metadata": {
        "id": "fduEfNT1xD7z",
        "colab": {
          "base_uri": "https://localhost:8080/",
          "height": 208
        },
        "outputId": "9c1a5867-5ac5-430e-8ac3-129060434660"
      },
      "execution_count": null,
      "outputs": [
        {
          "output_type": "display_data",
          "data": {
            "text/plain": [
              "<Figure size 288x216 with 1 Axes>"
            ],
            "image/png": "[encoded data removed]"
          },
          "metadata": {}
        }
      ]
    },
    {
      "cell_type": "code",
      "source": [
        "def plot_confusion_matrix(cm, classes,\n",
        "                          normalize=False,\n",
        "                          title='Confusion matrix',\n",
        "                          cmap=plt.cm.Blues):\n",
        "    \"\"\"\n",
        "    This function prints and plots the confusion matrix.\n",
        "    Normalization can be applied by setting `normalize=True`.\n",
        "    \"\"\"\n",
        "    if normalize:\n",
        "        cm = cm.astype('float') / cm.sum(axis=1)[:, np.newaxis]\n",
        "        print(\"Normalized confusion matrix\")\n",
        "    else:\n",
        "        print('Confusion matrix, without normalization')\n",
        "\n",
        "    print(cm)\n",
        "\n",
        "    plt.imshow(cm, interpolation='nearest', cmap=cmap)\n",
        "    plt.title(title)\n",
        "    plt.colorbar()\n",
        "    tick_marks = np.arange(len(classes))\n",
        "    plt.xticks(tick_marks, classes, rotation=45)\n",
        "    plt.yticks(tick_marks, classes)\n",
        "\n",
        "    fmt = '.2f' if normalize else 'd'\n",
        "    thresh = cm.max() / 2.\n",
        "    for i, j in itertools.product(range(cm.shape[0]), range(cm.shape[1])):\n",
        "        plt.text(j, i, format(cm[i, j], fmt),\n",
        "                 horizontalalignment=\"center\",\n",
        "                 color=\"white\" if cm[i, j] > thresh else \"black\")\n",
        "\n",
        "    plt.tight_layout()\n",
        "    plt.ylabel('True label')\n",
        "    plt.xlabel('Predicted label')\n",
        "\n",
        "\n",
        "log_reg_model.fit(X_train,y_train)\n",
        "cnf_matrix = confusion_matrix(y_test, log_reg_model.predict(X_test))\n",
        "np.set_printoptions(precision=2)\n",
        "\n",
        "plt.figure()\n",
        "plot_confusion_matrix(cnf_matrix, classes=iris.target_names,\n",
        "                      title='Confusion matrix')"
      ],
      "metadata": {
        "colab": {
          "base_uri": "https://localhost:8080/",
          "height": 384
        },
        "id": "ymidW0U4xL9U",
        "outputId": "89e6ed3e-2924-4f69-aa60-afbacb663e7f"
      },
      "execution_count": null,
      "outputs": [
        {
          "output_type": "stream",
          "name": "stdout",
          "text": [
            "Confusion matrix, without normalization\n",
            "[[12  0  0]\n",
            " [ 0 14  2]\n",
            " [ 0  2 15]]\n"
          ]
        },
        {
          "output_type": "display_data",
          "data": {
            "text/plain": [
              "<Figure size 432x288 with 2 Axes>"
            ],
            "image/png": "[encoded data removed]"
          },
          "metadata": {
            "needs_background": "light"
          }
        }
      ]
    },
    {
      "cell_type": "markdown",
      "source": [
        "# MNIST Dataset"
      ],
      "metadata": {
        "id": "YZ3NMp3Ytooo"
      }
    },
    {
      "cell_type": "code",
      "source": [
        "import torch\n",
        "import torchvision.datasets\n",
        "import torchvision.transforms\n",
        "from tqdm import tqdm\n",
        "import random"
      ],
      "metadata": {
        "id": "fU9hThKitr_9"
      },
      "execution_count": null,
      "outputs": []
    },
    {
      "cell_type": "code",
      "source": [
        "random.seed(777)\n",
        "torch.manual_seed(777)\n",
        "\n",
        "training_epochs = 15"
      ],
      "metadata": {
        "id": "NBMZjGu-uFbD"
      },
      "execution_count": null,
      "outputs": []
    },
    {
      "cell_type": "code",
      "source": [
        "mnist_train = torchvision.datasets.MNIST(root='MNIST_data/', train=True, transform=torchvision.transforms.ToTensor(), download=True)\n",
        "mnist_test = torchvision.datasets.MNIST(root='MNIST_data/', train=False,transform=torchvision.transforms.ToTensor(),download=True)\n",
        "\n",
        "train_loader = torch.utils.data.DataLoader(dataset=mnist_train, shuffle=True, drop_last=True)\n",
        "test_loader = torch.utils.data.DataLoader(dataset=mnist_train, shuffle=True, drop_last=True)"
      ],
      "metadata": {
        "colab": {
          "base_uri": "https://localhost:8080/",
          "height": 455,
          "referenced_widgets": [
            "9c49e38457f047beaf16855dfed3955c",
            "82c43cf3bfc34b71beb864b5bffec923",
            "1450ae83e2754b13aa094aad52ddf8da",
            "c8eae918ba1742b08904c9ec4fb0ce71",
            "d583dba61b174e5f9e5604216be46307",
            "9c3e7f804172420787683bd4ccff3fc0",
            "226908b5e5dc442b9123835edbcca33b",
            "263253c993f74b71ad26736e2d74f26a",
            "270f6e55d6984d619d5159f4d31abbde",
            "cdb2171d6d424692bc2f254b5d0afec0",
            "658af6a78fc34c4387a22755c2215e4b",
            "edce75e15eca4fdeb230e76e56f0c7d3",
            "3e74363cee3a4f8aa8730921f5bfa108",
            "fbf0baed751b400fba5c436a5c3c11c2",
            "fbc117d5aaf645c5a78c7519680d6c74",
            "521ef1abf08942acb73658209ca6b10f",
            "4c2fe336ab1a45a28bb36b802b64d839",
            "c73a8ba331c34fba97c3aa2469a3e55b",
            "597a85864c2445539535dd6e0db014f9",
            "b6e2eb2cfd784086b2389876247207b3",
            "9d379142f2004bc9b34fa9fa347c1a5c",
            "9f2eecaf09064b44b0e3644561edec47",
            "244686612d9e46c0b2ed88282afac6fb",
            "96d2f21907c14050929a243beafa9868",
            "3a744a7c8d154d3cb27bc7b4437bf1df",
            "2a50d1ed12c74091b7c19a99b2c9e97a",
            "52780d6576744ccc963fa3f54f475960",
            "81da4a21a91348c89d7579964c9e4c5d",
            "47ffb8bd27eb4b559e8942130274ea2c",
            "f0c057ddb5c647de8b476230dcc829bb",
            "1bf3f22203714f0f829798edfcbbfacb",
            "59cadc099a0541a08d0e4685d56f067f",
            "f4bc29d00a8d43849c889ddf4e77541c",
            "e97f7cd1407e43e79911b169ac3cae3f",
            "9a3824305d9b406aa0725ed5fe67bf56",
            "91e2a1a7e46841b88a3fd48fbf4b23db",
            "bf3597fb03fd42cb9238d36848afb538",
            "9386a39a20554f68aaba176f6a3a6f37",
            "68b549e7df3f45d78f3fa27294be5958",
            "a158b1ae2eb24d2dbb0231c7f5003e3a",
            "8cdedd538c244221a0b2b3e6274c1eaa",
            "b55ab9f60f9840c785809a032e249c98",
            "9dfdd88d028f41c3b9c5fd492f39d788",
            "65be3551c48e40a79feb390a2ceecd04"
          ]
        },
        "id": "9OFrZKZSuJYu",
        "outputId": "fa33943e-f0c8-4ec9-9bce-fb817f5b9289"
      },
      "execution_count": null,
      "outputs": [
        {
          "output_type": "stream",
          "name": "stdout",
          "text": [
            "Downloading http://yann.lecun.com/exdb/mnist/train-images-idx3-ubyte.gz\n",
            "Downloading http://yann.lecun.com/exdb/mnist/train-images-idx3-ubyte.gz to MNIST_data/MNIST/raw/train-images-idx3-ubyte.gz\n"
          ]
        },
        {
          "output_type": "display_data",
          "data": {
            "text/plain": [
              "  0%|          | 0/9912422 [00:00<?, ?it/s]"
            ],
            "application/vnd.jupyter.widget-view+json": {
              "version_major": 2,
              "version_minor": 0,
              "model_id": "9c49e38457f047beaf16855dfed3955c"
            }
          },
          "metadata": {}
        },
        {
          "output_type": "stream",
          "name": "stdout",
          "text": [
            "Extracting MNIST_data/MNIST/raw/train-images-idx3-ubyte.gz to MNIST_data/MNIST/raw\n",
            "\n",
            "Downloading http://yann.lecun.com/exdb/mnist/train-labels-idx1-ubyte.gz\n",
            "Downloading http://yann.lecun.com/exdb/mnist/train-labels-idx1-ubyte.gz to MNIST_data/MNIST/raw/train-labels-idx1-ubyte.gz\n"
          ]
        },
        {
          "output_type": "display_data",
          "data": {
            "text/plain": [
              "  0%|          | 0/28881 [00:00<?, ?it/s]"
            ],
            "application/vnd.jupyter.widget-view+json": {
              "version_major": 2,
              "version_minor": 0,
              "model_id": "edce75e15eca4fdeb230e76e56f0c7d3"
            }
          },
          "metadata": {}
        },
        {
          "output_type": "stream",
          "name": "stdout",
          "text": [
            "Extracting MNIST_data/MNIST/raw/train-labels-idx1-ubyte.gz to MNIST_data/MNIST/raw\n",
            "\n",
            "Downloading http://yann.lecun.com/exdb/mnist/t10k-images-idx3-ubyte.gz\n",
            "Downloading http://yann.lecun.com/exdb/mnist/t10k-images-idx3-ubyte.gz to MNIST_data/MNIST/raw/t10k-images-idx3-ubyte.gz\n"
          ]
        },
        {
          "output_type": "display_data",
          "data": {
            "text/plain": [
              "  0%|          | 0/1648877 [00:00<?, ?it/s]"
            ],
            "application/vnd.jupyter.widget-view+json": {
              "version_major": 2,
              "version_minor": 0,
              "model_id": "244686612d9e46c0b2ed88282afac6fb"
            }
          },
          "metadata": {}
        },
        {
          "output_type": "stream",
          "name": "stdout",
          "text": [
            "Extracting MNIST_data/MNIST/raw/t10k-images-idx3-ubyte.gz to MNIST_data/MNIST/raw\n",
            "\n",
            "Downloading http://yann.lecun.com/exdb/mnist/t10k-labels-idx1-ubyte.gz\n",
            "Downloading http://yann.lecun.com/exdb/mnist/t10k-labels-idx1-ubyte.gz to MNIST_data/MNIST/raw/t10k-labels-idx1-ubyte.gz\n"
          ]
        },
        {
          "output_type": "display_data",
          "data": {
            "text/plain": [
              "  0%|          | 0/4542 [00:00<?, ?it/s]"
            ],
            "application/vnd.jupyter.widget-view+json": {
              "version_major": 2,
              "version_minor": 0,
              "model_id": "e97f7cd1407e43e79911b169ac3cae3f"
            }
          },
          "metadata": {}
        },
        {
          "output_type": "stream",
          "name": "stdout",
          "text": [
            "Extracting MNIST_data/MNIST/raw/t10k-labels-idx1-ubyte.gz to MNIST_data/MNIST/raw\n",
            "\n"
          ]
        }
      ]
    },
    {
      "cell_type": "code",
      "source": [
        "images = mnist_train.data[0:20]\n",
        "labels = mnist_train.targets[0:20].numpy()\n",
        "\n",
        "fig = plt.figure(figsize=(25,5))\n",
        "for i in range(len(images)):\n",
        "    ax = fig.add_subplot(2, 20/2, i+1)\n",
        "    ax.imshow(images[i].view(28,28),cmap='gray')\n",
        "    ax.set_title(labels[i])\n",
        "    ax.axis('off')"
      ],
      "metadata": {
        "colab": {
          "base_uri": "https://localhost:8080/",
          "height": 333
        },
        "id": "qVZEDrUBwfRo",
        "outputId": "edfaa6de-4e40-4a52-aa98-054e5bfdc12b"
      },
      "execution_count": null,
      "outputs": [
        {
          "output_type": "display_data",
          "data": {
            "text/plain": [
              "<Figure size 1800x360 with 20 Axes>"
            ],
            "image/png": "[encoded data removed]"
          },
          "metadata": {
            "needs_background": "light"
          }
        }
      ]
    },
    {
      "cell_type": "code",
      "source": [
        "class Classifier(torch.nn.Module):\n",
        "    def __init__(self, input_dim, hidden_dim,device, output_dim, lr = 0.001, epochs = 5):\n",
        "        super(Classifier, self).__init__()\n",
        "        self.input_dim = input_dim\n",
        "        self.hidden_dim = hidden_dim\n",
        "        self.output_dim = output_dim\n",
        "        self.epochs = epochs\n",
        "        self.losses = []\n",
        "        self.lr = lr\n",
        "        self.device = device\n",
        "        \n",
        "        self.fc1 = torch.nn.Linear(self.input_dim, self.hidden_dim[0]).to(self.device)\n",
        "        self.fc2 = torch.nn.Linear(self.hidden_dim[0], self.hidden_dim[1]).to(self.device)\n",
        "        self.fc3 = torch.nn.Linear(self.hidden_dim[1], self.output_dim).to(self.device)\n",
        "\n",
        "        torch.nn.init.xavier_uniform_(self.fc1.weight)\n",
        "        torch.nn.init.xavier_uniform_(self.fc2.weight)\n",
        "        torch.nn.init.xavier_uniform_(self.fc3.weight)\n",
        "\n",
        "    def forward(self, x):\n",
        "        pred = torch.sigmoid(self.fc1(x))\n",
        "        pred = torch.sigmoid(self.fc2(pred))\n",
        "        pred = self.fc3(pred)\n",
        "        \n",
        "        \n",
        "        return pred\n",
        "\n",
        "    #TODO\n",
        "    def fit(self, data):\n",
        "        criterion = torch.nn.CrossEntropyLoss().to(self.device)\n",
        "        optimizer = torch.optim.SGD(self.parameters(), lr = self.lr)\n",
        "        for _ in range(self.epochs):\n",
        "            total_loss=0\n",
        "            for x, y in tqdm(data):\n",
        "                x = x.view(-1,784).to(self.device)\n",
        "                y = y.to(self.device)\n",
        "                optimizer.zero_grad()\n",
        "\n",
        "                pred = self.forward(x)\n",
        "\n",
        "                loss = criterion(pred, y)\n",
        "                loss.backward()\n",
        "                optimizer.step()\n",
        "                total_loss+=loss.item()\n",
        "            print('Epoch {} Loss: '.format(_+1),total_loss/len(data))\n",
        "            self.losses.append(total_loss/len(data))\n",
        "\n",
        "    def evaluation(self,x,y):\n",
        "        with torch.no_grad():\n",
        "            pred = self.forward(x)\n",
        "            correct_pred = torch.argmax(pred,1) == y\n",
        "            accuracy = correct_pred.float().mean()\n",
        "            print('Accuracy', accuracy.item())\n",
        "\n"
      ],
      "metadata": {
        "id": "nLwSDpLdwvsm"
      },
      "execution_count": null,
      "outputs": []
    },
    {
      "cell_type": "code",
      "source": [
        "device = 'cuda' if torch.cuda.is_available() else 'cpu'\n",
        "model = Classifier(input_dim = 784, hidden_dim=(256, 128), output_dim=10,device=device)\n",
        "model.fit(train_loader)"
      ],
      "metadata": {
        "id": "WCSlKYDa02Ql",
        "colab": {
          "base_uri": "https://localhost:8080/"
        },
        "outputId": "d04ecc2f-b194-4ebc-9161-bebb937509a2"
      },
      "execution_count": null,
      "outputs": [
        {
          "output_type": "stream",
          "name": "stderr",
          "text": [
            "100%|██████████| 60000/60000 [01:21<00:00, 739.05it/s]\n"
          ]
        },
        {
          "output_type": "stream",
          "name": "stdout",
          "text": [
            "Epoch 1 Loss:  1.4768558027064427\n"
          ]
        },
        {
          "output_type": "stream",
          "name": "stderr",
          "text": [
            "100%|██████████| 60000/60000 [01:21<00:00, 738.31it/s]\n"
          ]
        },
        {
          "output_type": "stream",
          "name": "stdout",
          "text": [
            "Epoch 2 Loss:  0.544953371536724\n"
          ]
        },
        {
          "output_type": "stream",
          "name": "stderr",
          "text": [
            "100%|██████████| 60000/60000 [01:16<00:00, 789.37it/s]\n"
          ]
        },
        {
          "output_type": "stream",
          "name": "stdout",
          "text": [
            "Epoch 3 Loss:  0.3976049149513332\n"
          ]
        },
        {
          "output_type": "stream",
          "name": "stderr",
          "text": [
            "100%|██████████| 60000/60000 [01:19<00:00, 751.84it/s]\n"
          ]
        },
        {
          "output_type": "stream",
          "name": "stdout",
          "text": [
            "Epoch 4 Loss:  0.348686774181757\n"
          ]
        },
        {
          "output_type": "stream",
          "name": "stderr",
          "text": [
            "100%|██████████| 60000/60000 [01:12<00:00, 827.37it/s]"
          ]
        },
        {
          "output_type": "stream",
          "name": "stdout",
          "text": [
            "Epoch 5 Loss:  0.3224791505024206\n"
          ]
        },
        {
          "output_type": "stream",
          "name": "stderr",
          "text": [
            "\n"
          ]
        }
      ]
    },
    {
      "cell_type": "code",
      "source": [
        "test_x = mnist_test.data.view(-1,784).float().to(device)\n",
        "test_y = mnist_test.targets.to(device)\n",
        "model.evaluation(test_x,test_y)"
      ],
      "metadata": {
        "id": "R5PsV65fuxfT",
        "colab": {
          "base_uri": "https://localhost:8080/"
        },
        "outputId": "bfbcc118-5706-468c-89eb-dcb8b8d83db4"
      },
      "execution_count": null,
      "outputs": [
        {
          "output_type": "stream",
          "name": "stdout",
          "text": [
            "Accuracy 0.8985999822616577\n"
          ]
        }
      ]
    },
    {
      "cell_type": "code",
      "source": [
        "plt.figure(figsize=(5,5))\n",
        "plt.plot(model.losses)\n",
        "plt.xlabel('epochs')\n",
        "plt.ylabel('loss')"
      ],
      "metadata": {
        "id": "JoW8iQMju0g-",
        "colab": {
          "base_uri": "https://localhost:8080/",
          "height": 352
        },
        "outputId": "9b708ecc-9e10-424f-85bd-7ba00494a59f"
      },
      "execution_count": null,
      "outputs": [
        {
          "output_type": "execute_result",
          "data": {
            "text/plain": [
              "Text(0, 0.5, 'loss')"
            ]
          },
          "metadata": {},
          "execution_count": 70
        },
        {
          "output_type": "display_data",
          "data": {
            "text/plain": [
              "<Figure size 360x360 with 1 Axes>"
            ],
            "image/png": "[encoded data removed]"
          },
          "metadata": {
            "needs_background": "light"
          }
        }
      ]
    },
    {
      "cell_type": "code",
      "source": [
        "example_test = mnist_test.data[0:20]\n",
        "example_test_label = mnist_test.targets[0:20].numpy()\n",
        "\n",
        "fig = plt.figure(figsize=(25,5))\n",
        "for i in range(len(example_test)):\n",
        "    ax = fig.add_subplot(2, 20/2, i+1)\n",
        "    ax.imshow(example_test[i].view(28,28),cmap='gray')\n",
        "    ax.set_title(example_test_label[i])\n",
        "    ax.axis('off')"
      ],
      "metadata": {
        "id": "wbFNRWgfu3M-",
        "colab": {
          "base_uri": "https://localhost:8080/",
          "height": 164
        },
        "outputId": "93a0e098-be64-4865-e88c-9940a2f754e9"
      },
      "execution_count": null,
      "outputs": [
        {
          "output_type": "display_data",
          "data": {
            "text/plain": [
              "<Figure size 1800x360 with 20 Axes>"
            ],
            "image/png": "[encoded data removed]"
          },
          "metadata": {
            "needs_background": "light"
          }
        }
      ]
    },
    {
      "cell_type": "code",
      "source": [
        "pred = model.forward(example_test.view(-1,784).float().to(device))\n",
        "pred = torch.argmax(pred,1)"
      ],
      "metadata": {
        "id": "6oBLNgtXu5np"
      },
      "execution_count": null,
      "outputs": []
    },
    {
      "cell_type": "code",
      "source": [
        "fig = plt.figure(figsize=(25,5))\n",
        "for i in range(len(example_test)):\n",
        "    ax = fig.add_subplot(2, 20/2, i+1)\n",
        "    ax.imshow(example_test[i].view(28,28),cmap='gray')\n",
        "    ax.set_title(\"Lable: {} & Pred: {}\".format(example_test_label[i], pred.cpu().numpy()[i]))\n",
        "    ax.axis(\"off\")"
      ],
      "metadata": {
        "id": "EZVuCa6hu7be",
        "colab": {
          "base_uri": "https://localhost:8080/",
          "height": 164
        },
        "outputId": "b66ffa30-77ce-4bb3-a63a-6995c8e7b4b6"
      },
      "execution_count": null,
      "outputs": [
        {
          "output_type": "display_data",
          "data": {
            "text/plain": [
              "<Figure size 1800x360 with 20 Axes>"
            ],
            "image/png": "[encoded data removed]"
          },
          "metadata": {
            "needs_background": "light"
          }
        }
      ]
    },
    {
      "cell_type": "code",
      "source": [
        ""
      ],
      "metadata": {
        "id": "IKETivCTxjCg"
      },
      "execution_count": null,
      "outputs": []
    }
  ]
}
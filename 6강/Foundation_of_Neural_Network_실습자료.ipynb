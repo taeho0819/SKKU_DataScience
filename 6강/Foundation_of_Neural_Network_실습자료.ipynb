{
  "nbformat": 4,
  "nbformat_minor": 0,
  "metadata": {
    "colab": {
      "name": "Foundation of Neural Network 실습.ipynb",
      "provenance": [],
      "collapsed_sections": []
    },
    "kernelspec": {
      "name": "python3",
      "display_name": "Python 3"
    },
    "language_info": {
      "name": "python"
    },
    "accelerator": "GPU",
    "widgets": {
      "application/vnd.jupyter.widget-state+json": {
        "1fc30683436b4910b4434bf7dbd71387": {
          "model_module": "@jupyter-widgets/controls",
          "model_name": "HBoxModel",
          "model_module_version": "1.5.0",
          "state": {
            "_dom_classes": [],
            "_model_module": "@jupyter-widgets/controls",
            "_model_module_version": "1.5.0",
            "_model_name": "HBoxModel",
            "_view_count": null,
            "_view_module": "@jupyter-widgets/controls",
            "_view_module_version": "1.5.0",
            "_view_name": "HBoxView",
            "box_style": "",
            "children": [
              "IPY_MODEL_1b71ad30d1e44d07b89cb141278ec521",
              "IPY_MODEL_f55d0b9b2aba4f27a35368b91e0d1a4b",
              "IPY_MODEL_b9f71383a7c14998be0fd2da196fb3c1"
            ],
            "layout": "IPY_MODEL_5985a49facf340279262dc98ce65afa9"
          }
        },
        "1b71ad30d1e44d07b89cb141278ec521": {
          "model_module": "@jupyter-widgets/controls",
          "model_name": "HTMLModel",
          "model_module_version": "1.5.0",
          "state": {
            "_dom_classes": [],
            "_model_module": "@jupyter-widgets/controls",
            "_model_module_version": "1.5.0",
            "_model_name": "HTMLModel",
            "_view_count": null,
            "_view_module": "@jupyter-widgets/controls",
            "_view_module_version": "1.5.0",
            "_view_name": "HTMLView",
            "description": "",
            "description_tooltip": null,
            "layout": "IPY_MODEL_79a6f26a07a14e84b6fc9bec4a1a6ece",
            "placeholder": "​",
            "style": "IPY_MODEL_65fe697befa144d1a1348fbfab692e0a",
            "value": ""
          }
        },
        "f55d0b9b2aba4f27a35368b91e0d1a4b": {
          "model_module": "@jupyter-widgets/controls",
          "model_name": "FloatProgressModel",
          "model_module_version": "1.5.0",
          "state": {
            "_dom_classes": [],
            "_model_module": "@jupyter-widgets/controls",
            "_model_module_version": "1.5.0",
            "_model_name": "FloatProgressModel",
            "_view_count": null,
            "_view_module": "@jupyter-widgets/controls",
            "_view_module_version": "1.5.0",
            "_view_name": "ProgressView",
            "bar_style": "success",
            "description": "",
            "description_tooltip": null,
            "layout": "IPY_MODEL_f9efffd27f4b48a48836848275442217",
            "max": 9912422,
            "min": 0,
            "orientation": "horizontal",
            "style": "IPY_MODEL_b0565eecdb9746aa84ddcd27151ed83a",
            "value": 9912422
          }
        },
        "b9f71383a7c14998be0fd2da196fb3c1": {
          "model_module": "@jupyter-widgets/controls",
          "model_name": "HTMLModel",
          "model_module_version": "1.5.0",
          "state": {
            "_dom_classes": [],
            "_model_module": "@jupyter-widgets/controls",
            "_model_module_version": "1.5.0",
            "_model_name": "HTMLModel",
            "_view_count": null,
            "_view_module": "@jupyter-widgets/controls",
            "_view_module_version": "1.5.0",
            "_view_name": "HTMLView",
            "description": "",
            "description_tooltip": null,
            "layout": "IPY_MODEL_a257af97810945d3a8a2b78f68332f87",
            "placeholder": "​",
            "style": "IPY_MODEL_166b1cdcd42148cb88e05fa70640a45e",
            "value": " 9913344/? [00:00&lt;00:00, 19739444.45it/s]"
          }
        },
        "5985a49facf340279262dc98ce65afa9": {
          "model_module": "@jupyter-widgets/base",
          "model_name": "LayoutModel",
          "model_module_version": "1.2.0",
          "state": {
            "_model_module": "@jupyter-widgets/base",
            "_model_module_version": "1.2.0",
            "_model_name": "LayoutModel",
            "_view_count": null,
            "_view_module": "@jupyter-widgets/base",
            "_view_module_version": "1.2.0",
            "_view_name": "LayoutView",
            "align_content": null,
            "align_items": null,
            "align_self": null,
            "border": null,
            "bottom": null,
            "display": null,
            "flex": null,
            "flex_flow": null,
            "grid_area": null,
            "grid_auto_columns": null,
            "grid_auto_flow": null,
            "grid_auto_rows": null,
            "grid_column": null,
            "grid_gap": null,
            "grid_row": null,
            "grid_template_areas": null,
            "grid_template_columns": null,
            "grid_template_rows": null,
            "height": null,
            "justify_content": null,
            "justify_items": null,
            "left": null,
            "margin": null,
            "max_height": null,
            "max_width": null,
            "min_height": null,
            "min_width": null,
            "object_fit": null,
            "object_position": null,
            "order": null,
            "overflow": null,
            "overflow_x": null,
            "overflow_y": null,
            "padding": null,
            "right": null,
            "top": null,
            "visibility": null,
            "width": null
          }
        },
        "79a6f26a07a14e84b6fc9bec4a1a6ece": {
          "model_module": "@jupyter-widgets/base",
          "model_name": "LayoutModel",
          "model_module_version": "1.2.0",
          "state": {
            "_model_module": "@jupyter-widgets/base",
            "_model_module_version": "1.2.0",
            "_model_name": "LayoutModel",
            "_view_count": null,
            "_view_module": "@jupyter-widgets/base",
            "_view_module_version": "1.2.0",
            "_view_name": "LayoutView",
            "align_content": null,
            "align_items": null,
            "align_self": null,
            "border": null,
            "bottom": null,
            "display": null,
            "flex": null,
            "flex_flow": null,
            "grid_area": null,
            "grid_auto_columns": null,
            "grid_auto_flow": null,
            "grid_auto_rows": null,
            "grid_column": null,
            "grid_gap": null,
            "grid_row": null,
            "grid_template_areas": null,
            "grid_template_columns": null,
            "grid_template_rows": null,
            "height": null,
            "justify_content": null,
            "justify_items": null,
            "left": null,
            "margin": null,
            "max_height": null,
            "max_width": null,
            "min_height": null,
            "min_width": null,
            "object_fit": null,
            "object_position": null,
            "order": null,
            "overflow": null,
            "overflow_x": null,
            "overflow_y": null,
            "padding": null,
            "right": null,
            "top": null,
            "visibility": null,
            "width": null
          }
        },
        "65fe697befa144d1a1348fbfab692e0a": {
          "model_module": "@jupyter-widgets/controls",
          "model_name": "DescriptionStyleModel",
          "model_module_version": "1.5.0",
          "state": {
            "_model_module": "@jupyter-widgets/controls",
            "_model_module_version": "1.5.0",
            "_model_name": "DescriptionStyleModel",
            "_view_count": null,
            "_view_module": "@jupyter-widgets/base",
            "_view_module_version": "1.2.0",
            "_view_name": "StyleView",
            "description_width": ""
          }
        },
        "f9efffd27f4b48a48836848275442217": {
          "model_module": "@jupyter-widgets/base",
          "model_name": "LayoutModel",
          "model_module_version": "1.2.0",
          "state": {
            "_model_module": "@jupyter-widgets/base",
            "_model_module_version": "1.2.0",
            "_model_name": "LayoutModel",
            "_view_count": null,
            "_view_module": "@jupyter-widgets/base",
            "_view_module_version": "1.2.0",
            "_view_name": "LayoutView",
            "align_content": null,
            "align_items": null,
            "align_self": null,
            "border": null,
            "bottom": null,
            "display": null,
            "flex": null,
            "flex_flow": null,
            "grid_area": null,
            "grid_auto_columns": null,
            "grid_auto_flow": null,
            "grid_auto_rows": null,
            "grid_column": null,
            "grid_gap": null,
            "grid_row": null,
            "grid_template_areas": null,
            "grid_template_columns": null,
            "grid_template_rows": null,
            "height": null,
            "justify_content": null,
            "justify_items": null,
            "left": null,
            "margin": null,
            "max_height": null,
            "max_width": null,
            "min_height": null,
            "min_width": null,
            "object_fit": null,
            "object_position": null,
            "order": null,
            "overflow": null,
            "overflow_x": null,
            "overflow_y": null,
            "padding": null,
            "right": null,
            "top": null,
            "visibility": null,
            "width": null
          }
        },
        "b0565eecdb9746aa84ddcd27151ed83a": {
          "model_module": "@jupyter-widgets/controls",
          "model_name": "ProgressStyleModel",
          "model_module_version": "1.5.0",
          "state": {
            "_model_module": "@jupyter-widgets/controls",
            "_model_module_version": "1.5.0",
            "_model_name": "ProgressStyleModel",
            "_view_count": null,
            "_view_module": "@jupyter-widgets/base",
            "_view_module_version": "1.2.0",
            "_view_name": "StyleView",
            "bar_color": null,
            "description_width": ""
          }
        },
        "a257af97810945d3a8a2b78f68332f87": {
          "model_module": "@jupyter-widgets/base",
          "model_name": "LayoutModel",
          "model_module_version": "1.2.0",
          "state": {
            "_model_module": "@jupyter-widgets/base",
            "_model_module_version": "1.2.0",
            "_model_name": "LayoutModel",
            "_view_count": null,
            "_view_module": "@jupyter-widgets/base",
            "_view_module_version": "1.2.0",
            "_view_name": "LayoutView",
            "align_content": null,
            "align_items": null,
            "align_self": null,
            "border": null,
            "bottom": null,
            "display": null,
            "flex": null,
            "flex_flow": null,
            "grid_area": null,
            "grid_auto_columns": null,
            "grid_auto_flow": null,
            "grid_auto_rows": null,
            "grid_column": null,
            "grid_gap": null,
            "grid_row": null,
            "grid_template_areas": null,
            "grid_template_columns": null,
            "grid_template_rows": null,
            "height": null,
            "justify_content": null,
            "justify_items": null,
            "left": null,
            "margin": null,
            "max_height": null,
            "max_width": null,
            "min_height": null,
            "min_width": null,
            "object_fit": null,
            "object_position": null,
            "order": null,
            "overflow": null,
            "overflow_x": null,
            "overflow_y": null,
            "padding": null,
            "right": null,
            "top": null,
            "visibility": null,
            "width": null
          }
        },
        "166b1cdcd42148cb88e05fa70640a45e": {
          "model_module": "@jupyter-widgets/controls",
          "model_name": "DescriptionStyleModel",
          "model_module_version": "1.5.0",
          "state": {
            "_model_module": "@jupyter-widgets/controls",
            "_model_module_version": "1.5.0",
            "_model_name": "DescriptionStyleModel",
            "_view_count": null,
            "_view_module": "@jupyter-widgets/base",
            "_view_module_version": "1.2.0",
            "_view_name": "StyleView",
            "description_width": ""
          }
        },
        "54683bab4f8f43e0b090eb1dafa96ba6": {
          "model_module": "@jupyter-widgets/controls",
          "model_name": "HBoxModel",
          "model_module_version": "1.5.0",
          "state": {
            "_dom_classes": [],
            "_model_module": "@jupyter-widgets/controls",
            "_model_module_version": "1.5.0",
            "_model_name": "HBoxModel",
            "_view_count": null,
            "_view_module": "@jupyter-widgets/controls",
            "_view_module_version": "1.5.0",
            "_view_name": "HBoxView",
            "box_style": "",
            "children": [
              "IPY_MODEL_1043f930e9684b2f9a2ac9d0cc210a6e",
              "IPY_MODEL_62a7cbc584a345b5aa81d53f67a29232",
              "IPY_MODEL_644f629fe3504698b63d154059424a01"
            ],
            "layout": "IPY_MODEL_4ed82a11d4144d938fc515e242c96b32"
          }
        },
        "1043f930e9684b2f9a2ac9d0cc210a6e": {
          "model_module": "@jupyter-widgets/controls",
          "model_name": "HTMLModel",
          "model_module_version": "1.5.0",
          "state": {
            "_dom_classes": [],
            "_model_module": "@jupyter-widgets/controls",
            "_model_module_version": "1.5.0",
            "_model_name": "HTMLModel",
            "_view_count": null,
            "_view_module": "@jupyter-widgets/controls",
            "_view_module_version": "1.5.0",
            "_view_name": "HTMLView",
            "description": "",
            "description_tooltip": null,
            "layout": "IPY_MODEL_b453372935914fe3828daeb8fe5c4bf6",
            "placeholder": "​",
            "style": "IPY_MODEL_a012093ba87b48c1848a003b931b75a3",
            "value": ""
          }
        },
        "62a7cbc584a345b5aa81d53f67a29232": {
          "model_module": "@jupyter-widgets/controls",
          "model_name": "FloatProgressModel",
          "model_module_version": "1.5.0",
          "state": {
            "_dom_classes": [],
            "_model_module": "@jupyter-widgets/controls",
            "_model_module_version": "1.5.0",
            "_model_name": "FloatProgressModel",
            "_view_count": null,
            "_view_module": "@jupyter-widgets/controls",
            "_view_module_version": "1.5.0",
            "_view_name": "ProgressView",
            "bar_style": "success",
            "description": "",
            "description_tooltip": null,
            "layout": "IPY_MODEL_1040e8fd933a4290b98534abfac134ef",
            "max": 28881,
            "min": 0,
            "orientation": "horizontal",
            "style": "IPY_MODEL_89f847236e2340d89464301ef7ad1e51",
            "value": 28881
          }
        },
        "644f629fe3504698b63d154059424a01": {
          "model_module": "@jupyter-widgets/controls",
          "model_name": "HTMLModel",
          "model_module_version": "1.5.0",
          "state": {
            "_dom_classes": [],
            "_model_module": "@jupyter-widgets/controls",
            "_model_module_version": "1.5.0",
            "_model_name": "HTMLModel",
            "_view_count": null,
            "_view_module": "@jupyter-widgets/controls",
            "_view_module_version": "1.5.0",
            "_view_name": "HTMLView",
            "description": "",
            "description_tooltip": null,
            "layout": "IPY_MODEL_0c2905fb5f544207a7c6f9c8c1d8464c",
            "placeholder": "​",
            "style": "IPY_MODEL_60fd08a1310340abad7cb312bf932d74",
            "value": " 29696/? [00:00&lt;00:00, 799905.28it/s]"
          }
        },
        "4ed82a11d4144d938fc515e242c96b32": {
          "model_module": "@jupyter-widgets/base",
          "model_name": "LayoutModel",
          "model_module_version": "1.2.0",
          "state": {
            "_model_module": "@jupyter-widgets/base",
            "_model_module_version": "1.2.0",
            "_model_name": "LayoutModel",
            "_view_count": null,
            "_view_module": "@jupyter-widgets/base",
            "_view_module_version": "1.2.0",
            "_view_name": "LayoutView",
            "align_content": null,
            "align_items": null,
            "align_self": null,
            "border": null,
            "bottom": null,
            "display": null,
            "flex": null,
            "flex_flow": null,
            "grid_area": null,
            "grid_auto_columns": null,
            "grid_auto_flow": null,
            "grid_auto_rows": null,
            "grid_column": null,
            "grid_gap": null,
            "grid_row": null,
            "grid_template_areas": null,
            "grid_template_columns": null,
            "grid_template_rows": null,
            "height": null,
            "justify_content": null,
            "justify_items": null,
            "left": null,
            "margin": null,
            "max_height": null,
            "max_width": null,
            "min_height": null,
            "min_width": null,
            "object_fit": null,
            "object_position": null,
            "order": null,
            "overflow": null,
            "overflow_x": null,
            "overflow_y": null,
            "padding": null,
            "right": null,
            "top": null,
            "visibility": null,
            "width": null
          }
        },
        "b453372935914fe3828daeb8fe5c4bf6": {
          "model_module": "@jupyter-widgets/base",
          "model_name": "LayoutModel",
          "model_module_version": "1.2.0",
          "state": {
            "_model_module": "@jupyter-widgets/base",
            "_model_module_version": "1.2.0",
            "_model_name": "LayoutModel",
            "_view_count": null,
            "_view_module": "@jupyter-widgets/base",
            "_view_module_version": "1.2.0",
            "_view_name": "LayoutView",
            "align_content": null,
            "align_items": null,
            "align_self": null,
            "border": null,
            "bottom": null,
            "display": null,
            "flex": null,
            "flex_flow": null,
            "grid_area": null,
            "grid_auto_columns": null,
            "grid_auto_flow": null,
            "grid_auto_rows": null,
            "grid_column": null,
            "grid_gap": null,
            "grid_row": null,
            "grid_template_areas": null,
            "grid_template_columns": null,
            "grid_template_rows": null,
            "height": null,
            "justify_content": null,
            "justify_items": null,
            "left": null,
            "margin": null,
            "max_height": null,
            "max_width": null,
            "min_height": null,
            "min_width": null,
            "object_fit": null,
            "object_position": null,
            "order": null,
            "overflow": null,
            "overflow_x": null,
            "overflow_y": null,
            "padding": null,
            "right": null,
            "top": null,
            "visibility": null,
            "width": null
          }
        },
        "a012093ba87b48c1848a003b931b75a3": {
          "model_module": "@jupyter-widgets/controls",
          "model_name": "DescriptionStyleModel",
          "model_module_version": "1.5.0",
          "state": {
            "_model_module": "@jupyter-widgets/controls",
            "_model_module_version": "1.5.0",
            "_model_name": "DescriptionStyleModel",
            "_view_count": null,
            "_view_module": "@jupyter-widgets/base",
            "_view_module_version": "1.2.0",
            "_view_name": "StyleView",
            "description_width": ""
          }
        },
        "1040e8fd933a4290b98534abfac134ef": {
          "model_module": "@jupyter-widgets/base",
          "model_name": "LayoutModel",
          "model_module_version": "1.2.0",
          "state": {
            "_model_module": "@jupyter-widgets/base",
            "_model_module_version": "1.2.0",
            "_model_name": "LayoutModel",
            "_view_count": null,
            "_view_module": "@jupyter-widgets/base",
            "_view_module_version": "1.2.0",
            "_view_name": "LayoutView",
            "align_content": null,
            "align_items": null,
            "align_self": null,
            "border": null,
            "bottom": null,
            "display": null,
            "flex": null,
            "flex_flow": null,
            "grid_area": null,
            "grid_auto_columns": null,
            "grid_auto_flow": null,
            "grid_auto_rows": null,
            "grid_column": null,
            "grid_gap": null,
            "grid_row": null,
            "grid_template_areas": null,
            "grid_template_columns": null,
            "grid_template_rows": null,
            "height": null,
            "justify_content": null,
            "justify_items": null,
            "left": null,
            "margin": null,
            "max_height": null,
            "max_width": null,
            "min_height": null,
            "min_width": null,
            "object_fit": null,
            "object_position": null,
            "order": null,
            "overflow": null,
            "overflow_x": null,
            "overflow_y": null,
            "padding": null,
            "right": null,
            "top": null,
            "visibility": null,
            "width": null
          }
        },
        "89f847236e2340d89464301ef7ad1e51": {
          "model_module": "@jupyter-widgets/controls",
          "model_name": "ProgressStyleModel",
          "model_module_version": "1.5.0",
          "state": {
            "_model_module": "@jupyter-widgets/controls",
            "_model_module_version": "1.5.0",
            "_model_name": "ProgressStyleModel",
            "_view_count": null,
            "_view_module": "@jupyter-widgets/base",
            "_view_module_version": "1.2.0",
            "_view_name": "StyleView",
            "bar_color": null,
            "description_width": ""
          }
        },
        "0c2905fb5f544207a7c6f9c8c1d8464c": {
          "model_module": "@jupyter-widgets/base",
          "model_name": "LayoutModel",
          "model_module_version": "1.2.0",
          "state": {
            "_model_module": "@jupyter-widgets/base",
            "_model_module_version": "1.2.0",
            "_model_name": "LayoutModel",
            "_view_count": null,
            "_view_module": "@jupyter-widgets/base",
            "_view_module_version": "1.2.0",
            "_view_name": "LayoutView",
            "align_content": null,
            "align_items": null,
            "align_self": null,
            "border": null,
            "bottom": null,
            "display": null,
            "flex": null,
            "flex_flow": null,
            "grid_area": null,
            "grid_auto_columns": null,
            "grid_auto_flow": null,
            "grid_auto_rows": null,
            "grid_column": null,
            "grid_gap": null,
            "grid_row": null,
            "grid_template_areas": null,
            "grid_template_columns": null,
            "grid_template_rows": null,
            "height": null,
            "justify_content": null,
            "justify_items": null,
            "left": null,
            "margin": null,
            "max_height": null,
            "max_width": null,
            "min_height": null,
            "min_width": null,
            "object_fit": null,
            "object_position": null,
            "order": null,
            "overflow": null,
            "overflow_x": null,
            "overflow_y": null,
            "padding": null,
            "right": null,
            "top": null,
            "visibility": null,
            "width": null
          }
        },
        "60fd08a1310340abad7cb312bf932d74": {
          "model_module": "@jupyter-widgets/controls",
          "model_name": "DescriptionStyleModel",
          "model_module_version": "1.5.0",
          "state": {
            "_model_module": "@jupyter-widgets/controls",
            "_model_module_version": "1.5.0",
            "_model_name": "DescriptionStyleModel",
            "_view_count": null,
            "_view_module": "@jupyter-widgets/base",
            "_view_module_version": "1.2.0",
            "_view_name": "StyleView",
            "description_width": ""
          }
        },
        "069ab984cdc149d3802c82e6bcc4b5fb": {
          "model_module": "@jupyter-widgets/controls",
          "model_name": "HBoxModel",
          "model_module_version": "1.5.0",
          "state": {
            "_dom_classes": [],
            "_model_module": "@jupyter-widgets/controls",
            "_model_module_version": "1.5.0",
            "_model_name": "HBoxModel",
            "_view_count": null,
            "_view_module": "@jupyter-widgets/controls",
            "_view_module_version": "1.5.0",
            "_view_name": "HBoxView",
            "box_style": "",
            "children": [
              "IPY_MODEL_bdb266103e1a4d3eb20cf5662b2c9b63",
              "IPY_MODEL_c29e290b718e471b8c79d70ae93dae20",
              "IPY_MODEL_79be50ebfb0c439e82391cd2dee702b7"
            ],
            "layout": "IPY_MODEL_ea7493daa3954bc783c2a415dedfaa41"
          }
        },
        "bdb266103e1a4d3eb20cf5662b2c9b63": {
          "model_module": "@jupyter-widgets/controls",
          "model_name": "HTMLModel",
          "model_module_version": "1.5.0",
          "state": {
            "_dom_classes": [],
            "_model_module": "@jupyter-widgets/controls",
            "_model_module_version": "1.5.0",
            "_model_name": "HTMLModel",
            "_view_count": null,
            "_view_module": "@jupyter-widgets/controls",
            "_view_module_version": "1.5.0",
            "_view_name": "HTMLView",
            "description": "",
            "description_tooltip": null,
            "layout": "IPY_MODEL_d4321d352a8e402a8bcb294bb130e444",
            "placeholder": "​",
            "style": "IPY_MODEL_81245f41895c426ab5825cc50464763d",
            "value": ""
          }
        },
        "c29e290b718e471b8c79d70ae93dae20": {
          "model_module": "@jupyter-widgets/controls",
          "model_name": "FloatProgressModel",
          "model_module_version": "1.5.0",
          "state": {
            "_dom_classes": [],
            "_model_module": "@jupyter-widgets/controls",
            "_model_module_version": "1.5.0",
            "_model_name": "FloatProgressModel",
            "_view_count": null,
            "_view_module": "@jupyter-widgets/controls",
            "_view_module_version": "1.5.0",
            "_view_name": "ProgressView",
            "bar_style": "success",
            "description": "",
            "description_tooltip": null,
            "layout": "IPY_MODEL_eb6a25c948f94412b7f6793b81bb4c50",
            "max": 1648877,
            "min": 0,
            "orientation": "horizontal",
            "style": "IPY_MODEL_0e38351de69c48ce82fff9997289b382",
            "value": 1648877
          }
        },
        "79be50ebfb0c439e82391cd2dee702b7": {
          "model_module": "@jupyter-widgets/controls",
          "model_name": "HTMLModel",
          "model_module_version": "1.5.0",
          "state": {
            "_dom_classes": [],
            "_model_module": "@jupyter-widgets/controls",
            "_model_module_version": "1.5.0",
            "_model_name": "HTMLModel",
            "_view_count": null,
            "_view_module": "@jupyter-widgets/controls",
            "_view_module_version": "1.5.0",
            "_view_name": "HTMLView",
            "description": "",
            "description_tooltip": null,
            "layout": "IPY_MODEL_0a6968a9468b49f9aa8958b719d62ced",
            "placeholder": "​",
            "style": "IPY_MODEL_6675f860ce0b4164a4f91d01859878c3",
            "value": " 1649664/? [00:00&lt;00:00, 9294043.64it/s]"
          }
        },
        "ea7493daa3954bc783c2a415dedfaa41": {
          "model_module": "@jupyter-widgets/base",
          "model_name": "LayoutModel",
          "model_module_version": "1.2.0",
          "state": {
            "_model_module": "@jupyter-widgets/base",
            "_model_module_version": "1.2.0",
            "_model_name": "LayoutModel",
            "_view_count": null,
            "_view_module": "@jupyter-widgets/base",
            "_view_module_version": "1.2.0",
            "_view_name": "LayoutView",
            "align_content": null,
            "align_items": null,
            "align_self": null,
            "border": null,
            "bottom": null,
            "display": null,
            "flex": null,
            "flex_flow": null,
            "grid_area": null,
            "grid_auto_columns": null,
            "grid_auto_flow": null,
            "grid_auto_rows": null,
            "grid_column": null,
            "grid_gap": null,
            "grid_row": null,
            "grid_template_areas": null,
            "grid_template_columns": null,
            "grid_template_rows": null,
            "height": null,
            "justify_content": null,
            "justify_items": null,
            "left": null,
            "margin": null,
            "max_height": null,
            "max_width": null,
            "min_height": null,
            "min_width": null,
            "object_fit": null,
            "object_position": null,
            "order": null,
            "overflow": null,
            "overflow_x": null,
            "overflow_y": null,
            "padding": null,
            "right": null,
            "top": null,
            "visibility": null,
            "width": null
          }
        },
        "d4321d352a8e402a8bcb294bb130e444": {
          "model_module": "@jupyter-widgets/base",
          "model_name": "LayoutModel",
          "model_module_version": "1.2.0",
          "state": {
            "_model_module": "@jupyter-widgets/base",
            "_model_module_version": "1.2.0",
            "_model_name": "LayoutModel",
            "_view_count": null,
            "_view_module": "@jupyter-widgets/base",
            "_view_module_version": "1.2.0",
            "_view_name": "LayoutView",
            "align_content": null,
            "align_items": null,
            "align_self": null,
            "border": null,
            "bottom": null,
            "display": null,
            "flex": null,
            "flex_flow": null,
            "grid_area": null,
            "grid_auto_columns": null,
            "grid_auto_flow": null,
            "grid_auto_rows": null,
            "grid_column": null,
            "grid_gap": null,
            "grid_row": null,
            "grid_template_areas": null,
            "grid_template_columns": null,
            "grid_template_rows": null,
            "height": null,
            "justify_content": null,
            "justify_items": null,
            "left": null,
            "margin": null,
            "max_height": null,
            "max_width": null,
            "min_height": null,
            "min_width": null,
            "object_fit": null,
            "object_position": null,
            "order": null,
            "overflow": null,
            "overflow_x": null,
            "overflow_y": null,
            "padding": null,
            "right": null,
            "top": null,
            "visibility": null,
            "width": null
          }
        },
        "81245f41895c426ab5825cc50464763d": {
          "model_module": "@jupyter-widgets/controls",
          "model_name": "DescriptionStyleModel",
          "model_module_version": "1.5.0",
          "state": {
            "_model_module": "@jupyter-widgets/controls",
            "_model_module_version": "1.5.0",
            "_model_name": "DescriptionStyleModel",
            "_view_count": null,
            "_view_module": "@jupyter-widgets/base",
            "_view_module_version": "1.2.0",
            "_view_name": "StyleView",
            "description_width": ""
          }
        },
        "eb6a25c948f94412b7f6793b81bb4c50": {
          "model_module": "@jupyter-widgets/base",
          "model_name": "LayoutModel",
          "model_module_version": "1.2.0",
          "state": {
            "_model_module": "@jupyter-widgets/base",
            "_model_module_version": "1.2.0",
            "_model_name": "LayoutModel",
            "_view_count": null,
            "_view_module": "@jupyter-widgets/base",
            "_view_module_version": "1.2.0",
            "_view_name": "LayoutView",
            "align_content": null,
            "align_items": null,
            "align_self": null,
            "border": null,
            "bottom": null,
            "display": null,
            "flex": null,
            "flex_flow": null,
            "grid_area": null,
            "grid_auto_columns": null,
            "grid_auto_flow": null,
            "grid_auto_rows": null,
            "grid_column": null,
            "grid_gap": null,
            "grid_row": null,
            "grid_template_areas": null,
            "grid_template_columns": null,
            "grid_template_rows": null,
            "height": null,
            "justify_content": null,
            "justify_items": null,
            "left": null,
            "margin": null,
            "max_height": null,
            "max_width": null,
            "min_height": null,
            "min_width": null,
            "object_fit": null,
            "object_position": null,
            "order": null,
            "overflow": null,
            "overflow_x": null,
            "overflow_y": null,
            "padding": null,
            "right": null,
            "top": null,
            "visibility": null,
            "width": null
          }
        },
        "0e38351de69c48ce82fff9997289b382": {
          "model_module": "@jupyter-widgets/controls",
          "model_name": "ProgressStyleModel",
          "model_module_version": "1.5.0",
          "state": {
            "_model_module": "@jupyter-widgets/controls",
            "_model_module_version": "1.5.0",
            "_model_name": "ProgressStyleModel",
            "_view_count": null,
            "_view_module": "@jupyter-widgets/base",
            "_view_module_version": "1.2.0",
            "_view_name": "StyleView",
            "bar_color": null,
            "description_width": ""
          }
        },
        "0a6968a9468b49f9aa8958b719d62ced": {
          "model_module": "@jupyter-widgets/base",
          "model_name": "LayoutModel",
          "model_module_version": "1.2.0",
          "state": {
            "_model_module": "@jupyter-widgets/base",
            "_model_module_version": "1.2.0",
            "_model_name": "LayoutModel",
            "_view_count": null,
            "_view_module": "@jupyter-widgets/base",
            "_view_module_version": "1.2.0",
            "_view_name": "LayoutView",
            "align_content": null,
            "align_items": null,
            "align_self": null,
            "border": null,
            "bottom": null,
            "display": null,
            "flex": null,
            "flex_flow": null,
            "grid_area": null,
            "grid_auto_columns": null,
            "grid_auto_flow": null,
            "grid_auto_rows": null,
            "grid_column": null,
            "grid_gap": null,
            "grid_row": null,
            "grid_template_areas": null,
            "grid_template_columns": null,
            "grid_template_rows": null,
            "height": null,
            "justify_content": null,
            "justify_items": null,
            "left": null,
            "margin": null,
            "max_height": null,
            "max_width": null,
            "min_height": null,
            "min_width": null,
            "object_fit": null,
            "object_position": null,
            "order": null,
            "overflow": null,
            "overflow_x": null,
            "overflow_y": null,
            "padding": null,
            "right": null,
            "top": null,
            "visibility": null,
            "width": null
          }
        },
        "6675f860ce0b4164a4f91d01859878c3": {
          "model_module": "@jupyter-widgets/controls",
          "model_name": "DescriptionStyleModel",
          "model_module_version": "1.5.0",
          "state": {
            "_model_module": "@jupyter-widgets/controls",
            "_model_module_version": "1.5.0",
            "_model_name": "DescriptionStyleModel",
            "_view_count": null,
            "_view_module": "@jupyter-widgets/base",
            "_view_module_version": "1.2.0",
            "_view_name": "StyleView",
            "description_width": ""
          }
        },
        "7e9a49b40d084d3aba8357cbf1a54df2": {
          "model_module": "@jupyter-widgets/controls",
          "model_name": "HBoxModel",
          "model_module_version": "1.5.0",
          "state": {
            "_dom_classes": [],
            "_model_module": "@jupyter-widgets/controls",
            "_model_module_version": "1.5.0",
            "_model_name": "HBoxModel",
            "_view_count": null,
            "_view_module": "@jupyter-widgets/controls",
            "_view_module_version": "1.5.0",
            "_view_name": "HBoxView",
            "box_style": "",
            "children": [
              "IPY_MODEL_7d8afc3dce6a4eeab119e2897989d1e2",
              "IPY_MODEL_cfb97b1f93fd4903a03044d389ba7376",
              "IPY_MODEL_a1983fbd19674763a33a3ee68bf59e1b"
            ],
            "layout": "IPY_MODEL_d497701378d943b69af4a4759f96f5ac"
          }
        },
        "7d8afc3dce6a4eeab119e2897989d1e2": {
          "model_module": "@jupyter-widgets/controls",
          "model_name": "HTMLModel",
          "model_module_version": "1.5.0",
          "state": {
            "_dom_classes": [],
            "_model_module": "@jupyter-widgets/controls",
            "_model_module_version": "1.5.0",
            "_model_name": "HTMLModel",
            "_view_count": null,
            "_view_module": "@jupyter-widgets/controls",
            "_view_module_version": "1.5.0",
            "_view_name": "HTMLView",
            "description": "",
            "description_tooltip": null,
            "layout": "IPY_MODEL_e5d87f6e030a41aebde673234f0b9ff8",
            "placeholder": "​",
            "style": "IPY_MODEL_ecebd613a98942de84845d4c75644f3e",
            "value": ""
          }
        },
        "cfb97b1f93fd4903a03044d389ba7376": {
          "model_module": "@jupyter-widgets/controls",
          "model_name": "FloatProgressModel",
          "model_module_version": "1.5.0",
          "state": {
            "_dom_classes": [],
            "_model_module": "@jupyter-widgets/controls",
            "_model_module_version": "1.5.0",
            "_model_name": "FloatProgressModel",
            "_view_count": null,
            "_view_module": "@jupyter-widgets/controls",
            "_view_module_version": "1.5.0",
            "_view_name": "ProgressView",
            "bar_style": "success",
            "description": "",
            "description_tooltip": null,
            "layout": "IPY_MODEL_ee2b43b852d947eb91e9a44411288796",
            "max": 4542,
            "min": 0,
            "orientation": "horizontal",
            "style": "IPY_MODEL_f3c61d6932964c2b8c637a48cd457500",
            "value": 4542
          }
        },
        "a1983fbd19674763a33a3ee68bf59e1b": {
          "model_module": "@jupyter-widgets/controls",
          "model_name": "HTMLModel",
          "model_module_version": "1.5.0",
          "state": {
            "_dom_classes": [],
            "_model_module": "@jupyter-widgets/controls",
            "_model_module_version": "1.5.0",
            "_model_name": "HTMLModel",
            "_view_count": null,
            "_view_module": "@jupyter-widgets/controls",
            "_view_module_version": "1.5.0",
            "_view_name": "HTMLView",
            "description": "",
            "description_tooltip": null,
            "layout": "IPY_MODEL_98eed1ae17be4b5abe3a131e653944b4",
            "placeholder": "​",
            "style": "IPY_MODEL_1e1b10e8576443ceb35b4f4e46090d84",
            "value": " 5120/? [00:00&lt;00:00, 134091.18it/s]"
          }
        },
        "d497701378d943b69af4a4759f96f5ac": {
          "model_module": "@jupyter-widgets/base",
          "model_name": "LayoutModel",
          "model_module_version": "1.2.0",
          "state": {
            "_model_module": "@jupyter-widgets/base",
            "_model_module_version": "1.2.0",
            "_model_name": "LayoutModel",
            "_view_count": null,
            "_view_module": "@jupyter-widgets/base",
            "_view_module_version": "1.2.0",
            "_view_name": "LayoutView",
            "align_content": null,
            "align_items": null,
            "align_self": null,
            "border": null,
            "bottom": null,
            "display": null,
            "flex": null,
            "flex_flow": null,
            "grid_area": null,
            "grid_auto_columns": null,
            "grid_auto_flow": null,
            "grid_auto_rows": null,
            "grid_column": null,
            "grid_gap": null,
            "grid_row": null,
            "grid_template_areas": null,
            "grid_template_columns": null,
            "grid_template_rows": null,
            "height": null,
            "justify_content": null,
            "justify_items": null,
            "left": null,
            "margin": null,
            "max_height": null,
            "max_width": null,
            "min_height": null,
            "min_width": null,
            "object_fit": null,
            "object_position": null,
            "order": null,
            "overflow": null,
            "overflow_x": null,
            "overflow_y": null,
            "padding": null,
            "right": null,
            "top": null,
            "visibility": null,
            "width": null
          }
        },
        "e5d87f6e030a41aebde673234f0b9ff8": {
          "model_module": "@jupyter-widgets/base",
          "model_name": "LayoutModel",
          "model_module_version": "1.2.0",
          "state": {
            "_model_module": "@jupyter-widgets/base",
            "_model_module_version": "1.2.0",
            "_model_name": "LayoutModel",
            "_view_count": null,
            "_view_module": "@jupyter-widgets/base",
            "_view_module_version": "1.2.0",
            "_view_name": "LayoutView",
            "align_content": null,
            "align_items": null,
            "align_self": null,
            "border": null,
            "bottom": null,
            "display": null,
            "flex": null,
            "flex_flow": null,
            "grid_area": null,
            "grid_auto_columns": null,
            "grid_auto_flow": null,
            "grid_auto_rows": null,
            "grid_column": null,
            "grid_gap": null,
            "grid_row": null,
            "grid_template_areas": null,
            "grid_template_columns": null,
            "grid_template_rows": null,
            "height": null,
            "justify_content": null,
            "justify_items": null,
            "left": null,
            "margin": null,
            "max_height": null,
            "max_width": null,
            "min_height": null,
            "min_width": null,
            "object_fit": null,
            "object_position": null,
            "order": null,
            "overflow": null,
            "overflow_x": null,
            "overflow_y": null,
            "padding": null,
            "right": null,
            "top": null,
            "visibility": null,
            "width": null
          }
        },
        "ecebd613a98942de84845d4c75644f3e": {
          "model_module": "@jupyter-widgets/controls",
          "model_name": "DescriptionStyleModel",
          "model_module_version": "1.5.0",
          "state": {
            "_model_module": "@jupyter-widgets/controls",
            "_model_module_version": "1.5.0",
            "_model_name": "DescriptionStyleModel",
            "_view_count": null,
            "_view_module": "@jupyter-widgets/base",
            "_view_module_version": "1.2.0",
            "_view_name": "StyleView",
            "description_width": ""
          }
        },
        "ee2b43b852d947eb91e9a44411288796": {
          "model_module": "@jupyter-widgets/base",
          "model_name": "LayoutModel",
          "model_module_version": "1.2.0",
          "state": {
            "_model_module": "@jupyter-widgets/base",
            "_model_module_version": "1.2.0",
            "_model_name": "LayoutModel",
            "_view_count": null,
            "_view_module": "@jupyter-widgets/base",
            "_view_module_version": "1.2.0",
            "_view_name": "LayoutView",
            "align_content": null,
            "align_items": null,
            "align_self": null,
            "border": null,
            "bottom": null,
            "display": null,
            "flex": null,
            "flex_flow": null,
            "grid_area": null,
            "grid_auto_columns": null,
            "grid_auto_flow": null,
            "grid_auto_rows": null,
            "grid_column": null,
            "grid_gap": null,
            "grid_row": null,
            "grid_template_areas": null,
            "grid_template_columns": null,
            "grid_template_rows": null,
            "height": null,
            "justify_content": null,
            "justify_items": null,
            "left": null,
            "margin": null,
            "max_height": null,
            "max_width": null,
            "min_height": null,
            "min_width": null,
            "object_fit": null,
            "object_position": null,
            "order": null,
            "overflow": null,
            "overflow_x": null,
            "overflow_y": null,
            "padding": null,
            "right": null,
            "top": null,
            "visibility": null,
            "width": null
          }
        },
        "f3c61d6932964c2b8c637a48cd457500": {
          "model_module": "@jupyter-widgets/controls",
          "model_name": "ProgressStyleModel",
          "model_module_version": "1.5.0",
          "state": {
            "_model_module": "@jupyter-widgets/controls",
            "_model_module_version": "1.5.0",
            "_model_name": "ProgressStyleModel",
            "_view_count": null,
            "_view_module": "@jupyter-widgets/base",
            "_view_module_version": "1.2.0",
            "_view_name": "StyleView",
            "bar_color": null,
            "description_width": ""
          }
        },
        "98eed1ae17be4b5abe3a131e653944b4": {
          "model_module": "@jupyter-widgets/base",
          "model_name": "LayoutModel",
          "model_module_version": "1.2.0",
          "state": {
            "_model_module": "@jupyter-widgets/base",
            "_model_module_version": "1.2.0",
            "_model_name": "LayoutModel",
            "_view_count": null,
            "_view_module": "@jupyter-widgets/base",
            "_view_module_version": "1.2.0",
            "_view_name": "LayoutView",
            "align_content": null,
            "align_items": null,
            "align_self": null,
            "border": null,
            "bottom": null,
            "display": null,
            "flex": null,
            "flex_flow": null,
            "grid_area": null,
            "grid_auto_columns": null,
            "grid_auto_flow": null,
            "grid_auto_rows": null,
            "grid_column": null,
            "grid_gap": null,
            "grid_row": null,
            "grid_template_areas": null,
            "grid_template_columns": null,
            "grid_template_rows": null,
            "height": null,
            "justify_content": null,
            "justify_items": null,
            "left": null,
            "margin": null,
            "max_height": null,
            "max_width": null,
            "min_height": null,
            "min_width": null,
            "object_fit": null,
            "object_position": null,
            "order": null,
            "overflow": null,
            "overflow_x": null,
            "overflow_y": null,
            "padding": null,
            "right": null,
            "top": null,
            "visibility": null,
            "width": null
          }
        },
        "1e1b10e8576443ceb35b4f4e46090d84": {
          "model_module": "@jupyter-widgets/controls",
          "model_name": "DescriptionStyleModel",
          "model_module_version": "1.5.0",
          "state": {
            "_model_module": "@jupyter-widgets/controls",
            "_model_module_version": "1.5.0",
            "_model_name": "DescriptionStyleModel",
            "_view_count": null,
            "_view_module": "@jupyter-widgets/base",
            "_view_module_version": "1.2.0",
            "_view_name": "StyleView",
            "description_width": ""
          }
        }
      }
    }
  },
  "cells": [
    {
      "cell_type": "markdown",
      "source": [
        "#**Foundation of Neural Network**\n",
        "\n",
        "\n"
      ],
      "metadata": {
        "id": "gnLRPC-O2gic"
      }
    },
    {
      "cell_type": "markdown",
      "source": [
        "### Perceptron\n",
        "![perceptron.PNG](data:image/png;base64,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)"
      ],
      "metadata": {
        "id": "OsIyPEpO4Btl"
      }
    },
    {
      "cell_type": "markdown",
      "source": [
        "##### Define model"
      ],
      "metadata": {
        "id": "crGv3osDbeCw"
      }
    },
    {
      "cell_type": "code",
      "source": [
        "import numpy as np\n",
        "import matplotlib.pyplot as plt\n",
        "\n",
        "##define Perceptron\n",
        "class Perceptron():\n",
        "    \n",
        "    #TODO (fit)\n",
        "    "
      ],
      "metadata": {
        "id": "XsRW1pRJw4zF"
      },
      "execution_count": null,
      "outputs": []
    },
    {
      "cell_type": "markdown",
      "source": [
        "##### Solve AND operation problem using Perceptron"
      ],
      "metadata": {
        "id": "-R-JQpj0b284"
      }
    },
    {
      "cell_type": "code",
      "source": [
        ""
      ],
      "metadata": {
        "colab": {
          "base_uri": "https://localhost:8080/"
        },
        "id": "PUi6jkh70dTW",
        "outputId": "c771fc28-7712-4845-fc0f-4394a70edf70"
      },
      "execution_count": null,
      "outputs": [
        {
          "output_type": "stream",
          "name": "stdout",
          "text": [
            "[0.01 0.01 0.01]\n",
            "[0.   0.02 0.01]\n",
            "[-0.01  0.02  0.01]\n",
            "[-0.01  0.02  0.02]\n",
            "[-0.02  0.02  0.01]\n",
            "[-0.02  0.02  0.01]\n",
            "[-0.02  0.02  0.01]\n",
            "[-0.02  0.02  0.01]\n",
            "[-0.02  0.02  0.01]\n",
            "[-0.02  0.02  0.01]\n",
            "[-0.02  0.02  0.01]\n",
            "[-0.02 -0.01  0.    0.01]\n",
            "[0 0 0 1]\n"
          ]
        }
      ]
    },
    {
      "cell_type": "code",
      "source": [
        ""
      ],
      "metadata": {
        "colab": {
          "base_uri": "https://localhost:8080/",
          "height": 338
        },
        "id": "J9fZderkPmzK",
        "outputId": "42909bd0-c8e5-455b-899b-28ed0a396532"
      },
      "execution_count": null,
      "outputs": [
        {
          "output_type": "execute_result",
          "data": {
            "text/plain": [
              "(-0.15, 1.15)"
            ]
          },
          "metadata": {},
          "execution_count": 3
        },
        {
          "output_type": "display_data",
          "data": {
            "text/plain": [
              "<Figure size 360x360 with 1 Axes>"
            ],
            "image/png": "[encoded data removed]"
          },
          "metadata": {
            "needs_background": "light"
          }
        }
      ]
    },
    {
      "cell_type": "markdown",
      "source": [
        "##### Solve OR operation problem using Perceptron"
      ],
      "metadata": {
        "id": "GlTbBj1Eb9TK"
      }
    },
    {
      "cell_type": "code",
      "execution_count": null,
      "metadata": {
        "colab": {
          "base_uri": "https://localhost:8080/"
        },
        "id": "tRmNY1yG0YaB",
        "outputId": "a63db0fe-66c0-408f-d5ee-b7e416052150"
      },
      "outputs": [
        {
          "output_type": "stream",
          "name": "stdout",
          "text": [
            "[0.01 0.   0.01]\n",
            "[0.01 0.01 0.01]\n",
            "[0.   0.01 0.01]\n",
            "[0.   0.01 0.01]\n",
            "[0.   0.01 0.01]\n",
            "[0.   0.01 0.01]\n",
            "[0.   0.01 0.01]\n",
            "[0.   0.01 0.01]\n",
            "[0.   0.01 0.01]\n",
            "[0.   0.01 0.01]\n",
            "[0 1 1 1]\n"
          ]
        }
      ],
      "source": [
        ""
      ]
    },
    {
      "cell_type": "code",
      "source": [
        ""
      ],
      "metadata": {
        "colab": {
          "base_uri": "https://localhost:8080/",
          "height": 338
        },
        "id": "VgrMhCQyu76i",
        "outputId": "30efc5df-f793-4ad0-db36-2a3456935175"
      },
      "execution_count": null,
      "outputs": [
        {
          "output_type": "execute_result",
          "data": {
            "text/plain": [
              "(-0.15, 1.15)"
            ]
          },
          "metadata": {},
          "execution_count": 5
        },
        {
          "output_type": "display_data",
          "data": {
            "text/plain": [
              "<Figure size 360x360 with 1 Axes>"
            ],
            "image/png": "[encoded data removed]"
          },
          "metadata": {
            "needs_background": "light"
          }
        }
      ]
    },
    {
      "cell_type": "markdown",
      "source": [
        "##### Solve XOR operation problem using Perceptron"
      ],
      "metadata": {
        "id": "53jXxyF0b_xM"
      }
    },
    {
      "cell_type": "code",
      "source": [
        ""
      ],
      "metadata": {
        "colab": {
          "base_uri": "https://localhost:8080/"
        },
        "id": "0tVcyXiOTbb2",
        "outputId": "6e540fbd-74d1-4a83-939e-b132faf87539"
      },
      "execution_count": null,
      "outputs": [
        {
          "output_type": "stream",
          "name": "stdout",
          "text": [
            "[ 0.   -0.01  0.  ]\n",
            "[ 0.01 -0.01  0.  ]\n",
            "[ 0.01 -0.01  0.  ]\n",
            "[ 0.01 -0.01  0.  ]\n",
            "[ 0.01 -0.01  0.  ]\n",
            "[ 0.01 -0.01  0.  ]\n",
            "[ 0.01 -0.01  0.  ]\n",
            "[ 0.01 -0.01  0.  ]\n",
            "[ 0.01 -0.01  0.  ]\n",
            "[ 0.01 -0.01  0.  ]\n",
            "[1 1 0 0]\n"
          ]
        }
      ]
    },
    {
      "cell_type": "code",
      "source": [
        ""
      ],
      "metadata": {
        "colab": {
          "base_uri": "https://localhost:8080/",
          "height": 412
        },
        "id": "LHBqxpGxVELA",
        "outputId": "b8218630-6be2-4faa-ae0f-eab4aed78787"
      },
      "execution_count": null,
      "outputs": [
        {
          "output_type": "stream",
          "name": "stderr",
          "text": [
            "/usr/local/lib/python3.7/dist-packages/ipykernel_launcher.py:9: RuntimeWarning: divide by zero encountered in double_scalars\n",
            "  if __name__ == '__main__':\n",
            "/usr/local/lib/python3.7/dist-packages/ipykernel_launcher.py:9: RuntimeWarning: invalid value encountered in subtract\n",
            "  if __name__ == '__main__':\n"
          ]
        },
        {
          "output_type": "execute_result",
          "data": {
            "text/plain": [
              "(-0.15, 1.15)"
            ]
          },
          "metadata": {},
          "execution_count": 7
        },
        {
          "output_type": "display_data",
          "data": {
            "text/plain": [
              "<Figure size 360x360 with 1 Axes>"
            ],
            "image/png": "[encoded data removed]"
          },
          "metadata": {
            "needs_background": "light"
          }
        }
      ]
    },
    {
      "cell_type": "markdown",
      "source": [
        "### Multilayer Perceptron(MLP)"
      ],
      "metadata": {
        "id": "Z1K8CokUcN8w"
      }
    },
    {
      "cell_type": "markdown",
      "source": [
        "##### Sigmoid function"
      ],
      "metadata": {
        "id": "Fk_IzAdr0Pqp"
      }
    },
    {
      "cell_type": "code",
      "source": [
        ""
      ],
      "metadata": {
        "colab": {
          "base_uri": "https://localhost:8080/",
          "height": 283
        },
        "id": "90WnA58fzpGS",
        "outputId": "04077755-ece9-40e6-ae8f-4776cc90224d"
      },
      "execution_count": null,
      "outputs": [
        {
          "output_type": "execute_result",
          "data": {
            "text/plain": [
              "[<matplotlib.lines.Line2D at 0x7fd1a4ac4f50>]"
            ]
          },
          "metadata": {},
          "execution_count": 8
        },
        {
          "output_type": "display_data",
          "data": {
            "text/plain": [
              "<Figure size 432x288 with 1 Axes>"
            ],
            "image/png": "[encoded data removed]"
          },
          "metadata": {
            "needs_background": "light"
          }
        }
      ]
    },
    {
      "cell_type": "markdown",
      "source": [
        "##### Define MLP for Classification problem\n",
        "\n",
        "![MLP.PNG](data:image/png;base64,iVBORw0KGgoAAAANSUhEUgAAAqMAAAFzCAYAAAAKSQDaAAAAAXNSR0IArs4c6QAAAARnQU1BAACxjwv8YQUAAAAJcEhZcwAADsMAAA7DAcdvqGQAAOvPSURBVHhe7J0FfFTX1sX73vueta9e3CEQEgJJCMESIB4guDsEd5fgFHd3dyhOi7sFd4eWQnFaWqC0OKzvrsMdGsKE2Pjs/3vnl3JnCHPv3HPPPlvW/gCCIAiCIAiCYCXEGBUEQRAEQRCshhijgiAIgiAIgtUQY1QQBEEQBEGwGmKMCoIgCIIgCFZDjFFBEARBEATBaogxKgiCIAiCIFgNMUYFQRAEQRAEqyHGqCAIgiAIgmA1xBgVBEEQBEEQrIYYo4Ig2DV//PEQVy7/iIsXz+PsmdM4feoEzp09jYsXzuGnny7j4cOH+jsFQbAGnKNXf7qi5iTnZsw5yrn78Pff9XcKzooYo4Ig2A33793Dj5d+wKGDB7Fp0wZ8s3ghRo8ejc5de6JN+65o1qojGjVvj+atO6F1+yhEde+NUaNGYck3C7X3b8ShQwdxSfv7Dx/K4icI5oCGpZqj2lzbrM25Jd8sUnO0a/c+2pzkHO2k5mgzfY5y7o4cOQqLFs7Hpo3rceDAAfzw/ff47bdf9d8oOANijAqCYNM8f/4ct27exLFjRzFp8hS0aN0R/sFl8UU6N/z9f+nwaTpvpPcsj0z5aiFT/nrIVLABMheoh8y+tZA+Tzl8mj4v/vbf1PgqvQeKhpRTf3/mzJk4fPgQ7ty5jWfPnur/kiAISeHZs2dqLh0+fBgzZsxAS22OFQkpixQZPPD3D9Pik7TaHM1TFpm0OZmJc1Ofo5l8ayKDVwV8miEf/u9/GfBZalcUCiiFJs3bYdz4CWrTeeP6dTx9+kT/lwRHRYxRQRBsjlevXqkF7tdff8WOHTtRN7IR/vvxl/gqkzcy5qsB95Jfo2C9hQhutxthnQ8jtNOBv0bH/dp4/d9hnQ5qrx9EcPvdKFR3AdxK9EaWAnXwvxTZkSJNFvV7t23bpkL5T5+KUSoIiYFz5vfff9fm6A5ENmiCL1Nnxsfa3OJG0K14bxSsOx/BbXdpc/CQNheNz1E1T7U5HNJ+DwrX/wYeEf20TWVdpMxSAP/68AtUrlYL69ZvwM8//6z+PT4bBMdDjFFBEGyO27dvYczYcfDy8sFHn6SAS8Fa2sI2V1vYdmiL1m6EaEYoF69ED/49bdA49a05A1nzV8MXqTIhp5s7xowZiwcPHuifQBCE93H//n01R3N55ManX2WAS4FqyF9j+ps5luw52m4XCkcugmuRRvjf5+ng6uqGr/v2x+XLl/VPIDgSYowKgmBTzJkzB4UL5Ufa7PmRO6I3/BouR0DLTWpxCukQ/Xq05zCykMU79L+r/Y7gtjsR2GozCtdfgjzav+OSJwg5c7pi/fp1+icRBMEYa9eshUcuN2T1CNDmTi8Uqv+NmkucU3/NTxPMUc0o5e/1b7QKXmUHI2OuIG2D6omRI0frn0RwFMQYFQTBJrh+/Rrq1K6JXJ6F4B7UGvlrz9OM0M0I7bgPoR326YuUscUriUNb7Pi7Qzrs1Ra8LShQZx5cirVGTvfcaNmyuXhgBCEWzN9s1qwZPPJ4IXsA5+gcNXc4h17PJRPPUW3Oc+4zrB/YehsK1lsEj/CuyOlVFGVKl8SZM6f1TybYO2KMCoJgVZgDNm/ePJQqGY5MnqWQK6IfijVfr3I91QJndJEy7VAGr7bg8d/NWbwPcuSLQFjxkli6ZJEqoBIEZ4a5mqtWLkfxEiWR3acU3Ev0UXPlde6nheaoZvAyB5zGr2e54cjgXRHBQUEYO3aMko4S7BsxRgUnIZ6kd8mJtwp//PEHJk+egnyFApDWszJ8a8xUXhYWOxhbkMw9uLCy2CJftSlI4VER+QqHYNrUiVLcJDgtjx8/xuxZ01HAPwRfuZfX5sZkhGpGoaWM0NhDGcDa84GpAel8aiOXdxH06z8At2/f1j+xYI+IMSo4Lg8u4vCu/Tjy/W0Y2zc//D4ae09cxrV7z/QjBl4CL27h5JZNOPTDb7gndohZ+OPhQ0yfPh2uHvmV1EtQ253K82H6UF/iR3iXowhotRmpvesij09RzJw+RQxSwel48uQJZs+cDp9CgUiRpzoCW23V5sYRo3PGsiP6dXW+ZphmD2yPDDnyKYP055/v6J9csDfEGBUclx8noGlACCpFLUL0I/3YGx5ge8eC8C3TE+N3XNeP6bx6gpeXJqJqVnfUmXoMp0Qf3eTQ2zJ12jTkzF0AmQvU1RaWQzZhhMYcXOyC2uxAhoLNkN3NS4lyc3EWLMTLp3h27yrOnrmCX5++5BbxLV4++QP3rl/EhZt/4uU7kY1neHTvBi6fu4jrEsFNEtx8LZg/D7m9CyCNTz1VQBjWab/RuWK9EY3wqGNwDeqAjDl80bvP16rKX7A/xBgVHJdXOzEkIgfyhXXB8H0v9INE+++nG9GlQFp88s98aDBjNy7pr5BXT+7jxuQwpPg0EB03fI8b+nHBdEycNEkzRPMr4WuDxqAtDnpeglpvg0tAB6RJlwkrV64QD6mleHwDN9e0Rf7slTD6xD3cj2WNPriwGbMaFES+dptw+1msF19dxP7ZbVDWpzR6H5YsnMTy4sULLFu2DNmy50Smws0R1HaH1cLyCRk0SN1Cu2gGqQ+iunZXGsWCfSHGqODQHBpUAkULl0at8cf+WpBePsWr/Z1RLLgRyrhnR71B87E6hsX59PfvMb/i5/gscDA2XPxNPyqYiunTZ8Arnx+y+TVWxp6xxcWWBqt5WTThXrwnvvwqBfbu3StFTRbhN/x6chhKffYpgkecw6W3HF6/4uL2/ij76T/x3+zNsfy3Z3jLZ31ppTJUU+ZshDnSVTJR0BDdvXs30mfIiBzBnRHYequuZmF8ftjKYK63R8neyOaeH926ddfPRrAXxBgVHJu9fdGoSFH41Z+BQ/qhV8/+wLmBBeHTciXmdCiJyPYDMXDTPf3Vh3j40yzUTv0xivY/hvO/ik/FlFy6dAmhwQHI6FtH5YiyQtbYwmJrg5+T1cM5irVErtzeuHFD/OWW4PGvxzGlxCf4svRk7L4SI1/m90PYM6MJcmSLQPXC3mi9/Q9o9ugbrq0bgBYBOZEjchl+1o8JCeO3336Da043uAa2QdFma23aI/rWUGk+e5EzpCu8vLywRzOoBftBjFHBsXmxC5PrF0OxwOYYqSTpXuH5o3OYHJ4Flaf/gIs7hqBN3TZoOXov/uTLj27g5jd1kel/Aehz4FfcjZ2oJiSLqpUrIrN3OaUhqoqVjC0qNjm40EWjSJNvkTKzN3r36Ye7d+/qZyWYi1eP7+Ly2GCkSF0Vww/cgCFO8fTUUsyNKgev+nOxtk0e5O93FFfvG1JxfsKW4dUQlqsoai0ybDKFhMDWnp2juiNt9oLwa7hM3yzaVi73+wbzvP0br0Z2vwbwK5RfUmrsCDFGBQfnKQ6Pq4uKAWGoMPkn7c9P8PjqLFTNHIpBB+/ij5fRGBdZB43aTsc+vv3OCaxplh0f+w1F9N3HzC4VTMTMmbOQ3SM/cpcZouSbbK1gKd6hf16fymOQLlN2rFv7nX5mgtl49RjPL45ExFeZUGXSMZzWnaM/fDcMPSpFoMGyq/hlSXXkCB2HvTcfvk7FubMSY+sFw8u/LeaKWzTBMDy/dctmpM2QBfmqjFcFS/YSufhrvG5k4VtzJtJlL6AKml6+FI+CPSDGqODwPNk/Ct0rBcG79kJcxgP8sjoSOXz7YPM1ltk+xvY+NdCkYTeM/+EV/ri4CJ3ypIBv/1P45bE8xEwBRe1/+ukn+ObLh1yh7RHQYqPyYBhfTOxhRCNlrnIoWaYSjhw2JH8I5kGbg8/PYmLoV3CvOwfrLnJ7+CO2jG2PGsEtMO/XV3j+w3hEuFTGxGN3wLTSPzZ0R5PwABRusQI31e8QEsLp06cQXrIM0nlVVik0drdZ1AeN0aA22+FVbhCyZMuBAwcOSI63HSDGqOD4/LkHi6Mqwb9wM0w6fQ3RHXIjZ6ut+EFPMru7oj3aNWmOptN248qmTiic0g+9jz7Hoxhu0ceXo7FtxQLM3nIVL/AMz65uxfSRC7Hn2gP8ob9HMM6jR4/Qf8AgpMlWEIUil9pZeP7dQW+RX8MV+DClB0aMGI6XL8V/bl6e44fRxZAtbzOM3HEbeLAOM6PqI7j6bG1zCbx4dARDC+VE5IKL+AmPsG9gOZQKroTG3xhE0F9pNu1N7J09Bgt2XsJVyrzdPIZTB3ZhxxXJCSdPHj/G5MmT8a/PsqJIk9VG73t7GiyMZCvhtO5hqN+gCX7+WVzkto4Yo4IT8BAnFkahSbECCB+4AgOKZEXNJb/g58f6y5dmYUiHVihVvg0W9o9A2vwDsV/bSMc0Me7tGIU+9SugeO89eKIteH/u642gHJUx/OBNiMzy+7l+/TqyuuSEV7lhymNhf6G/dwelZDLmq40qNSJxYL9K8BDMyfkhKJXND41mHcLe9SMxsGl1lBp5Vr308tlDHOjshoLtN+HYhe8wrnYQilfsg/lv5IO1mfz8CEYVd0fF/tuw/zfg2bYBGNmpIRosF48ZOXhgP8pXqYMsherbtNRawke0SjMoUHsOPvkyPQ4dOqifqWCriDEqOAV/HF2ESQ1d8XHeEgjMXBGTrjzFH2+cIsexcnA7hKfKgsBSPvDtcxzvpL3/cganD+7E+hMPtD+8wMs/zmL9N7tx6f4jiKJd3FAk/ttvv8VHn6dBsWbr7KcyN56h8tJqzUF69yAMGzpEP1vBfJzG+OI5UKbTFLRr1gSd6tVHr2j9pRdP8XRdfeQJG4TFI+uhZkRVVOr5nfKa/sVj/LBpKXZf+EUVQf2xdSjGdW+J5qtizN5Xj3H/3kM8fvbC6XRJp0yeiM8zeKNQ5GK7Dc+/M/Tz+CytB0aNHoNffxWNL1tGjFHBOXh4DHtGRSDFBx/ik5BxOPn4eYyOLi9xZklXVEv7Af6TtTR6HdUPx+TqVuxYMRsj1v2i/eEZXjzcgZFd5+Hord/fNVyFN1y5fBkVKteEi39DJR7vCF5Rw2DL0C9dI1A/sh5++00WOnPz/ciSCK0UhCyZgtGg4QisfSMs+hy4Nw8N8lZAlUIpkbNKR/RaFVt66zEOjO2Jefsv45r2p0fbhmK8Zoy2WK0bo6+e4fnlFRg0YCF2nrvjVHP6xo3raN26Db7MHozwqKNG73X7HDRGdyNnaDf4+odj/z6JYNgyYowKTsJD/LhzNJp5uyBw9EX8+fxt38eTY7MwspY/spcch2P6sbc4MQMz+7ZGudE/aH94jGc/T0Mln/ZYefEXo33vhdfs2b0L//roSyUTE9Jud6zFwr4Hw5nuJfqhUHBlzJ49Uz9jwWycH4XGmrH5wb8Ko9KALfjL/Odcvoo5VbMh/d/+jtzNZ2N1rA6/wH0srl4A7RYdxUnN/ny63WCMckuqbUxvrELH4EC0mHUQ5+45l190zpzZyFukHNxL9rf7fG5jg6L9//w4HebIHLVpxBgVnIRXeP74AX69fhW3fjcShnv6EA9+vomrt383HnY/Pg3T+7RAqZHfa3/QjNE7U1Desy1WXBBjNC5u376FgYOGIEW2Igh2MEOUg15eVSSRpyJq1aiin7VgPs5jdh0v5A9ohG7rYnuiX+GniWHIla04GkzZi3dsUdzDoio+aL3gyBtjdFyPtmi75g/g5lp8XaEs2s07hHN3nzpdiL51i6b4wiUYQW12OE6IPsYI7XQA6TwroVHT1jhz+pR+1oKtIcaoICSEE9M1Y7QlSo8yGKNTUcFLjNH3cezoUZSrXBcuxVo75CLHwbBmpkJNUSoiQkL1ZucZ7n5/DKfOXMJPD941GV/8fAZHjpzHpTsPjegD38eiqvnQZqHBGB2BqX0aomq/ORhexRcF23yHC7Gb3zsB169fQ81adZDep7YqyjN2j9v7YGW9R+lB2iamPL779lv9zAVbQ4xRQUgIYowmms2bNsIldxHkrTrJ6CLhCIPGqFvx3ggpWRHRe6T9oFmJZX++14P5zotvG6MvosdiaA1vZPUri4rVSiJ/SG9suP2K2adOxdYtm1CyfB24hnZDeJcjRu9xex+h2ka4cMMVSJG1IKZOmaSfuWBr2JQx6mzhEcGOEGM00Sz5ZiH+80VWFGux0egi4QgjrPMheFUch4IhtVRFsmCrxDZGR2FA1cLwrjUSy3avw+gKBVGyzzacfeBcmrHjx4/VDPHa8NTu4bDOjpcv+mZ02If/pvLCoIF99TN3Jl7i6cOrOPbdIqw9dR+PnhmztJ7jxaMfsHvBbKzT3nPfChV8ZjZG/8TN04dw9NSPuG50xX6Ou+cPqtev3hPhaMGGOa4bo29yRsUYjY+JE8bhn5+7OIhuofHBTlIF6i1GrmIN0Lx5c/3MBdvjbWP02fahGN21BZqu5mvP8HDv14goUBn91l/EDScqpW/RojlcCtZC4QbLVTjb2D3uCCM86ji+cAlB586d8PvvlOdzJl7i4c1dGBOeFrmafodTv76RofiLF7/h3v5+CP0yI2rMv4wrVujkYmZj9DY2dC+LchVbodeqy+/KZTyMxrjqhVG62XgsOKU9IQTBVjnBAibxjCaUmzeuo3vP3kjtXlx5D40tEI4wWMTEat3sxVojODhQP3vB9oidM2qopjc4QR7gSL8A+Ncah6XH78aQfXNsypQqgbQ+dRFMGSQHzevmCOtyBFkKN0TdBi1w4rgx7T7H5ulvF7GhhQv+nb4Oppx6d8168es57OuWF/9NUQGjTmiGqX7ckpg9TP9n9CA0KZQTeSJ6YBZVcQy8+h0nhgTBLZMfao7ZiXNiiwq2zPlvsGxCXzSfzTrdx3jOanoxRuPk6OFDqF2/BTIXbuyQcjExB3PtXIK7IU8uV/3sBdvjL2P0xFPg5f6pmD+yL3ptM5idr4Bn+zC0Ql0M+fYILjhBzhjb9IYEBSBT4RYo3vW40XvbUQZTEFzD+yCkdF2sXrVCvwJOxPP7+HNPZ+T7b1qUnXQK53/Xjyue4e655YjK+z+kqbMC3z+wTmjAAjmjz/HDojaoUSAvfOrPwzkeevkUTw/1QViaTAjttRbRtyVbVLBxXr3S/v/ytcfk1UM8uzIaJfJ3xbof7mqmqRCbXTu3o2yVhnAJ6qJC2cYWCEcZLGJyL9kPefN64bff2N9HsD1uYUbZwui8/DhO/ck/v57P2rSOwSu8fMljzrEeXbt2FWHFSyBHcGeHraQ3DD6DcpcbhYIhNTFnziz9CjgTL/D8z8MY5v8R0pUdh7Xn7uvHNZ5dwvkljeD5kTsab/gdD6zkGLRMAdOrK9g5JhJl8hZG2Qmn8fiP3RhU5CvkrDYF6y7EuChmxlkeMoI5eYw/j89Ap3KlUGfKGfwsra2NEr1nFyIqNUCO0J7aQuC4uWgc7MSUq9RA5M9fAA8eOFs+mh3w4jxWd62AUrXGYfPVR/pB4eaNGyhRqtzrSnqH6rz07qAx6llxAvIF1cDcObP1K+BcvHrxBy6PDUaGNKXQ5buz2vbsNU8ubcWiRrnwsXcP7PrDeooSljFGNV7d2YPVg+qgsGth1GtUHNnzNcfUQ7dgRC7OrJw6dQpNmzZFwYIF4e/vb/PDz89P/SxfvjwaNWqkiiT4s379+jIsPhqgfr3aqF0xHP75CqBY2ZqoU68+Ghh9r3OOJk2aoHXr1ggLDUI6l7xwL9nX8Y1RbSH3LDsEX37+OUqXKoWWLVuicePG6npERka+c41kWHJEol6dyogokg/5i5ZB5Vp1Ub+Bsfc5z+C92apVK5QoXhxp0qWDR4keTuAZ3Q/fmjOQOXcoXLNnQ9GiRd9Za21x+Pr6onr16rr1kkxevQCuT0b1zOkQ3GU1titr9E9c2jwYjT0yoWD/M7BC3dIbLGaMalcCvxyZiy4eH+CD/6SAd+/juG2F1ISbN29iyZIlGDlyJEaPHm3zY8yYMejbty8++OAD/Pvf/0b+/PnRqVMndXzw4MHo16+fDEuO/v3Rf+BgDB0+HMMGD0D//kbe42Sjv3ZNhgwZgrFjx6Jhw4ZwdXXF37T79Z8fp4F7iV7KK2FsgXCUUVxbyL3KDVHn/I9//APZsmVTBumIESMwdOhQdX2MXTcZlhn9+w/E4KHDMXzYYAwcoM1fI+9x9MF7kPci1z3emy4uLvjb37T79e9/14zRbo6fM6o9g3yqTYVrvtKoVrUyJk2aZHS9tbXBZ8icOXN06yW50PN3AyvqZINrUBeM3MkypePYPLgqcmcrjxEX1Zv+IkYk+emdM1g9YAy2P2bA3zxYzhh9+hOOLe6JKt4eKFHWD96VJ2DbtafvPbFnB2bgm+gbuGyN0i4b4uHDh+oB8uGHH6JYsWKoXbs2Bg0ahBMnTqjX7ty5o4zsGzduqJ8yZJh7GO61X375Bffv38eePXvQsWNH1KtXD9mzZ8eXn38Gl1yFkDOsu8Mbo/QqeZcfiv/+519Ily4dihQpgtKlS6Nnz57Yt28ffv31V9y9e/et6yZDhrmH4V7jvcd78MCBA+qeZJSNTo0sWTLjs8+/QJ6SPZ0iZ9Sz4nj4BFTHtKlT9ZXVOfl9TX0UyRmIyIn7cOzQAoyqXgCuVRfgsv56TB7dPI9j68ejf+vaKJq9Mqb9znIn82AhY/Qxrm4Ygs5li6Fgg1k4dmwKqrm6otzQ7ThxL5aIxosneHL7NKK3fovx5dMj6Ou92HNVf82JYWFEyZIlERwcrBa6atWqYcCAAdi9ezeePDGiGyYIFuDevXtYu3YtOnfujHLlyqFixYooVKgQSpUsgQrVGyN7UGenMEZzlx6IDOnToEuXLur8Ddeia9eu6vrQGBAEa8A5um7dOnTr1g0VKlRApUqVkC9fPnTq1BHeeX3gHs6cUcf3jHqUHYFCoTUxf95c/co4KX9uQM+APAhv2B1N27VC/YAg1Fpq/Pn0+w97sWF8M9QsURTuLnUx296N0WcXF2JY7QD4FGmFGT/xyO84OyoE2bKXR7flp3Ajpnv0KcVXpyCqUQUUSPlvFO61FwcNmbZOzurVqxEREYHJkyfjm2++QXh4uDJOp2o7vXPnzolRKliM33//XXlamCrC3CYucvSOtmjRQuWjTZ40AS3bRiFTgfraQuDI0k7R6vyyB3dFvrx5cOvWLXh7e2PGjBlYvny5ui4BAQEqknHkyBHlRRYES8BiOt5znKNBQUHKibFq1SoVomYtwpkzp7VNY3FkKtzc8T2jnQ/BNbQnwsvVw9o1zt6f/hkODohARNEs+CRdIRQv0xur49InVKH62zi7fTbaFa6JWXZtjD4/hcVtg1EwbwTqzv5RP/hSMzr3Y3hwKmQL7YVJu2/FCNe/wquXj3H/19uI7uKDSsMPYO81/SUBbdq0QdWqVbF//34lQzJ9+nS4ubkpw3TNmjX4+eef1XFBMAfPnj3DtWvX1IJGDyDDfevXr1evrVy5Uv2ZPx/9+Se+7tsPKXMEOXQHptCO+xDQYhOyF22JEsXD1XXYunUrsmbNip07d6o/c14GBgbCw8NDbSSZVvP0qRO1+REsCp0SXAemTJmiNkZMG6Ejgxw6dAhp0qTBjh071J8rlC+NtHlrIbjdbtXAwdg97giDWsCZCtRFgyYtcVYzwp2eYyPQyu9TfPCxH8oOPfBuQ6K3+B0/7V+ADvZtjD7B6fGVEeDqg6D2SxD7Fni+rxtKZcmI/A2nYfUV/aCBV09wold+VB1xANFijL6BHimG/2rWrKn+mzBvdNSoUUibNq3a/XIRfPHCXGnGgrNCA2r27Nnw9PRUYT4WAhq4ffu2MsAmTpyIPzVDlEydMhH/+DizQ3dgYvgvf535yB1QH+3atVPnTbhpZDj08OHD6s+8JsuWLVPGOo1S/vcff1izdlVwRGiI8t7KlSsXChQogMWLFytxe3LmzBmUKFECUVFRb6Jo7du3g2vhWihYb7GDtwM9hi+yBaBrVBe1UXZ6Hq/B0AreyFekFYYf04/FyQNc2Tffzo3RP1aiW5A3AqoOxpwzxtSrfsOeXsWQz78O2s49o2q93vDqsRijcbBlyxZlkLJgxAAfLvRYsfI+R44cKFu2rCqeEARTsGLFCmWEMrxHg5Sel+fPX89pekurVKmiKukvXbqkjpHly5bgfylcUaTJt0YXCEcY9PrmKT8KhUJrYM6smfqZv94g0nPco0cPVeRFuEGk0T5r1iy4u7urYkR6lSWSISQX3kObNm1SXtDcuXNj5syZqnjJ4JTgfce1gZshgxODTJ82BYXCaql8SkfeNDKd5l9f5cbQwf31M3duflvRFKW9C2vXZcnrRkTvxRGM0Zf3cPPS97h84zf8HoeS6tO7V7QF7Cpu/Barj41mjB4XYzRO6IFivui3376d/8Jk9b1796pCCu6Ma9SoobRVBSEpbN++HWFhYWqRo9TIyZMn33g+yePHjzF//nyVKnL06Ns9n7dt24rcvsHwLD861sLgOIMeF7ew7ggvWQGHDh3Uz/w13DTS4OR1iwkN1bNnzyqpHXqYuXFkaF8QkgJD7sxN9vLyUvfU6dOn1T0WE+Yw582b903qiIE9u3eibKW6yBHUSTVvMHaP2/tg+kHBuguR1rUIZs6Yrp+5E/NwC4YUzwKPoLbovzUhHeMcwRhNDmKMvhfudOl1YfGIsUrdq1evqjBqs2bNlNFKL+pPP6nqMUGIF3rV2VyBhQ/du3dXXhdjrS5pgDIkSG9f7DzIkydPoGqthsjm3wQhKh8t+p2Fwt4HNUbT5auPEsVD34RDY9KrVy9lKLCiPjb0LtMzyrBp8eLFlSwWN5KCkBBYN8BoRGhoqHI+sGKe+cix2bhxo4qkcb2Iza9376qUr1S5K6N4t5NG73F7H0w/cCveB/4hlbB+3bvz0Cl4/CtureqEimHBCPDzQd7gRuiz6DB+SlDquhijYozGA/PRuNAxPy0umCc0fPhwpU3Kwqfx48eril9BMMbx48eVAcXFi51aqNRw/fp1/dXXGNrqXr58WXVc4nuN5T8+uH8f4ydMxIcp3bVFYbc2HMsYZfGSX6NVyOhdEc2aNNTP+m147Ro0aKAW/Ljm3ZUrV1SxCbvjsNsKrz89p4JgDN4bvXv3VlEv3jMsJuRcNAbvP85R3ld0YBijc6f2SOUaiiJN1zhkERNTaT7PGoT2HaO0uWb8Ojk8zx7i3sG5GN7/a/QZMAazNpzGlQcJrSsRY1SM0Xhgzh49Lsw/27x583t779PjQuOCRRXt27dXOYCGXDZBYK4nlRm4cFEUm97Q8+fP66++C41PbmzYro7NF+LiwP59+CpNZhSoNRvB7XZpi4PjGKQM0WcP6oKiYZW0+bRcP+N3ofczLs9UTC5evKgMUcq3sWXx3LlzVR64IBDeC7wnGO2i5jTvp/g2LX369FEOCyo6xMXyZUvhH1IRriFRCO/ieMoX/k1W45MU2bB40QL9jIU3xG0yxOA+Lu+dg1Z5HUL0Pgm8eoLj3b1Rcdh+Eb1/D0xG5wOH4dQffzRIZ8UNjVdW3DMPkC0cqRVJPTrBOWFYj/mKDPMVLFhQLXT0jsYHNzM0mtiu7n2wC0y9Bs2QMW8VBLbe6kCeF82o7rAPKVxLoHmzJppxHpdQ32vo+WQON3Nw44PGfZ06dVS+KTcF/H7YRUdwTpiGtW3bNmV8Mneb6RwJmaNMrWGKFiNj74Ohejat+DxrMYQ4VEX9641v9mKtEBReDsePxVs2LhjlT9w6sxnjmvTG2kdAHOU/ycaGjdFnOD+yDJpPO4HDN/VjglGYy8fk9IEDBybY20nR/KJFi6oFksntNBpENN95YH4jGyVQEDtnzpxvyRDFBz2mkZGRqFy5sn4kblhpT2Pq8xRpUaTJKj131NjCYV+DeWg+1aYgs0cwxo0do59t3HB+sRUjjYmEbv5YbMJNJucoC1MuXLjwVvGY4NiwOJDfOTd8vAeoVRu7ACkueI+x2QI3mQlJy5ozeya+yuSN/LXnONSGMajNdnye1h3Tp8/A7+J0STIvX7zAo4cPzWaIEts1RjVePfgZd/94jieifPJeKOtBQyJ9+vRK3Ph94fqYMNTKsA+rMBlu/e67796pwhQcD+aOMcROvUtKNSV0gTPQsmVL5V2nMZsQ6NXL6Z4HeUr1QWCrLQ6x2FEGJ71XFdRv1AKnTsadphATqlqw2ISh+MRs/BjN4MaRigVU0eAcFR1hx4XPc0a8mAuaJ08eFbGIrZryPvj8p6eT6TYsckoILDas17A5MuatqnKhjd3zdjU6RCO47U7kqzYZn32VDmdOi9C9rWPTxigTGhJmVgl8AH399deqKnfXrl360fjh36M3lYUqFC0PCQlRISHRPnQ8WO3O75mbDy5w7JREoygx3zWN2DJlyiit0YRCD8+kSZORLmtuFKy3EKH23qteW+gKRy7Gvz/LhokTxutnGT+8zjT8U6ZMiejo6Dc6rfHBOUrjhO1F6e3Knj27ktOSOeqYzJs3T0UruAFhBIubj4R+19yk8PmfOXPmN53REsr8+XPxjw9Twb/BMu0+Z8GhkXvfTgYjF8VabEDaHIXRqXOU1EfYATZujAqJgZ5O5oKyE0xiZZz4wGNIiKF+SvUw6Z29xgXHYMGCBUrTkmFfyjCxGCKxaRkslmCYmeLZDL8nBoYNC/sVRQ7/Bipcz85FxhYRuxgd9uGzDPnRvEUrfP/9Rf0MEwavw7Bhw9R3kdg5ys0EC80oaE6PNmXdGM1IaCREsG3oAWejBOYKs5jwhx9+SPQcpVwYIx7UtjUmxfY+fvzxEpo0bY6U2fxUe1B7TalRLXpbboZ7WBQyZXXVzstJK+jtDDFGHYzdu3crg4NGZVJgQQsT3xnmYY4ScwMTmkso2B4bNmxQLQBLlSqlCtaoHxqzA0ti4O9o3rx5gsPzsaHHJmt2d+QI7aktGiwAsq/KekN6gUfxrnDLkx87dsRfjGQMpkkwAsGCFGO6kPHB74/qGAMGDFCeUsr2UGBfsE8oWs/vkEYov1N6zZMyR+/fv49OnTqpSvukakqzoDWzSy7kieiNoLY7tHve3kL20coY9a48ESnSuah2qJLSYh+IMeqADBo0COXKlVM9ipMKK/O5O6fwOYtbWNX7/fff668Ktg6NlVatWqm8sbZt26rq98R6SmIyduxYZfhQQiw5dO3SCa55w7XFYgLCo44bWUxsdCjDmeH5b/DfL7Jg0uSpRrVVEwpTYVh0uHDhwgSH62NDQ5aLLXWG2cWJ37O0ALYfaPh16NBBpb20bt1afZf0bCYFes05x+kV5aYvqd7yJ08eY8KESfgkZXYUqDP/9QbMjjaN4V2OoFDkYuTIXwG1alZPtGdZsB5ijDogfKC1aNFCVTsnt+sSRfOZi8qwPbt9GCrvBduERTKsvqXIerVq1VS4Linet5iwBSjzTPndJ8cAI7x3uFFK71kefo1W2ImuIb0t++HfeDXS5S6rGQ9l8csvSTMaYsLoA/VHEyL39D4omk/5Hja1oOwP/5vzVrBNmO4ycuRI9V3RI8qIRVyi9QmFmxAWFXbr1k0/knRYdR5RsgQy5a2Iwg2W6yk1tm+QsqiQeaJZCjdC/oKF36t/LNgeYow6GIYdMUM/NEa48zZFTtmhQ4eU9iFzUvnAY4s5Y21IBetAg8TQ/pXfERsbML8wudCQrVu3rurgZaoiAHrs/QOKI5NvLRRp+p222B00urjYxvjLEM1epAl8ffOpFqimKB5iWJUhVXo0TbHBY843w7TMJaWnbdWqVe90zxKsB78Lfif8vlmcxDma1JSXmPD3cmPDyIWp1FAOHjyIwoULwcW/obZpXGnzRYf8fAEtNyF7QFt45AvE6FGj9DMR7AUxRh0YVmX6+PgkuqryfTBMy5xUPky5u6cHJrneMiHpcEPAjQKNEMrAMMeX3lFTwO+V91CmTJlMYtjGZN68uciTtzCyFKilig1sVe6J+WdFmnwH12It4O2VB2u+i7uTTVJgP3F6tJKa420Met64eWDIlm0jeX8kNU9YSD689keOHFHNSSjPxU09ow2mgtEP5vebOm942bLlavPl4tfgdatQG5V84rODeqKuge3gkqsABg7op5+BYE+IMerA0FChWDYXpeTkCxqD+Ums/PT09MS0adOUlyepuW9C4mE1+9WrV9GvXz+kTZtWecGPmbjDCGWIaOCyEt8cRQArli+Hi5sXshaoqS0mO4wuNNYcXOSKtdiILAUjkdfbS1WumwOqE9BDymIzU0KNSXbg4fxnBT9TdqSYw3LQe85rzrQZtmzmd8E8UVPCNp9MoYqv1WxSWb58BQoWKIhM+Wpom8YtNpg/Go3gdnuQM6gt0mXJjdGjRuqfXLA3xBh1cBi6YwESq6BNnczNkBCT7gsXLqwetkuXLhXtQwvAcDm90tQSpBHDfDFTf7f0rjJHmEauOaFyQ6as7sjiWx2BbbbZzGJHL1Bgq61Ik7s8CmqbLlN7RGNCuScWITHikNDuTAnBkJ7DyAgluThHx4wZI12cLACfjePGjVObOcpw8Tvgs9GUMlxsJsECRXpa2VHNXLCRil+RAKR2j0Bg6+02FMXQnhXa88I1oCW+SuuCmTNn6J9YsEfEGHVw+PBj/k/GjBlVSJBVl6aEHjrmK7LyntqJzFejgSGYHi447MDD1AsaLsw/44Jkam8XjRV6XNmVy9zFavSm7969B265ffFlRm/krzlTLXZWCwlqi1tYlyPIW3kc/v1VLgQEhZjcY2kMyvmw6IwbAFPDOcoNDAXUmU9MHWHOV8E8UAeWESN6QhctWqTmaGJ1eRNC06ZNVQEU7x1zs2nTZgSHFMe/v3CFT5UJCGWet5WMUsPzwa/BMqTKXgTpMuXE0mXLlRKAYL+IMeoE0IiZMGGCekCaImHeGMyLYm4ac9/YR5mVvYnpBCW8H7Zt5eJGzdApU6ao/vDsbGQO+PtptDA8bwloTDPFoHPnKHyeOjsyFmiAos3WonjUMYt5YfjvsJCK7Uoz+lTHF+k80CWqG06eOK5t4ExvSBiDkQXOHW4yzAGfA6ww5oaGmrHUtWQXLsE08Foylz4iIkJ5RXmtzeWF5saCzwM2sLAENKY5F3r07IVPUuXUw/abVAW75eZoNMK7HEVg661wCWiHD7/MhoaNmyltbZFwsn/EGHUSmD/KQgmGA81ZYXvr1i1VLc1KUYaQqXVp6jwpZ4J5ilWqVFEyXSyAYJGCOYtRqE/Kf49dvCydA3z16k+YMX0KChUtgVSuoXAv2VeFBalHapaOTfSCar83PEpb4NrsgHvEAHyayQ/FS1VQnsNbN2/qn8wyGHK8GWHgPDIXvH+ohkFVDBql9evXx9atW/VXhcRCaS5eQ+qF8prSk27KdIvY3NTuS+brUyCfXldLwvtyxozpCC1RDl9m8YdbyX5qjnLjaC4JqLBO+7U5egxB7XbDs/xIpM5VCh4+ARgzeoS2KTePc0WwPGKMOhHMLWTolQVH5vKqGWD1NfMaWdXLnCYK8bPKV0gYNAqjoqJQo0YNtdDRS3nv3j39VfPA6nlW4/P7suZ3tW7tWiVR5VmoBFLnroQcIVEoUG+RtigdUp4YLnpJ9ca89oBqi1uXI6BkEwWyXYK6IE3uCvDyK4umTRpatZsRm03QQORmwJx5gITGL7VjeX8ZNjuMbggJg53pqMFs0HflBobX1Jxwg8j8f35f1tSSpapKi2aN1ZxJ61kR2QI7o6A2RzmnwrocVnMsOXNU/R7O9c5HULj+MriF90Jqz6rI6VMcdetG4pvFi/BSivEcCjFGnQwuOOzWwj7IloAPzC5duqj2h/SSUgtTtA+Nw/xeplFMnTpVLW4MlVPA3NRKCHFBiRh6s/kdWZtbt25i4oTxqFa1MooGRyB7oVrIHhSFvFWnKCHuwNbbtAXrwF/GqbZ4vR77YozXx/j66/cdRECrrerv+1SdDJfALshZuBaKBJVCzWqVtH9vAu7fN6/BHx9MWdizZw9y5MihKqXNkWsYG6oyUAKKRnCDBg2UgcrCR8E47ETH8DivFa9Zr169cO3aNf1V88F7g/eEq6ur8sZau1j03r3fMHnyJNSqUUWbQxFw86uljFLOrUINlqkCQOp/JmaO8v2BbbbDr+FK+FSfrm1Eu2tzvy78g0qjUsXyGDpkEH6QToAOiRijTgYXNxqjbPOZ3K4fieH48eOoVauWKr6hQUzPH+WghNewXzkLzFiUwLxBCmMzHGcpqHvI9pTMdbM1ia4tWzYrj21erzzI41cOHkHNkKtEb3hWGAvfmrNUi06/Rqvg3+Q7pYdYtOla9ZN/pmA3vZ/5tfd5Vhyr/b1e2t9vAa9CEfDO64P6kXWwdatt9XWnkUEDp3jx4iaX63ofFy9eVBtGb29vlc5Dg4f3pfAaXgteE87N/PnzK+89c7ctBTeqzEllxyZbU0TgdWnUsD68vLzh7VcKuYKaw0Oba54VxmhzdKaag5yLxufoKhSu/w3y15oNr4rjkKvk18gV3BJ5/CvC0zMPalSvhlWrVuKZiYtvBdtCjFEnhIYg80fpsbQ0rPykQDMNn1GjRqlwvqkr/O0JhsYpo8SOORTEpkfUkgscYcoGiy64yJpa3N6UsM3tpEkTUadOPSWZky5dGmRxcYNbvhJw9a8Ht4BmcA9ujVwh7bTFTLuegc3h5l8XOX1KIFuOXEiTOoUyQBnmmzZtqmZcmC8vM7lw00iDh0appdvvMkWD92H69OmVfqWhWM6UskT2BA0/ekN79uyJDBkyqDQWUzWWSCi8B3gvUEbPlqW5qNowfdo01Iusrz3jfZA2dUpk1eZoTm2O5tTmIuck5ybnKOcq52xO/0i4+UYgqzZHOaep9lC9Ri21PkgUzXkQY9RJod4gDZCFCxfqRywLw00FCxZURgWre03Vxs5eoPeLrTa7du2KNGnSKK+xJb1gBliFSqUFeqyt8e8nB94zbM3JsHKnzl3QtFkL1KnXANVq1EaduvXRuEkzRGnXd8b06ep95s6TNjX8zBSsp7qBpTEoHHDTSj1b5nxb2ii2BegNHTx4sDLMy5UrpzopmVpKLT74rOBzmp3QmPZk7fB8YuCc4300Y/oMbS52Q5OmzV/P0eraHNV+8s8dO3VWdQyHDx8ya+GXYNuIMeqk8CHByk8KMlsyHGyAD3SG6SmaT08pd8Nz5szRX3VsWIhECax06dIpnUDmCLLC2dKeJ/57lJ9JmTKlEuW2Rw817yN+bhb70GNET7Nh8M88/vTpE4sbEKaC9wnTaswl9/Q+eM14HVl5z5xvbhzZTcgZNo6cj8yhzp07tzp3aifzmDUMQf7bhvxxe4TXzJHnqGAaxBh1YpjHySR8VmZaCxrFDAvS+xMeHq6MY3b8cES466dHmuFXdk5Zvny5ahhgrYcwiy5YsEQZLnNX6gtJg4s1FRUYNmelvTWgIcG2ltS65f3CnGZreGstBb10fA7xecQNMs/dWhs1pgewer5ixYp259kXhMQgxqiTw3A5uyZZSjw5Luh12LZtmypu4iJASSgmxTsCzP+bPXu2CvNxUPKK4T5LVErHBSVo2K+chgUXW8F2YZ41jRHm9FoTGsbMN6cWKlsM0zClprCjwHNhWgI3iiwS4rnSe2dNmLPLRhf79+/XjwiCYyLGqJNDbx0rqFlB+8MPP+hHrQcT4Gm4saqcC3D37t3tWvuQxj7Phd7njh07KhF7LurWhl5ZCmezk4tg+0yaNEkZJZbqivU+uHFkt6EWLVoojU0W33Ejaa8FTjt27EDLli1Vygx/cm7YQu7i/PnzlZA+0wUEwdERY1RQOaMVKlRQRpOlNC3jg+Fr9kenB4ai3FyMLV1lnlS4KLPrFIs+2G+chij7VduKlBU/GwummKIh2AfcpFELlC0gqQtqC9BgY/Ebvf28n1j9zNQfezBKDfnS/MysjqfRx0JKW0lXoaoFNUy5gbWVZ7IgmBMxRgX1YKbOZJYsWZTguS31+aW2HrUP6cVjmJKt9my1qpe5n/QusyiLuphs68iiA1vSU+Vn6dChg0qFsBWjRkgYrK6nJ5LzwZopHrExqEKw1z03OAx323LqB3Ol6f2k1nKRIkVUpzPKhtkKfI4wT5QbWXbNEwRnQIxRQcGKR4aDmD/KXClb4/Tp06hbty6yZs2qPET8s7XzuQzw2tFLxHBfw4YNVYeUTp06mb01YFLgd8zqbFsI9wqJh61KXVxcVIW7rVUfcyNGIXgqY/An02tsqTCOG7GDBw+qUDyVAWiM2kJqUmy+/fZbeHp6qlQIQXAWxBgV3iI0NFR5IFnFaWvQg8t+0CycyJYtmyrAsUQbvrjg5+Gg9h8XNhoJlu5slRhYBEGJGHqxBPuEBhXDyTlz5rTZCAHVMeghTZUqFTp37qw88Nbs6kUvMsXTuUFMmzatVUTrEwo9tHyO8Du2hbxVQbAUYowKb0EjlF4DGnq2KK7Mz0SJE2rvBQQEKB1AyiVZQ/uQgtgMmVIUnHmtrJA3GKi2Br1o3Giw6MQZxcsdCd53zHFk4dDdu3f1o7YFtSO5caQsFZs6MP/bGqFwRif69++vDGOGvekZtVWJJBY28jnCz2mrG1pBMBdijArvwGIh9sWeN2+efsT2oO4fC68Ybqa3z9fXF1OnTtVfNS/0TlGCit5ZLh6bN29WRoGthU1jwrw4FqkxzCvYNwZvPDdBtpbjHRPOh1u3bmHdunWqyImKHdzkWiKHmv8GJdS4saZU09q1a9XzwhY32IQGMnNt+UxhYZUgOBtijArvwAcjK+vp1bD1ByPzRumBYVUsFzx2SzGX9iEXOHphmVfL6mEKYrPAypaNULJ79254eXmpzYU1w6WC6aBBSkk23ov8fm0ZhsmZ4z158mQ1R7nR5cbRHEVY3KROnz5dpfIwN5oba4bkbf2+Z3Ea56i5rosg2DpijApG4cORunuNGze2eWOLML+KGp6sFKeUEnM3qX1oCpgCQM0/CvFXqVJFeUVpANhiOD42lIVhOgPzRBneFRwH3pf0+jFV5OLFi/pR24VhaHrme/bsqeYR5xOr2k0FC37YqYpycBSLZ8SC6QK2DkPyLKqioU4NV0FwRsQYFeKE7f/oxbCn1n/0XvLzUgKHnt3Bgwfj2LFj+quJgx4K5qbSkDMYuFw87cW7yIWY58/Whvai0SokDnZnYjSA37O1WlYmFhrRCxcuVMYo8yNpOHJzl9QQ+p49e5SBy/nO4iRuHO2l+IdzlB7uwoUL23VzD0FILmKMCnHCXTrb4hUsWNAuPC8xYa4aFzkW7VBuiYtfQnt70xPM9ARWtLILFEN+DJ/ZipRUQuDCznaqrLpmFygJzzsuAwcOVF41e2vNSaN07NixSuuTsm1sSZzQtBe+h+/l36E3lL+DKTSWyEc1JfTmMp1gwIAB+hFBcE7EGBXeCz1qLNJhjqQ9hLxiQ3UA5r+yeIKhMHpR4qpA5gJHCRgab0xRcHd3V6L19iixwjy5atWqoUmTJvoRwVFhARO99gzZ22MjA2qRMvpAbU02i2BjC3acMuYp5THOX+qs8rnEOdqtWzeb0jNNKNQ4pSeXURx7SPkRBHMixqgQL9SnzJEjh+pjbi+hwNjQOKMHhTqDXbp0UXlahipkLgT8b54nF4fUqVOrsJ+9tuGjnA3DthQflxw054D3LkPezPG2VzgnuXHks4Y6pYxO8HnD+clB7z7bjfIc+R5utGy501N8MNeXkRcWYAqCsyPGqBAvLDygIZouXTqb7FiSUJgDyvxRegxpcDI0Ro8KRbpphFIqp02bNsq7ZKsSMAlhxowZqhUpCzgE54GpKCxWY86kPcONIz29fN7QYKMuLiMW1FXlHKX31N7lj2bOnKnSf1j5LwiCGKNCAmFojIsAw9fU67NXaGTS48lwfalSpZAxY0ZkypRJGaHsz0/D255DZjRAWanMzjeCc8GcZrZ7ZeiaOdP2CucoPfoUqKenlKL5KVOmVJ5QeoCZa5qQvFJbhd7c/PnzKzF+WxXgFwRLI8aokGCYf+nh4aH0Au05/MscUIbqU6RIoXQa2X6P5zVhwgT9HfYJO9wwj47GqDW63QjW58KFCyqMzfCvPW+quClkvjYjGCyg9PHxQYYMGVT6ib2nnrDYjL37GZERBOE1YowKiYLhJcqQsKuKvcGQPA3OEiVKKKONFfL0vuzYsUN1hqF8Ewe72tgj3bt3V12W7PG7EUwDDVB6/Vmwx3C9vako0OvJCnluqJhOQ08vvaH79u1T1fI8xjnKVBR7UrcwMG3aNCW1Jp3QBOFtxBgVEgUXNxZKGAoM7AHKvdDAbN68uUozaNu2rZI9igm9LUuXLlVeJeoVUjyf77EX7xINUOpNshOV4Nww9EtZMuYNM/XEHmA+N1t2tmvXTonWM1eUTSxiGtP8bx5jSg3fw5+x32PL0BPKLkuMLNHoFgThL8QYFRINCwzCw8OVjqcteycY6qOXyKDDyAWMBuf7oFHKhZz6pCxq4n9zQbflHDXm87I5AfNE7VHaRzA9nJeMALDo59q1a/pR24P5oRR7HzFihPJ4Mr2A0Zf3PVf42uzZs5WUFT2o/LuMcNjyHL1z547Kf+X5xSUtJwjOjBijQpKgkVamTBmbrAall4VV/1ywWLEaGBiY6J7PDOlT3om5aizc+vbbb1Xhlq1V2dMr1Lt3b7U5OHDggH5UEIAzZ86opgc07mytUIaGI6WcVqxYoSIRTCsYOXJkokTr6V1kGJ/eRkZr2B2Nv9PWPKW89lQ6yJIli9JttudcXkEwF2KMCkmG4W565NgJxRagoUiNTeZj0Qh1c3NTeWbJEa2np5HFBvxdTE2gJqCtVNxzQacBSu1UhullkRNiQ68hNyq2kkfMOUojkhELbvLSp0+vNlPJ6ZzE+c2NI5Ux2GJ0586dao7aysaROenMs+cGXhAE44gxKiQZVu6y1SaLZqwNDTOG+xjqS5UqFQYNGqS6uJgKeplojHLxZCcnhj6tvdgx9EeJGOql0ggXBGOw3SRlkThfrQ1TXth8goYjUwioIWoqqEXKPNKsWbMqo9QWctq5UWeueunSpfUjgiAYQ4xRIVmwgIDeUcqwWAt2ZWG7UuqFsjUge9CbunUpvY70tjA3jZX4lJxhzqy1jED+u3369FE9ue1ZU1IwPzRCmQPNojxrceXKFVUcyLQBGsZsPsGuZ6b05vN3GRpb0ABklyZulq2VR80Nct++fZU0FdMHBEGIGzFGhWTBBYV5oxTaPn36tH7UMnCRZacWX19f5RHZtWuXSb2hxqA3lIsbjXDmqbGf9pAhQyzaOpSLHHNYmYO2d+9emwlHCrYL5yhzvC0dKua8YN/5PHnyqLnKdAF69M15z/J3899gj3savmyLy02qpTeOlHFiuhBlqARBeD9ijArJhsYZ80fDwsJM7pE0BguJ6JVkLhw9H/PmzVPeUEtCLww9suPGjVMVvVzoLSXZQs1FVkr36tVLDFEhQdCrT4OMxpEl5J6Yx8l8bRYPMixPw4zSRpa8XzlH+W/SEGd+Kj8LC54sYZQeOXJEpQzxucgNuyAI70eMUcEk0DBj/iKNs6dPn+pHTQsXEVbFs/qWXklKNh09elR/1TowLLhp0ybV0YmLDz0xrOo1V0UvDf9OnTopY9TcXmDBsWAOJfOeOXfoXTcHNEJZOW74d6KiolTEwtrs3r1beWipM8zPtmDBgmQVTb0PPhNo/NIIt/ce+oJgKcQYFUwCH8BchCizEh0dbdJcMMosMSxOI4xaoczZZIWqLUHPExc4Gsr0lPbr109VDJty0ec1pfwNDVHpsiQkhTVr1qg8Y1NLsvH+37Ztm6qM5xylIUrZJluDn4n6wSy6ZGRh69atJo/mTJo0SUWJ7LWTmyBYAzFGBZPBEBzb9dErYIrKXYpb0/PJ0FqpUqUQHBxskwtcTPiZx48fr4oWWFTFloy8FqbwlNIApdA3234KQlJgUwcaS7lz58b333+vH0063ISyYpwRC1aMs1AqsZq+loaRG+Zx0mCMiIhQn5dqGab4zNQRzZs3r0pReJ9wvyAIbyPGqGBSWNlNTU4akFz4kgIXCxYg0JALCAhQ4X8Kd9sTzB1lJW22bNmUJ2bz5s2qmCOpnlKmKLCLFEOM9BQLQlKhnBI9l9w0JrXwjvfx7du3VZEQpaNo3CZWtN7a8PlEo5HFl5xb69evV8+vpM5Reoe5GWehFptuCIKQcMQYFUwOw/X+/v5YtGiRfiRhMAzNZP+NGzcqkWgucBMmTEiyUWsLcMFu37690j6kAUDRfJLYNAaqBVStWvWdnvqCkBToFU2XLp1qj5vYMDXnKDV9aXilTJlS6dzac4tLbu6Yf059Ys6x/fv3J9pLyi5L3Dxnz55dSUsJgpA4xBgVzAI1BWl8sfI7IdA44yLAfEgabvSsUsTalLmn1oCfn+kLDAO2aNECLi4uyiOVGN1B5vkVKFAAc+fO1Y8IQvKgQcmcRs41GpYJhZX4FJRn1y8W7bH5g7kKFi0JjU+eCwuuqFfM3O/EGJWc37wmq1atsrnWq4JgD4gxKpgFGpKUO6JRGp/nhQ99LnCurq5KyJ0Lnj17Q41Bg5QeGBZeNW3aVJ1rx44d462I59/x8PBQWqaW1kkUHBvOS+Y1syAwvhzvixcvqrnMAsVWrVqpTaYltXUtBecbz43dodgvn9cmvtxaKlzQo8rwvD2lKQiCLSHGqGA2KHHEfDJWlhvj1KlTqlNK0aJF0a5dO6xdu1ZpiDoyNEqZT8YUBuZ/stAptqFp8AbzJ3VUudBZuqGAPfHznTs4sH8fdmzfik0b1mHd2m+xaeN6bN+2BYcPHcTt29KhKi5oaNHrzg5qxjaAzN2mJBJzt3kv0pv6008/6a86LjxHpjBQqo3qA7wGvBaxofFJOTsWLVla69ie+PnnO2ouck5ybr6eo+vUnD2wf6/MUUGMUcF8MPTFHvGsWo2pNciHNg1USiAxZM28UFahOhsHDhxA//79VToD9Q8pt2PwNtFoZZcldo9hnqi5dCHtjWvXrqoFbPr0aejeLQqNG9ZTIdXyleugdMV6KFG+HsLLaT8r1EPpSvVQoUpd7fWaaNygLnp074oZM6arv3/nzm39NwqsJmcDCeY8GqCHkN2aKIHEqMWIESOUlrC9p80kFuqE8txZhEglC16TmBvHlStXqs307Nmz9SPCndu3sWvHNm2uTUPPHt3QRJujfMZVqKLPUW1uqjmqzVXO0fKco9rrjRrUQ9eozpgyeTK2btmEyz9e0n+j4AyIMSqYFXoB2RO7YsWKKhTIbknNmjVT1avsCMNOJc4OPcL0wPAaMQ+PEk5s80kjnsa8s3dwefL4MaL37MaY0SPRqnVblKvaAHmLVUEa9+L43KU40uWthRyBHZEztDtyFu8NtxJfq585w7oje2B7pPOphc9cwpHWvQR8AqqiQvVGKgw7ftwY7TpH488/nVuChxsdRijoqWcDBxYQGgrmOFelaA4qvYbXgteEXZVYeW9oN8rr5uw8fvQI+7S5NH7cWG1utVFzzCegCtLmKqnN0XBtjtbU5mh7bU72QM5wfY5qPzlHcwR1RHqfOvg8R0mkcisOryKVUbpyfTRv0Rojhg/F9m1bHS5tS3gXMUYFs8MCHFbucndMDww9WbbQlcWWoA4pDXV6oqh9yJ8siHDEvLyEcuvmTezcsV2FQctUrIWPUuVG6lylkLVYW3hWGAP/xt8irNNBFO96AuFdjmrjiDYOxxj881Ht9eMI63wIfo1WIU/50ZqB2gGfZQ3CV5l9Uap8TYwfPw67d+3EjRvX9X/Z+di5cyeKF9cMAS8vZXCxbSjTbIS3WbZsmcqFZ7c1Hx8fFcJPaJGmI3Lz5g3s2b0LE8aP1+ZoTXyZKR8+zxYMl4D2aq75NVqpz9Hjai6+PUf534Y5ekLN0SJN18Kz0nhkC+iINHnK4b8pPBAaUUWlkdBbyvSJV6+kBbIjIsaoYDZYIEFvKENbvr6++OSTT5QWoRA3zEujV+of//iHMg5YncsCCXO1F7VFKBZ+8MB+dO3eGy7uvvjHp1mQrUhTzfhcpS1YrxeysE4HENphL0LaR2tjTwJGNEI77lN/j4teeNQxFKq/BFkKN8L/UrkjQ7bc6NajF44cOexUYuWshGcV+eLFi9VG8dNPP1VFTULcGHK5P/zwQ9WIg9fOUVQFEgo1VY8ePYIevb5G5hxe+O9XOZG1UEMUivwGxaNeb/7UHNXmXMLn6B41p9/MUc1QLdpsLVwD2+FfX7gifdbcaNG6o9qgSqGY4yHGqGByGPZjWIU5aIUKFVIeBBqhDNezk9LPP/+sv1OIDcXx6XVhxTIFuekdZW4tPclcABw5Z495so+0cxwxagxccrjjk/S+8KowEiHttEVKW6BCOiR8UUvQ0H5fWOeDCGqzA94VRiF1jgB8niIt5mn37W+/ObZyAa817yeG5QMDA+Hp6YlRo0apQh0WNF26JPl6cXH27Fm1UaQqxuTJk5UeclBQkJq7fO45el4tDcG5c+chRcp0SOFSVJs7I7Q5tF0ZkKFmmKOhHfdrP/fCp9pkfOkShLQZsqKbtlFlXrPk0jsOYowKJmf16tXKAOVgUQ67ERHKPbEgh2FX2dm+C0NQXOAYpqexwEFPaY8ePZAhQwZllBpE8x0RtpX0L1IUqTJ5wLNMP7XAGV2gzDQCW29FnjKD8OmX6VC+fEVVvOKI8L7ifcT2ndTUHDZs2BsVC0o4MZ+WXlLBONRCpmawQfKJjS1Y5MRUJKqHULeV19gROXPmLEqXLY8vUmbQ5spABLbarM0dExug7xlBbXfCp/JYpHPJj1weuVWKhKNea2dDjFHBZNB7RwmYfPnyKa8ei5dihq64i922bRsyZsyILVu26EcFA506dVIel9gGJ8PGNIzYyYleGObeUmTbUWCB1tChw5AlcyZkK1QXBevOR7C26Lz2hFpqoXv9b9EALhS5GNl9KyFLtpwYOWJ4ojsU2TLU8GVleObMmdG7d2+lYkEPaUz27NmjciE5h52tej4+WFBIY5Qe5ZhwjtKQ79Wr15tua47UiYnnN2H8OGTIlA0u2tzgHHm9WbTwHNWeCcHtdsGv4TK4BrRAuvTp0alzZ7vuACa8RoxRIdnQE0D5F/aQ//rrrxEdHR2n55NyT9QUpUzK0aNH9aPCnDlzVGEEvcZxwb7ZrLxn5TP1SZlbyj7j9ojByOEi0rlLFLK7+8C9RB/4N1qlFp3X+aDGFiQzD4YFtX+7SOPVcA3thkw5C6Jrlw6aQfq2wWZvMLTM+4YheFaDczPI+8kY7CD0zTffIEuWLEoLWAzS1/crN4Rubm6qE1pcChf0kvLa8hqzpTGr7Xnt7ZkHDx6gb58eyJg9L3KEdNXmxkoVNlfD2Bwy81DPBm0wnzR3maHImqswIiMb4AfdUy33q30ixqiQZOhl6aztSunNY44jhdwTYhzxPUz879mzp1EhaWeDuqv0trAVYUKq5xnOnjJliuoOw7/HEGF8nZxsCcNiQWOIKQhZXPPBo9RAFYJ7nR9mKU9L3IP5b/T8ZA/pgWx5AhDVqZ1dekiZ+sGuZpRS4/0ybdq0eLstEd5PNF4ZdpY5+tog43OOG+mENOZgCJ8pSpR94jWkF5qFiPYGc2B79YiCS56icAnu9jo3tNNBo3PG0kMVR2lGqVfFMcjg6oeGjRqrZyMRg9T+EGNUSDR80LLYoW7duiocNXDgwDcPgYTCTi7MS2OlvbPDNousYD548KB+JGEwX4qbAUplsRUhC8ZsPVxlWCS4oPfu3QsuuQrBLaw7QrUFzmre0DgGq3oZEswR2guZ3f3Ru2c3u6m0pzD7rFmzlDFUqVIlFT5ObL4xw87sLMSmFM6s88hNyNixY5UiSGK9nIz+0BBlUSI3A/xO7CWk/PDh7+jbpydyeBZDtqCuak6ozWKseWLVoW1cWXWfp+wwZMoVgCZNmuJ8ItciwTYQY1RIMPRkseMIq+JDQ0OVNzQ5BTXMgeRCSY1DZ4W6hSz0ooRTUmHonosdvV9Mk2BeLj05tgq9v3379kX23H7IHtRRLSaWyztL3AjrtF8ZpDmLf42UGXNj+LCh7+RY2hL83lnVTeOTyhXcMCZHtJ6dhRhupsi7M8LNEwXvqb9KCaekVm/zGcdUJqbiMCLEnFNbLuJkqsaIYUOQMYcPsod01+bCbtszRGMMSrXlLjMYmdyLoUnTZnbphXZ2xBgV4oVeEXZKogeUnhKKYrNDUHLhA4OLJVth2rLxZC54/t7e3srLbApx+wULFqj0Bw5KztCDzUXF1hgxYjhy5ikMl8AOCLNhQ9QwuAgHt90Fj1KD8NFnabB06TKV+2xL0Ht3+vRpFWlg6oa/v79StTAF7AxGz7ujqgu8DxYK0qNZrVo1/Ujy4KaT7UMZ8qfHmb/f1jY3NLiZM5wiTVa4Fe+jNmO2bIgaBg1Sekgzu/uhVetWEqq3M8QYFeKEQus0mJifSCPUz89Ped1MCfuvs5iJHj1ngsYnC5DovTJlERKNEuYF8vviokeDhCFbW9Hjo1B2wYKFkbFg09e5ZzaQH5qQwfy0wNbb4B4WhUxZc6oqdFuAc5T3EvO1qWTh4eGhQsGmhJJsLHyit9UWNzfmgptwyl5Rjs7U2sgsWOQcpWrBwoULlWamrWxwLl+5grQZssAtvBsCWm2xC0PUMLi5dS/ZH65uubHmu+/0MxLsATFGBaNwt84HJvOkKCfE1oDm0nOjF49hsP379+tHHBtW4tIIT5kypcpBM8cOngbK+PHjlYwWPWW7d++2iQ4xQUGByOhTHX4NlqsQuLEFxWZHh72aQboFqbMVQOu2HZSRZm3WrVunGkvkyZNHedoMmr6mhq1qeR85U443jfpixYqp/HZzQGPX8OyjEgm/S2trZtLobti4OTLmCkKxZmvtyhDl4KaxWPMNyB7QFjly5FBGvmAfiDEqvANDNDRC6Q2ZOXOm8qyZc9fOXFRW/NJTEJdkiiNBKSx2vKEH05znSy8WPdsDBgxQ4ubMz01skZQpGTxkKFw9i8CnynibqchN9Gi3G4UiF+Kjz9NgyTeLrGY8cOPGdAxuFKmmQEUGc7eMZa4485KdYdNIrVWG5lu2bKkfMQ+MWFy+fBmjR4+Gu7s7wsLCrHZ9uVldvWolPvksJQpr9zjvdVtPoTE2aEAXilyELHlC0bhpc+0Z6zxtWu0ZMUaFN2zYsEGF+rjIMY+R0k2Wqh5m1Sk7wrA63JE7arARABe4ChUqWOzasnqXlfddunRRDQmYp3v8+HH9VfPD75NqCzmyuyBP6dedlV73rDa+mNjDyOLXDN4FArFt61b9LC0D5yS/PxqhrNI+cOCAxfKtaTQxf5L3rrkNX2vCqFC9evVUxzP2nLcELGbiJpWbcqZasDGBpXWYDxzYDw+vAsherM3rphN2aIiq0WEvgjVDOn+NKUiTLhO2bNlsE1Eh4f2IMSqonXhkZKRKqu/WrZsySukNtSRc3Fix6+rqqvJSbSXH0ZTQC8oe/QyrWtIYNEDNSVYEUz+yZMmSSs2AxrG54eLeolVbZMxTCoUbrrC70F/swf7bxVpsxKcZ8mHggAHa+Zl/U0Fjnh262AOd7TqpwmApQykm3333ndLNdOQcb54b89ipHGJp+J3yu2U+OZ0C1DVlYZq5uX/vHkZoz6ZP0noioOUmo/e9PQ2V491qCzIXqIOI0hVw61b82rCCdRFj1Imhl4USOwzfGgSx4+rKYglotNAYpmyUJYwkS8P0BxYsMaxqTVjBy8IMasRSo5Qaiub83i9f/hFp02WET5WJyuNia3qiSRms3M3i1xzFy1TH1i2b9TM1PQy/Dx8+XOnQ0iM6dOhQq3b0YerHpEmTVAcwRwzXM7eaBj83jdYsKOJ3zO+dHlJ+9/zeL126pL9qenbu2I7A8PIq15INH4zd8/Y16NXdjcINluLjL9Jg9y7nlQ+0F8QYdUL4UJsxY4aSa6EHgAYgZYBsAXZ7Ya5q//797aqrUHxwcaHxRw+0rVQk05igl5R5gPSS0hNkao84UxFmz5mHT1LlUN5Eew/PG0Zoh30o1GAZUrsGoN/XvfWzNR2cB0uXLlVtJSMiIpSnzFaMP+Yh8/NQM9ORCkSY7sBzojfSnIZfYqCOM+cmIxm85iymMnVlPxk7ZhQ+S58X/k1W243CRbyD56GNLzIXRK/efcU7auOIMepEcIFjCJx5mdQhZHeWY8eO6a/aDgzXUwieD15H0IpjygEXEhZEMHfT1qAAN1M0OOgxNWUeIvtFB4VEwD204+tcUQfwihpG8a7HkSJXBVSrXlOlQJgCVljT6Bw0aJCSUqOmb3JE680Fe9ZTI5cV/I4g98Q5Sm8or7ktzlF6bJnDSiko3hv8jKbqinXx4gU0aNQUKdxKoXjUMaP3un2O10Z17jJD4O7tj107d+hnLNgiYow6AQx/0/PJqurs2bOrhxoNDluGHjuK4fMhbO+wTWdISIjqVW3LMI2AXmluVPhZqX+a3Gr/TZs24h//+QpFm66JtVDY/2A407P8SOQtVgljx4zWzzhpsMCCIXled3Y8Yl4xpX5sFX5eypNROowNMewZFtgxZSlDhgxKlN7WGhrEhPcEZaA4R6dOnarumeQW50ycOB4eBUrBs8Jo1QLX2L1uz4PFTH//ODMmTZqobToct/DO3hFj1MFhSIfeiyxZsqhe8DTu7KE4iOLtzN2iR9Feejkbgz3YKePE7lX24EGi8WnQl6Xni/qyXOyS4qG+dvUquvfojXS5wvXQn4OE//RBL29Qu11I4VEJFcqV1s868TCVgRsBGhg5c+ZUIuj2EBHgHG3atKna3NpzjjfzpRkVYIGYpQs3kwrvEVbdc9PC/6bDIan3TOOG9fBp1hDtfmZhoWPNUQ4a2JkL1EONuo1x5PAh/awFW0OMUQeFCxy9LBRU5gNrzZo1ShDbnsLeTCmg0DblTuwV5uQ2a9bMqkUniYX3CBdoel4opk5PHb+LxN47hw4eUAU+riFdtUXB8RY5DhYyZSvSGqVKlcaNJIjgs0MW5yc3LBRAp8SPPSlJ0HijPqapWtpaGn5manxSKuv27dv6UduH9wjzdVl0ypQmSrbRq5tYvv/+IqrXrIvMhRpp9/JRo/e4vQ/mqecpPwqehUppm+tl+pkLtoYYow4Ie5Qzt4iDovWUC7FXMfnBgwerooKkPGitCRcLdnChh9FeUw3obaERzUpetkRkj/LE5NOtX78OGV0LwLfGTKOLhCOM8C5HkKtkPwSXqIytWzbpZx4/O3bsUJ5/GvpUV+B15vW2Rxg6pjHNlqT2xtq1a+Hi4oKtW7fapb4xvdO8d7gZYL5rYGCgurcSyro13yGsbB3kDO+l7mVj97jdjw7RKk3os/Q+mDh+rH7mQsKwnPPKAsboq3hOJ/br9uO5szWYw8XKWw4aECyEMFWSu7VgmgGrW+khtafqevYuZ34uQ972amQY4HewefNmREVFqVBy48aNVZVvfCxaMBf/90lGVbhkdJFwgMG8Ue8qk5EvuDZGjhiun3ncsGCQgupsLkEVC15XewkNxwU95kynsbccb+bNc4PF54s9eaONQQ8vDeqePXsqJwSl+hKSyzts6BDkDayl7mG77YqWgBHW6RA+TOODfn1Nr3xhN7zSNlu3N2BMp/6Yu+cybsa197owH/3aDMS0bedhSaFHy3hG/zyPI2sXYNrszThnLNf65U84vn4xZs/ZgGPmaa3s0ERHR6tQMHO3uChQEsae8yxjwwWOVcUU+7YHqFpg0Ad0pO+BcjdTpkxRxmjlypXVwhdX+sHzZ88wZswofJQqt2awHTa6QDjCoIB/4QbLkbNYI83IrKuf/btQtJ7pJhSM5/UzRCwcBXZnYkoKnz/2sGlkSL5r164qV/R6EtIrbBWeC+8t5vLyXuvVq5fSFY6LBg0ikSV/Tfg3+dZhZNeMDabTpHSL0DYe7bXN9R397J0NbcP16wI0ypkJge2XYovRx88TnBzsD5ccldF12UlYMvHGMsbos9PYMLQewvOVQOMFl/BIP2zgl+0D0bpEMILrT8Ze6dqVYNiZg3IktWvXVjv8cePGKUPI0aDnhZ2DGPK25QpjYsjVZa4lFwF7ytFNKJT1YStKGh9NmjRR5xvbsKLQfYfO3ZA2TzkHEdE2PlQRU9tdcAloB3+/gvrZ/wWNNObeNmzYUG2ounfvblf5w4mBRVg0gCgPZuuMGTNGRZAoH+eI8B7jZpH3HPWkuYk0pp0aUSIU6fJFIoRd0RxFX9TI4IY4a5GWqFa7Cfbv26ufvbPBtegC5lRMh4z5W2HwxquvD79BM1YfRaNvgU+RrcxwLDx2Xz9uGSyUM/oKPx+chq/LeiGTbwvM+eHpX8H4X7dgVI38yFugOjos+wFii8aPoWUcvaHMEerYsaND7e6NwVBxv379ULRoUVWhbqtQs5Nt/NjVyNFhL21q1TIsSCMrZsj56JFDqFa3KbL4t3BIuZiYg4UfOUJ6II9HzjebD24KeS8wtYG5oQzN27qcmilgK82wsDAVrbFVdu7cqRo9sHre0eEc5UaIaSFdunTBxo0b3zgs/tQ2ziHBgcjs3xrFu54wem87ygjrfBBuJfsjoGRtLFvqmBuQhPLr0hookKUgKg1ej7d85i8e48/odsj/eXZUHX8QZywcpbZgAdNDXNsxHE18MsGt/jKcf8iH9m/Y3784CvtEoM7YaIvmJ9gjrLTlw4Wi9fQSsj3ghQsX9FcdH+pe0vimUWqLubDME23ZsqXyDjkTNDwoG0ajlEb4lStXsGH9WpSp0hDZg7s6hTGaK2IA8ub1Vt2JLl68qIqS8ubNq1rtOoJWbkKh+D9zMDkHWFxjazBywXQmevRteVNralh4yPOmugrvTa4b586dRVjxknANiVJhbGP3tqMMPoPylB+DAsE1MHv2TP2qOCm/r0SUX1b4VhyI6af+ity9eHQTe1rnwGfurTHt2K13ItjmxoLGqMazG/hhVXsUTe2Gmosu46dtXVEuly/K91qN/aZp+BIvrJik3iMfSvYwWPzCn/R80vuUOnVq1RqOFZP0wtjTuSRncGGjAUqvxmeffaa8cPwzjxt7vyUHPwMHC1K4SThx4oTTfC+8P3muFAqn3iF1MilVVD+yLsLL1YVreG+EMQRoZIFwlBHe5SjylB0CNzc3lTaTNWvWN1I7vEd5bQzz2NEHYYU6PXFs6ct5YSvn/vz5cxW65vOTkSVi7H2ONnj9eQ/yXmSRK/WDc+TIgf79+qJwkQDkKtHTKYxRr0oT4V2sKsaNHWNX3z3nkGl5jN09iyF/gQpoOOUEXtcxPcGft1ahtcuH8O60HSdvx9Uc4JVmd+j/aWIsa4xqvHhwGcfGFkeWbEVROPNXyN96HtZetJwNzjzLVq1aqXAvw2f2MIoVK4aPP/4YKVOmVBIq9EDRQ2jsvY4+eC0yZ86sDFJ2C2JnI2Pvs+QIDQ1VhshXX32lKugZpjf2PkcfNEB4b/Ja/O+j/+DDLzLDo1Q/bSFwbGOULRS9yg3B3//+AT766EOlu0mZHV4PZ5ynPG9eg//85z9qjtrKNeBG8aOPPlKGmLM+P/ndUBGD38+HH36If/7f/8GjeDfV2tbYve0og88g35ozkDl3KNxz5rCJdSMhg88R1oSYnAP9UL9QQfjXn4ydNC6f3MKtZZHI8nEx9Iz+GT8brbR/hWcP7uDOr4+YXWpyLG6MAo/w+NJUVEv9d3zwNy80W3EOP8VnaT/9E4+fmsYcZ3UzJTCYbM+qc3sYc+fOVQ8Ptt4bMmSIErDnzp7J98be74gj5rmymIkGT6lSpTBx4kTlgbLGteC/yX+bMlosWGJBBP/sbN+NYfC8N2zYoAomUqX8Ep+mzIZcEV87QZj+GPJWGIa//+0D/Pe//1VV2itXrsSKFSvUfeBM9wLPledNjV2qSTCSw+cXO3kZe7+lBr323MzzM7Ha3PDdGHuvIw7Dfcjv4bvvvlOpXp99+in+7//+hTwRvR2sJ/27g8+gvFWnwK1AWTRp3FBdA2PXydYG17r169fr1ospOY5Zjf3hX6Queu7RbKvfjuObuhnxRfgkHP7l0V81PeTVb7i1dxLaBOdCTq+CKOSdE64F66Dvt+dw3YTdVS1ujD6/fwpr2xVAzvCu6BLhhvw1RmDeUeM6e4+OT0ev2iVRPCwUgdqOLrxyO3y99CxeB4OSBvXk6PZmNyJ7GHTTP3jwQFVmU66DIVD2OmfIieFRY3/HkYchdLFnz543+U+GcL2x95tz8HPwJ0X5IyMjVXierTNjv8/RB68Drz9DgVzk6HWoXLECwsvWRo7Q7k5gjB5FnjKDkN0lGwYPHqQ8b6zWZocczlNj18yRB+8HhobZ753eHRrnlFKyxtzgM5LfAyWnuHk9ePCgulcNc9eZBq8/z5upJGwl2rNnD+Qv6Af38O5OEab3rDgOPgHVMHHCeGULGLtGtjg4l8zB5XnNUaNoCEJ6rsC5C1NRN0NGlJlzDXefvO34u3NwMcY1DEe5Xsux7cAhHDoUjfVj6qJs9T4Ys/YiTNVOx7LG6KMrODGrCfyyF0O79Vdx49Ao1C+UH6U6zMPWt3LJn+HlvR0YUa0cGnQZgtFztB3dkpkYHdUEjSNbY8Au5xQjZf9nVkQy54lt4JydAQMGKHkh5qhZC3Y+MXhEnRkaoqxOLl26tPKKrVyxDNXrtUTWou0c3hilVylneB945nFXRXYs4mIYmFEMFh06K8xpp6ecrTYZjbIG/AzMM2cHMX4We+yyZCpoiPKe5L05YcIEVcBEnVWXgA5OEKY/iFylh8IvrBYWLVygXxEn59pijKhfHD6eYejYtzZcXOrhm1uvYika3cWh+f3RqHBFDIup3vfHWvQoUxdRY9fCVEJ1FjRG7+PKxiFoXjgn8jRdhYvPeOwhjgwrjcCCpVBrxC5cMRjkz3/Hk0Od4JW7GeYd+fUvl/H3SzGrc0X4d3RWnbDXFeUUMqYBRD0/ek2dFcoIMZ+GXskff/xRP2o56AllHhof7NzBOissrmvbtq2qqJ89e7aKPvx05TKateyAjPlqqIXA2ALhEKNDNEI77INLYCfkz+etrgcNHhqkvB4sajOm7+gs8FqwWUWFChXUfLE0rBrn5p2beHttiWwKqHDRo0cPFbWgHrWh41R4aBDS52+EMEdtBaoPah1nD+qMslUaJqptr2NzA7sntUSZlH9D2lw+8Gi+BT/rr/zFPVw6sAWLJ6zEef3Ia05iTOUG6DFqBY7pR5KLhYzRV7h/fC6G1/RFZq/GmBHz2XxvM0ZX8YWPv2Zlr73+2ip//geeHhuHZoN24Ordx+ptinvR2Dm9JQpGfqsfcC4MGobc4TI8zWIeegedSaIkNlu2bFHdgBgKNFwfS0CPFwWl2U2HcjbOCtNHOnTooHqs00Nt+A5+1zZJgwcPxmcZCzj0QseuNUWarkWOos1Qvnw5de4GmJtIzU0a6iycdFaoEcz7gxqk/G9LwX+Lz0duGO2plbCp4RylFjULK3lPxqRqlYpI71MTAS23qAYOxu5xRxhMpUnvXVXbILfB5R+dd3MYm3vRk9HT7z/44KtAdNytPITvwEf6y5cxS5ae4pe9g9GkZjcMX3JcM1dNg2WM0T8OYVm3kvDKVghVpv/4dnKsxt2NvdGwkBvcS/XDt2+6Jz7VdrJvywg8ODgX07tFouKYt210Z4XJzZTpoPfFkVoLJhbu9JmbRtkSS8A8NPacZ24guxE5I/R4UfOWeczU0zTm9Zo9cxr+8b+MCHHgNoP0+uarMQtegfVUDl5saKDTQ1qzZk2VQ+mssHCGxpAl04tYtJQ/f36rpvFYG95z7FPPa2+sex29pbn8a8G35hyHTqeh/NonGQujV89ueKl7hQVtLTs8A8Mr+SBd0HAkpCXH8wfXceXYdxjfuBKajV6HnddMl/ZiEWP0xeEpGNKgAkKaz4fxpfsqdoxpjFoRtRG1+V3r/OWL5/jjx82Y07sFatUdgPWWbJhq47CrCwt5GKpmKMYZYYEC21NSRsbQAcicHDt2DNmyZVPVqc4a+tu+fbsSNqdUTFwtaFevXokv0nmgcP0lRhcIRxjhXQ4jd5mhKBJeLc7OLjQIqlWrpmRaeO8YQqTOBiX1KLxOjWRzwzzR6tWrqyYUzgg3i0eOHFFGKFMk4toILVo4H8VK1oZ7qUGqZaaxe9z+RzQC22zHf1LmwagRQ/UzF4Dr2D66DsI9fBAxIT5v8XP8+ctFHFrQFTVLVEHHecdxOTmV5EawbAFTkvgFJxd1Q7MqNdFg4Gocdd4UyThh1xd6BpkPdPz4cf2oc3H06FEl28LWd+aERWTsfMVcVWc1RKnmULBgQeVxoZc4Lnbv3oWCAaXhETHAyALhGINVyDmCO6NkqXI4d/at5npvwVxvppJQI3fbtm1OaZBy00hjtEaNGmbNsf7tt99Uq2R6pM1ViWzrsCkIG1C0b99e3XtxcezoYVSqVg8uRVsr76Gxe9zeB9MP8lWfDhevUO3ZNU8/c2eG3syX+GX7YLQO8oZ7WG+sfq9d9QL3L23CrKbhCGs+G9G3nsB4QD952LYx+jAa4xtWRN0OE7Dw4HX8/vyl3i1AiAnz9KifSuPAx8fHYuFqW4MVu66urkpDzhyLPSWkKNlDzddbt5yzeW2fPn1U6HPgwIHxGuPnz59Dwyatkcm3pir0oYfC2GJhzyO88xGk9qqFUiVC9bOOG87RyZMnI23atKrQiwoEzgb79bNFqjn7wjP0TFUHa1XwWxOuBdOnT1ebHqYvxZcrS5mrenVq4Su3Mg5bUR/acT+yB3ZCeJma2L7d+e6Jt/kNG9oVhk+6/+G/X7qiSP2hmBOPh+/Jxc1YM6AOqg47gFt/PoUJpUXfwkaNUc3kfHkZS1vWQJfJa7Ht4n08ESs0XpiwzyIBeq1oNDkbVBaYMmWKyuWkt9jUMEeX15bheWeDhpMh94yGFIvo4uPp0ydYuHAB/vG/NAhuu8PoQmHPgzl2vrXmwsW3IqK6dNbP+v3QO8iGG9R5pGHvjNJPVJ+gvJCxHMbksnr1aqUnSqURZ4NzkoY4u/QtWrRIeYgTwtd9eiGdeygK1F2oCvKM3ev2PFhJ/1FqT/Tr198iaVy2zXPc/+kMTh09hEPHzuD767/h4Xuty9s4+u1k9KjXD5vjrA9+9U4dUFKwTWP0+R94fnQoqtSbjD1xRxgEI9AgpfYlW1QyLJgQo8GRoLJAxYoVVWGNKR88+/btU2kADP9RyNyZ4DWlYgE1XVmIQm9KQjl+/BhccnrBq8JIzSDdqXtIjS8a9jaKdz2BTIWbIqJcVdWEIaHQo8wNDQ175lEy9cOZ4P3Eoku2ZKZxbiroBWRonuoOzha5oKJHixYtlJHPe+t96TOx2bF9G0pXrIUsfk1U1bmxe92eR/7ac5Aigzu++3a1fsZCgnlxCGuGVkXO/2RFSK2aKs1GjcqVUK5sffSeuxsnTZQJY5PG6Ks/f8bVUYWQ0rM6GrXqpCrgaFh1jeqMzj0GY9Tc/fo7BWMwH4vhQGqRUlbGHF5CW4VhKhZ1UWh7wYIFiTKc4oLeK3ZwoZF7/rxzKTkwB5k5fjz3jRs3qsKIxHD37i/o3vNrpHYNRGDrrY7jedGM6oBWW/GlSzDat2ujn23iYPtUFoExz5n3rDNBJQZ6ME0Zrm/Xrp1KAUjMxsARYKESW/DyevKeSizPnj7F131646N0vgjihtHY/W6PQ2kA70WmfNVQs04jXLxwQT9jIcE8v44f9i7BuL79MXjQIAx6MwagX9/RmL/tDC6bqHTCNo3RJw9wfWVvtGrWBJH1G6BBg9ejfmRd1G3cCT3GbdPfKcQFjQaGA+khZUUpteaciX79+ikviSkqd0ePHq2MBvbYdhaYc8uK+Tp16qhNDQvEkgI3B0eOHMbnX6ZGochF+kJh/95Rhv5ylxkEr0IRmD8v6fcFDXwaUPS683o7C0z7YG63m5ubKuhK7CYnNsxFZXiaxlhyf5c9wedbvXr1VNSCHaaSyorlS5E9j7+KYDDH0tg9b48joMVGfPRFRqxYsUK1QxUSQ0LD744cphdMBr0ERYoUUfl+9HIZRMkdHYbSqS5Ab0lyujPRCGPoi/l9znLtGEZes2aNMpLYvSa5TRWYyxsQGArXgOYo1mKDYyx2Hfbiy+yhaNuuI65eTV7TA85LGqMlSpRQRTfOkgbCgkCG69kY4PLly/rRxMNqcTYAYb68s4jb8x5hw48yZcqo5huUDEsOly//iPaduuIrlyDj97udDXpEg9ruQO6IPnBx9cClS86VCmOPiDHqBDBMT8OMHq6DBw86jawMQ4HMS2NYISnQe8OHPT3LFy9e1I86NjxnSjdRP5QSVqbwJvB3rFq1Gpmy5kS+6lNe543ac+6ottB5VxqLFOndsWiBaaRiaFBRhoeFTevXrzdJeok9wCKbPHnyqJ7pSTEkmXPKLkssLHyfhJEjwc0ihfypnMJnk6nOe813q/F5ikzIV3USQtrt1u51e56j0fBruBypM+fB6NFj8cAJCwXtDTFGnQQubvS+5MuXT1WxOouXj4tcuXLlVCV8YuD1YSEYjTJnCp9yYeci17dvX/2IaeD1LFO2PLLlq4RC9RbZdbcX5r5+ksoV/fv3j1PwPynQUzhx4kSkSpVKbQicQSOTIfX9+/cjY8aMqhI+MXBTTe9gihQp1MbTGTbZ3NhRzSJDhgzq+cR7xlTwXu7btz++TJcLAS03afe6fRqjzEsv2nQNchRpBO+8+Z1SscIeEWPUiaDXi6EsFvdQg84Z4ALVpEkTpTuY0A5VXCCZY5suXTqVg+YMYVPeG/SEsoc4C7/MwfXr1+Hu5oasRVojqM12u+uFzc8b3G4nXArXg39AOE6efLcFanKhAcrNYvr06VXesymrzW2Z7t27qzm6e/du/Uj8sHCHm0VuCpwhH5D3Rs+ePZWGKA13c3jPL126BE+fQnAt1hSBrTbbX8GhHnHJXWYIUqdJq9KsnCmH2J4RY9TJ4ANtxowZyuhgpb0zeF+YT8WOSewPnhCY48jwPvPZbt++rR91XCgHRpkhepDZucWcHqbp06bB07co3Ev2Q7gdiWy/NkR3w7f6NPzrf19hkxmvE8OwbGfp6+urKu1pIDg69PAxd5SpCteuXdOPxg1Tj6KiolTnOVN6B20VXhO2fGbDCRYtmSuNgxvvbdu248NPvoJP1clv7v3Y88FWBzui5as+Fa5eAcpwdwZvuaMgxqgTQgOUWnTMh6SBlpCHv71DEWgudlOnTtWPGIeyWBTMLlSokFPkibJ4hoY3jZ7o6GizP7yfaoZW/cj6SOcWpBYNu+j6QomYjvtRsO5CfJ4+j5KZe/DAvKE/pjXs2rVLbRCo68fvxtFhVT3VP9jdKz4Y2eGGOjGeVHuFef4sJuTzmudrbk/fo0d/ooO2KUjrUgD5as5CWOeDdpHjzXamhRssQXrPcggKDlEdzwT7QYxRJ4U7YFZMV6tWTS12SZXusReYNzRixAgUKFAA33//vX70bWgAUCKGaQyrVq1yyLxawzlxQWOhDOWvGjdujBMnTB9yjgsawJWq1kLKHMHwrTFdeTOMLS42MbRFWHVaqjkb6dxDtPlSVdfttcy9QSOU0j0VKlTAypUr9aOOC0PuNMDfd64MUVPKiClHjg7lr6jxS4k1S+qn8h7n2pAxdxh8qk1TUma2bJAqQ7T+N0ibpwKKBBZXucSCfSHGqJPDBxy761AexBSanLYMjVB6grm4Gwtz0SCjwDs1bR0ZduVauHCh0k6l5Jc1PON7du9C2fJVkDpnKArUnvN6sTOyyFh16IaoT/UZyJK3LCqUK4Pjx47rZ2A5aLyzoxhzKpnP64ibJAPsnMROQvQEGqsSZ6ch5jZzOLKMEzeLjObQMKegPe8BS3P48BFUqlgBWb1LI2/VqTZrkPJz+TVchnSelVBUM0RXrki88L9gfcQYFZQOJ3ffDANRhNuRiwHY6Ya965mmELMwia1DWUHO0F9ydTVtGUrpsH9/8eLFVWvTxLQNNDUHDuxH8ZJlkdY99LUgfsd9NpOfxsINhubz1ZiFLN5lUa5MBI4esV70gBuGzp07q5SKefPmqXQSR8NgZDNczw0yzzc2zBPla4xgOCr8btlgg/rG1Em2ZhqVShGoWB6ZPUuqucA5YTM5pJphHNrxAPwbr0IGr0oo5BeM1StX6J9csDfEGBUU9BSyyIcC+QyRmStB3trwvCZNmgRvb2+cPn1aPwqVS8qQNT2GjgpTFai56ufnp0T8bYFTJ0/Cv2gQMuUpjoJ156kq+9feF+t5YEI77NM+xzb41pyD9JqhXKFcaVW5bS0MRhqNFHYD42Zq5syZagPlqNDg9vLyektWjWklfD5NmDBBP+J4UD1h2rRpcHd3V7nrhk2HNb3hNEgrV6qE9DkD4FtrDgJbb9PmqJUNUu0ZEdx2J/waLEWWfFWQx7sANm1MegcqwfqIMSq8BSVWmDPJ3vbW9JqZE1Yr0zNINQGGBalRyLAgw4OOCiuOKXFFcXBba2tKya3AoFCky+QG73JDdY1DIwuQRcZuZRB7RPTBJymzoUb1qjh58pT+Sa0PvfnMI0yTJg2GDh2qlBAcEZ4XN07cNFLdghspaiQzeuGoRjijFsyZpYbo8uXLbUpS7vTpM6hduxY++SojPEr2QWCrrWquGJ9D5h+BrbbAt9pkpM/mrbREaTAL9o0Yo8I7zJkzR3klKLPC/EJHg14GGkBZsmRRRjdzJ+kVduSFnSE/tptkhbYtQo/1lClTkTp1GqTJVQqFIymMf1BbeCzkIdVz4fwbr0TanAFIm8EF02fMtMlwOI0UFhy6urqq4rPktNK0ZahmwdQhhqpZwMOmHdbInbQEzI9lrjp79XNzbEuGqAFuaOfNm4+UaTIrNQz/Rsu1OaPNGwvmkTKHu0iTVcjsWwuffvYl+vUfoIx4wf4RY1R4B8r7MCRG7yGreB01h5IeQrYipOQT9TUdEYr309NNr+jJkyf1o7YJDVIKyZcpXwVfpHNDVr8mKNpsnaqUNU8/+9eSTWGdD6No8/VKjP/fH6dG/YZNcOzYcZvOneYcPX/+vLp3Wdi0d+9e/RXHgZtGGmZp06ZVnmBb3UglF24s2KqZaULnzp2zaW1MRpVOnTqNOpGN8L8v0iOLX3MUbco5ekSfo6Y3TJm/zWdAQMstcA3pgi/S54Ff0RDs27fXKTRmnQUxRgWj8IHIhz8rzymI7ojSTytWrEDq1Knh7+/vMIu5IbeMP7mh8PT0VOL9Fy5cUMftAXqtWWRVJCgCH6ZwR2qPMvCqNB6hnQ5qi9Jh5R1hXmdSFj4ubPz7Sk6qw174VJmIFO5l8FFKVxQNKYdZM2fg8uUf9U9i+9B4oUYs9TlZlOdosLjyH//4hxqnTtlOuoSpYH5+SEiIUrXgd2kvcI7OnjUTxULL4ePU7vgqZynkrTxem1Oa4Rh19PUcVd2bkjBHtXmp5qi2SQzrfAQ+1acjvXc1fJjSA94FgjB8+Ahc1J5n1syjFUyPGKPCezl8+LDKpeQDk20KHQXmoXEBZyoCPRI02Ljrt2cMD2c2NWARRLFixdCrVy+7bGrw8PffsTd6DyZNHI8GjZrDxSsMn2UNQvagTshbdQqKNluvJF3YxYleGf43xbkZ2udCpn7yz3yP9np41Ov3FWm6Ft5VpyJ7YHt8mjUY2b2CUb9RC0ydPAF79uzW7gH7y5PmRoOV54xkjB07Vj9q/1C6qUOHDiqNhmkmnKPG5J7slYkTJ6rUmY4dO9rVZtEAawr27o1Wc6dhk5bI6ROGTzJrczSwA7yrTFZzLUzbPCZ4jmrvY5SiWIuN8Kk2Ha6h3fBZthBkzh2KWnUbY+yYUdi+bSt+FTF7h0SMUSFeqM/ZvHlz9eBcvHixTeYzJQZq+LGanMYoQ9fTp09XuWnxdWeyB9i+lFW4NEzYDs8Rwlhnz5zBxAkT0KxpI4SVrgHPItWQ3qsyUnvVQBb/VsgV0R+elSYgb7Vp8KkxC/lqzVE/82oLGj2qfD1rkVZIlac6MnhXRp6iNVCibHU0bdIYkzVj9+zZM/q/ZL9ww0EReG6sWNhk721+uTGksgVz1yn8v3XrVtUVjSoCz549099lnzAPf/jw4ep5yjlqj5vF2Jw/fw5Tp0zU5mgTlCxXE55FX8+1VJ7VkNW/JXKV7KfN0fFqTr49R6epuZur1ACVJpPGuybSeVVCbv9qCImogUYN62PM6FE45uBNWQQxRoUEQk9iq1atVMh+9uzZqrrVHqEhSqF/Fn+wkwv/zNxAel1onDLH0l5h6Kx3797qPFiJ7GjQE7N+7RoMHTJYW6QiUb5sBEpGRCCoZFX4BteGT3AkvIPqw1MbXtrIq/25QGhtBJaogojSpVGuTHE0adxQ+/tDsHHDejyyc4PNgMEjzo3HmDFjlFbuEO0cuTGxV9iAgxvEHj166Eeg2rAyh51ayPYKvxNuFihRxY5whs2io4ScGVnYtHG9tiEequZa+TIlEBFRCoHFq6i56BPCORqp5ijnqk9wPTV3A0tU1eZyae39JVE/sg4GDhiAVSuXqwiJ4ByIMSokCi4ObKnJ3tD22AHl0qVLapGjrFNMpQBW6bKalVX19uh5oSHKdIqAgAC1WXAWrl+/hg0b1mHC+HHKSP366z7o3r0b+vTpjcGDBmLypAnYsH4trjuA9+l9GIwZ5nozF5pV2f369VP3hb3BLktMn2FqUMwoDDcjnLtUELDHcD1bbNJ7zaLJb775Rm2EnYEbN65rc3CdmotDBg96M0f5k3+eMG4M1q39Tvve7e9eFUyHGKNComE+IsNn9Cbak0F69+5djBw5Ejlz5lTi0rFhwY+vr6+qsrcXTwUXNC7erMZlZXVMkXDBeWHBYfbs2VU0g2k29gS1NoOCgowWFfL+Zg4pnz32BOW3uFnks4dd4ARBeBsxRoUksWXLFtWaMK4e0rYIK1ddXFyUSoAxrwSlhWiIpk+fXnkxbN0g5TkwrYDdWiIjI5UuoyAQ3rvMRWSeJb2J9iIKTkUAGptMM4iLUaNGqZxoCsPbA4y6cLPIzmf8ThwlJC8IpkSMUSHJ8CFbs2ZN1dXnxIkT+lHbhAYo882M9buOCRcLejC4gNuy4D/DscydY7cWhmOvX7+uvyIIr6HRw4YHFIynfNmyZcv0V2wTbmpLliyJli1bvrf7GxsRMH+Uxp2tR2bYLYs5vEz/4WcVQ1QQjCPGqJAsqI1HA49t+/jgtUXY8pNdXFi9mpBWgjwnCsWzyt6WDFLDQkYPLjtHMeTHPt137txRxwXBGLw/mOvNohkWz9gqNNhoOFPoPj6OHDmiNJDZlclWYTEZDWa2WLbnYjJBsARijArJhvlQ7BlNDynlkWxt9z9gwADlcdmwYYN+5P0w/E1ZGRqku3fv1o/aBjSsKQdDw4LC8FQ5EIT4oEHK8Daln6hraWtFemxBTC1RFvYklG+//VYVUybm71gCylLRc8trzYp52SwKQvyIMSqYBHocDYUH1NAzViBkDeitZcidny0xUO6JKQj0vthKZ5SzZ88qFQDmn7GIzFmqcQXTwI0L7xveP23atLEZbx03szQq+dxITJ9xysvRwGbRoa2oBnCzaJijjF7IZlEQEoYYo4JJYeEBPRz0RrIIyJrQI1G+fHlVUZwUYWn2/ma+F0Ob1l5U2AmLkjbsQ75o0SL9qCAkDEO0glJJLPzhHGXqCu9xa0JxfjbUqFixIn744Qf9aMK5efOmSr+hFJS1N8DsokRDlBtyemsNslSSJyoI8SPGqGBy6H1hwUSXLl2StMCYCuZqlStXDtu2bdOPJB627GOIf968efoRy8KFjJXQVC1I7rkIgoH9+/crjyKLhSgDZQ2DidEHNp7IkiWLuseT8hkYHWD+aNasWZVaBn+npeHnZgFns2bNVKoSO0YJgpA4xBgVzAIrvSn9xKIEa/RdZpclCn8z9zO5MFRfrVo1iysGcGHlIk2jgYUd1vZiCY4FFRgo/VS1alVlQFnaID116pQKz7PQ533V8/HBzz1w4EAlkk8j25LQGOYcpWeXxUrWjgYJgr0ixqhgNk6fPq08enxIHzt2TD9qfhhSZ3U/FyhTFA+wa1PlypVRt25d/Yj5YRHE5s2bkS5dOvTq1csuu10Jtg/D5Ly3uXFctWqVftT8MMezU6dOqr2wKbyZNEiLFSumlD2Yg2op2CiDzzc+52xZCk4QbB0xRgWzQk8Bw/U5cuRQD25zw8U1KipKiWKbsvOMQYzbEtI4PAfKSqVKlQqzZs2SIgjBrHDjw5SWfPnyqepvc8NcSqbysEOUKecoG0DkzZtXFUJZgvHjx6tNLyvnrZEeIAiOhBijgtlhhSl72VMXkzmY5oKL3KZNm5QQPFsJUhjeVPB3sZUoc8LM4eU1hEjpyeXi5uHhoTxVFPgWBHPDDRCrv+khZdMHc4bsmdtJjyiNOVMzevRoVeS3ePFi/Yjp4XOGBVPMi+fzjNdOEITkIcaoYBEo2TJjxgxlzFEn8/fff9dfMR1MC+ACMWjQoGTloMXFjz/+qBah0NBQs+g0MoeuQYMGSp+QGoq2pgUpODYMM9OIYwSAOdJ3797VXzEdnKO8x5kDzeYNpobnQNWJGjVqmCXHmh2tmAdPuTjmo0toXhBMgxijgsVgKIthZxYa0KgzZW4XpZvoUeTvNsciaoCFHpTFMXW4fvv27UrXtEqVKli3bp1+VBAsCzdAa9asUTmQLGwypcYuowsU3KcqhDl75bOIicY0JaNMCdMAqlevrq4NVQAkNC8IpkOMUcHiLFiwQGkDUv/TFCFvhs3Y+YmFBCz6MSf05vDzM4xO7U9ThDPXrl2rFjh6XNhDXxCsQcx7mWku9P7xnjRVpT03oqVKlTJrqo4Bw6Z37ty5+pHkwWvA1qM0pG2tK5sgOAJijApWgdJP1O+kbNK+ffv0o0mDv4sVwazOtQRMMYiMjFShwORIudCzwg5RzJ9r1KiRzXR6EgTCyAU3jfQyco4lxxNIvWGKwbNHviXyoJkWRDUNNq1ITgSG57xlyxb1fGFXJWvqJguCIyPGqGA1mCNJjyBzJKkLauhYkhjY0rB+/fqq05Il87fY+SVbtmzKI5uUancatAz1ubu7q0pmc6YWCEJSMUg/hYWFYdmyZaryPrFwXnPzxmFJiTdDWJ05pEnJIee5co5ys8hrIPmhgmA+xBgVrAqNSeaP5sqVS0k/JdYgpYwTDdGtW7fqRywDw5Zsq5g7d+5ES1axbSGLuVKnTq1+mqPYShBMSYcOHVTzBapiUOg9ofC9NGLz5MmjlC4sDdMNMmfOrPJgE+PZZe7slClT4OPjo55PgiCYFzFGBatDz+KECROUJBMXgIQudpSIYWX72LFj9SOWh15Z5tUdOnRIP/J+aHwzVJkxY0aV3yoV84K9wLmZP39+tG7dOsFz9MaNG+penzNnjlVkyvhv8t+mQZrQcD2NVhZaUbPUEvmtgiCIMSrYCAxbU1eTWqT0dsYXEmNOGFsJUibq/v37+lHLQ11QajNS2D8+uSrK2rAIgnlsBw4cEENUsCtogNLDyDxSannGN++4yWS+acOGDVXrUWvBFBjD5+Bm8H38+uuvqFChgmqaQXk1U2oVC4IQN2KMCjYDw9UMeQcEBCiP4/s8GWzNSY8kK9qtDcP1XLze172GIUou4MxhS6gXVRBsDabR7NixQ+mEcp5evHhRf+VtmGtKjyRzopkbbk4R/YRw9uxZ9VlYZR+XSD11SVmBzw3jtm3bkpTDLghC0hBjVLA5WLlLCRXqblIzMDY0/pjLRS9NYvLXzAUXWobembvKRSw28+fPV8oB1D08evSoflQQ7BduqJo0aaKMt507d+pH/4LyR2wvyraf1jZEDbDjE/vXb9iwQT/yFzSweS48Jz5zbOUzC4KzIMaoYJNwcaAXkSOmCPylS5dUF6dhw4ZZNTwfG/bY5kLGcKChup6GMqvtGdZkAciFCxfUcUFwBChzxAgGPf7cIBoq7XmfN2vWTIW7k1J9by74WajewXlKTymh95O55zwHdoaSOSoI1kGMUcFmOXnypArH00tKPU5qenbr1k1JrbAtn61B8XqKerMdKXNaWfBBIf4+ffrY5OcVhOTCDSElm6jByWYQnKOjRo1CkSJFcOLECf1dtgM7P3Fz2K9fPyXPxvan/DONaqpcCIJgHcQYFWyaW7duKWkVLm7U42RV7PHjx20iPB8bhvZmz56NLFmyqHahbm5uyjNqkJSR0J/gqNDzz7xpekMZHaBBaquMHj1atd1l0wqqcbRr105/RRAEayHGqGDzsLKe3VQ++OAD1aIwrgIEW4AFVayW/9e//qXUAcQAFZwF5k3/4x//UJ5GW44EXLt2TYnYc4527dpVPyoIgjURY1SweVhVT7mnlClTwsXFRS168ckoWQPmobGt5+eff640Clldb8uGsyCYEt77rFhnTjc9pExVsTUo80SPKEX4CxUqpCrnBUGwPmKMCjYPczDpbWQrQVajs5KelfbJ6Qtvaihgz5AfF2EWM7EAK1WqVKrvvi2mFAiCKRkzZoyKWixZskRtyii7xnn6448/6u+wPpyX1CZmUSTlppiHzgr6yZMn6+8QBMFaiDEq2DQsiuAiZ8hBo2HHnFEWNbFogsaetWFLT0rGtGnT5o02KlMLGAJkT++4tBgFwRE4d+6cknEaOXLkm0YO7AvfqVMneHh4KJkna0P5KU9PT5V/zsJIQl3jSZMmqdxuqnQIgmA9xBgVbBbKrFStWlXpc8YOy9MgZViQ+p3sfW0tBgwYoKr7WZ0b21PLVogsvOJr8XV+EQR7hB2KqCDRsmVL5XmMCQ28Xr16qbD9woUL3xiqlsyj5uaV/zY/A9N7KEcVE24emzZtqja3NE4FQbAOYowKNgu1CpnfFZf3kx6Ztm3bKo1AVq1bsnUfjWMubuHh4cojFFfBBjUMKe80d+5c/YggOAY0Ktm7nYZedHS0fvRt2F6TKhhMYRk7dqxF80gpO0Whe4bi+Rl++eUX/ZW3OXLkCLy9vVWEw6B8IQiCZRFjVLBJ6M1gu8H4jDhqBVJ7lIsdFx6D4Lw5+emnn5R2qL+/v1rA4hP2btGihZK72bVrl35EEOwbGqKMTrAQiC02Hz16pL/yLvRO0kPKlBXmf1uiTz2fC5RXoyHau3fv925U6bFlpyimGhw4cEA/KgiCJRFjVLA5GO7Onz8/hgwZ8l5PiiHcx4p15pQa8tbu3LmjjpsDemNp/DL/jH30EwJD9AwD0tNLT5Eg2Ducow0bNlQSScyPTgj0jHKD2aVLF7WhMxf83YxaFC1aVGmKJgR2YmIOOjeOkj8qCJZHjFHBpqCHhTlczBWl4ZdQ6H2hrmf27NmVJ8QcOZqs5m/cuLEyRFmNmxhWrFihDFLqpQqCPUPjc+bMmciUKZMyShOTA8q0FRqklFSi3qepoSHKbkrM1WaL0sTA/NGcOXNiwoQJkj8qCBZGjFHBZmC4e82aNUifPj0OHTqkH00cDB3mypUL9erVM6n3Zdu2barDDEONSTV0aYgGBgZKuF6wa9atWwdfX1/MmzdPP5I4mKNZsWJFJbNEL6SppM9YQEUjtHz58kl+fjD3PCgoCEuXLtWPCIJgCcQYFWwGLiZZs2ZVeaIJDf3FhgsbvTUsLGK+GHtRJxfmhTJtgBXDLIpIKkwf6Ny5sypoii/PVBBsEer8shd9csXi6YWk9BPb++7fvz/ZFfYsoMqWLZtq7ZncMHudOnXUYCREEATLIMaoYBOwqIEhcOagmaLiliFAhvtZZEQh7qTC3DMK7g8bNgz37t3TjyadPXv2qHOkJqkg2BMMXTPfk979K1eu6EeTDuc8u5RxA/rNN9+ovM2ksHjxYtWZjXPUFKF/yj9R25jPD1N5bQVBeD9ijApWhwVIrGZlZe7p06f1o8mHHlJW8TLsxkUvMXDhbdKkiarSp2fUFIYo4YLL/FGe65YtW/SjgmD7sMsSi3zmz5+vH0k+lFtijibD/qx+N8yzhHhKHz58qAxQFi7yd5iyHz7PkQZpYp8bgiAkDTFGBavDPFGG1LnYmRrmd3KRK1GiBHr27Jmgnvb0rrAIgvql9Ni8T7YmKdDz+/XXX6twPSVoBMHWodZv2bJlVVcxg3i9qWDKCo1Jptbw9yekhSjzwalqweeGOQqOOOfZrIKbUea4CoJgXsQYFawK+1gzPF+lShWTC04bvCvMP6U4N4uPuIC9L5THPDF6RLkwbtiwQT9qeriYMoWAeqWW0EYVhKTCyEXNmjVVxzNTRi5iM336dOV5ZQqLoWWnMfgZmBvKDSYjKuaCLU35LKCyh6k3pIIgvI0Yo4LVoPFJ45DtBJNa/RofBoOUPxkeZ/4nCyfYajQmDJ+zh3aDBg1Un/kTJ07or5gH5qIxTM++2GvXrrVo9yhBSAzjxo1TqS7ffvutfsR8UJ6NBmndunVVsVRseIz6pjREOZ/NDecoq/5ZZZ/cIitBEOJGjFHBasyZM0eFws0Rno8Lhtzy5s2rjE56ZQkNQwrYUweU8k2W7CPPdqaUuTFF1b8gmJrz58/D1dVVeS0t1SqTc4FzgiFyGp/cKHKzxrlLI5TSTazAtwT0iFLCipX63MCKQSoI5kGMUcEqsBqX4tf0Ulq6YpXGJj09XNjoAV2wYIHymNLjYune1MyXYwEG81ktaQQLQnywQIhRi9atW6tiQEvCf69Vq1bIkSMH9u7dq7R5qR/MDkmmqORPDJRk47OB4fq4+tsLgpA8xBgVrAK9G8xBS2wnI1PBPDguMBkyZFBah2wnai0ZF8o9FSxYMMGtCwXB3HB+TJ48GR4eHu+ktFgKFvqxOOmzzz7DRx99pNIFrNVOlzneWbJkUcoaCSmCFAQhcYgxKlicSZMmKa8ocyWtBcN+9PqkTp0an376qaputyb89ytUqIDVq1frRwTBejBUni5dOjVHLR0tMMDCQxb4/fOf/8QHH3yAvn37vin2s3S4nKkCnJtsN7xjxw79qCAIpkKMUcGisMuSIQctqV2WkgvllEqWLInq1atj06ZN6rMwV5RhQXqErAE9PuxsU61aNdy4cUM/KgiWh3OUGyN2HLPWHKXiBavqKX9GI5DFSkWLFlXH2L3JGjClhsofVBYwd4GjIDgbFjNG49vIJvd1wfZhDhoLExieN0WnlKRw+PBhVTTFBWXnzp3qGDUKKXLNAiYahJbOjzOwfft2JXHFoiYhfuJ7JCT3dWeEmyLq8hYqVMhqRh+LllhgyMjFypUr9aOvK+2pdco5aq2CP7YaZVSHXlpTdIpzGGSBF5KJWYzRVy+f4dbOmZg4vD8GzduNE9fe9ja9evEEt3fNxNhhAzFwXjTO3Iz1+rM/cGf3TIweOgj95uzBhdvW8VYJpoMGH/OtPD09cfz4cf2o+TGE8xhmW7dunTKG6RGN/RmYL/rdd98pg7RevXoW/YwxoYQMF7uYi7DwAs/+/B5bpwzB0IEjsejALdx5S+P8BZ78fhFbpw7GkEEjsfjQXdyN9fqj3y5g29SBGDJ4GBYcvIffnugvCW/BYj4W97GC3Bps3boVtWvXVi1zjaXxUPuX0YMaNWpYrYPZzJkzVSSFERXhL57cOoOD3wxD/6FjMXnTFTx5+baB+fTmSexbPBz9hk3A1M1X8CyW/fns+lFEa69/PXQSpmz8UZu1gjNhHmP0+UPsbZUG//rgA3zg0hZjtr5dJfzy8W/Y3zq1ygP6IHtHTN/99usvHt7AwbZpXr+euSMW7JcqY3snOjpa6fVRpNrShUIMNbKTEkOP8YXBqXdKwfs6deqoKl5L56bdunULvXv3VgYp/1sgj/HHrW9Q/2PteaA9Ezz77MWht+pYHuPelUVo8Kn+ev/jOPnW60/xy7kFaKi/7t73As6JU+sdDhw4oCIG7D5maTjPKK/GwkZ+BnZ8igt6RWmw0kvKv2MNuSVW9VeqVEkk2WJwb98M9PF5Pcc+qrUO956+/Zy/v2scunvz9f/Dx7XX4o9Y39vD7UPRyYuv/xcfV1+pzVrBmTCPMfriEc6Mr4ri+d2Rp85ErDz29pP/5bMHODu+MoJ9PZCrzhSsOxXr9Ue/4vyEKijqkxuuNadgq6wcds3FixdV/hnFrC0NDVF6MOjtYb5XQooxmFNKzwcXOxYrmLr9YXxQYYA5rV26dDF5m0P75Cke/7YDw8vkg49HYTSeexbn32pa9VQzVrdhRBkveOcpiMbzf8CPbxU8P8P9q1swomxueHn6ov68a7gqBdFvwVzpZs2aqchAQtpxmhLe44xaUF6tefPmCW4HymcKe9rTILV0rve5c+eUQUxxfuaSCpoxeXY95jbzhbtPEEoNOoCHz982Rv84uRIzm+ZHjnxhKD34AB7HMkYfHV+CKY0LIFu+kijVf482awVnwnI5o/pPwbngg5qySe7u7moBsST8t9lfmjqeAwcO1I8mDBqttWrVUrlzDJlbukMSdRVZ6U9jmCkGgmBORowYoQzRhQsX6kcsAzeLS5cuRaZMmTB48GDcu3dPfyV+WFk/bNgwpE+fXhU4WVpyiZ+bG2w+34TkIhaCs2MxY1RwTlgYxE4qls6voreFXgvqdy5ZskQ/mngoLcM815EjR1o0vYALLRc5Ly8vixvxgnPBgiF/f3/0799fP2IZaDzyHk+VKpUy7JLS/53zfPny5UiRIoXq5JYYY9YUUPs0d+7cqo+9IAhJR4xRwWywfR8LDSgub0nYMYU5lwyzU1A+OdAjOnfuXBVCbNq0aZIWzKTCyuaQkBAVrpf8UcEccINFyaQOHTpYVEWCeduUUnNzc1NRgOSkozACwt/B38XfacnNG7tBRUVFKWPeWk0zBMEREGNUMAs04lgIwapY5oxaimPHjqk8MuaH0uNjigWCi52h0p4GLnNKLQWlqNgSkeFTCdcLpoZtaCmhZJA5swTcpLK1ZlhYmCpUMsV9zecNfxdb/FIejcVYloJFj8xJHzRokBikgpBExBgVzAJzuWi4LV68WD9iHgyVtFwEKI5drFgxtG/fHmfPnlXHTQUXu23btqnQPxc8GrqWgvmuXLitJWUjOB6cNzTemMtNpQlLFeGsWbNGbeqYj/2+ivmksn//fiXNxmePpbqZMb+cOavszkQjWAxSQUg8YowKJofePHoKKJ5tzrC2wRClmD5zUmkktmvXDtevX1fHzQG9IFzsypQpg40bN+pHzcv9+/ffdMT54Ycf9KOCkHSYysL5wvD83bt39aPmhfnjNBJZtW/OzRyjI5wrbG7BFBtLwGcQlQBoaDN0LwhC4hBjVDAprI6l/h4fzBcuXNCPmo+ff/4Zo0ePVlJMHTt2tIjECxcbenZokLLS3hJeJXplGU6lOoB4XoTkYCgc8vb2tkiXJeaDzpo1S3n3GbWwxIaK8lB8HgQHByuR+uTkpCYU5tyy4JDX1tKFVIJg74gxKpgMhrLZQcjHxyfZhUMJgUU9X3/9tSpWYr6WJaEBypaF9ACza40lZGUYrqdBypCgICSVTZs2IU+ePGojZe6NDVtmMmqRN29edf8aWmhaQqieEQXKRVENg93fWBBobhYtWvRGDk4QhIQjxqhgEri4UAg6Y8aMKgfN3FXnDDOyxz2r3C2tjRiTHj16KB1TysqY2yBlKLB169bKw3T7tnQlExIPw+MUa2d/d3PDOTp27FilIUojLSENJ0wNi6OYt54hQwY1Ry2hSsHry1QepvQIgpAwxBgVTAIf8gzPN2nS5I33wxzQ6GU1Oz2SbNvJlp3WZvbs2cobTEPR3AYpCzSYIkCvrCAkBoaOqZtLLyV1bM0J87Y7deqkDFHOUUZNrAW9vyyWypw5s/pM5pZ+Yg4u5bKYksC0JUEQ4keMUSHZcGGbPHmyqiY1Z/EQOXnyJHLmzKm8ot9//71+1Pps3bpV5a2yjae5pZ8o8k35KgqFC0JCoZeSahNr167Vj5iHEydOqI0pw9XMG7cFSTIaw+fPn4efnx8qVqxodjUMhunZnYlpAoIgxI8Yo0Ky2bBhgzIQKaVirhw0/l5qfbq6uqo8UVvrSkSPLcNyFPgvUKCAqug1F8yFGz9+vNIflXC9kBCYJ0oDsWvXrvoR80DpJjZqYLOLS5cu6UdtBxZP1alTRxU2mTuvs3fv3irHm8WHgiC8HzFGhWRh6LLE8PyzZ8/0o6bBUOTAUBeNLxp5Q4YMsajofGI5deqUCgWyDSkXZnPBRbVmzZpK99QauXiC/cDwfPXq1VUeozkjF4yOsPUvw9O2FLWIDT8b5ygN0okTJ+pHTQ9VN1q0aKEkpiRcLwjvR4xRIcmwOpUdXFhQYy4vCNsG0hPKRY5C+paoWk8uXITYwpN5rcwnNYexSE8x80c9PDwsKlou2B/du3dXoWlzhecZhqeaBXVLmZNqDzqblGGiTBpTa1jlb66c1s2bNyttVX4HgiDEjRijQpKZNGmSCkPNmTNHP2JamG/WuXNntcgx382eYOU7DVIa6vTqmkNWhgvo8OHDUaRIEdVoQBBis337dpUnyblqjhQa3tf9+/dXXkbei5YS0DcF9BhTE5TScAMGDDDLZ+dGlM9HFo1FR0frRwVBiI0Yo0KSYNs7dhtp27atfsS0sJ0nQ/805qwp3ZRc+vbtq4pGmF5AL6+poUc0MDBQCXxL5xchJjQUOX+4KaIn0NQwb5uGKA2tefPmvYkAWEJDNLkYPiO9utQJplg9PaXmaALAtCLOT26qf/nlF/2oIAgxEWNUSDRcdKpVq4b69eubPDeM3j7qldLjysr03bt366/YLxT9ZmUxFyRz5OyxepnC3sx/M3XermCfsOMQN0D+/v5KgcLUcN7TyGVB4a5du/Sj9gufMywI5Dmx6t7UMI2JjQYY4WHURBCEtxFjVEg0XOQoW8LqeVNCQ4pV6Llz51bFFmzp5yhQ+ok5pOwxbw4lAH4nLJSQzi8CN3RM20iZMqW670wtrcTND4sW6U10pDnKokDqBbMwkIWZpoTPNlbVp06dWoXr7cF7LAiWRIxRIVEYdD7p7TMlfFivX78e6dKlUwVL9pR7llBOnz6tjGz2BDeHt6pKlSqq+4stVzIL5oebHYquU1qIMmCmhHOUOZZM0eEcdTSjimF0FnvxHE2thsGUGkZHuJFnGpIgCH8hxqiQYPgwpWQRK+ivXbumH00+f/75pyryyZo1K6ZNm2bWDk7Whp6kXr16qZDgunXr9KOmgQZu+fLl0axZM/2I4Gz8/PPPKo+T85T/bUpYBMX2uzSoLNHn3VrQyI6KilKpNePGjdOPmgY+2yhRx/xUtksVBOE1YowKCYKhPi5yDDUfP35cP5p0DB4VJvezYp4PfhYS2IN0U3Jh3iireJnnyQXelLIyM2fORJkyZdTvFZwPyny5u7urKnpTQrF8zv0RI0Y4RREOz3H06NGqOJDPJ1PCBgT58+fHjBkz9COCIIgxKsQLjSUm+DM8/+2335qsSIaePFbMM9dx0aJFNtE20FJQVmbMmDEqnEovianSEtialb+PhgMLwQTnYefOnSon2ZTGE8P8FG5nQeHUqVPVfess8FyZjsSwOqMNpkx5oOh+5cqVsWXLFv2IIDg3YowK8XLx4kW1yLVs2dJk4uo0btk9iC0KV61apR91LugdZnoC5Xe6detmssYB7AJFpYNatWo5lYHvzFA2rF27dmpjZ6oWsbwfOeeparF48WJVoU+cqfiGyiH0NoeHh6trwSInU8A0JyqScDMuLX0FQYxRIR6YG8ZKbWoJmuqhyapS5jZWrVoVe/bs0Y86LxTFpkFKzVYakqaAHhdWOzP1QXB8hg4dqtIzTKWmQFULGl/03McM+TtrFfiOHTtUc4nWrVvj6NGjJrkO/K74HGT6kyA4O2KMCu+FHhEWLSxbtkw/knToWTF0hImMjDSZl8ERYB4ZvS+UlaF0TnIXO+beMqyaK1cuqa53cCjfRO8lCwuTi6HNLKMWLIJiVER4Da8Fn4V8dlGeyRS53tzo08h1BK1WQUgOYowKccIHLo2jhg0b6keSDivm2Rs7c+bMatE0teSMI3DmzBlUr15dLXjUiUzuYkevNtMrmjZtKqFAB4UC6qGhoSqv0xTV2Rs3blT92tktSObouzCPlPmz3DiaQg2DxYzM8aUH+tGjR/pRQXA+xBgVjMJFjkn7DB8nt2iBXropU6YowedZs2a9yT0T3uXWrVvo3r27Mto3bNiQbA8p2xumTZtWFYjJYud4ME+UhTAMIycXFuv4+voqw1ZyjeOGeaS87vny5TOJagU90cz1pWKBIDgrYowKRqFgNnPQkiv8TOOKlaOUm6Fgthii8cPKeuqtZsyYURnxyfGQ0qiYP3++kpEyhcEi2A4Mz7Nb2ZIlS/QjSYdtMBmWp5yRoce8EDcs5GTxITVDO3TooB9NGkyN4HM2U6ZMKhrFPwuCsyHGqPAO9MgxTDd48GD9SNIwtA2kd5W5otI3PeEwREojg0VI9JQmxzvNhdOQbsEuUIL9w/uBhigLl5IjC8YICFNDON/Fe544mHrEOcqQPa8h/5xUmFLD5y27s5m6WYEg2ANijApvQSOIOWMMQyWnyxJzz1gpyvaU1D8UEg89VCwcY04gUyaSU0zCfFS2OGTlbnIWTcH6cHNBbxxzF5NzTzCFg3OUbWSpH2wq2TZngteMufC8hryWyenVzzauISEhavMp+bqCsyHGqPAWbINXtmzZZFV30lvAED819A4ePKgfFZIKJWDYC7xBgwbYt2+ffjTxML+NBgzzdgX7hNEFGj9ubm5KIi2pKRycl5RWoxHFzaIhN9lZpZuSC68hNZN5TZMzRzdv3qw83tRelkiS4EyIMSq8gQ9UPggp8pyUAgZ68qhryd099fhEUsh0MD+Qix3D7Unt2sLvlMUp/D2maOkqWB5+b+wIxE1jUgxH3gOUEWNYmZvOs2fP6q8IyYUdz7hp5LVlqlNSjUnqDVMFg4VNguAsiDEqKFhoxHAwKzqT0nuaOWw0RJnzROmm5FbgC+/CfE+mPTAHlwZFUhY7ipnzd9DLKp4X+4JztE+fPqqv+R9//KEfTTgsHqTHjUYoQ8q//fab/opgKpi/y80er/Hy5cuTlIPLlr7+/v7qWczvXBCcATFGBZWfNGLECFVxTd27xMKE+8mTJ6tqUFaBm0IMWjAO9UKpS0gx+++++y5Jix0bGbB3Pb8rwX6g9BLlhGJ2REoojFrMmDFDNZxg+oxgPlgNzwgErzUbTyRl00flEc5RqhsIgjMgxqiTw1Afc89SpUqFvXv3Jjo8T+OVO3jqYjLfSXLOzA+9YjQkqR9KAyOxBikXR8rSuLq6qiIWwfahcUKPG8PziYWbQ0YrfHx8VPW9YBlGjRqlrnm3bt2SJNfE5yo92PzuBcHREWPUyWHYltXzrOBM7A6efdSrVauGQoUKqVw20cezHDRAmZfGTQAXu8RW3166dEnlpjHkL9+bbUNvONtzMo8wsTq9VE5gUU2xYsVM0tJXSByrV69W154bicR+d2wWwu+dIX9JexIcHTFGnZgbN24oI5St6BL7sONunYVK1BGlbJB4RC0PZWX27Nmj2ofWqVMn0b3+2XKU+YcTJ06U/FEbpk2bNspDtnv3bv1IwqA0Gw0hGqMM7Uv6jOXhNacyCb8DPmcTmwbFolL+3ebNm+tHBMExEWPUiRk3bpxKlE9sdTZz15jP1L59e1VBKlgXdm2pWLGiGomR5GIeIZUTXFxclIdcsD2Y30tB+gkTJuhHEsahQ4dQpEgRpU974MAB8X5bEW7U+X0wV5ffSWKr5GfOnKk0glesWKEfEQTHQ4xRJ2XdunUq7NejRw/9SPzwocpCJ4Z2e/XqJfmGNgS1DevXr6++08SEYxkK5N9jugVFt+2Fp0+e4PuLF7Bp4wZMmTwJfXr1RLeundGpYzt0aN8anbWfXbt0wtd9emPypInYvGmjev+zZ/bT6pKRi+DgYDVH79y5ox81jiEyQU8cQ8NMvWERjUg32Q78Lrg54OaC2sGG/Pz4okr87r/++mtVEMWUDXvhmbbZ/eH7i9iyeaOao32/7o2uUZ3U3DTM0W5RndFbm7uTJk7AhvVrceH8WTx+LF3AnBExRp0QLnLMRapXr16CpUMoAzNs2DC1Qx80aJBqXyfYFkyXoAFCYfu5c+cmuBiN4f28efNi7NixNt355dzZM1jyzWKMGztSGZnNWrZDRMVI5C5cAWnciyOFazi+cAnBZ9mCtZ+h+CpHGNLmKqFe5/uat2qnFsRxY0dh2dIluHDhvP6bbQ96Mlu1aqVyDZlOkRC4seD3zu+/cePG8RqwguWhMdm0aVOULl1aNZ+gjFNCoKwbv9eOHTuqiIatclHb8HFujdfm2NfaXOOcK12pPnL7VUA6bS6mcA3DF9k5R0PUHOWf07gVh0ehCihZoR6aNG+LPr17YezoEVi0cAFOnTyh/VZJAXMGxBh1Quhp4SKX0CrNq1evqipcaogyRC+5Z7aHwbvCzQWrcOlFmT17doIXO1bnM/WCHhtb4sGD+zh+7KgyQpu1aIssHkXwz89z4JMMBZE+bzVkD+4Cr8oT4d/4WxRruRlBbXYguN1uBLXdgYBWW+DXeBW8q0yCS1AnZNDe/0n6AvjXF27IlrsYmmq/75vFi3DyxAmbKxBhO12qHTCCkRC4OWTuL/O4acTKHLVdmJ/NdsuMMDFVitqk8cHvk6on2bJlU6oltvT9cgN7UjMalyz5Bi1at9fmVlH884uc+DhDAW2OVkV2be55VZ4Av0Yr1ZwMarP99RxtsxMBLbeouetdZQpcQ7oig09NfJrJD//3WQ5kyOmH+o1aYP68eTh86GCCrpNgv4gx6mSwkw+r3xOag8YuSixyypkzp6reFmwXg0HKSnsaJjly5FAtQBP6EGehRGRkpE3kj9KIPnXqJCZOmgL/gOL4+39TI71nOeStMkEzNHchvMtRbRxBWOeDCO24H6Ed9qoR0iH6zTAc4+t8X5j2/vCoYwjW/r5XxXFI5VYSH32ZFQX8Q7XrNRnnz5+zCaOUmz8WlnEDmJDPw6gFw7gsZBs4cKB+VLB1GGnid8aUp4Q0IKAyQt++fREYGKjdq9b36tMI5ZyZPHkqChcNw38/z6LNqeLa3Bqj5lh41FE15xI8RzsdVHOaczukfTTy1ZiOjD5V8feP0iFvgWIYOmwEjhw5LM0aHBQxRp2Ihw8fKtFsdnGhUH18nDx5UoXzGcJlmEiwH+g5oXctQ4YM6N27d4K+b1ZfM0eRkk/Wqq6nQc0OYN169EbqtJnwUcoccAvtgoAWm94saCHt9yR78PeEdT6EIk3XwD2sC75InweffZEKfb7uh7u//hpvHp+54LkzcsHK64RsImisMt2GnnAWOwn2Bbs00SBlVzQad/Hdd9QY9vX1VUaptbozMYWE913vPn2RIlU6fJbGA7lCO6FIk+80g/KQSeco53xg623IHdEXn6bzwhcp0qJx05bqWSVFeY6FGKNOAh9y7BfPiuuE9CVnu0nuwFkQwxxTwf5gzii1YPPkyaMWO2qLxsfChQtRpkwZDB8+XD9iWRiW9vbMg6+yFIBPpdHKwxLcbpfRxcp0Y7e24G2Fb7VJSJvVG3m88mHnzl0WN0j5fbFdZ+rUqdXmL77FlvOSRihln9iwQrBPWGlPLVFGrOJ71vKe5PM7S5Ysaq5aGt6TvNdyeXgiffZ8yFdlnJo7Ie12G5lXpht8BjC0n7/GNKRxC0W2rFkwf/4C/VMJjoAYo04AFznKN/EBxryj+BZZtvYsUKCAajtpT9Wbwrtw8WCBEg1M5qglRKuSYcPw8PBES9AkB4beIiPrI7urO3IGtkKh+kvUAqS8LAzpGVmgTDb0kGFw253wb7QCOYo2Rep0mdGpY3vlgbEU1IylR5SKFfEVnx09ehRubm5qg8nCNcG+Ydidub78To8cOaIfjRumY1AxgdEPS3Hr9i106dIZadNn0uZIM/g1XKbmTIgl5mj71yF9GqT+jVfBo0QPZHPNjbLlyouqi4MgxqgTQMkeLy8v1Z6OFbfvg4YItfC4IIoh6jhcvHhRCWczDL9gwfs9CvSg8r0lS5ZMcEV+cjh27Cj8/f2QLW8EPMsNRdHm61+H6LjIGV2YzDSYw9ZxH4o2WwP3UgOR3SsEpUuXsUg7Rm4YmB7BKmtjc9SwgeRPek89PT1V+gVzugXHgPOOz18+q6kpavCMG3Me8B5hlIvzNCERj+TCpgkRpcrA1TsYubS5UbTpGm2+7HttiBqbS+YanKPavxvQajPyVh6HbPkqIW9eH2xYvy5eJ4tg24gx6uAwB40eTnq63pdjxIeboT0kPaOSJO540OBh61DqHI4cOVI/ahx6XGiM9uvXTz9iHvZG70ZgUAhSupeFb/Vp2oJDg3D/u4uQBYf697VFL2/VKUifOwJhxUth3bq1+ic2PTQ6hgwZotQM6B2NjWGRZc43C9LoPWXB0s2bN9VxwXHgM5o5/UyRGj9+/JuNiTFDi92ZKPfUs2dP/Yh52LhxA8JLlkNa9+LwqTr59UbR6nN0n/oMBevOR2rP6shfqChWrliqf2LBHhFj1IGhHt2iRYuUJBMfXHHx448/KqmR0NBQzJ8/36Z17ITkwcVuwIABanPCUF9c0k+syKc0FL00Bw8e1I+all07tiGidHl8mjUU/o1Wqmpai3tD4xqaMVo86hgK1JmHTN7lEBxaAtu2btU/uWlhk4Jy5cq9txKehufgwYPV90Zjhd+P4JgYqua5GeRcfV8eKXO7aZAuWbJEP2Jatm3birASpZEudyltLsxF8a7H1dwwOmcsPqJVpX5Ai434KlclFAksjuVLF4uH1E4RY9SB2bFjh1rkunTpoh95FybD0xBlIYRINzk2hoc0Fzt62Pidv2+xY5oGRfR5DyWkGj8x7Nm9E2XKVcb/MhaDf2MaogeMLDbWH5SnKVh3ATJ5lkbRwFCTG+bMd6tcubJqFRlXwwG+hxX21BClHJDgHDCtig4C6gbTYWAMRr7YljkiIsLk+c281wOCi6voQIE6cxBOQ9TIHLH24LMjoOVGfOFWHn7FwvDt6hVikNohYow6KHww0chkjuCTJ0/0o3/B0CBbSDZo0EBJi1DGSXAe+LBeu3YtPDw8lKET12LHfDRqzE6dOlWFiU3BiePHUCKiDD7OHPDaI9r5oNFFxlZGWJfDKNxgKTJ4hKOwf4BmHF7RzyT5tGnTBtWrV8euXbv0I2/D74WGKsO2jFoIzsXSpUvVd9+wYcM452h0dLRq58tiNkOeaXK5cuWKutfTe5RAoXoLdO1P4/PDFgajKvSQpvCoDB/fwti6ZbN+JoK9IMaog9K/f3+1q44rPE/pJlZjMsQjbQOdF0oI5cqVSy12Fy5c0I/+BfVG16xZg8yZM6tFL7k8f/5MSRF95VpcGXi2bogaRminAyjSZDXS5fBD02YtTdINhj3kCxYsqNIhYkOjghsBhuXp9UqICoLgmFDVgvcAPeM0SI11X2LnNHd3d5XrnVyvIDeddetFInPuEBSO/Ebp8RqbE7Y26CEt1nw90vnUQj4fH6l7sDPEGHVAKKRMKR/2kDfGjBkzlJA9vTIUURacFy5cDMFz48LiNWMGJxc/eufofUlu84P+AwYgl28IPMsNUx5HY4uKbY5opaVYqN4i/Pd/X2gG+nfJyq1m+056nKlaEbt6noYo02fYQYt9zKViXqCnknOQ9wTvjdgGKUXo2Vo0e/bsydooMYrGzefnX6ZCgdqz9fxQW8kRjX/QcM5fayZcfCJQv0FD/awEe0CMUQeDXk56PFu2bGnU0IyKilJdmPjgYu6gIBAaR1zs6KkzJv3EBY4bGOaY8r1JgXqYnnlywTWks9ILtJlipYQObWFm73vXoPbI7uatJKmSAjcANWvWVN3Nzp07px99DY0MGgPp06dXBUvScEIwwBxuOhgyZcqkvOqxZdeYW1ylShU1j5P6bP/+4kVkypIducK7IrDVFrucozSevSuORpas2VQE0JgnWbA9xBh1MNgakN12Dhw4oB95zePHj1GnTh0lH8O2geIRFWJDDymNTUoH8WdsvvvuO/j7+2PatGn6kYTD8HxISDCyFaiFwvWX2mzBUkJGQMtN+CpLQbRr3ynRgttMe2D1PEOqsb3QnJPcJFL4fMqUKSYvGhPsHxYssfiQud6jR49+K4+bm5zDhw8jW7ZsSqfUWK3A+2CdQYvW7ZAymx8CWmzQ7nX78YjGHJR9KtZ8A9yC2iJPbg/cuSN62faAGKMOBNvDFStW7J0e1QzxcMfMXL1vv/020Q8pwXngYkd9Q2qRUnc29qalQ4cO6l5iJ6+EwvttwcJFSJfNC/l0LVHbkYdJ/KC+Yb6qE5E2qyfmz3033/N9nD17Vsll0aCIKc9EDygLyTh/WSxmTPheEAgNUG4IWdjESFfMKnpudmiksoNeQjo5xWTlimVInTEnfKtPtbvw/DtD+/x+DZfjq8y+GDhoKO7fv6efpWCriDHqILDLEh9AFM+OmTNEDylDguwxv9VMOomCY0EDlEU17AZEaaerV6/qr7yu7ub9xIKnhOamMZ+tYKHCyBXa/nXoz8qC2aYYzE37NGswmjZvrV2ThHXAoVYoWz7yuvKaGGAeLg1/FhNOnz5dPyoI72fmzJmqNoD31KlTp/SjrxuYUKOU9xQdEQnhh++/R/OW7fB5tmBtftpv1MIwmF7AdsJe5QYji4sbzsdKhxFsDzFGHQAaDyxG4oPJ0BqO+USsrKxVq5Y6zqR3QYgPQyUuf1L6idJgzD+OudgxBEjtUWOh/NiwGIfVwB9+kkKF5+3a2xJjUErGq8JI5ClYErNmxm9AMk2GxgMbUDCUauDQoUPKsOccNZdwueC4sFi1bNmyqF+//lsauHv37lWSfYxyJKTQbsnihXDJXQTelcerMLexe97+RjQCW2/Fvz5Jj2+++QZPtDko2C5ijNo5DMvQaGBSuyFPlA8f9q/mQ4r9i6VtoJBUuInhokaDiYaTAVaBFypUSGnVvg8W1HXo2AWZPCMQpC0MDrPQdYhWRVifZA5AyxbN3hjxccH+9vR8Gtqr8v00Hpg6w8EGFYKQFJh7zM0hNzS8pwxao+zUxeMsdnofT548Ro/u3fCfVHkR4gBRi7/G642vS+H6qFytDs6eSZ4SiGBexBi1c+ixorHAtnD0hnKRoweG3XUYYpXWnkJyYR4pC98YXjaIszN036lTJ+U5fV/l7tGjR5A2kxvyVh6H4LY77TpXNPYIjzoGl4C2KFG2GrZs2aSf8bswtYESTczDJZyT3DhSnYBNJ0S6SUguLKSLjIxU9xQjEbzHuBYwv5vRsZipNrHZtHG9dg/XgEuxNgi3K7m1hI1Ckd/gwy+yYuWK5foZC7aIGKN2DPNEmcDO6md6SEnPnj1VgQST2AXBVPD+olID85IZ8iL0wtBIZYMFY/Ipf/75h9oYffhlFqXR6SghesNg7mvBeouQ0ascWrdqqZ/1u3Tu3FlpuLLLGa8T2+6mTZtWXTca+oJgCthOlp533luMltEYZUoIo2NMtYmLrl064yuXQPg1WulAIfq/Rming/gyqx969OyFmzdFKs1WEWPUTmEohlW3rq6uOH/+vKpYrlGjhvKSMiwTX9hQEBILPe8DBw5UOrXUO+Q9Rh2/1KlTq8rd2AbpubNnENmwJTLlj9QWBccyRA0jvMsRpMtXD6UjihuNQhiKTFiYxDk7efJkpEmTRrX2fPDggf4uQTANrLSfO3cuMmTIoPJFOSfnzJmjtKf5Mzb37v2mbTLrInWeygiz8ZafSR3cNOYI6YqgkoxgSJtQW0WMUTuF7d8Y9uMD59atW6pVHHPPGEaNLYYsCKaCIXkuagzPU1ybkkQ0TCmWT1HumOzcuQM+fiWQu+wQo4uEIwyG6nOEdEHxiHI4dfKEfuav+eGHH9S87Nu3rwqjdu/eHZ6enkpezVR9/gUhNpyjdEj4+PigS5cuuHjxooqU5c+f/y0ZKHLo4H5UqFIXLgHttHvZQY3RDnvhW2sOMuUKxNw5iZNiEyyHBYzRV9r/3kfs18WjFx/UKqQhwBwh6j1ywTNUU4pHVDA3rAznZqhy5cqoVKmSKmLiPcgQYczuTKtWLsfHKV3h32iF0UXCEQZz7HKXHQ6/sOpYvGihfuavqVq1qtJlpaeK+dvsM8/uSrJZFMwN7zHeayya41oxb948dS9yzsZk3tzZKFKiNjxKD7WbHvSJH9EIarsL/02ZByOGGW+R7ZzEZ5sRy9kTlvGM/nkRR9cvxsx5W3HBWD3Ny6s4uXEp5i3YjBPSGOi9MNTXtWtXVSlPkWwmqDdq1Ogt6R1BMDcM/zFET81RLnBsXUlPDL1+hmreGdOn4p+fZkVoB8fLQzMMSjzlqzkHngGR6KbNSwMMy3OOtm/fXnU+Y1//devW6a8KgmWgvB/nKO8/rhuhoaHKMDXQtWsU3P1rwbf2fLvuihbfYATjk4x+6NE9SjPUX9dXOB/ac/nX/Vgyfg42nLyFu3HZmdc2YfbouVh9+AqS1vg5aVjGGH12CuuH1kW4bwSaLfoRsdW+ft05BG1KBiM4chKipTnQe2GXJXpYGCZllWTjxo1x/fp1/VVBsCxHjx5V3lH2WafUE//72LFjePrkCQYMHIgvMvupvEpjC4QjDBZ8FG2+HjmKNkfZMqXVNWFYlJ2UaIyycImyWLt371avCYKloeYo70Hei7wn2dL3woUL6rWqlSsiQ77aCGy9zf760CdihHc5igw+NdCkeWt8//3rc3c6Xr0Abs9GZE5XlOr1HXbf0Y+/xXP8OLEE3F3Ko+PiozD6FjNhoZzRl7izfyr6lPZEpvytMP/S07+cv79tw5haBZA3fzW0X/I9RIgobph3xhZwlO/gg4VhF4ZMBcGaMFeUHb5oiH755ZdK0WHnjm1o3S4KGX1rK++hsQXCMUa0ZpAegEtgZ/j6eKkGFM2bN4eLi4vKD2UzChYYCoI1oXwYOzUxt5sFh+zOdPeXX1A8LAjp8zdSnkPj97djDKYg5AiOQunK9bF50wb9qjgbL7X/H8W4sBTIVDQKY3bENjW115+exKigz5ExpA9m7P9ZP24ZLFjA9DuubhuGRnkzwa3RSlz8g6G8+zg4sAT8fEqi9ug9ENGFuKG0Dne3Hh4eaowdO1Z/RRCsD0PzTBdhqJ5GWPWqVVAjsjWyBXR06PAfR3FtIc8V0R9uObOrEOj//d//IUuWLKpDVcwcWkGwJmwTymI6d3d3/O1vf8PECRMQGBiEnCFdHN8Y1Z5BHmVHoFBoTW2Ovqsq4EzcmFEGXlmKouaYbfhRP6Z4+RhPj/dC4BcZUHrIHhz7TT9uISxojGo8vYbvV7SFfyp31F7yE67t6IHyufKhXM9V2Htff4+ZYYEP892Y4G0Pg5+Vsk0LFixQO9qsWbOqFnDEns5DhmMP3oukd+/eSJ8+PTJlTI98/iXhFt7L4Y1RViHnrTgcH3/yMdJoc/TTTz/FjBkz3lTMG7teMmRYenDte/ToEaZNm4aUKVMiY8YMSJUmHbxK93EKY9Szwjj4BlbHtKlT7GpeGp6tJuOXuWiVLysKVB+FBTH6bbx89AuOdffE59kiMebANfyuH7cUljVGNV7c/xGHR4Uji0sA/LOmQP7Wc7HmQtwdXEwN2xNSEJiLxaxZs2x6zJ49W/0cOXIkPvzwQ6RLl04loVNax/CaDBm2MnhP8t5k/miKr77Av/6XGm4hXZzCM+pVbjA++OADfPTRRyp9hhrAMkdl2NrgPcniOhbWff7ZZ+qezRUeheJdjxu9tx1l8BnkU20qXH3LoF7d2li0aJHR62Nrg9+VwflkOu5jY/uC8ClUDS3mGlKInuLxr5vQ3eO/cGu2FoevWz5h0uLGKPAYTy5NRdXUf9MmgieaLj+HnyyoRsTcGXY+YfEPO8rYw+Bn9fb2VjIdXOgp6WTsfTJkWHtQYqxu3TrwyeuJL9K6wSOin7YQOFK/63cHPaNe5Ybif//7n8rnrl27tsxRGTY7eG9yHfHy8sTnn38JjxI91IbK2L3tKCNUewb51piOrJ7hKFwov0p5M3ZtbG2wkQ21Yk3Ns21RqJG/MAKaz8EhdeBn/LKuJdz/lw/tNt/ALSsIDljcGH3+4DTWdywIt7BO6FDCDQVrjcKC45ZLTmCYgoVAZ86cUXqd9jDOnTunpJtYAcn/NvYeGTJsZbBN7ayZ0+EfWgmu4b2dwhj1KD0IuXJ5YMeO7WqOyjyVYcuDa8n6dWvhVyRAW4u7O0WY3rvyRHj6V0Lfvl9rz6grRq+LrQ3aKWyeYXKeR2NC7UIoHNAEg45pf75/Gmtb5MBn/kOw89YjmDgxIEFY1hh99BNOzmkGf5ciaLPmJ1zbPwz1ChVAmY4LsO2W/h5BEOyevdG7UaZKQ7gEdXX4MD0XcveS/eHjk1dV0wuCPXD79i2UKFkariFRTmGM5ik/BvlDamLeXOcuYHrNS5ydUg8V/cIQMXgbfvpxPppnT4vAcRfw8+PXOtGWxoLG6ANc3TwMLf1zwqPRClxQbuDfcWhwBAIKlkGdUbtx9U24nv/xDE90V/HTBz/jzp37eBjTdfznz7h54xdYLttUEISEcvjQAdSKbIEsfs0c3xjtcgQ5QrrDK7e76YsNBMFM/PHHQ4SGBCKzfyvHzxntfBBuJfoiqFQdrFi+TL8CTs6FmehfMww+flUwaEIT5MpQAdN+fIknsdImX754qT3XXhuoLx7cxs1b9xBTDv75H3e1jc1d3E9mYzmLGaMPTs7HyNr5kTlPQ0yL6XX+bSNGVsqHvEUi0W39Dc0E1Xj1DC9/jcaSReuwbf13WLN8ERbMW4BlG6Ox//QlXDq8GWtXLtaOzceCZVtw9KcHUEpRgiDYBNeu/oQuXXsiTa5SDtxm8HXf66A2O5GtaBsU8Suon70g2AelSoYinU9dhLBLWodoo/e4Iwy27c3i1xQ16jZVG2WB/IDNIxsi7Mt/w8W3IFxqLQfb57xtiz7HL5dOYNui+VizaxNWL12IBQsW4Zu1B3H24mmcOrwda5YtxnzNFlu8eiv2X/kDL5JYA2QZY/TPw1jeIwLe2Qqi0tQf3ul2endDLzQo6IZcZfpjDdNHXz3E06NRKOBaBCVL1kPnAWMwbngU2rVoiLJVW6NPm4Zo0XsMJk0chBZhRVFv9Bbsu/36dwmCYH1evniB8ePG4MOUHg5tjDIftmD9JXAr1lDprAqCPdGkSWNkLVATfg1Xqm5ixu5xRxhMQ0iRswQ6dOyIX3+9q5+9cHv7GHTK+wE++KIgmqz7M7YlqvE7Tq4YisgcGVGkbiO07jcOk8f3QaMyNdC6dX007tAZ7XuNwLgRPdAlsjRCO23GjWcv3/01CcAixuiLQ5MwqF5ZBDSZi5P6sbf5CdtGNkD1EjXReTNdnH/g6Yk+KOLVAvOP333TPvT7VUPRqWRR1F8bQ3ZgSzOUaTEZ83ZasnGVIAjxsXjRAvzj4wwIbL3V6ALhCIOGtmelCfANrqUZ39KIQrAvRo0aCZ+gWuoeZijb2D3uCIPz9N8p8mBgv976mQvk+Yl5GFfNB6kK9sbW50ZsUTzEyeXD0DasLPqc0g9pvFpWEyHlo9Bn9WX9yG+4c24aqnm2wvqHz98K4ycUC4XpXynBXTX0I7F56/UXD5UxWjRiFPZ8/1cHk/OrJ2NQZE0Mjxnm39YWFTRjdMEOqYASBFti48YNyJrLDz7VphhdIBxhMF80V8mvEVqyMnbs2KafuSDYB5s2rkeJ8nXgyop67V42do/b/egQDb+GK/BVloKYPGmCfuYCcA8HpzdBWY/cKDboVBy22QOcWD4R3co3xdwYtZkvl9dHjS6zMG3PA/3IXdw4MwP18rXEGts2RhOJwRgtNRrRPxgxRi/pB4gYo4Jgkxw5fAgR5Wshe2AnbVFwzHy04l1PIFPh5ihZsoTq9S0I9sSVyz+iRs3ayJg/Ut3Lxu5xex9MP8hdbgTy+pfFqpUr9DMXnh2bgK7FvZDDvx3m3tQPvsNfxui8WMZozajZmBbtLMZohGaMGvOMijEqCDYPpWP6DxiELzMX1BYEao06lkHK4qViLTYhde5KqFG9qn7WgmBfNG/aGJ9mCUZQmx0OWcQU1vkwMnhVQoPGLXH6lPFEQefhPrZ/XRYlfHMgSzYPFKnaDSM2XX2TCvku7/GMRs1yFmO0N4qUjBWmXzUJA+vVwLC3wvRtUL7FJDFGBcEG2bplCz76IgMK11+C4Ha7jS4W9joY1sxdZjAKBFbE1CmT9TMWBPti5oxpyOtfBp5lhyKsk+PljQa03Ix/f5YNU6dOwcuXzi699gTX9q3G8nkzMXPBt9hy9AruvLfz5wMcXzYBXcs1edsYXRaJ6l1mYeqbMP0vyhit69MC3zmaMfrsZC/4hY96O0y/ciIG1qmOoT/qB8j2lijXbDLmb5dyekGwNX66cgXFI8rBNaA5gtpsV95EYwuGPQ4WRXzlVhZ16tTDrVtxxrkEwaZhN6KmzVric5cw5UU0dq/b53jt5c0d8TW8fIti395o/YyFhPM7ji+dgKiyjTA3hqj7y+V1Ua1zTGP0Lm6cnola3s2w1qGM0ZdP8OLmWoyasAOXf/nrCtw5sQeb583Glr/sU+CHJZi2JBqHLv6uHxAEwVZ49OefWLJkKT5LlR1Fm65xGGOUeWiFIhchrWsxDBnUTz9bQbBPJk8chy8yeKFww+XaHHWQUL12HsFtd+KzDD4YMmwEfvnl/9u7C7AqssaP4/7f3X3XXWN17S5SEQkpEekQTFQUCQUDXLt7XQPs7u5Y3bWwW7GDsAsxCAsFEQGJ73/u5YLEdVf3dQX0fJ5nHmW4MXO5Z85vzpxz5qlib4UPl0REcCA7l27gQrZJ7dND17JqxzlOhWXGztfERp9j9eTfuZ6Uxj+Z/75ghlEl0nMM9VI+7ivnYwRBKAiio6OpXLkaem2mY9Xv2BcRSGWtolUNOtPapTOnTp1U7KkgFE5nTp/GqZUb1Y26SidaX8Id02SBOhCTTmspUaocFy+cV+yp8DE+Z+4qNGFUEITCSXa/9uEjRlNL217edzRjMJOyCqSQLANPYf7LXkpUqMv0aZPlE/wLQmGWkJDAwgXzKVleDYue+5V/7wvRIh9cKJXRGvouuLrLutGIMSUFnQijgiD86548eULNmjXRsB0mH1BgK7v9oJJKpFAsUkVXQ68dTZu14ezZs4o9FITCLTQkBDNLB2obucsvbxfWkfWyICqbGUC3zUxKlfqZ0NBQ+RzmQsEmwqggCP+6tLQ0tmzejIq6FvVbTpVf5lZWkRTsRaqc+wei7zKPYqWrsWtXgGLvBKHwkwW2I0eO8H2xMjTssKjQBlLZjABGHmuppqLDtGnTSUx8/8RFQsEhwqggCJ+F7HK2p6cnqg1bYeS+qvDd8UV+6W8fP5apzeTJU8Q9roUvzsuXL5kwwY8yVevRuPv2QtelRnZL08bdtqHSqBNmTSyIi8sc7S0UdCKMCoLw2dy8eRNTMwsq6rhh1ecIdoMLx2AJ2XbK7rFfx8QTc0trwsKyT3YsCF+OR48eYdzIFDVTb5pIJ1+F5SpG5o01apsPRFVDmxMnTij2SCgMRBgVBOGzWrtmJQ0MLKhs0FU+96jd4ILd+iKrjGX9XNUt+1JLTZu9+/aTKgYtCV+wgF27UNXUR6VJT8x7ygJpwZ5/NLMFt47VcFS0GjN54gTFngiFhQijgiB8Vm/fvmXBvFnU129CNZNf5C2ksnk7c1cwBWGRBVFZZaxhPQD1+kZMnz5DsReC8GWbOWM6mjqmqJj3lo9ML6gtpPJjR/9AVG1GoqrdhF9HDpV3NxAKFxFGBUH47GSBdMmi+aho6lHHYpD8EnjGCPuCM2BCNhBC1iIqC6J1dRrhN0G0tghfl8mTJkrffVNUpUBq0etAgetWIwui1v1PoNl0HLU0jBgzahixsbGKrRcKExFGBUHIF8nJyaxZvZIKVWpS1+FXzH/ZI1UwUhjN7xG88vc/hUXvQ6hb9kG9vjETxou7LAlfp2lTp6Baz1AKpD3lJ2cZJ4z5fdKYcZyw6H0Q7ZZTKV9VQzpZHCuCaCEmwqggCPkmKSmJP7ZsoVTpMtRp5I2Z704lFc/nXaz7B2LmE0BtAxdqq9ZjxoyZiq0VhK/TokWLqFZLgzpSmWjiGyBvjVRWdj7fEigF4/3yqxY/lizDzJkzRBAt5EQYFQQhX8ku2V+8eJGGRqaUq1YXXefp8kD42fuRKlpEtVtM4vuSVXFq1oITJwIVWykIX7czZ87SrHlripasTINWU+T9ND/3rX0z38/QbRkVaumjol6fAwcO8ObNG8VWCoWVCKOCIOQ72ej0yMhI+fydVWqoUk6zOY28f8dheAi28tH2/9ZlwVPyfnCywRlm3XdQRcuRMpVUmDd/AQ8ePJBP1i8IQsaNKx4+fMCiRYspXb4WVeo3w7TbVuyGXszoS/ovdq+RjZaXHQvMfHdRVd+Tn8vXYMiwEYSFhclPZoXCT4RRQRAKjJiYGPbv20Ortu6UrKwlD6W6bediN+icfJL8zLkElVVYH7NkVG7BWPc/ib7LAirUa02xchq4uHrKW1rEZNmCoJysbBw6eJB2HTwpWVGTcnVboNdunrws2Q8LVpRR5eXuYxbZlRFZmZedKOq7LqNSAxdKVKyPuU0Ltv6xWdxv/gsjwqggCAVOcHAw8+fNwaurLxoNm1KyljXqNsMw7bpNXjnJWkkyKypZ5Se/fKe4zJ5RmUn/Sj/L1st+L3uc7PGyylL2r4n3FtSshlBGzQFVXVu6dO/JogVzCQoKUmyBIAh/RVZGFy2cJy87Gvr2lFaxQ816iLxs2Q+9mFXWPryMns9RRmX9tjUdfuUnFXvqNLDD1b0LM2dM4+TJQHGv+S+QCKOCIBRYN27cYOGCeXTr6oW1ows19NpRSdeDOub90Grmh177xTSSAqpV32NSxSZVaopL7rJ/ZT9b9jkq/X4rutLjZI+vY96fijru0uu0wbppO3x9urNg/lzpfa4p3lEQhI9x8+YNeSj1kcqSjZOsjLaRlzEVWRl18kPXRVZGt8rLoryMDsoso+flP8vKrmm37eh1WIpW84moWAygkp4n1XTaYW7vglfnTsySQmhwsDhR/JKJMCoIQoEn6xe2fdtWfLp3o5mjHQ4OjljYt0PfyhNNC19ULQeiajUUFevh0jICFavh8p9VLfujae4jPc4DS4d2NG3qhFNTG37p4cPOnTtIFAMfBOGTSE5KIiBgp1S2fOVlrKmjE1ZSmdO3lsqoVAZVLfpnlFGrYfIyqiqVVVVrqYxK4VNWhvWksmwulWkHeRm1xdurM5s2biA+Pl7xDsKXTIRRQRAKnYiIR+zft5epUybj5u6OqakJDfV1aFBfk3qaKmhraaKvq00Ts8a4u7nJ50o8sH8fkRERilcQBOHfJCtrhw7uZ/q0qbhLZVRWFhvqNcgqozrSv/p6OjRqZIyrqysT/f3ZszuABw/uK15B+JqIMCoIgiAIgiDkGxFGBUEQBEEQhHwjwqggCIIgCIKQb0QYFQRBEARBEPKNCKOCIAiCIAhCvhFhVBAEQRAKlLckvo7ndaK4Ha3wdRBhVBAEQRDyW2IUN8/sY9u6xcybMYVJ/n74+U9h2tylrNl2iFPXoniteOgnkxLH88dPefz8NamKVfkpLekVsU8jePTiY+83n0DYsa0E7DrKuceKVUKh8o/DaGr0eY6euk7YkwQK54250klPjifmeTxJqWmFdB8EQbn0xBc8vX6cfecfk5j24d/ut0+ucP7wXvYF3uBxsmLlB3p9+xhHzt3h4fOPeWIaya+juHpwHxeik0kqkA1BaSQ8D+fKkQOcjU7lIz5OQfgAKSRGh3Ji9Wh8nC0xrl+PBkZNsLS1w8bcEP0GWmjpW9OyyxgWHbxF1Ke8T0PUQTbMmsfM9WcpCHd6j78byO4Foxm15d5H1slhrPPWwbSxJ8MOidbkwugfhtE0Hs+3pKqmO6O2Xf30Z2ufQ2oCSde3MNHvDy4+iecj611BKNDe3D3Ceo8afGO5kDsJKYq1f+/OMk/syxShuGFP5t1RrPwgqVwYrEYl034sOfBAse5DxPP0xmLcy36P9fwoogvkwSSW2wfG07F6WSwXPuNtQWhCEr4YyVFn2TXOEbWydbDsv5y9t3M18KQ95daeGQxx0qRcFSsGbgvj8ZtPdEZ0dgyd9QzQ8VjIGcWq/BRxeC79TMpQttPuj6yT77LxFxOsrLsy+tDHtqoKBcE/DqMR82xQ0ZLC6I6r0qG6EHrzlBcrmlGyqCMTQqJ4rlgtCF+ChLvHWOtZh2LW87guhdEPrbrC1/1CW5USVLMZyvJ7ipUfJJUzQ+pRzawvyw58zB1U4nh2cwEelUpgMzeC6AJ557+X3D48AXeVKtgueCyFUdE0KnwiyVc5NtsNg8ratF5ymwTFamWSX4Sy3VeLUtU6MONsNC8U6zOkk54uLYqf8lL8PvcDzo+nq1FjDL2WcE6x6tPIeL+/omx7I48uYKBFZap03fsPwmijjDB6WITRwujrDqPLm/PTD04ijApfnH8aRnn7gqdRETyKjuPtBz9JRoRRQfhYUQenMMC2PuodVnJLse79kkiMCmBQ/ZJo9dhC4P0kxfo04h5e4cyfGzj0UBYD80qIuMql3RvZfi1RsUYhZBK+Jk0w6raKEMWq/1l6snQYucQfy/Zy9UWCtNW5veVt/E32Lt3M+ccJZG/kfX56GcOsqlDV97BizYcSYbSw+x/DqMcnCaN/cwL115LDOL03kKDb0e/pLvCYi7sPcuFmJC9yvE8yqRudKf1jK6bdjZeKR6a/OrsUhMIhRxj9mEt6CXcIORnIodP3/rKVJq9/GkZf81yE0c9MHOEKhjvs9WuDXX1bum77wC9+aizXJhhTRb0LU47fk07lZGK5dXAyv5jo03HdC/J+PdMJPzyHIU31sJ58TbHuLlsGt6NVg4qULlaC4uVroGHQBFvnYayViq+81+WzvcwaNIW1xy5y6fIelg90pYWtOWaNLbBu7obvuPWciJTqUfnrZfP2JfHHh2FavTkTTkfxOPf2pL8k7up0WlfTp09AFJGyyjf2KJv9OtOoVmUqlPwv/y2njqGRCYYuczkaKZ0YZzzzL/xNGH18ip1zB9PN2Q4L00Y0amyNQzsfBs7cRlC2JuaEoHXMH/8bw5df4H1/kSeBS5k+pDe9ll1RrHkn7koAq37tQjt76XMyt6W552D8NgbzTPH77JIfnuXwkhF0nxFIxLml/ObTFjvLbkzZf51Hisd8TT5tGE19SeyNHUwdvYoLyek8CQ1g/ZRB9PTqSIcObnTuPZbZf1wkSvHwd95w7/gmNi1fy/Ybr3hyYjF+A33wcutAh46d6T5wIov3XeNhrpM6uXuL6WnnSt8Fh7mqWJXDq20Mt7XHd9p+zspLbhLP7x5gvpcDzfUr8d9vK1HPxgH7Fl0Yu/401z5l53BByCcZYVSF4jaLeZj6jBsHVzBjWA+8OnagY6feDJ+9laP3lRy0ry/H38uDFv03kPdQK9Ujjy9xZPVEhvXohJtrRzx7DMdvxVHupsD5YfWp8d4w+orb+5cxY/gveEvl2tXTlwGTf2f/jQfERK6gc54wmlmDJRF7bQdLfutDd4+OuHp0p8/YZQRceZ4VlnPWdU85tWg8y/bd4W5UFOHHljNpcOaxpAs9f13I1muvsi4Bflgse18YVfyb8owHp9YyS9q3Lu7tcXHpiHuXvgybtpGjd+OyWoZSXoZz5Y+JDJxxlIiUVKXvnRx7n7OL+vHL7JM8TlD8fTIfmPCQ0K0z+bWXF+4d3fD0GcL4lSe4GZs5YOPdK6anJhG9fypjlp7h2qVD7F/5G729+jJydgChH96FWPg3PdvGXA9LdBv1YaWytKJMeippZwdjWsEA76VnuS5PgjFcDRiBS62q2C58SkqeL1Yat3f50VWvMvVHXFKsi+P2se1sHdOCRrXVqG3qzvCV61m/+QjXXiu+STem4Kpvhb29JQ7OthhbuNLrt+nMmT+Xmf5D8WluhIF9H2YeCs95ZTE5hri93VH51pCBhx8SkXt70mN4GTQa02+r4LbhEQ9k9XrqI26d28Ocfh2w0yhN6Sb9WLh0GUu2XuJRfLLSspLTX4TRsI2MamONTQtPfEZPZfaCRSycNx3/oT50tNDHoN10dt9/lVFOQ+cxuoUx9ZpOYK/S1q177B3bHPMGNriuyp5k3hL+xxA62Vth28aXYZPnMn/eNCYM7EzrxibY9t9CiFROsw+tir+8ncXutflR3RJHHVW0TKywbD6MZafDpaPY1+fThtGkhzza0ZsG5R0ZKx38OrVtTsvWHfHuNYDBQwbQ27s9zk1b4e5/kLtSbfDuD/OUE3O749ZID9tfRtPV0hhLZy98+w9miPS8Pt5tae7kQpexGzkWqXhKpsu/4VRdl2ajt3JG2cCC54twq14N675SxSf/C6cQF3mJHX696N9cjaLfqWLZpSe9hk5h9aGrPBAHauELkBB2nHWeNSlq2JtpIzxxd+9EZ5++DBgylMG9O9GxVTOadRrP+uuJOQ/05/3pZWaMeps5eQY0xIesYZJ09t6yZXs69RzIkKFDGNS7O94dnGnbfynT3WtRoUl/VhzMHkbTSXt9i0NTpIOyY2tcvXvRb/BQhg7qTXd3Vzy6dqfvtJG0r1wyb8to4gMub/WjR3MbHDv60HuQ7Hl98OnQVKocezNu0yUe5iivsj0JZXZTNVr0+JVefQbQo5UDTV270XOAdCyRP9cOi+b9mHfkAU//vrlF4S9aRhNucGL5cLyaN6VlZ+mYIts36XMZ2Ec6njW1wL7jGOYfCstowXp+mbN+lpSp4cHKe2+VtDwn8OzqSvrULYVq3+M8evVu597cO8Sm3zrRzLY5br79GTR0qPTZd8HF3o42/RazNTRGOrK9k5Ycy6Vf9all4kwrq8bYmuqhZdCG7uP/JPjva3bhcwiZw0inJtRrOYOTilV/T6rkYlfiUa2aVOft54Q8Bb7g2q7RdFSticOSZ0rD6J09k/A1rIHu6MwwqnBuHF2MGmPQeVFGec/+3MvjaVevKkX/Uxbt1n3w2x7MncdxJCQmEPfkDiH759DDVAMjF3+Wnc+WpmVhdH8PNH5oxJCjj4jMvT1SGI0N/g3zH2riuSmCh9kagCIOz1P0Gd3Nm/S0vK2u7/WeMJoWQ+AwbaprtqbnnP1cjorldVIyyW/ieBZ2hsOL3alXXBWvdXcIl4Xit2dZ38+aBuq2+O5R0jZ6bwWjm+lTz3wgyzPHacq289YKeploYuIygmm7r/LwRQKJb2J5cvMYO6Z3wrCWHh5LQwh/9e7DiAv5k9mOJSnyoyrm3SZLwfsgx8/dIiI28QNagr88nzaMvgnn/gY3qhWpiJahDo3cRjLt95NcefSCV/EviQ79gyV9zalWwQ6/Cwm8zvqmRXBohjuWxYtQrIYOOq3GsPzQFe49e0V83BMeBAWwpHdTLA2taDH2APezf7mvTqCVqjHOY7dzTtmMDjHL6KyqQtNBf3Ao+9nn60ieLGtOqR+cGH/xfoGY1kIQPpWEe4Gsd6vIf8pqYdykNT2mbGBP0H2exL0m7nEoB2b70qJubXQGHiYtez+Zi1Pob90E7Q7zcw5oiAlkgaseembt6TZjF+fuPSP2dRwx4Rc4vGI4LoaGGKsVpYh+f9YcfhdG0xMiuLapNxa1NGg6YBFbzoYRHfua+Jj7XNm3gAk+ttTT0ECjdCms5kTyOKs14g33909mgL026taDWXjoGvdjpONBzAOuH5QqLHsdDO168tueR9kqLNl+nGWiVJlp1q5NDQNnXPvNZtPJmzyMiePVy4dcPzADd/WyNOi6gl23P/QyyPvD6JM9w+lqoY2a3SjWn79H1MvXJCRIn8ujq5xe1R2r2upYdF/M/pfSg9OieBDQl4Y/lMdxqfQ55E6jCTcJWdEBlR+18NkjVeiZNVLCZQLGumDdwAj74Rs5ejOaF/FxPJc++32zOmGpZUDT/qs4mO1EPS35JacGqFHmp9JU1GlJl1FzWLH1GOeuR/FK8Rghf6UH+tPX3pwG7svJvHj+92SVXAD91H7Gqt9O9suv5778iDAapFincGEC3YwbY+i9lPOKVVmu+NNesxjfVGnDgA23lA4oevanF1Z1G+M8ZifXMt/3fwijUccXMUgqv1W77ctxcvX3lIXRdCknPmZ7bys6+h/g0hPF6uySNtO57LcYjzpHsPz30mf1x1C8G2pSt/uuPC2UYcs8aN6wCbYj9mdlhrSUZ5wfrUt1LS8mH47K+zml3WabZ00qmI5jw+VnWUEzLmQLs1pWpZh2LzaLAPKpw+gDHmzqSM1vilLexp+APJcBE4m9sRD38sUwm/mQJwmZ39JIjs52x/i7/+Nngx4sVXqVL5ANfa3R0mzBqPPZzpf+aRhNkgrEyhaU+rEZfpcf5xqZKAiFmyyMrutQgW9Km+Dz56O8ASQikG2+WhSrN4K0tGy1hbIwmpZI5NpWaFQxx2dliHTqmFsqjze1R6dkEYqo9Wbt0cwmg1Rirv+Jn1lZyrdaRaiSbjYJt7bi3+h7ivznJyyzh9EXB1jsa4WOrhuTQhXrskk5P5FfLI0xbD+bE1mvK9uP80y1qULZH9RxHLebYCXveWmYJlUNf2Ha/g+dLuB9YTSF83O70cW9ByP3Kus5H8yCNhoYWQ9iivzDTOf148NMMy3Oz45LOB2ZM42+vhHAig6qlNAbyzHpV5mV8fNdg+jUxAjjruuVhJZXnBpjjalxGzovupxVEcrC6OlBGvxczpQem64j5gEveNJO+MnDqI7HCq4r1v09qZJL380ADVkY3cG+h7J1/0MYlY+mN8VA2Wj6K3441ymHlsdi/ghTrMstdT/jbeti2mosS24q1v0PYfTTj6ZPJvryee7GpGaEwOR4Yp8/JvLBPW6FBnJ0Q2/MSn6L3rCTBGUGwnvbWd7NmCp1u7EmR4C9whI3fak8+zDmSOYRNYWU14GMblAUza4bOXA9hlTpPeLi4jKWV9LJ/8vnPN/hhdpPjej151XCFc+MC9rELJe6lHNe91Vels/tE4fR+9zf6EHtojr0PyH90fO0sb/h2Y119FErgcG4q0TFZ6bHSI5Mb0+jKhoYDjmqZPSdTDp3A8bSzVAF7aHn3jVj/9MwKp/aKaNlVIymF740mX1Gi1kv5E7e2kkKoyc5NMSUUnX6/E0YTZeCzV2WO/1E1VbzCLieMWQiJ1kFeZJxRj9RVKsnKw8rwmh6ONe39aZRSXW67k8mKc/xQJIQTtgqZ6p+UwKrORFZYTRuz3C6WTZC13sdsnrwbWIiiZlLkmx7Q9g4wA4LfWcGHcks+LL155ncpBx1W89gbbCyls9Ubk1qRG39LozbefM9x5rc3t9n9PnNi1y5fJNwea5MITkxgfhXL3nx/Dkv7q1jqGU1tCwHMOlUxnPSXz/h9mwryvzclHGnIrMNbHjJ9YDfaK9aFeNJ10jKaq1+zPZ+jTFr0p6em2V91FLefQ7SIr9JwKXJ+Jo3xsR9HicUT5OH0YHqlG40mi1XRFVXIAXNYrhjE+o5z/6IOT6lQpSwDu/qVXAcsZdj8j/tx1ym/4gwenk8LWtr4zRiK4F5+5Qo3GdDNz3MbHwYtU9xWbtAhVFJehLxzyMJv3KaowEbWLlgGn4j++LTwQFTzSr8/N//oDPiNMFZZ2z3ubCmBzZVNWi56l1LJqET6KhniF3vNZzIOnAk8PbxItqWLoZOm5EMn7KQRQvmMndu5jKPeXNnMd/fhXrf/YzDpJNcULR8xQX9zqx2mpRtsVI+YCnPn+0r8+kv02/sTJ1iVvhde83LPJ/uG55eX0MvKYwaTriWI4wemtIOu/qNcVn5/vbquPOrmOysRYXmS5C1achfXoRRQcgj+2j6G2+UTO0khdEDg6Uwqtr3b8JoMqnx2+hZ8wdMhx3nbN7RhwqvCfCuSnmjnizL7DMac4Ez/s2oWLYti6RKU3nwe87j4PE0/bE41lIYzZz0PnS+7HKYJg3cp7Fjx59s3rw527KFbQEbmdSlCSa6jWk+J3NSHNl+nGeiWXlMvJez5XqevZakcsPfhNoNuzI+4OYHVnh/0WdUkp6WStKrp0RcP8WBrWtYOmscI3q0x06nBmX+U4RKDiOYflrxnPQEksMX0a78TzQZc/LdpcMXJwj41QmVGm2YGZ69YjrGjDYN0NdugdeMnez8M/vnIC1bthKwcQQexpo0tBnEorsZz8oKo0bD2RAc/dVXdAVS1GZmdLREx2wQ62XdOD5EeooUYkdjUUEPj4WnuSz/Av9bYXQcLWob0HrsDs7lynfvPGZrLyNMLTsxcJvipOeDwujYzxNG0xKJOjqd/s3qUaNcRaqqG2LR0o0uAyYwa30AJ69vo5/KDzQaeYpL2aLH8yDp+OJYnXLNl8sHZ8o+w6BxZuibdWbghuuy0+8M6a9JujuVZqW+p2iR//B/337Lt8qW7/7LN//3A03GnuScosyLMJrTvxZGJ1yN/6gwenByOxz1rOi8+f09mhJDNjLPVZdy5lORFSn5y4swKgh55AijyuYZ/eAwmkjqixW4liqBnV8Qwe8tKCkEDlCnSuM+70bTRwVydJgFxat243epwlFen8Xy9MYcXMsVzxjAJA+jbzkz0w37CkUoUuRvljKGWI49K3+ljCPCeSZJYdTY6/OE0dTIQLZOaIeZSnlKl1NB19yR1p49GeS3jICg3fg7a2PpNAD/k++ek/Y2gj/dKlO+ya+sD8qomWKOz2ZkM23quG3KOdtIUgATpdcop2zfcy3lm/Rk0sWMp4kwWhhcY8eYFlhoNaXXvg/rIZmemsi9GWZUrtURv4O3pW+mzAeGUaOPvUw/nla1VbEeuInD7w3LN1jhro2RuS+/7v+YltGxWPzbYTTtDSk3ZuFcrQK6bjPZIKXNV29TeZucTPLbNNLS35D4Yhf9pTBqkiuM8jKEszNbUa1MU6beSpPOAY4yzrQO1t2XsiXHnelkLaMLafPTT9iMOcTBa495Fv2IR49yLRGRREVF8ezVW5IVOUWE0Zz+pTBq+dFhVNYyaqNlivOy3MPl34k7t5KJLdQo5zAfWfcU+cv/XRh9sRwvKYw6ijAqfEU+aRiNXY1HmR8wH32Oizn6UGWXxMEeNalo0utdy2j0KY6PsKJEeQ9WSeeYyiuXFzy5MpVWJYphk61l9MIsFxwM9TAbsJmrV4I4f/58juXcuQtcCgom9GY44VkdTWX78RnDaMIxlnSzxEivGd5zDhFyP5KIyGgeP31OTKyshr3Gck9dLJv2zxFGpaRI/G5vGpQ3xWfNZaKlo8+ZOZ1ooWtNl+25R/DuZ1Kz+hiaeDPsz2tcDcr5Ocg/iwvSSUJIKDfDo3iiuJwqwmjhELFrLL2b1EXN43fk3T//Uqr0VTzAyAbFUe+8gcNhmSkuRgqjo3BVrYXjshgl84ymcHfPeDprf3yf0baqJanSdCLLg5T1sZE8XUM/45rotJjA8swLFLIwutcX9R9MGXY8gqg82xPH63PDMSxaE49/JYwqgn1iDNFLHClXvhXjjt0l76ErhdSEAwxW+1HeMnoxx0XZV0RemE/nOmUwmXKdpwE9aFy3Ob1XniXnzY5TSIk/wSjtoqh12cLxB+/Z6udHWTpxOXuvP1WcQIgwmluBCaNHZrTHpIIK+n33vWe051tu7xiJu1Z11HoefDctyuVxtFQxoe34nVxQ9td8vliqROpgJ8Ko8BX5dGFUdsA+xoj6/6W2+zqOhCkZESR/9evMtSlDiQY9WZHZZzQ+lIvznalZzIihF6Q6StnJ4tsIInZ0QfO74jn6jEZv7oObqQkmfXdnHbxze3rlEAe2BnAsa3oN2b+fMYyeHEVHqSI37boo2yCq7MJY56WPVe4wKtvOhEMM06+Ace/NHDi8nqW+Tug7jGV/too5w13WdjXEpIkURg8ofRPp5cIJ2reL7XuDeah4GxFGC4lXweyd3J6GNQzouOLuX/dhfnOFHf0MqFDDGf8jD3iWlQ8TuL3fH0/VsmiPCpFKbE7xoWvxb12bn8uoYTQmVxiVTe1kaIZxdyV3YLriTwetEhT5Tpc2Ew/Ju8bl9JJT4yzRqGhAq/F73t1BKuUlr08NQOfbmnRcG05kjnKfRvyVdfxqW4Vi39ag4++RPMr2nY84soAB5lWo1uOIYs2HyhtG098849F0U34o3ZbpV2Ol0+rcEnl2qD9mJb/DYPRFruYKAcnRF9nVXZ2SBoMZ6VwZjbazWJ/Z4TObtJQYLoxsQKVqtvTeJAVXxfosaXfY2deAajXaM+lEeFY/cRFGcyowYfTobA+MvytCCV1vZl9RUms9PcAy6aCsUtMCnz3Z4mrYNFxU1LHqu4ljmQ0kmRIus2OEJapFS2M2dDtHc4fR5c346ceWTLkRI6Y7Eb4ony6MSgfJlMcc9K1FGZW2jNkbrvTOJEnnRtK08jcUUe/FGqmizPCce0cm0KpcCer3P06EkmKdFn2Cje5V+V4+mv5dGCV8PZNdDamt482My0qeGLmLud6WWDbry8ysWlS2H58vjKbu9MGxvhk2o/cob9V6splRVlXQsh3K9Dzz5iQQNNoYXeueeLaxxb2dMy38LyndnrsrvWilr4NRz01KRtOn8WDrINzM7HEeujnrRgUijBYWUjgL28/qfg7o1LfBc/xadgc/4kW2r3zKizCCdi/Er6stelpWeC04R9i7eRHlYq9uZV7rShSt2ZqRaw9yKjiEoFN72TxnMJ2t6lOtaBH+W0kTw19zzTMaNAlf43rUMO/D3AvhhD94+u5Ohlf8aK9dh1JFvqNifQtaDFnMliPnCQ4N5sLRrawc0x6DCmWp124ya0OynzImkRy1nQEaP1LZpDujVhzkbEgIlwID2DCjP52tVSlb7AeK/l81XDdF5Aij0ScWM7RRCYo1kU7MQm9w41EcyXmbepW4w4YexlhYdmHUIcVl+pRXvDrSB51iFTHo5M/8XWcIvnKNKyHnOLFnA4t+60qrBqX5pkgRKrdbwB/BMTnLX/ITovb1QrdUVSoWq0yLBWe5nBV2sklPI+XuGvoZVaWOfku8Jm5gz+lgLode5PSelczq64BGiZLU9VrBgfBXsvZtORFGc/rHYfTRXGvq1HVj5PbcYbQTtWVh9Mr7wuhqeqoWzzuafnZnrIoV4btydVBr9itLd50m6MZd7t29weXT21jY0wZj1bo07LqS89lbDxKPMclBlbp6bfFdcIzLd+8RdiuEs/vWMW9gMxpU/IH/FPmBxsN3cCT7KYt01vRydQtKfatPl/UnOHv/GXEJSXnOKgWhMMoKo1bvuTf9o0AODGzET3lG00+mn6UZWu3nkdkTU3awfR04GqealdBuM4rZR8J5kXlETXvBg7Ob8HeqSZnvi1BEow9rj7ybmy0h8iTrvdQoUcGOQWsCufo8s4Slk/DwBH9MdMOwpFTuv/8Ji9nZwiiPubS6N23q16KO0xiWHzhP6O170vHgGiGBW5jlbUy9auoYdl3KsRjFUxRhVDaAKSOMKgmxUlVw3c+YWnpdGPcxYfTQeNzqVMZ6fvS7ltGrM+jRWAv1xt3w2xvCjbvS8S/8Ljcvn+V4wEqmdGmEmnRMK6bTmaF/PsrbMhPqh7tpQyp9WxID16HMvqxYn1vUXhZ3k/4mKka0HPc7hy5e5/a9MO5cPcexTWPx0KtE1XrO9FpzOasVWYTRwiSZhHsHWD6kPc2bt8O9ay/6DRnB6F9HM3rkMAb19cXL1ZmWLd3oOfsQt5U1kCdEcGvbSFz0pPKiY4q5jQ3WZgbUq1kdDdOW2DV1wLGhmlTv5rqvWswRVvSyRqtKFWoZNMOlmz9bI2Q1vOTKeFprGmHZwpl2nk40qt8AQ3Mb7O1ssTE3QltVHf2WQ1lw/AExub5g6anPCV3uQzNddbR0TTCztsGqsS5aqqqoNjCjfe/2aH1XE++tkTzKtj+J4UfY1M+IKqWroWfdFAeflZyOjv+Aevk+v/cwwca2K78eyyz3qaTHnmd1T2sM62qjY2SOtb099raWmBk2oL66GppNWmKrUYxiZVUx8F3NwVvZZwt5S+KzvQzVlI5rlT2ZdyH6vbcIlWWbsG3j6GGnj3Z9XelzssXOzhoLk4Y00GxAY3d/fr/6ijfZDklxl9YztWUtijssk5/Mfu1l9B+H0agFNtTR6sToHdfetSq+uUf4ejeqfWvGWKUto4nyqZ36qhXDaOJNorP3GZ3uTjPVqmg3c8NOsybqJk44u3fG26sjzpb10ahdFyO3SawOzX0dK5mb6wfgZqQqbU9jHF0707ljC+yN1ahUtiamLg6o/1gFp5HbOJpVaUmks6bXJ8fiULMiqqbNae46hLkBwYR9WO0kCAVawt0jrO5YnW+bzFYeRqWQeHCoKSXq9MsZRoOm0l86WOu4LiRnG8ojDo5tiWnt2tSz9KDf1OWs27SelbNG0LNVQ1TULHHQLcl/jQax6nC2dsLUV7w8PwfvhpWppGGH66BpLFr3OxtXzuC3bs2wMaiLqok5BmVLYrMgKlsYlTy7yMGpLtJ7VkfFyIm2Hl54dWpPqyb1UKlVD1OvWWwMyX5NQ7Yf55hg/BP6nkv5PWsW7uzSuD3ZRKp4ffALuP2BJ59x3Dnsj6dKZWwXP30XRtNvsmeS7HglVbD6TXHp1IUu3p1wa+uIRf3qVFfXR7P6z1SsVIO6bcax+ETuXmtXWeaqTvlvVLEevv3dZc480nlyZgUTnHWpXUMTk2aueHp50am9E2aa1alV3xGfhce5mu2zS0t6wcl+tSimN4R1QSKMFg5PubZrIZMGeNGhuS1W5mY0sbSnmUtX+vmtZOvFpxkh8X1SXxK2Zxajuralub0d9k5tcftlLIsPXeXSxWPsmjaUcXtyfwdTiDq3kXl92mDXxJpmbiNYczczjI6jRZ1GuM/cyZF7IeyfMwTf9i1wsnegWVsveo1fzYGwhKyBiXm/Y9IJ5eapjOjiTDN7W+yloO3RdxILd57j0bNAZvgMY93lWF5kL4TpL3ka/DsTu7TAwdoay45zOPTo3S113+8lF9f6M3PWanYoZpTI8vQM22YP5ZeOzWkqBUQbeydaunShz9jFbAm+z8Xlg/ilrRSweyxhZ2j2y6cpJEVIYVSnOBo9Awh68ndbkUL0+T9YMqo7bi3ssbV1pKVbL4bP2cG57C+r8ObWATYNb4vlwN3yboJfexn9h2E0nVd7h+LuM5M1px++a11IiiBi91AsND1YJH1J8176TiHu0XGWejvRd+sTXiRmfvwZo+mbmzjSZVMUUYdnM9zNlsa6GqhratPQxpVeM3dzNlLxrc3zV3vBzb1zGNnBHH1NFVQ1dTCy64jvxB3cfHaUqV7dGb/qJJdzzJWWTnrKA45OdMNJX42qFbVp57eDk+8dNSgIhUfig7MEDLGkrucG7icqGXzw4hrBK/vj6LEkZxi9/yeLRg6n18S9uTrqS1LvcHi2D631qlOuZHGKFytOybLVqGPqwfA/bxO6ogsew1eyJyh3D+xUXp6ZQz9HbVQqlqZEsWIUK16KihqWuIxZwa6QEyx0dWLE/pe8yDzeZ25SYiTXt06gV6vGNKynhqpGA4wcOjNo8TEuP1fsV9bmy/5zlcXt9Wk34g/2vmei7id/9sWt7wI2nXvvPFW5JBIZvJnpnVwYfvA1KdkTwasbnFk3mm5Oxuhq1kFFVYN6uo2wbOnLhJ3BHFrjz8iW9VA1dqHTvOBch65otnTXw8C6K8N3vn9bMp6TTsKDQDaP7UQLU23qqqqhoWOOo/c4lp+M4KVimzJfPy05jmA/C+q1mkrANSU1oSD8HfnUTka0mbAr14lpwZP9JnIyuX78ZxLucWOVC7VKGDLo4LOPuH3wB3oTw/N7lzl7R9m1/6/PPwyj75PC2zePuRZ8j1epaR/xhcgIo04Nbeiy9T2d9AVB+HBvX5P4+DrB9xKUjK79HyU8JvzSUQ7sO0xgyH3pVDAv5W/5lme3LxB4YB8HT14lLObfuAyRxotbl7n3JFbJTTcKmKuT6KCpgVXPVez71HkxPY2ke6c4eOkBz+I/dS0qfBWujJcPDnbx38XFv2yS/ZKkShlGdrvih1w/sogBJpWo2nY1obFJnybgCu/1icNohtxnKX/vXRj1/jPPcFJBEP6R9H/vACoV8nTF8nHePe/f3LaCTarZE66zzlONmvpd+W3H7Q/su/qxZJ+z4r+C8LEiluFr5cHQZSe4rVj15Qtmh58z9b8pQtHydTHxmMn+yBTeinL0r/tXwujHe8npBb/QrXl7hh5TrBIEQfiixPA0aBptqpaiXLnK1DDwZNz2KzwQF4OEgijtDXEvYol/8zZrBPiX7y2Jr2J4EhlJVPRTnse+EUH0MykgYTSV188e8jAsnMjsAxgEQRC+GG95G/+Iq2dOcur0OS5de8izhJS/HpQiCILwFSgYYVSceQiCIAiCIHyVCkjLqCAIgiAIgvA1EmFUEARBEARByDcijAqCIAiCIAj5RoRRQRAEQRAEId+IMCoIgiAIgiDkGxFGBUEQBEEQhHwjwqggCIIgCIKQb0QYFQRBEARBEPKNCKOCIAiCIAhCvhFhVBAEQRAEQcg3IowKgiAIgiAI+UaEUUEQBEEQBCHfiDAqCIIgCIIg5BsRRgVBEARBEIR8I8KoIAiCIAiCkG9EGBUEQRAEQRDyjQijgiAIgiAIQr4RYVQQBEEQBEHINyKMCoIgCIIgCPlGhFFBEARBEAQhn8D/A2V+84bwsPPYAAAAAElFTkSuQmCC)"
      ],
      "metadata": {
        "id": "-b-lBbQTaB1r"
      }
    },
    {
      "cell_type": "code",
      "source": [
        "#define MLP\n",
        "class MLP():\n",
        "    \n",
        "    #TODO (gradient descent)\n"
      ],
      "metadata": {
        "id": "eANaCdaQVG1X"
      },
      "execution_count": null,
      "outputs": []
    },
    {
      "cell_type": "markdown",
      "source": [
        "##### Solve XOR operation problem using MLP"
      ],
      "metadata": {
        "id": "HAs7YJx6tRsW"
      }
    },
    {
      "cell_type": "code",
      "source": [
        ""
      ],
      "metadata": {
        "colab": {
          "base_uri": "https://localhost:8080/"
        },
        "id": "LEeTuxvmJW9p",
        "outputId": "1ab16cf8-7dbe-4b7e-f975-735318bc7a8d"
      },
      "execution_count": null,
      "outputs": [
        {
          "output_type": "stream",
          "name": "stdout",
          "text": [
            "[[0.06139613]\n",
            " [0.95214947]\n",
            " [0.95528713]\n",
            " [0.0351047 ]]\n"
          ]
        }
      ]
    },
    {
      "cell_type": "code",
      "source": [
        ""
      ],
      "metadata": {
        "colab": {
          "base_uri": "https://localhost:8080/",
          "height": 352
        },
        "id": "09m8OTDiJxNQ",
        "outputId": "0a29b14a-8b0b-4889-a178-910024a33cf2"
      },
      "execution_count": null,
      "outputs": [
        {
          "output_type": "execute_result",
          "data": {
            "text/plain": [
              "Text(0, 0.5, 'loss')"
            ]
          },
          "metadata": {},
          "execution_count": 11
        },
        {
          "output_type": "display_data",
          "data": {
            "text/plain": [
              "<Figure size 360x360 with 1 Axes>"
            ],
            "image/png": "[encoded data removed]"
          },
          "metadata": {
            "needs_background": "light"
          }
        }
      ]
    },
    {
      "cell_type": "markdown",
      "source": [
        "##### Solve regression problem (quadratic function) using MLP"
      ],
      "metadata": {
        "id": "NnQ8oP82Y93G"
      }
    },
    {
      "cell_type": "code",
      "source": [
        "#define MLP for regression\n",
        "class MLP2():\n",
        "    \n",
        "\n",
        "    \n",
        "        \n",
        "        #TODO (delta_3)\n",
        "        "
      ],
      "metadata": {
        "id": "Vn342zUUAIVZ"
      },
      "execution_count": null,
      "outputs": []
    },
    {
      "cell_type": "code",
      "source": [
        ""
      ],
      "metadata": {
        "colab": {
          "base_uri": "https://localhost:8080/",
          "height": 283
        },
        "id": "hWMHPMdu00iH",
        "outputId": "b4e25968-03a5-4df1-d492-d0c9ac6212a6"
      },
      "execution_count": null,
      "outputs": [
        {
          "output_type": "execute_result",
          "data": {
            "text/plain": [
              "<matplotlib.collections.PathCollection at 0x7fd1a4a50d90>"
            ]
          },
          "metadata": {},
          "execution_count": 13
        },
        {
          "output_type": "display_data",
          "data": {
            "text/plain": [
              "<Figure size 432x288 with 1 Axes>"
            ],
            "image/png": "[encoded data removed]"
          },
          "metadata": {
            "needs_background": "light"
          }
        }
      ]
    },
    {
      "cell_type": "code",
      "source": [
        ""
      ],
      "metadata": {
        "colab": {
          "base_uri": "https://localhost:8080/"
        },
        "id": "CA09Oofc-z63",
        "outputId": "650559af-cac0-45eb-cf18-2507c3c855e6"
      },
      "execution_count": null,
      "outputs": [
        {
          "output_type": "stream",
          "name": "stdout",
          "text": [
            "[[0.01020261]\n",
            " [0.33998915]\n",
            " [0.63104043]\n",
            " [0.85183224]\n",
            " [0.9826779 ]\n",
            " [1.01665859]\n",
            " [0.95751184]\n",
            " [0.81605732]\n",
            " [0.60662281]\n",
            " [0.34429215]\n",
            " [0.04317652]]\n"
          ]
        }
      ]
    },
    {
      "cell_type": "code",
      "source": [
        ""
      ],
      "metadata": {
        "colab": {
          "base_uri": "https://localhost:8080/",
          "height": 283
        },
        "id": "TUZGcpFb6-dn",
        "outputId": "f2a1784e-e761-4b5b-f6c3-df65dd0b46ee"
      },
      "execution_count": null,
      "outputs": [
        {
          "output_type": "execute_result",
          "data": {
            "text/plain": [
              "[<matplotlib.lines.Line2D at 0x7fd1a4952350>]"
            ]
          },
          "metadata": {},
          "execution_count": 15
        },
        {
          "output_type": "display_data",
          "data": {
            "text/plain": [
              "<Figure size 432x288 with 1 Axes>"
            ],
            "image/png": "[encoded data removed]"
          },
          "metadata": {
            "needs_background": "light"
          }
        }
      ]
    },
    {
      "cell_type": "markdown",
      "source": [
        "##### Change Learning Rate"
      ],
      "metadata": {
        "id": "9ZsJQ-NHY1Az"
      }
    },
    {
      "cell_type": "code",
      "source": [
        ""
      ],
      "metadata": {
        "id": "dMfWQpDzE8NR",
        "colab": {
          "base_uri": "https://localhost:8080/",
          "height": 283
        },
        "outputId": "b97ad0d3-222c-4f7d-cfc6-e44c7679b8fc"
      },
      "execution_count": null,
      "outputs": [
        {
          "output_type": "execute_result",
          "data": {
            "text/plain": [
              "[<matplotlib.lines.Line2D at 0x7fd1a4be7790>]"
            ]
          },
          "metadata": {},
          "execution_count": 16
        },
        {
          "output_type": "display_data",
          "data": {
            "text/plain": [
              "<Figure size 432x288 with 1 Axes>"
            ],
            "image/png": "[encoded data removed]"
          },
          "metadata": {
            "needs_background": "light"
          }
        }
      ]
    },
    {
      "cell_type": "markdown",
      "source": [
        "##### Solve binary-class classification using MLP"
      ],
      "metadata": {
        "id": "j7DHKufNZnCQ"
      }
    },
    {
      "cell_type": "code",
      "source": [
        ""
      ],
      "metadata": {
        "colab": {
          "base_uri": "https://localhost:8080/",
          "height": 283
        },
        "id": "VDhCIzHhYtp-",
        "outputId": "08a3ad70-6c23-4414-9d6b-882e92c1f115"
      },
      "execution_count": null,
      "outputs": [
        {
          "output_type": "execute_result",
          "data": {
            "text/plain": [
              "<matplotlib.collections.PathCollection at 0x7fd1a50ba1d0>"
            ]
          },
          "metadata": {},
          "execution_count": 17
        },
        {
          "output_type": "display_data",
          "data": {
            "text/plain": [
              "<Figure size 432x288 with 1 Axes>"
            ],
            "image/png": "[encoded data removed]"
          },
          "metadata": {
            "needs_background": "light"
          }
        }
      ]
    },
    {
      "cell_type": "code",
      "source": [
        ""
      ],
      "metadata": {
        "colab": {
          "base_uri": "https://localhost:8080/"
        },
        "id": "krVgsfuJejFy",
        "outputId": "fbdcce7e-15d1-4014-d20c-6db945d36bd8"
      },
      "execution_count": null,
      "outputs": [
        {
          "output_type": "stream",
          "name": "stdout",
          "text": [
            "[[6.80033280e-04]\n",
            " [9.46416171e-04]\n",
            " [8.86896405e-03]\n",
            " [1.14307327e-02]\n",
            " [3.64396282e-03]\n",
            " [9.94523503e-01]\n",
            " [9.99966230e-01]\n",
            " [9.87937867e-01]\n",
            " [9.99973907e-01]\n",
            " [9.94104134e-01]]\n"
          ]
        }
      ]
    },
    {
      "cell_type": "markdown",
      "source": [
        "##### Solve Multi-calss classification using MLP (MNIST)"
      ],
      "metadata": {
        "id": "VqSHBNpYHidM"
      }
    },
    {
      "cell_type": "code",
      "source": [
        ""
      ],
      "metadata": {
        "id": "0cNVt04SQ3vM"
      },
      "execution_count": null,
      "outputs": []
    },
    {
      "cell_type": "code",
      "source": [
        ""
      ],
      "metadata": {
        "id": "_vY--Rc9Vjc0"
      },
      "execution_count": null,
      "outputs": []
    },
    {
      "cell_type": "code",
      "source": [
        ""
      ],
      "metadata": {
        "id": "-WT5U8l0Woe4",
        "colab": {
          "base_uri": "https://localhost:8080/",
          "height": 439,
          "referenced_widgets": [
            "1fc30683436b4910b4434bf7dbd71387",
            "1b71ad30d1e44d07b89cb141278ec521",
            "f55d0b9b2aba4f27a35368b91e0d1a4b",
            "b9f71383a7c14998be0fd2da196fb3c1",
            "5985a49facf340279262dc98ce65afa9",
            "79a6f26a07a14e84b6fc9bec4a1a6ece",
            "65fe697befa144d1a1348fbfab692e0a",
            "f9efffd27f4b48a48836848275442217",
            "b0565eecdb9746aa84ddcd27151ed83a",
            "a257af97810945d3a8a2b78f68332f87",
            "166b1cdcd42148cb88e05fa70640a45e",
            "54683bab4f8f43e0b090eb1dafa96ba6",
            "1043f930e9684b2f9a2ac9d0cc210a6e",
            "62a7cbc584a345b5aa81d53f67a29232",
            "644f629fe3504698b63d154059424a01",
            "4ed82a11d4144d938fc515e242c96b32",
            "b453372935914fe3828daeb8fe5c4bf6",
            "a012093ba87b48c1848a003b931b75a3",
            "1040e8fd933a4290b98534abfac134ef",
            "89f847236e2340d89464301ef7ad1e51",
            "0c2905fb5f544207a7c6f9c8c1d8464c",
            "60fd08a1310340abad7cb312bf932d74",
            "069ab984cdc149d3802c82e6bcc4b5fb",
            "bdb266103e1a4d3eb20cf5662b2c9b63",
            "c29e290b718e471b8c79d70ae93dae20",
            "79be50ebfb0c439e82391cd2dee702b7",
            "ea7493daa3954bc783c2a415dedfaa41",
            "d4321d352a8e402a8bcb294bb130e444",
            "81245f41895c426ab5825cc50464763d",
            "eb6a25c948f94412b7f6793b81bb4c50",
            "0e38351de69c48ce82fff9997289b382",
            "0a6968a9468b49f9aa8958b719d62ced",
            "6675f860ce0b4164a4f91d01859878c3",
            "7e9a49b40d084d3aba8357cbf1a54df2",
            "7d8afc3dce6a4eeab119e2897989d1e2",
            "cfb97b1f93fd4903a03044d389ba7376",
            "a1983fbd19674763a33a3ee68bf59e1b",
            "d497701378d943b69af4a4759f96f5ac",
            "e5d87f6e030a41aebde673234f0b9ff8",
            "ecebd613a98942de84845d4c75644f3e",
            "ee2b43b852d947eb91e9a44411288796",
            "f3c61d6932964c2b8c637a48cd457500",
            "98eed1ae17be4b5abe3a131e653944b4",
            "1e1b10e8576443ceb35b4f4e46090d84"
          ]
        },
        "outputId": "7894d2c3-16ec-4b33-c00f-ee0ed773e971"
      },
      "execution_count": null,
      "outputs": [
        {
          "output_type": "stream",
          "name": "stdout",
          "text": [
            "Downloading http://yann.lecun.com/exdb/mnist/train-images-idx3-ubyte.gz\n",
            "Downloading http://yann.lecun.com/exdb/mnist/train-images-idx3-ubyte.gz to MNIST_data/MNIST/raw/train-images-idx3-ubyte.gz\n"
          ]
        },
        {
          "output_type": "display_data",
          "data": {
            "text/plain": [
              "  0%|          | 0/9912422 [00:00<?, ?it/s]"
            ],
            "application/vnd.jupyter.widget-view+json": {
              "version_major": 2,
              "version_minor": 0,
              "model_id": "1fc30683436b4910b4434bf7dbd71387"
            }
          },
          "metadata": {}
        },
        {
          "output_type": "stream",
          "name": "stdout",
          "text": [
            "Extracting MNIST_data/MNIST/raw/train-images-idx3-ubyte.gz to MNIST_data/MNIST/raw\n",
            "\n",
            "Downloading http://yann.lecun.com/exdb/mnist/train-labels-idx1-ubyte.gz\n",
            "Downloading http://yann.lecun.com/exdb/mnist/train-labels-idx1-ubyte.gz to MNIST_data/MNIST/raw/train-labels-idx1-ubyte.gz\n"
          ]
        },
        {
          "output_type": "display_data",
          "data": {
            "text/plain": [
              "  0%|          | 0/28881 [00:00<?, ?it/s]"
            ],
            "application/vnd.jupyter.widget-view+json": {
              "version_major": 2,
              "version_minor": 0,
              "model_id": "54683bab4f8f43e0b090eb1dafa96ba6"
            }
          },
          "metadata": {}
        },
        {
          "output_type": "stream",
          "name": "stdout",
          "text": [
            "Extracting MNIST_data/MNIST/raw/train-labels-idx1-ubyte.gz to MNIST_data/MNIST/raw\n",
            "\n",
            "Downloading http://yann.lecun.com/exdb/mnist/t10k-images-idx3-ubyte.gz\n",
            "Downloading http://yann.lecun.com/exdb/mnist/t10k-images-idx3-ubyte.gz to MNIST_data/MNIST/raw/t10k-images-idx3-ubyte.gz\n"
          ]
        },
        {
          "output_type": "display_data",
          "data": {
            "text/plain": [
              "  0%|          | 0/1648877 [00:00<?, ?it/s]"
            ],
            "application/vnd.jupyter.widget-view+json": {
              "version_major": 2,
              "version_minor": 0,
              "model_id": "069ab984cdc149d3802c82e6bcc4b5fb"
            }
          },
          "metadata": {}
        },
        {
          "output_type": "stream",
          "name": "stdout",
          "text": [
            "Extracting MNIST_data/MNIST/raw/t10k-images-idx3-ubyte.gz to MNIST_data/MNIST/raw\n",
            "\n",
            "Downloading http://yann.lecun.com/exdb/mnist/t10k-labels-idx1-ubyte.gz\n",
            "Downloading http://yann.lecun.com/exdb/mnist/t10k-labels-idx1-ubyte.gz to MNIST_data/MNIST/raw/t10k-labels-idx1-ubyte.gz\n"
          ]
        },
        {
          "output_type": "display_data",
          "data": {
            "text/plain": [
              "  0%|          | 0/4542 [00:00<?, ?it/s]"
            ],
            "application/vnd.jupyter.widget-view+json": {
              "version_major": 2,
              "version_minor": 0,
              "model_id": "7e9a49b40d084d3aba8357cbf1a54df2"
            }
          },
          "metadata": {}
        },
        {
          "output_type": "stream",
          "name": "stdout",
          "text": [
            "Extracting MNIST_data/MNIST/raw/t10k-labels-idx1-ubyte.gz to MNIST_data/MNIST/raw\n",
            "\n"
          ]
        }
      ]
    },
    {
      "cell_type": "code",
      "source": [
        ""
      ],
      "metadata": {
        "colab": {
          "base_uri": "https://localhost:8080/",
          "height": 313
        },
        "id": "QYif4Id5thEM",
        "outputId": "e91056d4-0a89-41ed-9fc3-db1fa72019e9"
      },
      "execution_count": null,
      "outputs": [
        {
          "output_type": "display_data",
          "data": {
            "text/plain": [
              "<Figure size 1800x360 with 20 Axes>"
            ],
            "image/png": "[encoded data removed]"
          },
          "metadata": {
            "needs_background": "light"
          }
        }
      ]
    },
    {
      "cell_type": "markdown",
      "source": [
        "##### Define Multi-class classification Model with Pytorch"
      ],
      "metadata": {
        "id": "_fZnbX3rBTSI"
      }
    },
    {
      "cell_type": "code",
      "source": [
        "#define Claasifier with Pytorch\n",
        "class Classifier(torch.nn.Module):\n",
        "    "
      ],
      "metadata": {
        "id": "6EtvqvZpeHFy"
      },
      "execution_count": null,
      "outputs": []
    },
    {
      "cell_type": "code",
      "source": [
        ""
      ],
      "metadata": {
        "colab": {
          "base_uri": "https://localhost:8080/"
        },
        "id": "rrw9rnIdJro0",
        "outputId": "f0d269c0-6ed0-40cc-cbd9-cc158dfcc269"
      },
      "execution_count": null,
      "outputs": [
        {
          "output_type": "stream",
          "name": "stderr",
          "text": [
            "100%|██████████| 60000/60000 [01:48<00:00, 551.54it/s]\n"
          ]
        },
        {
          "output_type": "stream",
          "name": "stdout",
          "text": [
            "Epoch 1 Loss:  1.478442777659744\n"
          ]
        },
        {
          "output_type": "stream",
          "name": "stderr",
          "text": [
            "100%|██████████| 60000/60000 [02:01<00:00, 493.62it/s]\n"
          ]
        },
        {
          "output_type": "stream",
          "name": "stdout",
          "text": [
            "Epoch 2 Loss:  0.5467268054207224\n"
          ]
        },
        {
          "output_type": "stream",
          "name": "stderr",
          "text": [
            "100%|██████████| 60000/60000 [01:49<00:00, 549.29it/s]\n"
          ]
        },
        {
          "output_type": "stream",
          "name": "stdout",
          "text": [
            "Epoch 3 Loss:  0.4007625630950856\n"
          ]
        },
        {
          "output_type": "stream",
          "name": "stderr",
          "text": [
            "100%|██████████| 60000/60000 [01:46<00:00, 564.18it/s]\n"
          ]
        },
        {
          "output_type": "stream",
          "name": "stdout",
          "text": [
            "Epoch 4 Loss:  0.3503065574873617\n"
          ]
        },
        {
          "output_type": "stream",
          "name": "stderr",
          "text": [
            "100%|██████████| 60000/60000 [01:45<00:00, 566.71it/s]"
          ]
        },
        {
          "output_type": "stream",
          "name": "stdout",
          "text": [
            "Epoch 5 Loss:  0.322952242842206\n"
          ]
        },
        {
          "output_type": "stream",
          "name": "stderr",
          "text": [
            "\n"
          ]
        }
      ]
    },
    {
      "cell_type": "code",
      "source": [
        ""
      ],
      "metadata": {
        "colab": {
          "base_uri": "https://localhost:8080/"
        },
        "id": "Za0XGviKS5er",
        "outputId": "37e08447-b7a3-4bbb-de5e-341c9eb4aee1"
      },
      "execution_count": null,
      "outputs": [
        {
          "output_type": "stream",
          "name": "stdout",
          "text": [
            "Accuracy 0.8973999619483948\n"
          ]
        }
      ]
    },
    {
      "cell_type": "code",
      "source": [
        ""
      ],
      "metadata": {
        "colab": {
          "base_uri": "https://localhost:8080/",
          "height": 352
        },
        "id": "zKpFJu1WYkB-",
        "outputId": "5a62a612-5cd7-4d63-9bc6-fd67ac56a1c2"
      },
      "execution_count": null,
      "outputs": [
        {
          "output_type": "execute_result",
          "data": {
            "text/plain": [
              "Text(0, 0.5, 'loss')"
            ]
          },
          "metadata": {},
          "execution_count": 33
        },
        {
          "output_type": "display_data",
          "data": {
            "text/plain": [
              "<Figure size 360x360 with 1 Axes>"
            ],
            "image/png": "[encoded data removed]"
          },
          "metadata": {
            "needs_background": "light"
          }
        }
      ]
    },
    {
      "cell_type": "code",
      "source": [
        ""
      ],
      "metadata": {
        "colab": {
          "base_uri": "https://localhost:8080/",
          "height": 313
        },
        "id": "be6J80k9nRvo",
        "outputId": "64648884-24de-47fb-fbfb-9bd65cd27162"
      },
      "execution_count": null,
      "outputs": [
        {
          "output_type": "display_data",
          "data": {
            "text/plain": [
              "<Figure size 1800x360 with 20 Axes>"
            ],
            "image/png": "[encoded data removed]"
          },
          "metadata": {
            "needs_background": "light"
          }
        }
      ]
    },
    {
      "cell_type": "code",
      "source": [
        ""
      ],
      "metadata": {
        "id": "2ZpcHRLvppx1"
      },
      "execution_count": null,
      "outputs": []
    },
    {
      "cell_type": "code",
      "source": [
        ""
      ],
      "metadata": {
        "colab": {
          "base_uri": "https://localhost:8080/",
          "height": 313
        },
        "id": "oApjUqV4sQ9-",
        "outputId": "8493e7b1-bf96-4335-ed04-c7441bfa2d0f"
      },
      "execution_count": null,
      "outputs": [
        {
          "output_type": "display_data",
          "data": {
            "text/plain": [
              "<Figure size 1800x360 with 20 Axes>"
            ],
            "image/png": "[encoded data removed]"
          },
          "metadata": {
            "needs_background": "light"
          }
        }
      ]
    }
  ]
}
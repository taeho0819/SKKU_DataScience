{
 "cells": [
  {
   "cell_type": "markdown",
   "metadata": {},
   "source": [
    "## What is Scikit-Learn?\n",
    "* 사이킷런은 머신러닝을 위한 파이썬 패키지이다.\n",
    "* https://scikit-learn.org/stable/ 공식 홈페이지에 접속해 다양한 예제와 코드를 확인할 수 있다.\n",
    "\n",
    "* 사이킷런은 일반적인 파이썬이 아닌 C와 C++그리고 파이썬용 C엔진인 Cython으로 개발되어 있다.\n",
    "* 그래서, 동일한 알고리즘을 파이썬으로 작성하게 되면 사이킷런보다 느리게 실행된다."
   ]
  },
  {
   "cell_type": "code",
   "execution_count": null,
   "metadata": {},
   "outputs": [],
   "source": [
    "!pip install scikit-learn"
   ]
  },
  {
   "cell_type": "markdown",
   "metadata": {},
   "source": [
    "## Toy Dataset\n",
    "* sklearn(사이킷런)은 다양한 토이 데이터셋을 제공한다.\n",
    "* 자세한 내용은 https://scikit-learn.org/stable/modules/classes.html#module-sklearn.datasets 을 참고하면 된다."
   ]
  },
  {
   "cell_type": "code",
   "execution_count": null,
   "metadata": {},
   "outputs": [],
   "source": [
    "# Example 꽃봉우리 데이터셋 로드하기\n",
    "from sklearn.datasets import load_iris\n",
    "iris = load_iris()\n",
    "\n",
    "data = iris[\"data\"] # 실제 데이터 (모델 인풋, X)\n",
    "target = iris[\"target\"] # 예측 값 (실제 아웃풋, Y)\n",
    "feature_name = iris[\"feature_names\"] # 각 열이 무슨 데이터인지"
   ]
  },
  {
   "cell_type": "code",
   "execution_count": null,
   "metadata": {},
   "outputs": [],
   "source": [
    "print(f\"The data shape of data: {data.shape}\")\n",
    "print(f\"The data shape of target: {target.shape}\")\n",
    "print(\"Feature name: \")\n",
    "print(feature_name)"
   ]
  },
  {
   "cell_type": "markdown",
   "metadata": {},
   "source": [
    "## Model Selection"
   ]
  },
  {
   "cell_type": "code",
   "execution_count": null,
   "metadata": {},
   "outputs": [],
   "source": [
    "from sklearn.model_selection import train_test_split\n",
    "\n",
    "\n",
    "# Split the data into train and test (ratio = 2:1)\n",
    "\n",
    "\n"
   ]
  },
  {
   "cell_type": "code",
   "execution_count": null,
   "metadata": {},
   "outputs": [],
   "source": [
    "print(X_train.shape, X_test.shape)\n",
    "print(y_train.shape, y_test.shape)"
   ]
  },
  {
   "cell_type": "markdown",
   "metadata": {},
   "source": [
    "## Metrics"
   ]
  },
  {
   "cell_type": "code",
   "execution_count": 4,
   "metadata": {},
   "outputs": [
    {
     "name": "stdout",
     "output_type": "stream",
     "text": [
      "The accuracy is 0.57\n",
      "\n"
     ]
    }
   ],
   "source": [
    "import numpy as np\n",
    "\n",
    "a = np.array([1,0,0,1,0,1,1])\n",
    "b = np.array([0,0,0,1,1,1,0])\n",
    "\n",
    "\n",
    "from sklearn.metrics import accuracy_score\n",
    "from sklearn.metrics import recall_score\n",
    "from sklearn.metrics import precision_score\n",
    "from sklearn.metrics import confusion_matrix\n",
    "from sklearn.metrics import classification_report \n",
    "\n",
    "acc = # Code Here\n",
    "print(\"The accuracy is {:.2f}\\n\".format(acc))\n"
   ]
  },
  {
   "cell_type": "code",
   "execution_count": 5,
   "metadata": {},
   "outputs": [
    {
     "name": "stdout",
     "output_type": "stream",
     "text": [
      "The recall is 0.50\n",
      "\n"
     ]
    }
   ],
   "source": [
    "\n",
    "recall = # Code Here\n",
    "print(\"The recall is {:.2f}\\n\".format(recall))"
   ]
  },
  {
   "cell_type": "code",
   "execution_count": 6,
   "metadata": {},
   "outputs": [
    {
     "name": "stdout",
     "output_type": "stream",
     "text": [
      "The precision is 0.67\n",
      "\n"
     ]
    }
   ],
   "source": [
    "\n",
    "precision = # Code Here\n",
    "print(\"The precision is {:.2f}\\n\".format(precision))"
   ]
  },
  {
   "cell_type": "code",
   "execution_count": 7,
   "metadata": {},
   "outputs": [
    {
     "name": "stdout",
     "output_type": "stream",
     "text": [
      "The confusion matrix:\n",
      "[[2 1]\n",
      " [2 2]]\n"
     ]
    }
   ],
   "source": [
    "\n",
    "print(\"The confusion matrix:\")\n",
    "# Code Here"
   ]
  },
  {
   "cell_type": "code",
   "execution_count": 8,
   "metadata": {},
   "outputs": [
    {
     "name": "stdout",
     "output_type": "stream",
     "text": [
      "\n",
      "The classification report is:\n",
      "              precision    recall  f1-score   support\n",
      "\n",
      "           0       0.50      0.67      0.57         3\n",
      "           1       0.67      0.50      0.57         4\n",
      "\n",
      "    accuracy                           0.57         7\n",
      "   macro avg       0.58      0.58      0.57         7\n",
      "weighted avg       0.60      0.57      0.57         7\n",
      "\n"
     ]
    }
   ],
   "source": [
    "\n",
    "print(\"\\nThe classification report is:\")\n",
    "# Code Here"
   ]
  },
  {
   "cell_type": "markdown",
   "metadata": {},
   "source": [
    "### 5Fold Cross Validation (cross_val_score)\n",
    "* cross_val_score 함수를 통해 5폴드 검증을 수행할 수 있다.\n",
    "* 함수안에 classifier과 훈련용 데이터를 넣고, 몇 폴드를 나눌 것인지 설정해주면 자동으로 분할하여 계산한다.\n"
   ]
  },
  {
   "cell_type": "code",
   "execution_count": null,
   "metadata": {},
   "outputs": [],
   "source": [
    "from sklearn.model_selection import cross_val_score\n",
    "from sklearn.naive_bayes import GaussianNB\n",
    "\n",
    "# Load Gaussian Naive Bayes Model and conduct cross_validation\n"
   ]
  },
  {
   "cell_type": "code",
   "execution_count": null,
   "metadata": {},
   "outputs": [],
   "source": [
    "# 결과 리포팅\n",
    "\n"
   ]
  },
  {
   "cell_type": "markdown",
   "metadata": {},
   "source": [
    "## Draw Pretty Confusion Matrix\n",
    "1. Matplotlib 패키지 사용 (일반적인 방법)\n",
    "2. prettycm 패키지 사용 (데이터 라벨이 적은 경우)"
   ]
  },
  {
   "cell_type": "code",
   "execution_count": 5,
   "metadata": {},
   "outputs": [
    {
     "data": {
      "text/plain": [
       "MultinomialNB()"
      ]
     },
     "execution_count": 5,
     "metadata": {},
     "output_type": "execute_result"
    }
   ],
   "source": [
    "# Load dataset\n",
    "from sklearn.datasets import load_iris\n",
    "from sklearn.model_selection import train_test_split\n",
    "from sklearn.naive_bayes import MultinomialNB\n",
    "\n",
    "iris = load_iris()\n",
    "\n",
    "data = iris[\"data\"] # 실제 데이터 (모델 인풋, X)\n",
    "target = iris[\"target\"] # 예측 값 (실제 아웃풋, Y)\n",
    "\n",
    "X_train, X_test, y_train, y_test = train_test_split(data, target, test_size=0.33, random_state=3) # 데이터 분할\n",
    "\n",
    "clf = MultinomialNB() # 분류기 정의\n",
    "clf.fit(X_train, y_train)"
   ]
  },
  {
   "cell_type": "markdown",
   "metadata": {},
   "source": [
    "### Use matplotlib"
   ]
  },
  {
   "cell_type": "code",
   "execution_count": 4,
   "metadata": {},
   "outputs": [
    {
     "name": "stdout",
     "output_type": "stream",
     "text": [
      "Defaulting to user installation because normal site-packages is not writeable\n",
      "Requirement already satisfied: matplotlib in /Users/gojunseo/Library/Python/3.8/lib/python/site-packages (3.5.1)\n",
      "Requirement already satisfied: cycler>=0.10 in /Users/gojunseo/Library/Python/3.8/lib/python/site-packages (from matplotlib) (0.11.0)\n",
      "Requirement already satisfied: packaging>=20.0 in /Users/gojunseo/Library/Python/3.8/lib/python/site-packages (from matplotlib) (21.3)\n",
      "Requirement already satisfied: kiwisolver>=1.0.1 in /Users/gojunseo/Library/Python/3.8/lib/python/site-packages (from matplotlib) (1.3.2)\n",
      "Requirement already satisfied: pyparsing>=2.2.1 in /Users/gojunseo/Library/Python/3.8/lib/python/site-packages (from matplotlib) (3.0.7)\n",
      "Requirement already satisfied: pillow>=6.2.0 in /Users/gojunseo/Library/Python/3.8/lib/python/site-packages (from matplotlib) (9.0.1)\n",
      "Requirement already satisfied: fonttools>=4.22.0 in /Users/gojunseo/Library/Python/3.8/lib/python/site-packages (from matplotlib) (4.29.1)\n",
      "Requirement already satisfied: numpy>=1.17 in /Users/gojunseo/Library/Python/3.8/lib/python/site-packages (from matplotlib) (1.22.2)\n",
      "Requirement already satisfied: python-dateutil>=2.7 in /Users/gojunseo/Library/Python/3.8/lib/python/site-packages (from matplotlib) (2.8.2)\n",
      "Requirement already satisfied: six>=1.5 in /Library/Developer/CommandLineTools/Library/Frameworks/Python3.framework/Versions/3.8/lib/python3.8/site-packages (from python-dateutil>=2.7->matplotlib) (1.15.0)\n"
     ]
    }
   ],
   "source": [
    "! pip3 install matplotlib # install matplotlib"
   ]
  },
  {
   "cell_type": "code",
   "execution_count": 6,
   "metadata": {},
   "outputs": [
    {
     "name": "stderr",
     "output_type": "stream",
     "text": [
      "/Users/gojunseo/Library/Python/3.8/lib/python/site-packages/sklearn/utils/deprecation.py:87: FutureWarning: Function plot_confusion_matrix is deprecated; Function `plot_confusion_matrix` is deprecated in 1.0 and will be removed in 1.2. Use one of the class methods: ConfusionMatrixDisplay.from_predictions or ConfusionMatrixDisplay.from_estimator.\n",
      "  warnings.warn(msg, category=FutureWarning)\n"
     ]
    },
    {
     "data": {
      "text/plain": [
       "Text(0.5, 1.0, 'Confusion Matrix')"
      ]
     },
     "execution_count": 6,
     "metadata": {},
     "output_type": "execute_result"
    },
    {
     "data": {
      "image/png": "[encoded data removed]",
      "text/plain": [
       "<Figure size 432x288 with 2 Axes>"
      ]
     },
     "metadata": {
      "needs_background": "light"
     },
     "output_type": "display_data"
    }
   ],
   "source": [
    "from sklearn.metrics import confusion_matrix, plot_confusion_matrix\n",
    "import matplotlib.pyplot as plt\n",
    "\n",
    "# Define Label Data\n",
    "# Code Here\n",
    "\n",
    "\n",
    "# Draw Plot\n",
    "# Code Here"
   ]
  },
  {
   "cell_type": "markdown",
   "metadata": {},
   "source": [
    "# Draw AUROC Curve\n",
    "* 이진분류 데이터에 대해서만 AUROC커브를 그릴 수 있다."
   ]
  },
  {
   "cell_type": "code",
   "execution_count": 30,
   "metadata": {},
   "outputs": [],
   "source": [
    "# Load dataset\n",
    "from sklearn.datasets import load_breast_cancer\n",
    "from sklearn.model_selection import train_test_split\n",
    "from sklearn.naive_bayes import MultinomialNB\n",
    "\n",
    "cancer = load_breast_cancer() # 이진분류를 위한 데이터셋을 새로 로드\n",
    "\n",
    "data = cancer[\"data\"] # 실제 데이터 (모델 인풋, X)\n",
    "target = cancer[\"target\"] # 예측 값 (실제 아웃풋, Y)\n",
    "\n",
    "X_train, X_test, y_train, y_test = train_test_split(data, target, test_size=0.33, random_state=3) # 데이터 분할\n",
    "\n",
    "clf = MultinomialNB() # 분류기 정의\n",
    "clf.fit(X_train, y_train) # 분류기 훈련\n",
    "\n",
    "# 모델의 예측값이 1(질병이 있을 확률)일 확률을 계산한다.\n",
    "# Code Here"
   ]
  },
  {
   "cell_type": "code",
   "execution_count": 35,
   "metadata": {},
   "outputs": [],
   "source": [
    "from sklearn.metrics import roc_curve\n",
    "# Code Here\n",
    "# 모델에 대한 roc_curve 계산 \n",
    "# fpr = false positive rate\n",
    "# tpr = true positive rate\n",
    "\n",
    "\n",
    "# 기준선을 그리기 위해 모든 확률이 0인 데이터를 생성\n",
    "# Code Here\n",
    "\n",
    "# 기준선에 대한 roc_curve 계산\n",
    "# Code Here\n"
   ]
  },
  {
   "cell_type": "code",
   "execution_count": 34,
   "metadata": {},
   "outputs": [
    {
     "data": {
      "image/png": "[encoded data removed]",
      "text/plain": [
       "<Figure size 432x288 with 1 Axes>"
      ]
     },
     "metadata": {
      "needs_background": "light"
     },
     "output_type": "display_data"
    }
   ],
   "source": [
    "# Draw Plot\n",
    "# Code Here\n",
    "\n",
    "# axis labels\n",
    "plt.xlabel('False Positive Rate')\n",
    "plt.ylabel('True Positive Rate')\n",
    "# show the legend\n",
    "plt.legend()\n",
    "# show the plot\n",
    "plt.show()"
   ]
  },
  {
   "cell_type": "code",
   "execution_count": null,
   "metadata": {},
   "outputs": [],
   "source": []
  }
 ],
 "metadata": {
  "interpreter": {
   "hash": "31f2aee4e71d21fbe5cf8b01ff0e069b9275f58929596ceb00d14d90e3e16cd6"
  },
  "kernelspec": {
   "display_name": "Python 3.8.9 64-bit",
   "language": "python",
   "name": "python3"
  },
  "language_info": {
   "codemirror_mode": {
    "name": "ipython",
    "version": 3
   },
   "file_extension": ".py",
   "mimetype": "text/x-python",
   "name": "python",
   "nbconvert_exporter": "python",
   "pygments_lexer": "ipython3",
   "version": "3.8.9"
  },
  "orig_nbformat": 4
 },
 "nbformat": 4,
 "nbformat_minor": 2
}

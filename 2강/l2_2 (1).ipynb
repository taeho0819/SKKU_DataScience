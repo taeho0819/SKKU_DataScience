{
  "nbformat": 4,
  "nbformat_minor": 0,
  "metadata": {
    "colab": {
      "name": "l2-2",
      "provenance": [],
      "collapsed_sections": []
    },
    "kernelspec": {
      "name": "python3",
      "display_name": "Python 3"
    }
  },
  "cells": [
    {
      "cell_type": "code",
      "metadata": {
        "id": "GHh_jDQHGF3l",
        "colab": {
          "base_uri": "https://localhost:8080/"
        },
        "outputId": "88345534-862c-40ff-a227-e6ef09dad2e7"
      },
      "source": [
        "! curl http://nlp.cs.aueb.gr/software_and_datasets/Enron-Spam/preprocessed/enron1.tar.gz --output enron1.tar.gz"
      ],
      "execution_count": null,
      "outputs": [
        {
          "output_type": "stream",
          "text": [
            "  % Total    % Received % Xferd  Average Speed   Time    Time     Time  Current\n",
            "                                 Dload  Upload   Total   Spent    Left  Speed\n",
            "100 1760k  100 1760k    0     0   217k      0  0:00:08  0:00:08 --:--:--  351k\n"
          ],
          "name": "stdout"
        }
      ]
    },
    {
      "cell_type": "code",
      "metadata": {
        "id": "ukikYeRSH9RG"
      },
      "source": [
        "! tar -xf enron1.tar.gz enron1"
      ],
      "execution_count": null,
      "outputs": []
    },
    {
      "cell_type": "code",
      "metadata": {
        "id": "oE1Y6wxcIYAM",
        "colab": {
          "base_uri": "https://localhost:8080/"
        },
        "outputId": "03a7c4c9-2430-46a1-9050-05061c1a4741"
      },
      "source": [
        "! ls -1 enron1/ham/*.txt | wc -l # # of non-spam email"
      ],
      "execution_count": null,
      "outputs": [
        {
          "output_type": "stream",
          "text": [
            "3672\n"
          ],
          "name": "stdout"
        }
      ]
    },
    {
      "cell_type": "code",
      "metadata": {
        "id": "6nxzOpPaIgaV",
        "colab": {
          "base_uri": "https://localhost:8080/"
        },
        "outputId": "70abea50-adef-42bc-f008-5c613fb4b0f4"
      },
      "source": [
        "! ls -1 enron1/spam/*.txt | wc -l # # of spam email"
      ],
      "execution_count": null,
      "outputs": [
        {
          "output_type": "stream",
          "text": [
            "1500\n"
          ],
          "name": "stdout"
        }
      ]
    },
    {
      "cell_type": "code",
      "metadata": {
        "id": "BTY7GBbTIiW1",
        "colab": {
          "base_uri": "https://localhost:8080/"
        },
        "outputId": "d98a5c0a-7cbb-448e-b023-bd068e90504e"
      },
      "source": [
        "! cat enron1/ham/0007.1999-12-14.farmer.ham.txt"
      ],
      "execution_count": null,
      "outputs": [
        {
          "output_type": "stream",
          "text": [
            "Subject: mcmullen gas for 11 / 99\r\n",
            "jackie ,\r\n",
            "since the inlet to 3 river plant is shut in on 10 / 19 / 99 ( the last day of\r\n",
            "flow ) :\r\n",
            "at what meter is the mcmullen gas being diverted to ?\r\n",
            "at what meter is hpl buying the residue gas ? ( this is the gas from teco ,\r\n",
            "vastar , vintage , tejones , and swift )\r\n",
            "i still see active deals at meter 3405 in path manager for teco , vastar ,\r\n",
            "vintage , tejones , and swift\r\n",
            "i also see gas scheduled in pops at meter 3404 and 3405 .\r\n",
            "please advice . we need to resolve this as soon as possible so settlement\r\n",
            "can send out payments .\r\n",
            "thanks"
          ],
          "name": "stdout"
        }
      ]
    },
    {
      "cell_type": "code",
      "metadata": {
        "id": "UlLK6fKYIxik"
      },
      "source": [
        "import glob, os\n",
        "\n",
        "\n",
        "emails, labels = [], []\n",
        "parition = 0\n",
        "\n",
        "file_path = 'enron1/spam'\n",
        "\n",
        "for fname in glob.glob(os.path.join(file_path, '*.txt')):\n",
        "    with open(fname, 'r', encoding='ISO-8859-1') as f: \n",
        "      emails.append(f.read())\n",
        "      labels.append(1)\n",
        "\n",
        "file_path = 'enron1/ham'\n",
        "for fname in glob.glob(os.path.join(file_path, '*.txt')):\n",
        "    with open(fname, 'r', encoding='ISO-8859-1') as f: \n",
        "      emails.append(f.read())\n",
        "      labels.append(0)"
      ],
      "execution_count": null,
      "outputs": []
    },
    {
      "cell_type": "code",
      "metadata": {
        "id": "f0-j9xqJI78c",
        "colab": {
          "base_uri": "https://localhost:8080/"
        },
        "outputId": "974b3de8-a78e-4037-be56-c0f3587ea1c9"
      },
      "source": [
        "print('number of emails = {}\\nnumber of labels = {}'.format(len(emails), len(labels)))"
      ],
      "execution_count": null,
      "outputs": [
        {
          "output_type": "stream",
          "text": [
            "number of emails = 5172\n",
            "number of labels = 5172\n"
          ],
          "name": "stdout"
        }
      ]
    },
    {
      "cell_type": "code",
      "metadata": {
        "id": "RsovqmVUI-W0",
        "colab": {
          "base_uri": "https://localhost:8080/"
        },
        "outputId": "dbae4c98-cdae-479b-86a3-7db3d2f77f1e"
      },
      "source": [
        "print(emails[0])"
      ],
      "execution_count": null,
      "outputs": [
        {
          "output_type": "stream",
          "text": [
            "Subject: contemporary course to decrease mass !\n",
            "our tablets is an innovative fat - banding appendix that\n",
            "removes grease from the food you sup ! developed with\n",
            "the potent grease - binding fibre , the mixture\n",
            "of biological multipliers . . .\n",
            "test it\n",
            "\n"
          ],
          "name": "stdout"
        }
      ]
    },
    {
      "cell_type": "code",
      "metadata": {
        "id": "hZ6aJjvbJGtr"
      },
      "source": [
        "def letters_only(word):\n",
        "  return word.isalpha()"
      ],
      "execution_count": null,
      "outputs": []
    },
    {
      "cell_type": "code",
      "metadata": {
        "id": "EpCFaNsBcX5f",
        "colab": {
          "base_uri": "https://localhost:8080/"
        },
        "outputId": "4ca2a165-e4e4-41a0-aa79-c75e8a7061ec"
      },
      "source": [
        "import nltk\n",
        "nltk.download('names')\n",
        "nltk.download('wordnet')"
      ],
      "execution_count": null,
      "outputs": [
        {
          "output_type": "stream",
          "text": [
            "[nltk_data] Downloading package names to /root/nltk_data...\n",
            "[nltk_data]   Package names is already up-to-date!\n",
            "[nltk_data] Downloading package wordnet to /root/nltk_data...\n",
            "[nltk_data]   Package wordnet is already up-to-date!\n"
          ],
          "name": "stdout"
        },
        {
          "output_type": "execute_result",
          "data": {
            "text/plain": [
              "True"
            ]
          },
          "metadata": {
            "tags": []
          },
          "execution_count": 41
        }
      ]
    },
    {
      "cell_type": "code",
      "metadata": {
        "id": "zfvRfkwMcZTc"
      },
      "source": [
        "from nltk.corpus import names\n",
        "all_names = set(names.words())"
      ],
      "execution_count": null,
      "outputs": []
    },
    {
      "cell_type": "code",
      "metadata": {
        "id": "zsUmHPddcb3k"
      },
      "source": [
        "from nltk.stem import WordNetLemmatizer\n",
        "lemmatizer = WordNetLemmatizer()"
      ],
      "execution_count": null,
      "outputs": []
    },
    {
      "cell_type": "code",
      "metadata": {
        "id": "xM1IUY_LcdNc"
      },
      "source": [
        "def clean_text(doc):\n",
        "  cleaned_doc = []\n",
        "  for word in doc.split(' '): # split doc. by blank (' ')\n",
        "    word = word.lower() # ABD -> abd\n",
        "  \n",
        "    if letters_only(word) and word not in all_names and len(word) > 2: # remove number and punc. and name entity\n",
        "      cleaned_doc.append(lemmatizer.lemmatize(word))\n",
        "  return ' '.join(cleaned_doc) \n",
        "\n",
        "cleaned_emails = [clean_text(doc) for doc in emails]"
      ],
      "execution_count": null,
      "outputs": []
    },
    {
      "cell_type": "code",
      "metadata": {
        "id": "S9BRkSFace2E",
        "colab": {
          "base_uri": "https://localhost:8080/",
          "height": 35
        },
        "outputId": "f0d6eab3-1feb-437a-a482-8b1b6900c99b"
      },
      "source": [
        "cleaned_emails[0]"
      ],
      "execution_count": null,
      "outputs": [
        {
          "output_type": "execute_result",
          "data": {
            "application/vnd.google.colaboratory.intrinsic+json": {
              "type": "string"
            },
            "text/plain": [
              "'contemporary course decrease mass tablet innovative fat banding appendix grease from the food you sup developed potent grease binding fibre the biological multiplier'"
            ]
          },
          "metadata": {
            "tags": []
          },
          "execution_count": 45
        }
      ]
    },
    {
      "cell_type": "code",
      "metadata": {
        "id": "Qevx-_PlciYE"
      },
      "source": [
        "from sklearn.model_selection import train_test_split\n",
        "X_train, X_test, Y_train, Y_test = train_test_split(cleaned_emails, labels, test_size=0.33, random_state=0)"
      ],
      "execution_count": null,
      "outputs": []
    },
    {
      "cell_type": "code",
      "metadata": {
        "id": "vjZyqauVcmJs",
        "colab": {
          "base_uri": "https://localhost:8080/"
        },
        "outputId": "78754418-2c8a-4f53-c226-f6791be9787c"
      },
      "source": [
        "from sklearn.feature_extraction.text import CountVectorizer\n",
        "cv = CountVectorizer(stop_words='english', max_features=500)\n",
        "term_docs_train = cv.fit_transform(X_train)\n",
        "term_docs_test = cv.transform(X_test)\n",
        "print(term_docs_train[5])"
      ],
      "execution_count": null,
      "outputs": [
        {
          "output_type": "stream",
          "text": [
            "  (0, 132)\t1\n",
            "  (0, 380)\t3\n",
            "  (0, 125)\t3\n",
            "  (0, 164)\t1\n",
            "  (0, 24)\t1\n",
            "  (0, 63)\t1\n",
            "  (0, 85)\t1\n",
            "  (0, 423)\t1\n",
            "  (0, 31)\t1\n",
            "  (0, 495)\t1\n"
          ],
          "name": "stdout"
        }
      ]
    },
    {
      "cell_type": "code",
      "metadata": {
        "id": "zZbUAh01cngE",
        "colab": {
          "base_uri": "https://localhost:8080/"
        },
        "outputId": "c3242943-7de7-4ef5-e57c-733778e42f88"
      },
      "source": [
        "feature_names = cv.get_feature_names()\n",
        "print(feature_names[476])"
      ],
      "execution_count": null,
      "outputs": [
        {
          "output_type": "stream",
          "text": [
            "wa\n"
          ],
          "name": "stdout"
        }
      ]
    },
    {
      "cell_type": "code",
      "metadata": {
        "id": "O1kx2Eexcx4E",
        "colab": {
          "base_uri": "https://localhost:8080/"
        },
        "outputId": "e021f73f-96dc-49f5-e194-39769781523e"
      },
      "source": [
        "from sklearn.naive_bayes import MultinomialNB\n",
        "clf = MultinomialNB(alpha=1.0, fit_prior=True) # alpha: smoothing\n",
        "clf.fit(term_docs_train, Y_train)"
      ],
      "execution_count": null,
      "outputs": [
        {
          "output_type": "execute_result",
          "data": {
            "text/plain": [
              "MultinomialNB(alpha=1.0, class_prior=None, fit_prior=True)"
            ]
          },
          "metadata": {
            "tags": []
          },
          "execution_count": 49
        }
      ]
    },
    {
      "cell_type": "code",
      "metadata": {
        "id": "9cWrHqC9c1Vk",
        "colab": {
          "base_uri": "https://localhost:8080/"
        },
        "outputId": "e772c476-a361-4f39-871f-d24f4cd53221"
      },
      "source": [
        "prediction_prob = clf.predict_proba(term_docs_test)\n",
        "prediction_prob[0:10]"
      ],
      "execution_count": null,
      "outputs": [
        {
          "output_type": "execute_result",
          "data": {
            "text/plain": [
              "array([[1.00000000e+00, 6.27562619e-14],\n",
              "       [3.01879050e-29, 1.00000000e+00],\n",
              "       [9.99998434e-01, 1.56647382e-06],\n",
              "       [1.00000000e+00, 9.11790834e-64],\n",
              "       [9.99999551e-01, 4.48591127e-07],\n",
              "       [7.06782107e-01, 2.93217893e-01],\n",
              "       [8.40162142e-16, 1.00000000e+00],\n",
              "       [9.99999988e-01, 1.24254538e-08],\n",
              "       [7.06782107e-01, 2.93217893e-01],\n",
              "       [9.99989090e-01, 1.09095108e-05]])"
            ]
          },
          "metadata": {
            "tags": []
          },
          "execution_count": 50
        }
      ]
    },
    {
      "cell_type": "code",
      "metadata": {
        "id": "RHJWmo_6c3nV",
        "colab": {
          "base_uri": "https://localhost:8080/"
        },
        "outputId": "a5a7c16c-76b5-470d-ca80-03320945a55d"
      },
      "source": [
        "prediction = clf.predict(term_docs_test)\n",
        "prediction[:10]"
      ],
      "execution_count": null,
      "outputs": [
        {
          "output_type": "execute_result",
          "data": {
            "text/plain": [
              "array([0, 1, 0, 0, 0, 0, 1, 0, 0, 0])"
            ]
          },
          "metadata": {
            "tags": []
          },
          "execution_count": 51
        }
      ]
    },
    {
      "cell_type": "code",
      "metadata": {
        "id": "ytgQ88YOc8as",
        "colab": {
          "base_uri": "https://localhost:8080/"
        },
        "outputId": "ac8e23e6-a4fd-4634-e064-ec8cdff820d2"
      },
      "source": [
        "from sklearn.metrics import confusion_matrix\n",
        "import pandas as pd\n",
        "confusion_matrix(Y_test, prediction, labels=[0, 1])"
      ],
      "execution_count": null,
      "outputs": [
        {
          "output_type": "execute_result",
          "data": {
            "text/plain": [
              "array([[1115,  108],\n",
              "       [  75,  409]])"
            ]
          },
          "metadata": {
            "tags": []
          },
          "execution_count": 52
        }
      ]
    },
    {
      "cell_type": "code",
      "metadata": {
        "id": "XurCPNH1f9vu",
        "colab": {
          "base_uri": "https://localhost:8080/"
        },
        "outputId": "691dab77-5d18-418a-8d8d-491fa5c2af58"
      },
      "source": [
        "accuracy = clf.score(term_docs_test, Y_test)\n",
        "print('The accuracy using MultinomialNB is: {0:.1f}%'.format(accuracy*100))"
      ],
      "execution_count": null,
      "outputs": [
        {
          "output_type": "stream",
          "text": [
            "The accuracy using MultinomialNB is: 89.3%\n"
          ],
          "name": "stdout"
        }
      ]
    },
    {
      "cell_type": "code",
      "metadata": {
        "id": "Qy42Ld7tgD2b",
        "colab": {
          "base_uri": "https://localhost:8080/"
        },
        "outputId": "9d9f0a26-3aa9-42c4-f337-9d815c219296"
      },
      "source": [
        "from sklearn.metrics import precision_score, recall_score, f1_score\n",
        "print(precision_score(Y_test, prediction, pos_label=1))\n",
        "print(recall_score(Y_test, prediction, pos_label=1))\n",
        "print(f1_score(Y_test, prediction, pos_label=1))\n",
        "print(f1_score(Y_test, prediction, pos_label=0))"
      ],
      "execution_count": null,
      "outputs": [
        {
          "output_type": "stream",
          "text": [
            "0.7911025145067698\n",
            "0.8450413223140496\n",
            "0.8171828171828173\n",
            "0.9241607956900125\n"
          ],
          "name": "stdout"
        }
      ]
    },
    {
      "cell_type": "code",
      "metadata": {
        "id": "M_yo9oLggNW8",
        "colab": {
          "base_uri": "https://localhost:8080/"
        },
        "outputId": "58e03463-ac0f-47f5-c082-5bd09cc3fd80"
      },
      "source": [
        "from sklearn.metrics import classification_report\n",
        "report = classification_report(Y_test, prediction)\n",
        "print(report)"
      ],
      "execution_count": null,
      "outputs": [
        {
          "output_type": "stream",
          "text": [
            "              precision    recall  f1-score   support\n",
            "\n",
            "           0       0.94      0.91      0.92      1223\n",
            "           1       0.79      0.85      0.82       484\n",
            "\n",
            "    accuracy                           0.89      1707\n",
            "   macro avg       0.86      0.88      0.87      1707\n",
            "weighted avg       0.90      0.89      0.89      1707\n",
            "\n"
          ],
          "name": "stdout"
        }
      ]
    },
    {
      "cell_type": "code",
      "metadata": {
        "id": "S5Izo8FFgZPE"
      },
      "source": [
        "import numpy as np\n",
        "pos_prob = prediction_prob[:, 1]\n",
        "thresholds = np.arange(0.0, 1.2, 0.1)\n",
        "true_pos, false_pos = [0]*len(thresholds), [0]*len(thresholds)\n",
        "for pred, y in zip(pos_prob, Y_test):\n",
        "    for i, threshold in enumerate(thresholds):\n",
        "        if pred >= threshold:\n",
        "            if y == 1:\n",
        "                true_pos[i] += 1\n",
        "            else:\n",
        "                false_pos[i] += 1\n",
        "        else:\n",
        "            break\n",
        "\n",
        "true_pos_rate = [tp / np.count_nonzero(Y_test) for tp in true_pos]\n",
        "false_pos_rate = [fp / (len(Y_test)-np.count_nonzero(Y_test)) for fp in false_pos]"
      ],
      "execution_count": null,
      "outputs": []
    },
    {
      "cell_type": "code",
      "metadata": {
        "id": "Pnegw0a1g-0D",
        "colab": {
          "base_uri": "https://localhost:8080/",
          "height": 313
        },
        "outputId": "af0e9399-e330-4797-bc48-c14037da692f"
      },
      "source": [
        "import matplotlib.pyplot as plt\n",
        "plt.figure()\n",
        "lw = 2\n",
        "plt.plot(false_pos_rate, true_pos_rate, color='darkorange',\n",
        "         lw=lw)\n",
        "plt.plot([0, 1], [0, 1], color='navy', lw=lw, linestyle='--')\n",
        "plt.xlim([0.0, 1.0])\n",
        "plt.ylim([0.0, 1.05])\n",
        "plt.xlabel('False Positive Rate')\n",
        "plt.ylabel('True Positive Rate')\n",
        "plt.title('Receiver Operating Characteristic')\n",
        "plt.legend(loc=\"lower right\")\n",
        "plt.show()"
      ],
      "execution_count": null,
      "outputs": [
        {
          "output_type": "stream",
          "text": [
            "No handles with labels found to put in legend.\n"
          ],
          "name": "stderr"
        },
        {
          "output_type": "display_data",
          "data": {
            "image/png": "[encoded data removed]",
            "text/plain": [
              "<Figure size 432x288 with 1 Axes>"
            ]
          },
          "metadata": {
            "tags": [],
            "needs_background": "light"
          }
        }
      ]
    },
    {
      "cell_type": "code",
      "metadata": {
        "id": "BUyfenVMhGar",
        "colab": {
          "base_uri": "https://localhost:8080/"
        },
        "outputId": "20c1d576-eb55-4d3a-adc6-efafb5508cbb"
      },
      "source": [
        "from sklearn.metrics import roc_auc_score\n",
        "roc_auc_score(Y_test, pos_prob)"
      ],
      "execution_count": null,
      "outputs": [
        {
          "output_type": "execute_result",
          "data": {
            "text/plain": [
              "0.9451828926295588"
            ]
          },
          "metadata": {
            "tags": []
          },
          "execution_count": 58
        }
      ]
    },
    {
      "cell_type": "code",
      "metadata": {
        "id": "pUb8LdPHhJ9r"
      },
      "source": [
        "from sklearn.model_selection import StratifiedKFold\n",
        "k = 5\n",
        "k_fold = StratifiedKFold(n_splits=k) # StratifiedKFold: suffle samples and split smaple for n folds.\n",
        "\n",
        "# convert to numpy array for more efficient slicing\n",
        "cleaned_emails_np = np.array(cleaned_emails) \n",
        "labels_np = np.array(labels)"
      ],
      "execution_count": null,
      "outputs": []
    },
    {
      "cell_type": "code",
      "metadata": {
        "id": "RNaU58-iiXcV"
      },
      "source": [
        "max_features_option = [2000, 4000, 8000]\n",
        "smoothing_factor_option = [0.5, 1.0, 1.5, 2.0]\n",
        "fit_prior_option = [True, False]\n",
        "auc_record = {}"
      ],
      "execution_count": null,
      "outputs": []
    },
    {
      "cell_type": "code",
      "metadata": {
        "id": "mBK4Sot3ibPy"
      },
      "source": [
        "for train_indices, test_indices in k_fold.split(cleaned_emails, labels):\n",
        "    X_train, X_test = cleaned_emails_np[train_indices], cleaned_emails_np[test_indices]\n",
        "    Y_train, Y_test = labels_np[train_indices], labels_np[test_indices]\n",
        "    for max_features in max_features_option:\n",
        "        if max_features not in auc_record:\n",
        "            auc_record[max_features] = {}\n",
        "        cv = CountVectorizer(stop_words=\"english\", max_features=max_features)\n",
        "        term_docs_train = cv.fit_transform(X_train)\n",
        "        term_docs_test = cv.transform(X_test)\n",
        "        for smoothing_factor in smoothing_factor_option:\n",
        "            if smoothing_factor not in auc_record[max_features]:\n",
        "                auc_record[max_features][smoothing_factor] = {}\n",
        "            for fit_prior in fit_prior_option:\n",
        "                clf = MultinomialNB(alpha=smoothing_factor, fit_prior=fit_prior)\n",
        "                clf.fit(term_docs_train, Y_train)\n",
        "                prediction_prob = clf.predict_proba(term_docs_test)\n",
        "                pos_prob = prediction_prob[:, 1]\n",
        "                auc = roc_auc_score(Y_test, pos_prob)\n",
        "                auc_record[max_features][smoothing_factor][fit_prior] \\\n",
        "                    = auc + auc_record[max_features][smoothing_factor].get(fit_prior, 0.0)"
      ],
      "execution_count": null,
      "outputs": []
    },
    {
      "cell_type": "code",
      "metadata": {
        "id": "kQPbPH_UicqC",
        "colab": {
          "base_uri": "https://localhost:8080/"
        },
        "outputId": "bbabc436-4337-42a6-e357-1e9d3c0d50c6"
      },
      "source": [
        "print('max features  smoothing  fit prior  auc')\n",
        "for max_features, max_feature_record in auc_record.items():\n",
        "    for smoothing, smoothing_record in max_feature_record.items():\n",
        "        for fit_prior, auc in smoothing_record.items():\n",
        "            print('       {0}      {1}      {2}    {3:.4f}'.format(max_features, smoothing, fit_prior, auc/k))"
      ],
      "execution_count": null,
      "outputs": [
        {
          "output_type": "stream",
          "text": [
            "max features  smoothing  fit prior  auc\n",
            "       2000      0.5      True    0.9761\n",
            "       2000      0.5      False    0.9761\n",
            "       2000      1.0      True    0.9737\n",
            "       2000      1.0      False    0.9737\n",
            "       2000      1.5      True    0.9720\n",
            "       2000      1.5      False    0.9719\n",
            "       2000      2.0      True    0.9705\n",
            "       2000      2.0      False    0.9705\n",
            "       4000      0.5      True    0.9820\n",
            "       4000      0.5      False    0.9819\n",
            "       4000      1.0      True    0.9802\n",
            "       4000      1.0      False    0.9803\n",
            "       4000      1.5      True    0.9791\n",
            "       4000      1.5      False    0.9791\n",
            "       4000      2.0      True    0.9783\n",
            "       4000      2.0      False    0.9783\n",
            "       8000      0.5      True    0.9873\n",
            "       8000      0.5      False    0.9874\n",
            "       8000      1.0      True    0.9863\n",
            "       8000      1.0      False    0.9863\n",
            "       8000      1.5      True    0.9856\n",
            "       8000      1.5      False    0.9856\n",
            "       8000      2.0      True    0.9853\n",
            "       8000      2.0      False    0.9852\n"
          ],
          "name": "stdout"
        }
      ]
    },
    {
      "cell_type": "code",
      "metadata": {
        "id": "XNqf9imxiuoT"
      },
      "source": [
        ""
      ],
      "execution_count": null,
      "outputs": []
    }
  ]
}
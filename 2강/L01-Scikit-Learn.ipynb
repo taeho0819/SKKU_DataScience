{
 "cells": [
  {
   "cell_type": "markdown",
   "metadata": {},
   "source": [
    "## What is Scikit-Learn?\n",
    "* 사이킷런은 머신러닝을 위한 파이썬 패키지이다.\n",
    "* https://scikit-learn.org/stable/ 공식 홈페이지에 접속해 다양한 예제와 코드를 확인할 수 있다.\n",
    "\n",
    "* 사이킷런은 일반적인 파이썬이 아닌 C와 C++그리고 파이썬용 C엔진인 Cython으로 개발되어 있다.\n",
    "* 그래서, 동일한 알고리즘을 파이썬으로 작성하게 되면 사이킷런보다 느리게 실행된다."
   ]
  },
  {
   "cell_type": "markdown",
   "metadata": {},
   "source": [
    "## Install scikit-learn"
   ]
  },
  {
   "cell_type": "code",
   "execution_count": null,
   "metadata": {},
   "outputs": [],
   "source": [
    "!pip install scikit-learn"
   ]
  },
  {
   "cell_type": "markdown",
   "metadata": {},
   "source": [
    "## Toy Dataset\n",
    "* sklearn(사이킷런)은 다양한 토이 데이터셋을 제공한다.\n",
    "* 자세한 내용은 https://scikit-learn.org/stable/modules/classes.html#module-sklearn.datasets 을 참고하면 된다."
   ]
  },
  {
   "cell_type": "code",
   "execution_count": 1,
   "metadata": {},
   "outputs": [],
   "source": [
    "# Example 꽃봉우리 데이터셋 로드하기\n",
    "from sklearn.datasets import load_iris\n",
    "iris = load_iris()\n",
    "\n",
    "data = iris[\"data\"] # 실제 데이터 (모델 인풋, X)\n",
    "target = iris[\"target\"] # 예측 값 (실제 아웃풋, Y)\n",
    "feature_name = iris[\"feature_names\"] # 각 열이 무슨 데이터인지"
   ]
  },
  {
   "cell_type": "markdown",
   "metadata": {},
   "source": [
    "## Model Selection"
   ]
  },
  {
   "cell_type": "markdown",
   "metadata": {},
   "source": [
    "### Train-Test Split\n",
    "* 데이터를 훈련용과 테스트용으로 분리해주는 함수이다.\n",
    "* sklearn에 model_selection 패키지 안에 존재한다.\n",
    "\n",
    "* 주요파라미터\n",
    "- test_size = 테스트셋의 크기를 어떻게 할 것인지 비율을 설정해주는 파라미터이다. (0~1)\n",
    "- random_state = [파라미터 미사용시]: 랜덤하게 자름 / [int 값]: 숫자가 같다면 동일하게 데이터를 분할함."
   ]
  },
  {
   "cell_type": "code",
   "execution_count": 2,
   "metadata": {},
   "outputs": [],
   "source": [
    "# Load dataset\n",
    "from sklearn.datasets import load_iris\n",
    "iris = load_iris()\n",
    "\n",
    "data = iris[\"data\"] # 실제 데이터 (모델 인풋, X)\n",
    "target = iris[\"target\"] # 예측 값 (실제 아웃풋, Y)"
   ]
  },
  {
   "cell_type": "code",
   "execution_count": 3,
   "metadata": {},
   "outputs": [],
   "source": [
    "from sklearn.model_selection import train_test_split\n",
    "\n",
    "X_train, X_test, y_train, y_test = train_test_split(data, target, test_size=0.33, random_state=3)"
   ]
  },
  {
   "cell_type": "code",
   "execution_count": 4,
   "metadata": {},
   "outputs": [
    {
     "name": "stdout",
     "output_type": "stream",
     "text": [
      "(100, 4) (50, 4)\n",
      "(100,) (50,)\n"
     ]
    }
   ],
   "source": [
    "print(X_train.shape, X_test.shape)\n",
    "print(y_train.shape, y_test.shape)"
   ]
  },
  {
   "cell_type": "markdown",
   "metadata": {},
   "source": [
    "### 5Fold Cross Validation (cross_val_score)\n",
    "* cross_val_score 함수를 통해 5폴드 검증을 수행할 수 있다.\n",
    "* 함수안에 classifier과 훈련용 데이터를 넣고, 몇 폴드를 나눌 것인지 설정해주면 자동으로 분할하여 계산한다.\n"
   ]
  },
  {
   "cell_type": "code",
   "execution_count": 5,
   "metadata": {},
   "outputs": [],
   "source": [
    "from sklearn.model_selection import cross_val_score\n",
    "from sklearn.naive_bayes import GaussianNB\n",
    "clf = GaussianNB()\n",
    "scores = cross_val_score(clf, data, target, cv=5)"
   ]
  },
  {
   "cell_type": "code",
   "execution_count": 6,
   "metadata": {},
   "outputs": [
    {
     "name": "stdout",
     "output_type": "stream",
     "text": [
      "1Fold Accuracy: 0.93\n",
      "2Fold Accuracy: 0.97\n",
      "3Fold Accuracy: 0.93\n",
      "4Fold Accuracy: 0.93\n",
      "5Fold Accuracy: 1.00\n"
     ]
    }
   ],
   "source": [
    "# 결과 리포팅\n",
    "for idx, score in enumerate(scores):\n",
    "    print(f\"{idx+1}Fold Accuracy: {score:.2f}\")"
   ]
  }
 ],
 "metadata": {
  "interpreter": {
   "hash": "31f2aee4e71d21fbe5cf8b01ff0e069b9275f58929596ceb00d14d90e3e16cd6"
  },
  "kernelspec": {
   "display_name": "Python 3.8.9 64-bit",
   "language": "python",
   "name": "python3"
  },
  "language_info": {
   "codemirror_mode": {
    "name": "ipython",
    "version": 3
   },
   "file_extension": ".py",
   "mimetype": "text/x-python",
   "name": "python",
   "nbconvert_exporter": "python",
   "pygments_lexer": "ipython3",
   "version": "3.8.9"
  },
  "orig_nbformat": 4
 },
 "nbformat": 4,
 "nbformat_minor": 2
}

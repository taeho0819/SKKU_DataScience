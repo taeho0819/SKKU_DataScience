{
  "nbformat": 4,
  "nbformat_minor": 0,
  "metadata": {
    "colab": {
      "name": "MLP_FOR_CIFAR10.ipynb",
      "provenance": [],
      "collapsed_sections": []
    },
    "kernelspec": {
      "name": "python3",
      "display_name": "Python 3"
    },
    "language_info": {
      "name": "python"
    },
    "accelerator": "GPU",
    "widgets": {
      "application/vnd.jupyter.widget-state+json": {
        "dab1fb4f89e24145a7b2901991d53d99": {
          "model_module": "@jupyter-widgets/controls",
          "model_name": "HBoxModel",
          "model_module_version": "1.5.0",
          "state": {
            "_dom_classes": [],
            "_model_module": "@jupyter-widgets/controls",
            "_model_module_version": "1.5.0",
            "_model_name": "HBoxModel",
            "_view_count": null,
            "_view_module": "@jupyter-widgets/controls",
            "_view_module_version": "1.5.0",
            "_view_name": "HBoxView",
            "box_style": "",
            "children": [
              "IPY_MODEL_7960bdac411c457682b3e645f2cb7891",
              "IPY_MODEL_f8544828eb634aeabfaa73e2f9191a57",
              "IPY_MODEL_836bc9dc691147359db7c75c963b81f4"
            ],
            "layout": "IPY_MODEL_ed49aba914ef4489be7bdda44a543abe"
          }
        },
        "7960bdac411c457682b3e645f2cb7891": {
          "model_module": "@jupyter-widgets/controls",
          "model_name": "HTMLModel",
          "model_module_version": "1.5.0",
          "state": {
            "_dom_classes": [],
            "_model_module": "@jupyter-widgets/controls",
            "_model_module_version": "1.5.0",
            "_model_name": "HTMLModel",
            "_view_count": null,
            "_view_module": "@jupyter-widgets/controls",
            "_view_module_version": "1.5.0",
            "_view_name": "HTMLView",
            "description": "",
            "description_tooltip": null,
            "layout": "IPY_MODEL_1e8df2ebcf2d40fcb9549f4e331f91c4",
            "placeholder": "​",
            "style": "IPY_MODEL_2edc93be0bad4f379f729bba923a3def",
            "value": ""
          }
        },
        "f8544828eb634aeabfaa73e2f9191a57": {
          "model_module": "@jupyter-widgets/controls",
          "model_name": "FloatProgressModel",
          "model_module_version": "1.5.0",
          "state": {
            "_dom_classes": [],
            "_model_module": "@jupyter-widgets/controls",
            "_model_module_version": "1.5.0",
            "_model_name": "FloatProgressModel",
            "_view_count": null,
            "_view_module": "@jupyter-widgets/controls",
            "_view_module_version": "1.5.0",
            "_view_name": "ProgressView",
            "bar_style": "success",
            "description": "",
            "description_tooltip": null,
            "layout": "IPY_MODEL_266d6877d8884c1ca0cfc0ce8e40bfc5",
            "max": 170498071,
            "min": 0,
            "orientation": "horizontal",
            "style": "IPY_MODEL_a887494ec4d44ae295b0d9754eea72aa",
            "value": 170498071
          }
        },
        "836bc9dc691147359db7c75c963b81f4": {
          "model_module": "@jupyter-widgets/controls",
          "model_name": "HTMLModel",
          "model_module_version": "1.5.0",
          "state": {
            "_dom_classes": [],
            "_model_module": "@jupyter-widgets/controls",
            "_model_module_version": "1.5.0",
            "_model_name": "HTMLModel",
            "_view_count": null,
            "_view_module": "@jupyter-widgets/controls",
            "_view_module_version": "1.5.0",
            "_view_name": "HTMLView",
            "description": "",
            "description_tooltip": null,
            "layout": "IPY_MODEL_8c75b0d77a1b4390a02c27c02d28dc84",
            "placeholder": "​",
            "style": "IPY_MODEL_d6b521b6b3874af39a999af798a3adeb",
            "value": " 170499072/? [00:04&lt;00:00, 43147181.72it/s]"
          }
        },
        "ed49aba914ef4489be7bdda44a543abe": {
          "model_module": "@jupyter-widgets/base",
          "model_name": "LayoutModel",
          "model_module_version": "1.2.0",
          "state": {
            "_model_module": "@jupyter-widgets/base",
            "_model_module_version": "1.2.0",
            "_model_name": "LayoutModel",
            "_view_count": null,
            "_view_module": "@jupyter-widgets/base",
            "_view_module_version": "1.2.0",
            "_view_name": "LayoutView",
            "align_content": null,
            "align_items": null,
            "align_self": null,
            "border": null,
            "bottom": null,
            "display": null,
            "flex": null,
            "flex_flow": null,
            "grid_area": null,
            "grid_auto_columns": null,
            "grid_auto_flow": null,
            "grid_auto_rows": null,
            "grid_column": null,
            "grid_gap": null,
            "grid_row": null,
            "grid_template_areas": null,
            "grid_template_columns": null,
            "grid_template_rows": null,
            "height": null,
            "justify_content": null,
            "justify_items": null,
            "left": null,
            "margin": null,
            "max_height": null,
            "max_width": null,
            "min_height": null,
            "min_width": null,
            "object_fit": null,
            "object_position": null,
            "order": null,
            "overflow": null,
            "overflow_x": null,
            "overflow_y": null,
            "padding": null,
            "right": null,
            "top": null,
            "visibility": null,
            "width": null
          }
        },
        "1e8df2ebcf2d40fcb9549f4e331f91c4": {
          "model_module": "@jupyter-widgets/base",
          "model_name": "LayoutModel",
          "model_module_version": "1.2.0",
          "state": {
            "_model_module": "@jupyter-widgets/base",
            "_model_module_version": "1.2.0",
            "_model_name": "LayoutModel",
            "_view_count": null,
            "_view_module": "@jupyter-widgets/base",
            "_view_module_version": "1.2.0",
            "_view_name": "LayoutView",
            "align_content": null,
            "align_items": null,
            "align_self": null,
            "border": null,
            "bottom": null,
            "display": null,
            "flex": null,
            "flex_flow": null,
            "grid_area": null,
            "grid_auto_columns": null,
            "grid_auto_flow": null,
            "grid_auto_rows": null,
            "grid_column": null,
            "grid_gap": null,
            "grid_row": null,
            "grid_template_areas": null,
            "grid_template_columns": null,
            "grid_template_rows": null,
            "height": null,
            "justify_content": null,
            "justify_items": null,
            "left": null,
            "margin": null,
            "max_height": null,
            "max_width": null,
            "min_height": null,
            "min_width": null,
            "object_fit": null,
            "object_position": null,
            "order": null,
            "overflow": null,
            "overflow_x": null,
            "overflow_y": null,
            "padding": null,
            "right": null,
            "top": null,
            "visibility": null,
            "width": null
          }
        },
        "2edc93be0bad4f379f729bba923a3def": {
          "model_module": "@jupyter-widgets/controls",
          "model_name": "DescriptionStyleModel",
          "model_module_version": "1.5.0",
          "state": {
            "_model_module": "@jupyter-widgets/controls",
            "_model_module_version": "1.5.0",
            "_model_name": "DescriptionStyleModel",
            "_view_count": null,
            "_view_module": "@jupyter-widgets/base",
            "_view_module_version": "1.2.0",
            "_view_name": "StyleView",
            "description_width": ""
          }
        },
        "266d6877d8884c1ca0cfc0ce8e40bfc5": {
          "model_module": "@jupyter-widgets/base",
          "model_name": "LayoutModel",
          "model_module_version": "1.2.0",
          "state": {
            "_model_module": "@jupyter-widgets/base",
            "_model_module_version": "1.2.0",
            "_model_name": "LayoutModel",
            "_view_count": null,
            "_view_module": "@jupyter-widgets/base",
            "_view_module_version": "1.2.0",
            "_view_name": "LayoutView",
            "align_content": null,
            "align_items": null,
            "align_self": null,
            "border": null,
            "bottom": null,
            "display": null,
            "flex": null,
            "flex_flow": null,
            "grid_area": null,
            "grid_auto_columns": null,
            "grid_auto_flow": null,
            "grid_auto_rows": null,
            "grid_column": null,
            "grid_gap": null,
            "grid_row": null,
            "grid_template_areas": null,
            "grid_template_columns": null,
            "grid_template_rows": null,
            "height": null,
            "justify_content": null,
            "justify_items": null,
            "left": null,
            "margin": null,
            "max_height": null,
            "max_width": null,
            "min_height": null,
            "min_width": null,
            "object_fit": null,
            "object_position": null,
            "order": null,
            "overflow": null,
            "overflow_x": null,
            "overflow_y": null,
            "padding": null,
            "right": null,
            "top": null,
            "visibility": null,
            "width": null
          }
        },
        "a887494ec4d44ae295b0d9754eea72aa": {
          "model_module": "@jupyter-widgets/controls",
          "model_name": "ProgressStyleModel",
          "model_module_version": "1.5.0",
          "state": {
            "_model_module": "@jupyter-widgets/controls",
            "_model_module_version": "1.5.0",
            "_model_name": "ProgressStyleModel",
            "_view_count": null,
            "_view_module": "@jupyter-widgets/base",
            "_view_module_version": "1.2.0",
            "_view_name": "StyleView",
            "bar_color": null,
            "description_width": ""
          }
        },
        "8c75b0d77a1b4390a02c27c02d28dc84": {
          "model_module": "@jupyter-widgets/base",
          "model_name": "LayoutModel",
          "model_module_version": "1.2.0",
          "state": {
            "_model_module": "@jupyter-widgets/base",
            "_model_module_version": "1.2.0",
            "_model_name": "LayoutModel",
            "_view_count": null,
            "_view_module": "@jupyter-widgets/base",
            "_view_module_version": "1.2.0",
            "_view_name": "LayoutView",
            "align_content": null,
            "align_items": null,
            "align_self": null,
            "border": null,
            "bottom": null,
            "display": null,
            "flex": null,
            "flex_flow": null,
            "grid_area": null,
            "grid_auto_columns": null,
            "grid_auto_flow": null,
            "grid_auto_rows": null,
            "grid_column": null,
            "grid_gap": null,
            "grid_row": null,
            "grid_template_areas": null,
            "grid_template_columns": null,
            "grid_template_rows": null,
            "height": null,
            "justify_content": null,
            "justify_items": null,
            "left": null,
            "margin": null,
            "max_height": null,
            "max_width": null,
            "min_height": null,
            "min_width": null,
            "object_fit": null,
            "object_position": null,
            "order": null,
            "overflow": null,
            "overflow_x": null,
            "overflow_y": null,
            "padding": null,
            "right": null,
            "top": null,
            "visibility": null,
            "width": null
          }
        },
        "d6b521b6b3874af39a999af798a3adeb": {
          "model_module": "@jupyter-widgets/controls",
          "model_name": "DescriptionStyleModel",
          "model_module_version": "1.5.0",
          "state": {
            "_model_module": "@jupyter-widgets/controls",
            "_model_module_version": "1.5.0",
            "_model_name": "DescriptionStyleModel",
            "_view_count": null,
            "_view_module": "@jupyter-widgets/base",
            "_view_module_version": "1.2.0",
            "_view_name": "StyleView",
            "description_width": ""
          }
        }
      }
    }
  },
  "cells": [
    {
      "cell_type": "code",
      "execution_count": 1,
      "metadata": {
        "id": "QmA-pat53VuC"
      },
      "outputs": [],
      "source": [
        "import numpy as np\n",
        "import matplotlib.pyplot as plt\n",
        "import torch\n",
        "import torchvision.datasets\n",
        "import torchvision.transforms\n",
        "import torch.nn.functional as F\n",
        "from tqdm import tqdm\n",
        "import random"
      ]
    },
    {
      "cell_type": "code",
      "source": [
        "random.seed(2022)\n",
        "torch.manual_seed(2022)\n",
        "\n",
        "cifar_train = torchvision.datasets.CIFAR10(root='/', train=True, transform=torchvision.transforms.ToTensor(), download=True)\n",
        "cifar_test = torchvision.datasets.CIFAR10(root='/', train=False, transform=torchvision.transforms.ToTensor(), download=True)\n",
        "\n",
        "batch_size = 64\n",
        "\n",
        "train_loader = torch.utils.data.DataLoader(dataset=cifar_train, batch_size=batch_size, shuffle=True, drop_last=True)\n",
        "test_loader = torch.utils.data.DataLoader(dataset=cifar_test, shuffle=True,batch_size=10000 , drop_last=True)"
      ],
      "metadata": {
        "colab": {
          "base_uri": "https://localhost:8080/",
          "height": 104,
          "referenced_widgets": [
            "dab1fb4f89e24145a7b2901991d53d99",
            "7960bdac411c457682b3e645f2cb7891",
            "f8544828eb634aeabfaa73e2f9191a57",
            "836bc9dc691147359db7c75c963b81f4",
            "ed49aba914ef4489be7bdda44a543abe",
            "1e8df2ebcf2d40fcb9549f4e331f91c4",
            "2edc93be0bad4f379f729bba923a3def",
            "266d6877d8884c1ca0cfc0ce8e40bfc5",
            "a887494ec4d44ae295b0d9754eea72aa",
            "8c75b0d77a1b4390a02c27c02d28dc84",
            "d6b521b6b3874af39a999af798a3adeb"
          ]
        },
        "id": "bs7si9ha3YlV",
        "outputId": "bbfd0f18-17fc-4cc7-fea3-ee1321298de5"
      },
      "execution_count": 2,
      "outputs": [
        {
          "output_type": "stream",
          "name": "stdout",
          "text": [
            "Downloading https://www.cs.toronto.edu/~kriz/cifar-10-python.tar.gz to /cifar-10-python.tar.gz\n"
          ]
        },
        {
          "output_type": "display_data",
          "data": {
            "text/plain": [
              "  0%|          | 0/170498071 [00:00<?, ?it/s]"
            ],
            "application/vnd.jupyter.widget-view+json": {
              "version_major": 2,
              "version_minor": 0,
              "model_id": "dab1fb4f89e24145a7b2901991d53d99"
            }
          },
          "metadata": {}
        },
        {
          "output_type": "stream",
          "name": "stdout",
          "text": [
            "Extracting /cifar-10-python.tar.gz to /\n",
            "Files already downloaded and verified\n"
          ]
        }
      ]
    },
    {
      "cell_type": "code",
      "source": [
        "cifar_label = {0:'airplane', 1:'automobile', 2: 'bird', 3:'cat',4:'deer',5:'dog',6:'frog',7:'horse',8:'ship',9:'truck'}\n",
        "images = cifar_train.data[60:80]\n",
        "labels = cifar_train.targets[60:80]\n",
        "print(images.shape)\n",
        "fig = plt.figure(figsize=(25,5))\n",
        "for i in range(len(images)):\n",
        "    ax = fig.add_subplot(2, 20/2, i+1)\n",
        "    ax.imshow(images[i])\n",
        "    ax.set_title(cifar_label[labels[i]])\n",
        "    ax.axis('off')"
      ],
      "metadata": {
        "colab": {
          "base_uri": "https://localhost:8080/",
          "height": 225
        },
        "id": "Dfi88ApE33k1",
        "outputId": "c9718e63-a773-4f00-c1e6-8a400a1bf5e0"
      },
      "execution_count": 3,
      "outputs": [
        {
          "output_type": "stream",
          "name": "stdout",
          "text": [
            "(20, 32, 32, 3)\n"
          ]
        },
        {
          "output_type": "display_data",
          "data": {
            "text/plain": [
              "<Figure size 1800x360 with 20 Axes>"
            ],
            "image/png": "[encoded data removed]"
          },
          "metadata": {
            "needs_background": "light"
          }
        }
      ]
    },
    {
      "cell_type": "code",
      "source": [
        "class Classifier_opt(torch.nn.Module):\n",
        "    def __init__(self, input_dim, hidden_dim,device, output_dim, lr = 0.001, epochs = 10, activation='sigmoid',dropout=0.0, opt='sgd', momentum=0.9):\n",
        "        super(Classifier_opt, self).__init__()\n",
        "        self.input_dim = input_dim\n",
        "        self.hidden_dim = hidden_dim\n",
        "        self.output_dim = output_dim\n",
        "        self.epochs = epochs\n",
        "        self.total_losses = []\n",
        "        self.accuracy=[]\n",
        "        self.lr = lr\n",
        "        self.device = device\n",
        "        self.activation = activation\n",
        "        self.dropout = dropout\n",
        "        self.opt=opt\n",
        "        self.momentum=momentum\n",
        "\n",
        "        self.fc1 = torch.nn.Linear(self.input_dim, self.hidden_dim[0]).to(self.device)\n",
        "        self.bn1 = torch.nn.BatchNorm1d(self.hidden_dim[0]).to(self.device)\n",
        "        self.dropout1 = torch.nn.Dropout(self.dropout)\n",
        "        self.fc2 = torch.nn.Linear(self.hidden_dim[0], self.hidden_dim[1]).to(self.device)\n",
        "        self.bn2 = torch.nn.BatchNorm1d(self.hidden_dim[1]).to(self.device)\n",
        "        self.dropout2 = torch.nn.Dropout(self.dropout)\n",
        "        self.fc3 = torch.nn.Linear(self.hidden_dim[1], self.hidden_dim[2]).to(self.device)\n",
        "        self.bn3 = torch.nn.BatchNorm1d(self.hidden_dim[2]).to(self.device)\n",
        "        self.dropout3 = torch.nn.Dropout(self.dropout)\n",
        "        self.fc4 = torch.nn.Linear(self.hidden_dim[2], self.output_dim).to(self.device)\n",
        "        self.dropout4 = torch.nn.Dropout(self.dropout)\n",
        "        \n",
        "        torch.nn.init.xavier_uniform_(self.fc1.weight)\n",
        "        torch.nn.init.xavier_uniform_(self.fc2.weight)\n",
        "        torch.nn.init.xavier_uniform_(self.fc3.weight)\n",
        "        torch.nn.init.xavier_uniform_(self.fc4.weight)\n",
        "        \n",
        "    def forward(self, x):\n",
        "        if self.activation == 'relu':\n",
        "            pred = self.dropout1(F.relu(self.bn1(self.fc1(x))))\n",
        "            pred = self.dropout2(F.relu(self.bn2(self.fc2(pred))))\n",
        "            pred = self.dropout3(F.relu(self.bn3(self.fc3(pred))))\n",
        "            pred = self.dropout4(self.fc4(pred))\n",
        "        else:\n",
        "            pred = self.dropout1(torch.sigmoid(self.bn1(self.fc1(x))))\n",
        "            pred = self.dropout2(torch.sigmoid(self.bn2(self.fc2(pred))))\n",
        "            pred = self.dropout3(torch.sigmoid(self.bn3(self.fc3(pred))))\n",
        "            pred = self.dropout4(self.fc4(pred))\n",
        "        \n",
        "        return pred\n",
        "\n",
        "    def fit(self, data):\n",
        "        criterion = torch.nn.CrossEntropyLoss().to(self.device)\n",
        "        if self.opt =='sgd':\n",
        "          optimizer = torch.optim.SGD(self.parameters(), lr = self.lr, momentum=self.momentum)\n",
        "        elif self.opt =='adagrad':\n",
        "          optimizer = torch.optim.Adagrad(self.parameters(), lr = self.lr)\n",
        "        elif self.opt =='rmsprop':\n",
        "          optimizer = torch.optim.RMSprop(self.parameters(), lr = self.lr)\n",
        "        elif self.opt =='adam':\n",
        "          optimizer = torch.optim.Adam(self.parameters(), lr = self.lr, weight_decay=0.01)\n",
        "        \n",
        "        for _ in range(self.epochs):\n",
        "            total_loss=0\n",
        "            total_accuracy=0\n",
        "            for x, y in tqdm(data):\n",
        "                x = x.view(-1,3072).to(self.device)\n",
        "                y = y.to(self.device)\n",
        "                optimizer.zero_grad()\n",
        "\n",
        "                pred = self.forward(x)\n",
        "\n",
        "                loss = criterion(pred, y)\n",
        "                loss.backward()\n",
        "                optimizer.step()\n",
        "                \n",
        "                correct_pred = torch.argmax(pred,1) == y\n",
        "                accuracy = correct_pred.float().mean()\n",
        "                total_accuracy+=accuracy.item()\n",
        "                total_loss+=loss.item()\n",
        "\n",
        "            print('Epoch {} Loss: '.format(_+1),total_loss/len(data))\n",
        "            self.total_losses.append(total_loss/len(data))\n",
        "            self.accuracy.append(total_accuracy/len(data))\n",
        "\n",
        "    def evaluation(self, data):\n",
        "        with torch.no_grad():\n",
        "            self.eval()\n",
        "            \n",
        "            criterion = torch.nn.CrossEntropyLoss().to(self.device)\n",
        "            for x, y in tqdm(data):\n",
        "                x = x.view(-1,3072).to(self.device)\n",
        "                y = y.to(self.device)\n",
        "                pred = self.forward(x)\n",
        "                loss = criterion(pred, y)\n",
        "                correct_pred = torch.argmax(pred,1) == y\n",
        "                accuracy = correct_pred.float().mean()\n",
        "            print('Accuracy', accuracy.item())\n",
        "        \n",
        "        return accuracy.item()\n",
        "\n",
        "    def get_weights(self):\n",
        "        return [self.fc1.weight, self.fc2.weight,self.fc3.weight, self.fc4.weight]\n"
      ],
      "metadata": {
        "id": "Cpf5eEXO4KWl"
      },
      "execution_count": 10,
      "outputs": []
    },
    {
      "cell_type": "code",
      "source": [
        "device = 'cuda' if torch.cuda.is_available() else 'cpu'\n",
        "\n",
        "model = Classifier_opt(input_dim = 3072, hidden_dim=(512,256,128), output_dim=10,device=device, activation='relu',opt='adam')"
      ],
      "metadata": {
        "id": "USXK0Alk53Xs"
      },
      "execution_count": 11,
      "outputs": []
    },
    {
      "cell_type": "code",
      "source": [
        "model.fit(train_loader)"
      ],
      "metadata": {
        "colab": {
          "base_uri": "https://localhost:8080/"
        },
        "id": "gsb7IEHNECSK",
        "outputId": "e77deb41-f14b-4cf6-ed3b-44a498ac736e"
      },
      "execution_count": 12,
      "outputs": [
        {
          "output_type": "stream",
          "name": "stderr",
          "text": [
            "100%|██████████| 781/781 [00:08<00:00, 91.11it/s]\n"
          ]
        },
        {
          "output_type": "stream",
          "name": "stdout",
          "text": [
            "Epoch 1 Loss:  1.7312165385782337\n"
          ]
        },
        {
          "output_type": "stream",
          "name": "stderr",
          "text": [
            "100%|██████████| 781/781 [00:08<00:00, 92.89it/s]\n"
          ]
        },
        {
          "output_type": "stream",
          "name": "stdout",
          "text": [
            "Epoch 2 Loss:  1.6902727592311961\n"
          ]
        },
        {
          "output_type": "stream",
          "name": "stderr",
          "text": [
            "100%|██████████| 781/781 [00:08<00:00, 92.47it/s]\n"
          ]
        },
        {
          "output_type": "stream",
          "name": "stdout",
          "text": [
            "Epoch 3 Loss:  1.6500268762456622\n"
          ]
        },
        {
          "output_type": "stream",
          "name": "stderr",
          "text": [
            "100%|██████████| 781/781 [00:08<00:00, 94.56it/s]\n"
          ]
        },
        {
          "output_type": "stream",
          "name": "stdout",
          "text": [
            "Epoch 4 Loss:  1.6146804907868368\n"
          ]
        },
        {
          "output_type": "stream",
          "name": "stderr",
          "text": [
            "100%|██████████| 781/781 [00:08<00:00, 93.83it/s]\n"
          ]
        },
        {
          "output_type": "stream",
          "name": "stdout",
          "text": [
            "Epoch 5 Loss:  1.595439557992542\n"
          ]
        },
        {
          "output_type": "stream",
          "name": "stderr",
          "text": [
            "100%|██████████| 781/781 [00:08<00:00, 93.86it/s]\n"
          ]
        },
        {
          "output_type": "stream",
          "name": "stdout",
          "text": [
            "Epoch 6 Loss:  1.5797707364440117\n"
          ]
        },
        {
          "output_type": "stream",
          "name": "stderr",
          "text": [
            "100%|██████████| 781/781 [00:08<00:00, 93.56it/s]\n"
          ]
        },
        {
          "output_type": "stream",
          "name": "stdout",
          "text": [
            "Epoch 7 Loss:  1.5720828704431022\n"
          ]
        },
        {
          "output_type": "stream",
          "name": "stderr",
          "text": [
            "100%|██████████| 781/781 [00:08<00:00, 92.26it/s]\n"
          ]
        },
        {
          "output_type": "stream",
          "name": "stdout",
          "text": [
            "Epoch 8 Loss:  1.5621916189999647\n"
          ]
        },
        {
          "output_type": "stream",
          "name": "stderr",
          "text": [
            "100%|██████████| 781/781 [00:08<00:00, 93.55it/s]\n"
          ]
        },
        {
          "output_type": "stream",
          "name": "stdout",
          "text": [
            "Epoch 9 Loss:  1.5612494663148164\n"
          ]
        },
        {
          "output_type": "stream",
          "name": "stderr",
          "text": [
            "100%|██████████| 781/781 [00:08<00:00, 93.83it/s]"
          ]
        },
        {
          "output_type": "stream",
          "name": "stdout",
          "text": [
            "Epoch 10 Loss:  1.5564232872329204\n"
          ]
        },
        {
          "output_type": "stream",
          "name": "stderr",
          "text": [
            "\n"
          ]
        }
      ]
    },
    {
      "cell_type": "code",
      "source": [
        "test_x = torch.Tensor(cifar_test.data).reshape(-1,3072).to(device)\n",
        "test_y = torch.Tensor(cifar_test.targets).to(device)\n",
        "\n",
        "model.evaluation(test_loader)"
      ],
      "metadata": {
        "colab": {
          "base_uri": "https://localhost:8080/"
        },
        "id": "ylOEyQ0kESsW",
        "outputId": "6e76ad2e-68c9-49fa-c630-70d902b9c54d"
      },
      "execution_count": 13,
      "outputs": [
        {
          "output_type": "stream",
          "name": "stderr",
          "text": [
            "100%|██████████| 1/1 [00:01<00:00,  1.14s/it]"
          ]
        },
        {
          "output_type": "stream",
          "name": "stdout",
          "text": [
            "Accuracy 0.3853999972343445\n"
          ]
        },
        {
          "output_type": "stream",
          "name": "stderr",
          "text": [
            "\n"
          ]
        },
        {
          "output_type": "execute_result",
          "data": {
            "text/plain": [
              "0.3853999972343445"
            ]
          },
          "metadata": {},
          "execution_count": 13
        }
      ]
    },
    {
      "cell_type": "code",
      "source": [
        "model.accuracy[-1]"
      ],
      "metadata": {
        "colab": {
          "base_uri": "https://localhost:8080/"
        },
        "id": "nlVbyg_gNFPd",
        "outputId": "43c81783-fe74-4ff2-bd07-6a51cba59c66"
      },
      "execution_count": 14,
      "outputs": [
        {
          "output_type": "execute_result",
          "data": {
            "text/plain": [
              "0.448943661971831"
            ]
          },
          "metadata": {},
          "execution_count": 14
        }
      ]
    },
    {
      "cell_type": "code",
      "source": [
        ""
      ],
      "metadata": {
        "id": "AD0aDZ-xRiL5"
      },
      "execution_count": null,
      "outputs": []
    }
  ]
}
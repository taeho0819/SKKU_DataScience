{
  "nbformat": 4,
  "nbformat_minor": 0,
  "metadata": {
    "colab": {
      "name": "Deep_Learning_실습코드.ipynb",
      "provenance": [],
      "collapsed_sections": []
    },
    "kernelspec": {
      "name": "python3",
      "display_name": "Python 3"
    },
    "language_info": {
      "name": "python"
    },
    "accelerator": "GPU",
    "widgets": {
      "application/vnd.jupyter.widget-state+json": {
        "6602acc51adc456fac8f3dfbf2fb660a": {
          "model_module": "@jupyter-widgets/controls",
          "model_name": "HBoxModel",
          "model_module_version": "1.5.0",
          "state": {
            "_dom_classes": [],
            "_model_module": "@jupyter-widgets/controls",
            "_model_module_version": "1.5.0",
            "_model_name": "HBoxModel",
            "_view_count": null,
            "_view_module": "@jupyter-widgets/controls",
            "_view_module_version": "1.5.0",
            "_view_name": "HBoxView",
            "box_style": "",
            "children": [
              "IPY_MODEL_61f77e396666473f9ee6ae683464f6cc",
              "IPY_MODEL_450df81d44a24acd9408ef66a06233d1",
              "IPY_MODEL_f3b1aaf054de4ee080eed26af391a45e"
            ],
            "layout": "IPY_MODEL_ad971fe112ca482582a906f06cdd6ac8"
          }
        },
        "61f77e396666473f9ee6ae683464f6cc": {
          "model_module": "@jupyter-widgets/controls",
          "model_name": "HTMLModel",
          "model_module_version": "1.5.0",
          "state": {
            "_dom_classes": [],
            "_model_module": "@jupyter-widgets/controls",
            "_model_module_version": "1.5.0",
            "_model_name": "HTMLModel",
            "_view_count": null,
            "_view_module": "@jupyter-widgets/controls",
            "_view_module_version": "1.5.0",
            "_view_name": "HTMLView",
            "description": "",
            "description_tooltip": null,
            "layout": "IPY_MODEL_d5e55d161bf94b1d8d36e4df17de70d6",
            "placeholder": "​",
            "style": "IPY_MODEL_3954af2695b147b59eb0e78ee27dd368",
            "value": ""
          }
        },
        "450df81d44a24acd9408ef66a06233d1": {
          "model_module": "@jupyter-widgets/controls",
          "model_name": "FloatProgressModel",
          "model_module_version": "1.5.0",
          "state": {
            "_dom_classes": [],
            "_model_module": "@jupyter-widgets/controls",
            "_model_module_version": "1.5.0",
            "_model_name": "FloatProgressModel",
            "_view_count": null,
            "_view_module": "@jupyter-widgets/controls",
            "_view_module_version": "1.5.0",
            "_view_name": "ProgressView",
            "bar_style": "success",
            "description": "",
            "description_tooltip": null,
            "layout": "IPY_MODEL_4e557b7ed12342eb85f9cd7d7e0f9384",
            "max": 9912422,
            "min": 0,
            "orientation": "horizontal",
            "style": "IPY_MODEL_6fd00a191a2e484ab810de4da87f4e22",
            "value": 9912422
          }
        },
        "f3b1aaf054de4ee080eed26af391a45e": {
          "model_module": "@jupyter-widgets/controls",
          "model_name": "HTMLModel",
          "model_module_version": "1.5.0",
          "state": {
            "_dom_classes": [],
            "_model_module": "@jupyter-widgets/controls",
            "_model_module_version": "1.5.0",
            "_model_name": "HTMLModel",
            "_view_count": null,
            "_view_module": "@jupyter-widgets/controls",
            "_view_module_version": "1.5.0",
            "_view_name": "HTMLView",
            "description": "",
            "description_tooltip": null,
            "layout": "IPY_MODEL_3596d8439ee24ad5a81333c12612bd13",
            "placeholder": "​",
            "style": "IPY_MODEL_7334d9c76ddf4983bdecbc628f9a0550",
            "value": " 9913344/? [00:00&lt;00:00, 19263474.97it/s]"
          }
        },
        "ad971fe112ca482582a906f06cdd6ac8": {
          "model_module": "@jupyter-widgets/base",
          "model_name": "LayoutModel",
          "model_module_version": "1.2.0",
          "state": {
            "_model_module": "@jupyter-widgets/base",
            "_model_module_version": "1.2.0",
            "_model_name": "LayoutModel",
            "_view_count": null,
            "_view_module": "@jupyter-widgets/base",
            "_view_module_version": "1.2.0",
            "_view_name": "LayoutView",
            "align_content": null,
            "align_items": null,
            "align_self": null,
            "border": null,
            "bottom": null,
            "display": null,
            "flex": null,
            "flex_flow": null,
            "grid_area": null,
            "grid_auto_columns": null,
            "grid_auto_flow": null,
            "grid_auto_rows": null,
            "grid_column": null,
            "grid_gap": null,
            "grid_row": null,
            "grid_template_areas": null,
            "grid_template_columns": null,
            "grid_template_rows": null,
            "height": null,
            "justify_content": null,
            "justify_items": null,
            "left": null,
            "margin": null,
            "max_height": null,
            "max_width": null,
            "min_height": null,
            "min_width": null,
            "object_fit": null,
            "object_position": null,
            "order": null,
            "overflow": null,
            "overflow_x": null,
            "overflow_y": null,
            "padding": null,
            "right": null,
            "top": null,
            "visibility": null,
            "width": null
          }
        },
        "d5e55d161bf94b1d8d36e4df17de70d6": {
          "model_module": "@jupyter-widgets/base",
          "model_name": "LayoutModel",
          "model_module_version": "1.2.0",
          "state": {
            "_model_module": "@jupyter-widgets/base",
            "_model_module_version": "1.2.0",
            "_model_name": "LayoutModel",
            "_view_count": null,
            "_view_module": "@jupyter-widgets/base",
            "_view_module_version": "1.2.0",
            "_view_name": "LayoutView",
            "align_content": null,
            "align_items": null,
            "align_self": null,
            "border": null,
            "bottom": null,
            "display": null,
            "flex": null,
            "flex_flow": null,
            "grid_area": null,
            "grid_auto_columns": null,
            "grid_auto_flow": null,
            "grid_auto_rows": null,
            "grid_column": null,
            "grid_gap": null,
            "grid_row": null,
            "grid_template_areas": null,
            "grid_template_columns": null,
            "grid_template_rows": null,
            "height": null,
            "justify_content": null,
            "justify_items": null,
            "left": null,
            "margin": null,
            "max_height": null,
            "max_width": null,
            "min_height": null,
            "min_width": null,
            "object_fit": null,
            "object_position": null,
            "order": null,
            "overflow": null,
            "overflow_x": null,
            "overflow_y": null,
            "padding": null,
            "right": null,
            "top": null,
            "visibility": null,
            "width": null
          }
        },
        "3954af2695b147b59eb0e78ee27dd368": {
          "model_module": "@jupyter-widgets/controls",
          "model_name": "DescriptionStyleModel",
          "model_module_version": "1.5.0",
          "state": {
            "_model_module": "@jupyter-widgets/controls",
            "_model_module_version": "1.5.0",
            "_model_name": "DescriptionStyleModel",
            "_view_count": null,
            "_view_module": "@jupyter-widgets/base",
            "_view_module_version": "1.2.0",
            "_view_name": "StyleView",
            "description_width": ""
          }
        },
        "4e557b7ed12342eb85f9cd7d7e0f9384": {
          "model_module": "@jupyter-widgets/base",
          "model_name": "LayoutModel",
          "model_module_version": "1.2.0",
          "state": {
            "_model_module": "@jupyter-widgets/base",
            "_model_module_version": "1.2.0",
            "_model_name": "LayoutModel",
            "_view_count": null,
            "_view_module": "@jupyter-widgets/base",
            "_view_module_version": "1.2.0",
            "_view_name": "LayoutView",
            "align_content": null,
            "align_items": null,
            "align_self": null,
            "border": null,
            "bottom": null,
            "display": null,
            "flex": null,
            "flex_flow": null,
            "grid_area": null,
            "grid_auto_columns": null,
            "grid_auto_flow": null,
            "grid_auto_rows": null,
            "grid_column": null,
            "grid_gap": null,
            "grid_row": null,
            "grid_template_areas": null,
            "grid_template_columns": null,
            "grid_template_rows": null,
            "height": null,
            "justify_content": null,
            "justify_items": null,
            "left": null,
            "margin": null,
            "max_height": null,
            "max_width": null,
            "min_height": null,
            "min_width": null,
            "object_fit": null,
            "object_position": null,
            "order": null,
            "overflow": null,
            "overflow_x": null,
            "overflow_y": null,
            "padding": null,
            "right": null,
            "top": null,
            "visibility": null,
            "width": null
          }
        },
        "6fd00a191a2e484ab810de4da87f4e22": {
          "model_module": "@jupyter-widgets/controls",
          "model_name": "ProgressStyleModel",
          "model_module_version": "1.5.0",
          "state": {
            "_model_module": "@jupyter-widgets/controls",
            "_model_module_version": "1.5.0",
            "_model_name": "ProgressStyleModel",
            "_view_count": null,
            "_view_module": "@jupyter-widgets/base",
            "_view_module_version": "1.2.0",
            "_view_name": "StyleView",
            "bar_color": null,
            "description_width": ""
          }
        },
        "3596d8439ee24ad5a81333c12612bd13": {
          "model_module": "@jupyter-widgets/base",
          "model_name": "LayoutModel",
          "model_module_version": "1.2.0",
          "state": {
            "_model_module": "@jupyter-widgets/base",
            "_model_module_version": "1.2.0",
            "_model_name": "LayoutModel",
            "_view_count": null,
            "_view_module": "@jupyter-widgets/base",
            "_view_module_version": "1.2.0",
            "_view_name": "LayoutView",
            "align_content": null,
            "align_items": null,
            "align_self": null,
            "border": null,
            "bottom": null,
            "display": null,
            "flex": null,
            "flex_flow": null,
            "grid_area": null,
            "grid_auto_columns": null,
            "grid_auto_flow": null,
            "grid_auto_rows": null,
            "grid_column": null,
            "grid_gap": null,
            "grid_row": null,
            "grid_template_areas": null,
            "grid_template_columns": null,
            "grid_template_rows": null,
            "height": null,
            "justify_content": null,
            "justify_items": null,
            "left": null,
            "margin": null,
            "max_height": null,
            "max_width": null,
            "min_height": null,
            "min_width": null,
            "object_fit": null,
            "object_position": null,
            "order": null,
            "overflow": null,
            "overflow_x": null,
            "overflow_y": null,
            "padding": null,
            "right": null,
            "top": null,
            "visibility": null,
            "width": null
          }
        },
        "7334d9c76ddf4983bdecbc628f9a0550": {
          "model_module": "@jupyter-widgets/controls",
          "model_name": "DescriptionStyleModel",
          "model_module_version": "1.5.0",
          "state": {
            "_model_module": "@jupyter-widgets/controls",
            "_model_module_version": "1.5.0",
            "_model_name": "DescriptionStyleModel",
            "_view_count": null,
            "_view_module": "@jupyter-widgets/base",
            "_view_module_version": "1.2.0",
            "_view_name": "StyleView",
            "description_width": ""
          }
        },
        "d3b7f660ac164197a7536fc47f3a3f9a": {
          "model_module": "@jupyter-widgets/controls",
          "model_name": "HBoxModel",
          "model_module_version": "1.5.0",
          "state": {
            "_dom_classes": [],
            "_model_module": "@jupyter-widgets/controls",
            "_model_module_version": "1.5.0",
            "_model_name": "HBoxModel",
            "_view_count": null,
            "_view_module": "@jupyter-widgets/controls",
            "_view_module_version": "1.5.0",
            "_view_name": "HBoxView",
            "box_style": "",
            "children": [
              "IPY_MODEL_eb3f895a71994f888bfa48d338d62b72",
              "IPY_MODEL_cdaae398ef0c404ea2610187ec19a53e",
              "IPY_MODEL_0ebbfa6f3b7c43268bbba8d3baeff409"
            ],
            "layout": "IPY_MODEL_eed24bfdbc5b4258bff0e216b80e1132"
          }
        },
        "eb3f895a71994f888bfa48d338d62b72": {
          "model_module": "@jupyter-widgets/controls",
          "model_name": "HTMLModel",
          "model_module_version": "1.5.0",
          "state": {
            "_dom_classes": [],
            "_model_module": "@jupyter-widgets/controls",
            "_model_module_version": "1.5.0",
            "_model_name": "HTMLModel",
            "_view_count": null,
            "_view_module": "@jupyter-widgets/controls",
            "_view_module_version": "1.5.0",
            "_view_name": "HTMLView",
            "description": "",
            "description_tooltip": null,
            "layout": "IPY_MODEL_0f45edd19ae44aec940a2d1d025118e0",
            "placeholder": "​",
            "style": "IPY_MODEL_25b2c99d5ef64e2a87bcc3c47f788097",
            "value": ""
          }
        },
        "cdaae398ef0c404ea2610187ec19a53e": {
          "model_module": "@jupyter-widgets/controls",
          "model_name": "FloatProgressModel",
          "model_module_version": "1.5.0",
          "state": {
            "_dom_classes": [],
            "_model_module": "@jupyter-widgets/controls",
            "_model_module_version": "1.5.0",
            "_model_name": "FloatProgressModel",
            "_view_count": null,
            "_view_module": "@jupyter-widgets/controls",
            "_view_module_version": "1.5.0",
            "_view_name": "ProgressView",
            "bar_style": "success",
            "description": "",
            "description_tooltip": null,
            "layout": "IPY_MODEL_9325054e5ecf4847863e6dff05290c32",
            "max": 28881,
            "min": 0,
            "orientation": "horizontal",
            "style": "IPY_MODEL_856df22fb8ee4384a8e77534c1eee21f",
            "value": 28881
          }
        },
        "0ebbfa6f3b7c43268bbba8d3baeff409": {
          "model_module": "@jupyter-widgets/controls",
          "model_name": "HTMLModel",
          "model_module_version": "1.5.0",
          "state": {
            "_dom_classes": [],
            "_model_module": "@jupyter-widgets/controls",
            "_model_module_version": "1.5.0",
            "_model_name": "HTMLModel",
            "_view_count": null,
            "_view_module": "@jupyter-widgets/controls",
            "_view_module_version": "1.5.0",
            "_view_name": "HTMLView",
            "description": "",
            "description_tooltip": null,
            "layout": "IPY_MODEL_934cc8b1f1e44e22a5574e596e11ccb1",
            "placeholder": "​",
            "style": "IPY_MODEL_abfd843b032442cc970f3a02a891dab2",
            "value": " 29696/? [00:00&lt;00:00, 342126.01it/s]"
          }
        },
        "eed24bfdbc5b4258bff0e216b80e1132": {
          "model_module": "@jupyter-widgets/base",
          "model_name": "LayoutModel",
          "model_module_version": "1.2.0",
          "state": {
            "_model_module": "@jupyter-widgets/base",
            "_model_module_version": "1.2.0",
            "_model_name": "LayoutModel",
            "_view_count": null,
            "_view_module": "@jupyter-widgets/base",
            "_view_module_version": "1.2.0",
            "_view_name": "LayoutView",
            "align_content": null,
            "align_items": null,
            "align_self": null,
            "border": null,
            "bottom": null,
            "display": null,
            "flex": null,
            "flex_flow": null,
            "grid_area": null,
            "grid_auto_columns": null,
            "grid_auto_flow": null,
            "grid_auto_rows": null,
            "grid_column": null,
            "grid_gap": null,
            "grid_row": null,
            "grid_template_areas": null,
            "grid_template_columns": null,
            "grid_template_rows": null,
            "height": null,
            "justify_content": null,
            "justify_items": null,
            "left": null,
            "margin": null,
            "max_height": null,
            "max_width": null,
            "min_height": null,
            "min_width": null,
            "object_fit": null,
            "object_position": null,
            "order": null,
            "overflow": null,
            "overflow_x": null,
            "overflow_y": null,
            "padding": null,
            "right": null,
            "top": null,
            "visibility": null,
            "width": null
          }
        },
        "0f45edd19ae44aec940a2d1d025118e0": {
          "model_module": "@jupyter-widgets/base",
          "model_name": "LayoutModel",
          "model_module_version": "1.2.0",
          "state": {
            "_model_module": "@jupyter-widgets/base",
            "_model_module_version": "1.2.0",
            "_model_name": "LayoutModel",
            "_view_count": null,
            "_view_module": "@jupyter-widgets/base",
            "_view_module_version": "1.2.0",
            "_view_name": "LayoutView",
            "align_content": null,
            "align_items": null,
            "align_self": null,
            "border": null,
            "bottom": null,
            "display": null,
            "flex": null,
            "flex_flow": null,
            "grid_area": null,
            "grid_auto_columns": null,
            "grid_auto_flow": null,
            "grid_auto_rows": null,
            "grid_column": null,
            "grid_gap": null,
            "grid_row": null,
            "grid_template_areas": null,
            "grid_template_columns": null,
            "grid_template_rows": null,
            "height": null,
            "justify_content": null,
            "justify_items": null,
            "left": null,
            "margin": null,
            "max_height": null,
            "max_width": null,
            "min_height": null,
            "min_width": null,
            "object_fit": null,
            "object_position": null,
            "order": null,
            "overflow": null,
            "overflow_x": null,
            "overflow_y": null,
            "padding": null,
            "right": null,
            "top": null,
            "visibility": null,
            "width": null
          }
        },
        "25b2c99d5ef64e2a87bcc3c47f788097": {
          "model_module": "@jupyter-widgets/controls",
          "model_name": "DescriptionStyleModel",
          "model_module_version": "1.5.0",
          "state": {
            "_model_module": "@jupyter-widgets/controls",
            "_model_module_version": "1.5.0",
            "_model_name": "DescriptionStyleModel",
            "_view_count": null,
            "_view_module": "@jupyter-widgets/base",
            "_view_module_version": "1.2.0",
            "_view_name": "StyleView",
            "description_width": ""
          }
        },
        "9325054e5ecf4847863e6dff05290c32": {
          "model_module": "@jupyter-widgets/base",
          "model_name": "LayoutModel",
          "model_module_version": "1.2.0",
          "state": {
            "_model_module": "@jupyter-widgets/base",
            "_model_module_version": "1.2.0",
            "_model_name": "LayoutModel",
            "_view_count": null,
            "_view_module": "@jupyter-widgets/base",
            "_view_module_version": "1.2.0",
            "_view_name": "LayoutView",
            "align_content": null,
            "align_items": null,
            "align_self": null,
            "border": null,
            "bottom": null,
            "display": null,
            "flex": null,
            "flex_flow": null,
            "grid_area": null,
            "grid_auto_columns": null,
            "grid_auto_flow": null,
            "grid_auto_rows": null,
            "grid_column": null,
            "grid_gap": null,
            "grid_row": null,
            "grid_template_areas": null,
            "grid_template_columns": null,
            "grid_template_rows": null,
            "height": null,
            "justify_content": null,
            "justify_items": null,
            "left": null,
            "margin": null,
            "max_height": null,
            "max_width": null,
            "min_height": null,
            "min_width": null,
            "object_fit": null,
            "object_position": null,
            "order": null,
            "overflow": null,
            "overflow_x": null,
            "overflow_y": null,
            "padding": null,
            "right": null,
            "top": null,
            "visibility": null,
            "width": null
          }
        },
        "856df22fb8ee4384a8e77534c1eee21f": {
          "model_module": "@jupyter-widgets/controls",
          "model_name": "ProgressStyleModel",
          "model_module_version": "1.5.0",
          "state": {
            "_model_module": "@jupyter-widgets/controls",
            "_model_module_version": "1.5.0",
            "_model_name": "ProgressStyleModel",
            "_view_count": null,
            "_view_module": "@jupyter-widgets/base",
            "_view_module_version": "1.2.0",
            "_view_name": "StyleView",
            "bar_color": null,
            "description_width": ""
          }
        },
        "934cc8b1f1e44e22a5574e596e11ccb1": {
          "model_module": "@jupyter-widgets/base",
          "model_name": "LayoutModel",
          "model_module_version": "1.2.0",
          "state": {
            "_model_module": "@jupyter-widgets/base",
            "_model_module_version": "1.2.0",
            "_model_name": "LayoutModel",
            "_view_count": null,
            "_view_module": "@jupyter-widgets/base",
            "_view_module_version": "1.2.0",
            "_view_name": "LayoutView",
            "align_content": null,
            "align_items": null,
            "align_self": null,
            "border": null,
            "bottom": null,
            "display": null,
            "flex": null,
            "flex_flow": null,
            "grid_area": null,
            "grid_auto_columns": null,
            "grid_auto_flow": null,
            "grid_auto_rows": null,
            "grid_column": null,
            "grid_gap": null,
            "grid_row": null,
            "grid_template_areas": null,
            "grid_template_columns": null,
            "grid_template_rows": null,
            "height": null,
            "justify_content": null,
            "justify_items": null,
            "left": null,
            "margin": null,
            "max_height": null,
            "max_width": null,
            "min_height": null,
            "min_width": null,
            "object_fit": null,
            "object_position": null,
            "order": null,
            "overflow": null,
            "overflow_x": null,
            "overflow_y": null,
            "padding": null,
            "right": null,
            "top": null,
            "visibility": null,
            "width": null
          }
        },
        "abfd843b032442cc970f3a02a891dab2": {
          "model_module": "@jupyter-widgets/controls",
          "model_name": "DescriptionStyleModel",
          "model_module_version": "1.5.0",
          "state": {
            "_model_module": "@jupyter-widgets/controls",
            "_model_module_version": "1.5.0",
            "_model_name": "DescriptionStyleModel",
            "_view_count": null,
            "_view_module": "@jupyter-widgets/base",
            "_view_module_version": "1.2.0",
            "_view_name": "StyleView",
            "description_width": ""
          }
        },
        "fd89618b168342b0aae857d73c1c39e7": {
          "model_module": "@jupyter-widgets/controls",
          "model_name": "HBoxModel",
          "model_module_version": "1.5.0",
          "state": {
            "_dom_classes": [],
            "_model_module": "@jupyter-widgets/controls",
            "_model_module_version": "1.5.0",
            "_model_name": "HBoxModel",
            "_view_count": null,
            "_view_module": "@jupyter-widgets/controls",
            "_view_module_version": "1.5.0",
            "_view_name": "HBoxView",
            "box_style": "",
            "children": [
              "IPY_MODEL_fe7c4740b13a4789a2dce3552797e4e4",
              "IPY_MODEL_15eb9b494fcd46b396e85ae4c83b3ffd",
              "IPY_MODEL_edde2f0f12fc435b9ab21c14b08dbe4e"
            ],
            "layout": "IPY_MODEL_250cc00a2d0b4274a8d3ce01764571ad"
          }
        },
        "fe7c4740b13a4789a2dce3552797e4e4": {
          "model_module": "@jupyter-widgets/controls",
          "model_name": "HTMLModel",
          "model_module_version": "1.5.0",
          "state": {
            "_dom_classes": [],
            "_model_module": "@jupyter-widgets/controls",
            "_model_module_version": "1.5.0",
            "_model_name": "HTMLModel",
            "_view_count": null,
            "_view_module": "@jupyter-widgets/controls",
            "_view_module_version": "1.5.0",
            "_view_name": "HTMLView",
            "description": "",
            "description_tooltip": null,
            "layout": "IPY_MODEL_88cc0041cc454934a1ca50298ee85ce4",
            "placeholder": "​",
            "style": "IPY_MODEL_f2c259dd933448f3b58b8c20aed32b6d",
            "value": ""
          }
        },
        "15eb9b494fcd46b396e85ae4c83b3ffd": {
          "model_module": "@jupyter-widgets/controls",
          "model_name": "FloatProgressModel",
          "model_module_version": "1.5.0",
          "state": {
            "_dom_classes": [],
            "_model_module": "@jupyter-widgets/controls",
            "_model_module_version": "1.5.0",
            "_model_name": "FloatProgressModel",
            "_view_count": null,
            "_view_module": "@jupyter-widgets/controls",
            "_view_module_version": "1.5.0",
            "_view_name": "ProgressView",
            "bar_style": "success",
            "description": "",
            "description_tooltip": null,
            "layout": "IPY_MODEL_08e068b7694a4e1e8afe4f2e95240f64",
            "max": 1648877,
            "min": 0,
            "orientation": "horizontal",
            "style": "IPY_MODEL_66145dc7c4574999b31e1b6e02a0d1fa",
            "value": 1648877
          }
        },
        "edde2f0f12fc435b9ab21c14b08dbe4e": {
          "model_module": "@jupyter-widgets/controls",
          "model_name": "HTMLModel",
          "model_module_version": "1.5.0",
          "state": {
            "_dom_classes": [],
            "_model_module": "@jupyter-widgets/controls",
            "_model_module_version": "1.5.0",
            "_model_name": "HTMLModel",
            "_view_count": null,
            "_view_module": "@jupyter-widgets/controls",
            "_view_module_version": "1.5.0",
            "_view_name": "HTMLView",
            "description": "",
            "description_tooltip": null,
            "layout": "IPY_MODEL_f9db3908e6f6488e93275210f8e1d548",
            "placeholder": "​",
            "style": "IPY_MODEL_2b540e65ab03491eb5e74205c0fe8273",
            "value": " 1649664/? [00:00&lt;00:00, 5890527.47it/s]"
          }
        },
        "250cc00a2d0b4274a8d3ce01764571ad": {
          "model_module": "@jupyter-widgets/base",
          "model_name": "LayoutModel",
          "model_module_version": "1.2.0",
          "state": {
            "_model_module": "@jupyter-widgets/base",
            "_model_module_version": "1.2.0",
            "_model_name": "LayoutModel",
            "_view_count": null,
            "_view_module": "@jupyter-widgets/base",
            "_view_module_version": "1.2.0",
            "_view_name": "LayoutView",
            "align_content": null,
            "align_items": null,
            "align_self": null,
            "border": null,
            "bottom": null,
            "display": null,
            "flex": null,
            "flex_flow": null,
            "grid_area": null,
            "grid_auto_columns": null,
            "grid_auto_flow": null,
            "grid_auto_rows": null,
            "grid_column": null,
            "grid_gap": null,
            "grid_row": null,
            "grid_template_areas": null,
            "grid_template_columns": null,
            "grid_template_rows": null,
            "height": null,
            "justify_content": null,
            "justify_items": null,
            "left": null,
            "margin": null,
            "max_height": null,
            "max_width": null,
            "min_height": null,
            "min_width": null,
            "object_fit": null,
            "object_position": null,
            "order": null,
            "overflow": null,
            "overflow_x": null,
            "overflow_y": null,
            "padding": null,
            "right": null,
            "top": null,
            "visibility": null,
            "width": null
          }
        },
        "88cc0041cc454934a1ca50298ee85ce4": {
          "model_module": "@jupyter-widgets/base",
          "model_name": "LayoutModel",
          "model_module_version": "1.2.0",
          "state": {
            "_model_module": "@jupyter-widgets/base",
            "_model_module_version": "1.2.0",
            "_model_name": "LayoutModel",
            "_view_count": null,
            "_view_module": "@jupyter-widgets/base",
            "_view_module_version": "1.2.0",
            "_view_name": "LayoutView",
            "align_content": null,
            "align_items": null,
            "align_self": null,
            "border": null,
            "bottom": null,
            "display": null,
            "flex": null,
            "flex_flow": null,
            "grid_area": null,
            "grid_auto_columns": null,
            "grid_auto_flow": null,
            "grid_auto_rows": null,
            "grid_column": null,
            "grid_gap": null,
            "grid_row": null,
            "grid_template_areas": null,
            "grid_template_columns": null,
            "grid_template_rows": null,
            "height": null,
            "justify_content": null,
            "justify_items": null,
            "left": null,
            "margin": null,
            "max_height": null,
            "max_width": null,
            "min_height": null,
            "min_width": null,
            "object_fit": null,
            "object_position": null,
            "order": null,
            "overflow": null,
            "overflow_x": null,
            "overflow_y": null,
            "padding": null,
            "right": null,
            "top": null,
            "visibility": null,
            "width": null
          }
        },
        "f2c259dd933448f3b58b8c20aed32b6d": {
          "model_module": "@jupyter-widgets/controls",
          "model_name": "DescriptionStyleModel",
          "model_module_version": "1.5.0",
          "state": {
            "_model_module": "@jupyter-widgets/controls",
            "_model_module_version": "1.5.0",
            "_model_name": "DescriptionStyleModel",
            "_view_count": null,
            "_view_module": "@jupyter-widgets/base",
            "_view_module_version": "1.2.0",
            "_view_name": "StyleView",
            "description_width": ""
          }
        },
        "08e068b7694a4e1e8afe4f2e95240f64": {
          "model_module": "@jupyter-widgets/base",
          "model_name": "LayoutModel",
          "model_module_version": "1.2.0",
          "state": {
            "_model_module": "@jupyter-widgets/base",
            "_model_module_version": "1.2.0",
            "_model_name": "LayoutModel",
            "_view_count": null,
            "_view_module": "@jupyter-widgets/base",
            "_view_module_version": "1.2.0",
            "_view_name": "LayoutView",
            "align_content": null,
            "align_items": null,
            "align_self": null,
            "border": null,
            "bottom": null,
            "display": null,
            "flex": null,
            "flex_flow": null,
            "grid_area": null,
            "grid_auto_columns": null,
            "grid_auto_flow": null,
            "grid_auto_rows": null,
            "grid_column": null,
            "grid_gap": null,
            "grid_row": null,
            "grid_template_areas": null,
            "grid_template_columns": null,
            "grid_template_rows": null,
            "height": null,
            "justify_content": null,
            "justify_items": null,
            "left": null,
            "margin": null,
            "max_height": null,
            "max_width": null,
            "min_height": null,
            "min_width": null,
            "object_fit": null,
            "object_position": null,
            "order": null,
            "overflow": null,
            "overflow_x": null,
            "overflow_y": null,
            "padding": null,
            "right": null,
            "top": null,
            "visibility": null,
            "width": null
          }
        },
        "66145dc7c4574999b31e1b6e02a0d1fa": {
          "model_module": "@jupyter-widgets/controls",
          "model_name": "ProgressStyleModel",
          "model_module_version": "1.5.0",
          "state": {
            "_model_module": "@jupyter-widgets/controls",
            "_model_module_version": "1.5.0",
            "_model_name": "ProgressStyleModel",
            "_view_count": null,
            "_view_module": "@jupyter-widgets/base",
            "_view_module_version": "1.2.0",
            "_view_name": "StyleView",
            "bar_color": null,
            "description_width": ""
          }
        },
        "f9db3908e6f6488e93275210f8e1d548": {
          "model_module": "@jupyter-widgets/base",
          "model_name": "LayoutModel",
          "model_module_version": "1.2.0",
          "state": {
            "_model_module": "@jupyter-widgets/base",
            "_model_module_version": "1.2.0",
            "_model_name": "LayoutModel",
            "_view_count": null,
            "_view_module": "@jupyter-widgets/base",
            "_view_module_version": "1.2.0",
            "_view_name": "LayoutView",
            "align_content": null,
            "align_items": null,
            "align_self": null,
            "border": null,
            "bottom": null,
            "display": null,
            "flex": null,
            "flex_flow": null,
            "grid_area": null,
            "grid_auto_columns": null,
            "grid_auto_flow": null,
            "grid_auto_rows": null,
            "grid_column": null,
            "grid_gap": null,
            "grid_row": null,
            "grid_template_areas": null,
            "grid_template_columns": null,
            "grid_template_rows": null,
            "height": null,
            "justify_content": null,
            "justify_items": null,
            "left": null,
            "margin": null,
            "max_height": null,
            "max_width": null,
            "min_height": null,
            "min_width": null,
            "object_fit": null,
            "object_position": null,
            "order": null,
            "overflow": null,
            "overflow_x": null,
            "overflow_y": null,
            "padding": null,
            "right": null,
            "top": null,
            "visibility": null,
            "width": null
          }
        },
        "2b540e65ab03491eb5e74205c0fe8273": {
          "model_module": "@jupyter-widgets/controls",
          "model_name": "DescriptionStyleModel",
          "model_module_version": "1.5.0",
          "state": {
            "_model_module": "@jupyter-widgets/controls",
            "_model_module_version": "1.5.0",
            "_model_name": "DescriptionStyleModel",
            "_view_count": null,
            "_view_module": "@jupyter-widgets/base",
            "_view_module_version": "1.2.0",
            "_view_name": "StyleView",
            "description_width": ""
          }
        },
        "b9fab0cf57ff4c54b9d708bd9131b758": {
          "model_module": "@jupyter-widgets/controls",
          "model_name": "HBoxModel",
          "model_module_version": "1.5.0",
          "state": {
            "_dom_classes": [],
            "_model_module": "@jupyter-widgets/controls",
            "_model_module_version": "1.5.0",
            "_model_name": "HBoxModel",
            "_view_count": null,
            "_view_module": "@jupyter-widgets/controls",
            "_view_module_version": "1.5.0",
            "_view_name": "HBoxView",
            "box_style": "",
            "children": [
              "IPY_MODEL_42197e3b910d443d954dec8ee4e24046",
              "IPY_MODEL_4ba3ea3df6764b49918176979804b423",
              "IPY_MODEL_1e99f81576d143559da11dab772d2e00"
            ],
            "layout": "IPY_MODEL_9f9f272eb8d24de5ba3880a3fb915b73"
          }
        },
        "42197e3b910d443d954dec8ee4e24046": {
          "model_module": "@jupyter-widgets/controls",
          "model_name": "HTMLModel",
          "model_module_version": "1.5.0",
          "state": {
            "_dom_classes": [],
            "_model_module": "@jupyter-widgets/controls",
            "_model_module_version": "1.5.0",
            "_model_name": "HTMLModel",
            "_view_count": null,
            "_view_module": "@jupyter-widgets/controls",
            "_view_module_version": "1.5.0",
            "_view_name": "HTMLView",
            "description": "",
            "description_tooltip": null,
            "layout": "IPY_MODEL_442f98cc0361489cbc93b377dd1154b4",
            "placeholder": "​",
            "style": "IPY_MODEL_764e0fda90214e64ac843b9664520871",
            "value": ""
          }
        },
        "4ba3ea3df6764b49918176979804b423": {
          "model_module": "@jupyter-widgets/controls",
          "model_name": "FloatProgressModel",
          "model_module_version": "1.5.0",
          "state": {
            "_dom_classes": [],
            "_model_module": "@jupyter-widgets/controls",
            "_model_module_version": "1.5.0",
            "_model_name": "FloatProgressModel",
            "_view_count": null,
            "_view_module": "@jupyter-widgets/controls",
            "_view_module_version": "1.5.0",
            "_view_name": "ProgressView",
            "bar_style": "success",
            "description": "",
            "description_tooltip": null,
            "layout": "IPY_MODEL_f96e3cb732414c2391f6a3e0206d3f76",
            "max": 4542,
            "min": 0,
            "orientation": "horizontal",
            "style": "IPY_MODEL_0b5b013c2b9f47f5abfd6d41c7548e25",
            "value": 4542
          }
        },
        "1e99f81576d143559da11dab772d2e00": {
          "model_module": "@jupyter-widgets/controls",
          "model_name": "HTMLModel",
          "model_module_version": "1.5.0",
          "state": {
            "_dom_classes": [],
            "_model_module": "@jupyter-widgets/controls",
            "_model_module_version": "1.5.0",
            "_model_name": "HTMLModel",
            "_view_count": null,
            "_view_module": "@jupyter-widgets/controls",
            "_view_module_version": "1.5.0",
            "_view_name": "HTMLView",
            "description": "",
            "description_tooltip": null,
            "layout": "IPY_MODEL_5e2feffb39524bb8a59edd0346be8aab",
            "placeholder": "​",
            "style": "IPY_MODEL_d74e9827c7e64b29af2b7b72c535593f",
            "value": " 5120/? [00:00&lt;00:00, 10175.36it/s]"
          }
        },
        "9f9f272eb8d24de5ba3880a3fb915b73": {
          "model_module": "@jupyter-widgets/base",
          "model_name": "LayoutModel",
          "model_module_version": "1.2.0",
          "state": {
            "_model_module": "@jupyter-widgets/base",
            "_model_module_version": "1.2.0",
            "_model_name": "LayoutModel",
            "_view_count": null,
            "_view_module": "@jupyter-widgets/base",
            "_view_module_version": "1.2.0",
            "_view_name": "LayoutView",
            "align_content": null,
            "align_items": null,
            "align_self": null,
            "border": null,
            "bottom": null,
            "display": null,
            "flex": null,
            "flex_flow": null,
            "grid_area": null,
            "grid_auto_columns": null,
            "grid_auto_flow": null,
            "grid_auto_rows": null,
            "grid_column": null,
            "grid_gap": null,
            "grid_row": null,
            "grid_template_areas": null,
            "grid_template_columns": null,
            "grid_template_rows": null,
            "height": null,
            "justify_content": null,
            "justify_items": null,
            "left": null,
            "margin": null,
            "max_height": null,
            "max_width": null,
            "min_height": null,
            "min_width": null,
            "object_fit": null,
            "object_position": null,
            "order": null,
            "overflow": null,
            "overflow_x": null,
            "overflow_y": null,
            "padding": null,
            "right": null,
            "top": null,
            "visibility": null,
            "width": null
          }
        },
        "442f98cc0361489cbc93b377dd1154b4": {
          "model_module": "@jupyter-widgets/base",
          "model_name": "LayoutModel",
          "model_module_version": "1.2.0",
          "state": {
            "_model_module": "@jupyter-widgets/base",
            "_model_module_version": "1.2.0",
            "_model_name": "LayoutModel",
            "_view_count": null,
            "_view_module": "@jupyter-widgets/base",
            "_view_module_version": "1.2.0",
            "_view_name": "LayoutView",
            "align_content": null,
            "align_items": null,
            "align_self": null,
            "border": null,
            "bottom": null,
            "display": null,
            "flex": null,
            "flex_flow": null,
            "grid_area": null,
            "grid_auto_columns": null,
            "grid_auto_flow": null,
            "grid_auto_rows": null,
            "grid_column": null,
            "grid_gap": null,
            "grid_row": null,
            "grid_template_areas": null,
            "grid_template_columns": null,
            "grid_template_rows": null,
            "height": null,
            "justify_content": null,
            "justify_items": null,
            "left": null,
            "margin": null,
            "max_height": null,
            "max_width": null,
            "min_height": null,
            "min_width": null,
            "object_fit": null,
            "object_position": null,
            "order": null,
            "overflow": null,
            "overflow_x": null,
            "overflow_y": null,
            "padding": null,
            "right": null,
            "top": null,
            "visibility": null,
            "width": null
          }
        },
        "764e0fda90214e64ac843b9664520871": {
          "model_module": "@jupyter-widgets/controls",
          "model_name": "DescriptionStyleModel",
          "model_module_version": "1.5.0",
          "state": {
            "_model_module": "@jupyter-widgets/controls",
            "_model_module_version": "1.5.0",
            "_model_name": "DescriptionStyleModel",
            "_view_count": null,
            "_view_module": "@jupyter-widgets/base",
            "_view_module_version": "1.2.0",
            "_view_name": "StyleView",
            "description_width": ""
          }
        },
        "f96e3cb732414c2391f6a3e0206d3f76": {
          "model_module": "@jupyter-widgets/base",
          "model_name": "LayoutModel",
          "model_module_version": "1.2.0",
          "state": {
            "_model_module": "@jupyter-widgets/base",
            "_model_module_version": "1.2.0",
            "_model_name": "LayoutModel",
            "_view_count": null,
            "_view_module": "@jupyter-widgets/base",
            "_view_module_version": "1.2.0",
            "_view_name": "LayoutView",
            "align_content": null,
            "align_items": null,
            "align_self": null,
            "border": null,
            "bottom": null,
            "display": null,
            "flex": null,
            "flex_flow": null,
            "grid_area": null,
            "grid_auto_columns": null,
            "grid_auto_flow": null,
            "grid_auto_rows": null,
            "grid_column": null,
            "grid_gap": null,
            "grid_row": null,
            "grid_template_areas": null,
            "grid_template_columns": null,
            "grid_template_rows": null,
            "height": null,
            "justify_content": null,
            "justify_items": null,
            "left": null,
            "margin": null,
            "max_height": null,
            "max_width": null,
            "min_height": null,
            "min_width": null,
            "object_fit": null,
            "object_position": null,
            "order": null,
            "overflow": null,
            "overflow_x": null,
            "overflow_y": null,
            "padding": null,
            "right": null,
            "top": null,
            "visibility": null,
            "width": null
          }
        },
        "0b5b013c2b9f47f5abfd6d41c7548e25": {
          "model_module": "@jupyter-widgets/controls",
          "model_name": "ProgressStyleModel",
          "model_module_version": "1.5.0",
          "state": {
            "_model_module": "@jupyter-widgets/controls",
            "_model_module_version": "1.5.0",
            "_model_name": "ProgressStyleModel",
            "_view_count": null,
            "_view_module": "@jupyter-widgets/base",
            "_view_module_version": "1.2.0",
            "_view_name": "StyleView",
            "bar_color": null,
            "description_width": ""
          }
        },
        "5e2feffb39524bb8a59edd0346be8aab": {
          "model_module": "@jupyter-widgets/base",
          "model_name": "LayoutModel",
          "model_module_version": "1.2.0",
          "state": {
            "_model_module": "@jupyter-widgets/base",
            "_model_module_version": "1.2.0",
            "_model_name": "LayoutModel",
            "_view_count": null,
            "_view_module": "@jupyter-widgets/base",
            "_view_module_version": "1.2.0",
            "_view_name": "LayoutView",
            "align_content": null,
            "align_items": null,
            "align_self": null,
            "border": null,
            "bottom": null,
            "display": null,
            "flex": null,
            "flex_flow": null,
            "grid_area": null,
            "grid_auto_columns": null,
            "grid_auto_flow": null,
            "grid_auto_rows": null,
            "grid_column": null,
            "grid_gap": null,
            "grid_row": null,
            "grid_template_areas": null,
            "grid_template_columns": null,
            "grid_template_rows": null,
            "height": null,
            "justify_content": null,
            "justify_items": null,
            "left": null,
            "margin": null,
            "max_height": null,
            "max_width": null,
            "min_height": null,
            "min_width": null,
            "object_fit": null,
            "object_position": null,
            "order": null,
            "overflow": null,
            "overflow_x": null,
            "overflow_y": null,
            "padding": null,
            "right": null,
            "top": null,
            "visibility": null,
            "width": null
          }
        },
        "d74e9827c7e64b29af2b7b72c535593f": {
          "model_module": "@jupyter-widgets/controls",
          "model_name": "DescriptionStyleModel",
          "model_module_version": "1.5.0",
          "state": {
            "_model_module": "@jupyter-widgets/controls",
            "_model_module_version": "1.5.0",
            "_model_name": "DescriptionStyleModel",
            "_view_count": null,
            "_view_module": "@jupyter-widgets/base",
            "_view_module_version": "1.2.0",
            "_view_name": "StyleView",
            "description_width": ""
          }
        }
      }
    }
  },
  "cells": [
    {
      "cell_type": "markdown",
      "source": [
        "#**Deep Learning**"
      ],
      "metadata": {
        "id": "NRw0irDABF1q"
      }
    },
    {
      "cell_type": "code",
      "source": [
        "import numpy as np\n",
        "import matplotlib.pyplot as plt\n",
        "import torch\n",
        "import torchvision.datasets\n",
        "import torchvision.transforms\n",
        "import torch.nn.functional as F\n",
        "from tqdm import tqdm\n",
        "import random"
      ],
      "metadata": {
        "id": "C3OIwO4KFDnY"
      },
      "execution_count": null,
      "outputs": []
    },
    {
      "cell_type": "markdown",
      "source": [
        "### Vanishing Gradient Promblem"
      ],
      "metadata": {
        "id": "56oM5Zk0_otb"
      }
    },
    {
      "cell_type": "code",
      "source": [
        "random.seed(2022)\n",
        "torch.manual_seed(2022)\n",
        "\n",
        "mnist_train = torchvision.datasets.MNIST(root='MNIST_data/', train=True, transform=torchvision.transforms.ToTensor(), download=True)\n",
        "mnist_test = torchvision.datasets.MNIST(root='MNIST_data/', train=False,transform=torchvision.transforms.ToTensor(),download=True)\n",
        "\n",
        "train_loader = torch.utils.data.DataLoader(dataset=mnist_train, shuffle=True, drop_last=True)\n",
        "test_loader = torch.utils.data.DataLoader(dataset=mnist_test, shuffle=True, drop_last=True)"
      ],
      "metadata": {
        "id": "_ugzCPdRFLZJ",
        "colab": {
          "base_uri": "https://localhost:8080/",
          "height": 439,
          "referenced_widgets": [
            "6602acc51adc456fac8f3dfbf2fb660a",
            "61f77e396666473f9ee6ae683464f6cc",
            "450df81d44a24acd9408ef66a06233d1",
            "f3b1aaf054de4ee080eed26af391a45e",
            "ad971fe112ca482582a906f06cdd6ac8",
            "d5e55d161bf94b1d8d36e4df17de70d6",
            "3954af2695b147b59eb0e78ee27dd368",
            "4e557b7ed12342eb85f9cd7d7e0f9384",
            "6fd00a191a2e484ab810de4da87f4e22",
            "3596d8439ee24ad5a81333c12612bd13",
            "7334d9c76ddf4983bdecbc628f9a0550",
            "d3b7f660ac164197a7536fc47f3a3f9a",
            "eb3f895a71994f888bfa48d338d62b72",
            "cdaae398ef0c404ea2610187ec19a53e",
            "0ebbfa6f3b7c43268bbba8d3baeff409",
            "eed24bfdbc5b4258bff0e216b80e1132",
            "0f45edd19ae44aec940a2d1d025118e0",
            "25b2c99d5ef64e2a87bcc3c47f788097",
            "9325054e5ecf4847863e6dff05290c32",
            "856df22fb8ee4384a8e77534c1eee21f",
            "934cc8b1f1e44e22a5574e596e11ccb1",
            "abfd843b032442cc970f3a02a891dab2",
            "fd89618b168342b0aae857d73c1c39e7",
            "fe7c4740b13a4789a2dce3552797e4e4",
            "15eb9b494fcd46b396e85ae4c83b3ffd",
            "edde2f0f12fc435b9ab21c14b08dbe4e",
            "250cc00a2d0b4274a8d3ce01764571ad",
            "88cc0041cc454934a1ca50298ee85ce4",
            "f2c259dd933448f3b58b8c20aed32b6d",
            "08e068b7694a4e1e8afe4f2e95240f64",
            "66145dc7c4574999b31e1b6e02a0d1fa",
            "f9db3908e6f6488e93275210f8e1d548",
            "2b540e65ab03491eb5e74205c0fe8273",
            "b9fab0cf57ff4c54b9d708bd9131b758",
            "42197e3b910d443d954dec8ee4e24046",
            "4ba3ea3df6764b49918176979804b423",
            "1e99f81576d143559da11dab772d2e00",
            "9f9f272eb8d24de5ba3880a3fb915b73",
            "442f98cc0361489cbc93b377dd1154b4",
            "764e0fda90214e64ac843b9664520871",
            "f96e3cb732414c2391f6a3e0206d3f76",
            "0b5b013c2b9f47f5abfd6d41c7548e25",
            "5e2feffb39524bb8a59edd0346be8aab",
            "d74e9827c7e64b29af2b7b72c535593f"
          ]
        },
        "outputId": "83f4d91c-1bb4-444e-c293-4bde34438ddb"
      },
      "execution_count": null,
      "outputs": [
        {
          "output_type": "stream",
          "name": "stdout",
          "text": [
            "Downloading http://yann.lecun.com/exdb/mnist/train-images-idx3-ubyte.gz\n",
            "Downloading http://yann.lecun.com/exdb/mnist/train-images-idx3-ubyte.gz to MNIST_data/MNIST/raw/train-images-idx3-ubyte.gz\n"
          ]
        },
        {
          "output_type": "display_data",
          "data": {
            "text/plain": [
              "  0%|          | 0/9912422 [00:00<?, ?it/s]"
            ],
            "application/vnd.jupyter.widget-view+json": {
              "version_major": 2,
              "version_minor": 0,
              "model_id": "6602acc51adc456fac8f3dfbf2fb660a"
            }
          },
          "metadata": {}
        },
        {
          "output_type": "stream",
          "name": "stdout",
          "text": [
            "Extracting MNIST_data/MNIST/raw/train-images-idx3-ubyte.gz to MNIST_data/MNIST/raw\n",
            "\n",
            "Downloading http://yann.lecun.com/exdb/mnist/train-labels-idx1-ubyte.gz\n",
            "Downloading http://yann.lecun.com/exdb/mnist/train-labels-idx1-ubyte.gz to MNIST_data/MNIST/raw/train-labels-idx1-ubyte.gz\n"
          ]
        },
        {
          "output_type": "display_data",
          "data": {
            "text/plain": [
              "  0%|          | 0/28881 [00:00<?, ?it/s]"
            ],
            "application/vnd.jupyter.widget-view+json": {
              "version_major": 2,
              "version_minor": 0,
              "model_id": "d3b7f660ac164197a7536fc47f3a3f9a"
            }
          },
          "metadata": {}
        },
        {
          "output_type": "stream",
          "name": "stdout",
          "text": [
            "Extracting MNIST_data/MNIST/raw/train-labels-idx1-ubyte.gz to MNIST_data/MNIST/raw\n",
            "\n",
            "Downloading http://yann.lecun.com/exdb/mnist/t10k-images-idx3-ubyte.gz\n",
            "Downloading http://yann.lecun.com/exdb/mnist/t10k-images-idx3-ubyte.gz to MNIST_data/MNIST/raw/t10k-images-idx3-ubyte.gz\n"
          ]
        },
        {
          "output_type": "display_data",
          "data": {
            "text/plain": [
              "  0%|          | 0/1648877 [00:00<?, ?it/s]"
            ],
            "application/vnd.jupyter.widget-view+json": {
              "version_major": 2,
              "version_minor": 0,
              "model_id": "fd89618b168342b0aae857d73c1c39e7"
            }
          },
          "metadata": {}
        },
        {
          "output_type": "stream",
          "name": "stdout",
          "text": [
            "Extracting MNIST_data/MNIST/raw/t10k-images-idx3-ubyte.gz to MNIST_data/MNIST/raw\n",
            "\n",
            "Downloading http://yann.lecun.com/exdb/mnist/t10k-labels-idx1-ubyte.gz\n",
            "Downloading http://yann.lecun.com/exdb/mnist/t10k-labels-idx1-ubyte.gz to MNIST_data/MNIST/raw/t10k-labels-idx1-ubyte.gz\n"
          ]
        },
        {
          "output_type": "display_data",
          "data": {
            "text/plain": [
              "  0%|          | 0/4542 [00:00<?, ?it/s]"
            ],
            "application/vnd.jupyter.widget-view+json": {
              "version_major": 2,
              "version_minor": 0,
              "model_id": "b9fab0cf57ff4c54b9d708bd9131b758"
            }
          },
          "metadata": {}
        },
        {
          "output_type": "stream",
          "name": "stdout",
          "text": [
            "Extracting MNIST_data/MNIST/raw/t10k-labels-idx1-ubyte.gz to MNIST_data/MNIST/raw\n",
            "\n"
          ]
        }
      ]
    },
    {
      "cell_type": "code",
      "execution_count": null,
      "metadata": {
        "id": "P9DBTBQJ16xQ"
      },
      "outputs": [],
      "source": [
        "class Classifier(torch.nn.Module):\n",
        "    def __init__(self, input_dim, hidden_dim,device, output_dim, lr = 0.001, epochs = 10, activation='sigmoid'):\n",
        "        super(Classifier, self).__init__()\n",
        "        self.input_dim = input_dim\n",
        "        self.hidden_dim = hidden_dim\n",
        "        self.output_dim = output_dim\n",
        "        self.epochs = epochs\n",
        "        self.total_losses = []\n",
        "        self.accuracy=[]\n",
        "        self.lr = lr\n",
        "        self.device = device\n",
        "        self.activation = activation\n",
        "        self.losses=[]\n",
        "\n",
        "        self.fc1 = torch.nn.Linear(, ).to(self.device)\n",
        "        self.fc2 = torch.nn.Linear(, ).to(self.device)\n",
        "        self.fc3 = torch.nn.Linear(, ).to(self.device)\n",
        "        self.fc4 = torch.nn.Linear(, ).to(self.device)\n",
        "        \n",
        "        torch.nn.init.xavier_uniform_(self.fc1.weight)\n",
        "        torch.nn.init.xavier_uniform_(self.fc2.weight)\n",
        "        torch.nn.init.xavier_uniform_(self.fc3.weight)\n",
        "        torch.nn.init.xavier_uniform_(self.fc4.weight)\n",
        "        \n",
        "    def forward(self, x):\n",
        "        if self.activation == 'relu':\n",
        "            pred = F.relu(self.fc1(x))\n",
        "            pred = F.relu(self.fc2(pred))\n",
        "            pred = F.relu(self.fc3(pred))\n",
        "            pred = self.fc4(pred)\n",
        "        else:\n",
        "            pred = torch.sigmoid(self.fc1(x))\n",
        "            pred = torch.sigmoid(self.fc2(pred))\n",
        "            pred = torch.sigmoid(self.fc3(pred))\n",
        "            pred = self.fc4(pred)\n",
        "        \n",
        "        return pred\n",
        "\n",
        "    def fit(self, data):\n",
        "        criterion = torch.nn.CrossEntropyLoss().to(self.device)\n",
        "        optimizer = torch.optim.SGD(self.parameters(), lr = self.lr)\n",
        "        for _ in range(self.epochs):\n",
        "            total_loss=0\n",
        "            total_accuracy=0\n",
        "            for x, y in tqdm(data):\n",
        "                x = x.view(-1,784).to(self.device)\n",
        "                y = y.to(self.device)\n",
        "\n",
        "                #Optimizer 초기화\n",
        "                \n",
        "                pred = self.forward(x)\n",
        "\n",
        "                #Loss 계산\n",
        "\n",
        "                #Backward를 통해 Gradient 계산\n",
        "                \n",
        "                #Optimizer를 통해 Update\n",
        "\n",
        "                correct_pred = torch.argmax(pred,1) == y\n",
        "                accuracy = correct_pred.float().mean()\n",
        "                total_accuracy+=accuracy.item()\n",
        "                total_loss+=loss.item()\n",
        "                self.losses.append(loss.item())\n",
        "                \n",
        "            print('Epoch {} Loss: '.format(_+1),total_loss/len(data))\n",
        "            self.accuracy.append(total_accuracy/len(data))\n",
        "            self.total_losses.append(total_loss/len(data))\n",
        "\n",
        "    def evaluation(self, x, y):\n",
        "        with torch.no_grad():\n",
        "            criterion = torch.nn.CrossEntropyLoss().to(self.device)\n",
        "            pred = self.forward(x)\n",
        "            loss = criterion(pred, y)\n",
        "            correct_pred = torch.argmax(pred,1) == y\n",
        "            accuracy = correct_pred.float().mean()\n",
        "            print('Accuracy', accuracy.item())\n",
        "        \n",
        "        return accuracy.item()\n",
        "\n",
        "    def get_weights(self):\n",
        "        return [self.fc1.weight, self.fc2.weight,self.fc3.weight, self.fc4.weight]\n"
      ]
    },
    {
      "cell_type": "markdown",
      "source": [
        "##### MLP with Sigmoid function "
      ],
      "metadata": {
        "id": "wlKoi0Qb_6kp"
      }
    },
    {
      "cell_type": "code",
      "source": [
        "def activ(x):\n",
        "    #e^x np.exp()\n",
        "    return \n",
        "\n",
        "x_grid = np.linspace(-5,5,200).reshape(-1,1)\n",
        "plt.plot(x_grid,activ(x_grid))"
      ],
      "metadata": {
        "colab": {
          "base_uri": "https://localhost:8080/",
          "height": 283
        },
        "id": "sE8MA04NALhq",
        "outputId": "1c37e3d1-4bde-4c4e-9151-090b1a583788"
      },
      "execution_count": null,
      "outputs": [
        {
          "output_type": "execute_result",
          "data": {
            "text/plain": [
              "[<matplotlib.lines.Line2D at 0x7f211a409210>]"
            ]
          },
          "metadata": {},
          "execution_count": 4
        },
        {
          "output_type": "display_data",
          "data": {
            "text/plain": [
              "<Figure size 432x288 with 1 Axes>"
            ],
            "image/png": "[encoded data removed]"
          },
          "metadata": {
            "needs_background": "light"
          }
        }
      ]
    },
    {
      "cell_type": "code",
      "source": [
        "device = 'cuda' if torch.cuda.is_available() else 'cpu'\n",
        "\n",
        "model_sig = Classifier(input_dim = 784, hidden_dim=(256,128,64), output_dim=10,device=device, activation='sigmoid')\n",
        "\n",
        "weight__ = model_sig.get_weights()\n",
        "\n",
        "print(weight__[1])\n",
        "print(weight__[2])\n",
        "print(weight__[3])"
      ],
      "metadata": {
        "colab": {
          "base_uri": "https://localhost:8080/"
        },
        "id": "e9TkZxqTdZZr",
        "outputId": "e4b3fec4-ef01-4693-b3cf-6e4141319093"
      },
      "execution_count": null,
      "outputs": [
        {
          "output_type": "stream",
          "name": "stdout",
          "text": [
            "Parameter containing:\n",
            "tensor([[-0.0516,  0.0206, -0.0299,  ..., -0.1163,  0.0176, -0.0878],\n",
            "        [ 0.0472,  0.0661, -0.0859,  ..., -0.0967, -0.0728,  0.0862],\n",
            "        [ 0.0225,  0.0326, -0.0543,  ...,  0.1114,  0.0289,  0.0387],\n",
            "        ...,\n",
            "        [-0.0565, -0.1189, -0.1135,  ..., -0.0577,  0.0445, -0.1065],\n",
            "        [-0.0026, -0.0905,  0.1064,  ...,  0.0800,  0.0386,  0.0853],\n",
            "        [-0.0711, -0.0740, -0.0558,  ..., -0.0601,  0.0824,  0.0583]],\n",
            "       device='cuda:0', requires_grad=True)\n",
            "Parameter containing:\n",
            "tensor([[ 0.0180, -0.0248,  0.1713,  ...,  0.1135,  0.0630,  0.0619],\n",
            "        [-0.0964, -0.1356, -0.0451,  ...,  0.1171, -0.1058, -0.1548],\n",
            "        [ 0.0885,  0.0707, -0.1264,  ...,  0.0915, -0.1332, -0.0729],\n",
            "        ...,\n",
            "        [ 0.0256, -0.1708, -0.1196,  ..., -0.1400, -0.0090, -0.0588],\n",
            "        [-0.0676,  0.0044,  0.0050,  ...,  0.0424,  0.0066,  0.0587],\n",
            "        [-0.1699,  0.1375, -0.0634,  ..., -0.1027,  0.0750,  0.0110]],\n",
            "       device='cuda:0', requires_grad=True)\n",
            "Parameter containing:\n",
            "tensor([[-0.2626, -0.1913, -0.2540,  0.1406,  0.0938, -0.1307, -0.1922,  0.2020,\n",
            "         -0.0948, -0.2761,  0.1065, -0.0045,  0.1657, -0.1157,  0.1163,  0.2751,\n",
            "         -0.2277,  0.0851,  0.2401, -0.0626, -0.2419, -0.0012,  0.1130,  0.0407,\n",
            "          0.1194, -0.2228, -0.1528, -0.2527, -0.0742,  0.2351,  0.2666,  0.0068,\n",
            "         -0.2740,  0.2735, -0.0282, -0.2751, -0.1940,  0.0142, -0.0701, -0.2054,\n",
            "          0.2436,  0.0701,  0.1348,  0.1072, -0.0070, -0.1467, -0.0972, -0.1613,\n",
            "          0.1734, -0.1058, -0.1978,  0.2275, -0.0421, -0.0292,  0.2174,  0.2781,\n",
            "         -0.0258, -0.2033, -0.2114, -0.0276,  0.2749, -0.1787,  0.0780,  0.1529],\n",
            "        [ 0.2742,  0.0768, -0.0673, -0.1467,  0.2067,  0.1420,  0.0989, -0.0447,\n",
            "          0.0021, -0.2710,  0.1304, -0.2746,  0.0662,  0.0976, -0.2104, -0.0131,\n",
            "          0.0632, -0.0396, -0.1285,  0.0300, -0.0269, -0.0468,  0.0355, -0.0741,\n",
            "         -0.1611,  0.0492, -0.2603, -0.1294, -0.2827, -0.0107, -0.2691, -0.1209,\n",
            "          0.1938,  0.2575, -0.2715, -0.1938, -0.1961,  0.0353, -0.2211, -0.0036,\n",
            "          0.2112,  0.1956, -0.1556, -0.0553,  0.1312,  0.0644,  0.1503, -0.2415,\n",
            "          0.2500, -0.1485, -0.1715,  0.0004,  0.1989, -0.1720,  0.0984, -0.0786,\n",
            "          0.2265,  0.2683,  0.0152,  0.2385,  0.2672, -0.0995,  0.0478, -0.0989],\n",
            "        [ 0.0135, -0.0904,  0.2416, -0.2178,  0.1304,  0.1741,  0.0840, -0.2294,\n",
            "         -0.1976,  0.0086,  0.0591,  0.0963, -0.1517, -0.0340, -0.2299,  0.2366,\n",
            "         -0.0506, -0.0215,  0.2310, -0.2391, -0.2241, -0.2091,  0.2355,  0.2499,\n",
            "         -0.0327,  0.1984,  0.1509, -0.1419, -0.2174,  0.1133, -0.1347, -0.0658,\n",
            "          0.2766,  0.2143, -0.2802,  0.2555,  0.2017, -0.1290,  0.0110, -0.2263,\n",
            "         -0.1264, -0.2729, -0.1780, -0.1400,  0.2652, -0.2359,  0.2489, -0.2363,\n",
            "         -0.0058,  0.1857, -0.2812,  0.2145,  0.1751,  0.0729,  0.0889, -0.2398,\n",
            "          0.0826, -0.1678, -0.0617,  0.0859, -0.1413,  0.2755,  0.0864, -0.2371],\n",
            "        [ 0.2008,  0.0101,  0.1943, -0.1122, -0.2035, -0.1179, -0.2113,  0.2505,\n",
            "         -0.2194,  0.2015, -0.1583,  0.2471,  0.0360,  0.1407, -0.1955, -0.0698,\n",
            "         -0.1061,  0.0495,  0.0056,  0.1802,  0.0203, -0.1634, -0.0058,  0.0418,\n",
            "         -0.2116,  0.2428, -0.0364,  0.1423,  0.0572,  0.0085, -0.0310,  0.1978,\n",
            "          0.2250, -0.1139, -0.0439,  0.0675, -0.2743,  0.1760,  0.1329,  0.0601,\n",
            "         -0.0163, -0.2566,  0.1576,  0.0992,  0.1160, -0.0148, -0.0225, -0.2807,\n",
            "         -0.1971,  0.2278, -0.1439, -0.1485, -0.2058, -0.1668, -0.1109,  0.0179,\n",
            "         -0.1411,  0.2176, -0.0325,  0.1422, -0.0294,  0.0273, -0.1343, -0.1221],\n",
            "        [ 0.1971,  0.1011,  0.2792, -0.0529, -0.0289,  0.2295, -0.2448,  0.1228,\n",
            "         -0.2588,  0.1535,  0.0951, -0.1851, -0.0682,  0.1141,  0.0494,  0.2620,\n",
            "          0.2646,  0.2005,  0.0639,  0.1578,  0.2552, -0.0558, -0.2832, -0.1147,\n",
            "          0.1334, -0.1410, -0.1940, -0.0928, -0.2190,  0.1073,  0.1359, -0.2151,\n",
            "          0.0589,  0.1453,  0.2621, -0.0355,  0.0914, -0.2687, -0.1709, -0.1132,\n",
            "          0.2319,  0.0565, -0.1103, -0.1489,  0.2269,  0.2797,  0.0700,  0.0087,\n",
            "          0.2307,  0.0717, -0.2169, -0.2327,  0.0145, -0.1539, -0.2474,  0.0487,\n",
            "         -0.0159, -0.1327, -0.2112, -0.0601, -0.0167,  0.2625,  0.0082, -0.2319],\n",
            "        [-0.1055,  0.1479, -0.0866,  0.0671,  0.0218, -0.2709, -0.1032, -0.2105,\n",
            "          0.0538, -0.1504,  0.1415,  0.2346, -0.1132, -0.0506, -0.1642,  0.1572,\n",
            "         -0.0137,  0.2479, -0.0509,  0.0103, -0.1216,  0.1325,  0.1077,  0.0588,\n",
            "         -0.1636, -0.2598,  0.0498, -0.2309,  0.0100,  0.1800, -0.2667, -0.2239,\n",
            "         -0.2286,  0.1193,  0.1782, -0.2106, -0.2464, -0.1326, -0.0053,  0.0335,\n",
            "         -0.2047,  0.0462, -0.0669,  0.2036,  0.0205,  0.2435,  0.1898,  0.0364,\n",
            "          0.1252,  0.2714,  0.1245, -0.0447, -0.0907, -0.0835,  0.1305, -0.1186,\n",
            "          0.2522, -0.0147,  0.1240,  0.1788, -0.1094,  0.2240, -0.1705, -0.1953],\n",
            "        [ 0.2683,  0.2096,  0.2180, -0.2688, -0.2679,  0.1001, -0.0761, -0.1365,\n",
            "          0.0225, -0.1837, -0.2140, -0.2558,  0.1806, -0.2727,  0.2749,  0.0317,\n",
            "          0.1491,  0.2747, -0.0907,  0.1653,  0.2713, -0.2377,  0.0117,  0.1772,\n",
            "         -0.2845,  0.0426, -0.2399,  0.1271, -0.0485, -0.2228,  0.1129,  0.2012,\n",
            "          0.0589, -0.0217, -0.1498, -0.1448,  0.2829,  0.2202, -0.0573, -0.0798,\n",
            "          0.2564, -0.0212,  0.2844,  0.1926, -0.2631,  0.2214, -0.0036, -0.0078,\n",
            "         -0.0929, -0.2618, -0.1828,  0.1344, -0.1406, -0.0141, -0.2398, -0.1274,\n",
            "          0.1337,  0.2214,  0.0141,  0.0883, -0.1128,  0.0758, -0.0400,  0.2361],\n",
            "        [ 0.2690,  0.2158, -0.0469, -0.2826,  0.0315,  0.1392, -0.0483, -0.2228,\n",
            "          0.2195,  0.1378, -0.1358, -0.1886,  0.0786, -0.2272,  0.0893,  0.0076,\n",
            "          0.0055, -0.1765,  0.0982, -0.0414,  0.2215,  0.0380,  0.1785,  0.0446,\n",
            "          0.1392, -0.2169, -0.1740,  0.1424,  0.2333,  0.2702,  0.0247, -0.0056,\n",
            "          0.1451,  0.0815, -0.2105,  0.0750, -0.1147,  0.0336,  0.1889, -0.2344,\n",
            "          0.0811,  0.1130,  0.1023, -0.1418, -0.2610, -0.1355,  0.1841,  0.1067,\n",
            "          0.1500, -0.2498,  0.1989, -0.0903,  0.1098,  0.1266,  0.0633, -0.0286,\n",
            "         -0.1591, -0.2438, -0.1210, -0.2038, -0.1533,  0.2555, -0.0016,  0.0913],\n",
            "        [ 0.2817,  0.2665, -0.2151, -0.1195, -0.1440, -0.0750, -0.1990,  0.2845,\n",
            "          0.2653, -0.0641, -0.1208, -0.2188,  0.0263,  0.2070, -0.1304,  0.2185,\n",
            "         -0.0834, -0.1983,  0.2727,  0.0857, -0.0517,  0.2643, -0.0065, -0.1008,\n",
            "          0.2573,  0.1181, -0.1158, -0.2334,  0.0675,  0.0253,  0.0075,  0.0893,\n",
            "         -0.2193,  0.0930, -0.2019, -0.0843, -0.0210,  0.1515, -0.1933, -0.1258,\n",
            "          0.1364,  0.2527,  0.1297,  0.2336, -0.2627,  0.2086, -0.2106,  0.0345,\n",
            "         -0.2676,  0.1722,  0.0192, -0.1495,  0.2378, -0.1081, -0.2507, -0.0988,\n",
            "          0.2846, -0.2240,  0.0788,  0.0792,  0.0393, -0.1165, -0.0720,  0.0951],\n",
            "        [-0.2407,  0.1716, -0.1615, -0.0304,  0.1602,  0.2224,  0.1873, -0.2380,\n",
            "         -0.1851,  0.2546,  0.2327,  0.2251,  0.1875, -0.2483,  0.2060, -0.0497,\n",
            "          0.1006,  0.1712, -0.1506, -0.0808,  0.0569, -0.1102,  0.2620,  0.2616,\n",
            "         -0.1137,  0.2497, -0.1420, -0.1067, -0.2675,  0.1817, -0.1530,  0.1047,\n",
            "         -0.0989, -0.2228,  0.1317,  0.2205, -0.1725, -0.1231, -0.0147, -0.0208,\n",
            "          0.0456, -0.2481, -0.1897,  0.1552, -0.1249, -0.0724,  0.1553,  0.1705,\n",
            "         -0.0557, -0.2076,  0.2643, -0.1729, -0.0131, -0.1044, -0.1414, -0.2341,\n",
            "          0.1203,  0.0349,  0.1863, -0.2382,  0.2237,  0.1488,  0.1538, -0.1338]],\n",
            "       device='cuda:0', requires_grad=True)\n"
          ]
        }
      ]
    },
    {
      "cell_type": "code",
      "source": [
        "model_sig.fit(train_loader)"
      ],
      "metadata": {
        "colab": {
          "base_uri": "https://localhost:8080/"
        },
        "id": "p-qEgki_E-Oc",
        "outputId": "2b605344-cd8a-470a-ca47-bd194f3bbcb8"
      },
      "execution_count": null,
      "outputs": [
        {
          "output_type": "stream",
          "name": "stderr",
          "text": [
            "100%|██████████| 60000/60000 [01:33<00:00, 638.83it/s]\n"
          ]
        },
        {
          "output_type": "stream",
          "name": "stdout",
          "text": [
            "Epoch 1 Loss:  2.258004296114047\n"
          ]
        },
        {
          "output_type": "stream",
          "name": "stderr",
          "text": [
            "100%|██████████| 60000/60000 [01:32<00:00, 649.13it/s]\n"
          ]
        },
        {
          "output_type": "stream",
          "name": "stdout",
          "text": [
            "Epoch 2 Loss:  1.5060044960511227\n"
          ]
        },
        {
          "output_type": "stream",
          "name": "stderr",
          "text": [
            "100%|██████████| 60000/60000 [01:33<00:00, 644.24it/s]\n"
          ]
        },
        {
          "output_type": "stream",
          "name": "stdout",
          "text": [
            "Epoch 3 Loss:  0.7662446841366278\n"
          ]
        },
        {
          "output_type": "stream",
          "name": "stderr",
          "text": [
            "100%|██████████| 60000/60000 [01:31<00:00, 652.86it/s]\n"
          ]
        },
        {
          "output_type": "stream",
          "name": "stdout",
          "text": [
            "Epoch 4 Loss:  0.5389829377032739\n"
          ]
        },
        {
          "output_type": "stream",
          "name": "stderr",
          "text": [
            "100%|██████████| 60000/60000 [01:31<00:00, 657.57it/s]\n"
          ]
        },
        {
          "output_type": "stream",
          "name": "stdout",
          "text": [
            "Epoch 5 Loss:  0.44051406837807733\n"
          ]
        },
        {
          "output_type": "stream",
          "name": "stderr",
          "text": [
            "100%|██████████| 60000/60000 [01:31<00:00, 658.14it/s]\n"
          ]
        },
        {
          "output_type": "stream",
          "name": "stdout",
          "text": [
            "Epoch 6 Loss:  0.38388346168227727\n"
          ]
        },
        {
          "output_type": "stream",
          "name": "stderr",
          "text": [
            "100%|██████████| 60000/60000 [01:31<00:00, 657.45it/s]\n"
          ]
        },
        {
          "output_type": "stream",
          "name": "stdout",
          "text": [
            "Epoch 7 Loss:  0.3466110587688648\n"
          ]
        },
        {
          "output_type": "stream",
          "name": "stderr",
          "text": [
            "100%|██████████| 60000/60000 [01:30<00:00, 660.47it/s]\n"
          ]
        },
        {
          "output_type": "stream",
          "name": "stdout",
          "text": [
            "Epoch 8 Loss:  0.3215856880114763\n"
          ]
        },
        {
          "output_type": "stream",
          "name": "stderr",
          "text": [
            "100%|██████████| 60000/60000 [01:30<00:00, 662.30it/s]\n"
          ]
        },
        {
          "output_type": "stream",
          "name": "stdout",
          "text": [
            "Epoch 9 Loss:  0.30318739825006924\n"
          ]
        },
        {
          "output_type": "stream",
          "name": "stderr",
          "text": [
            "100%|██████████| 60000/60000 [01:30<00:00, 659.53it/s]"
          ]
        },
        {
          "output_type": "stream",
          "name": "stdout",
          "text": [
            "Epoch 10 Loss:  0.28741767356107206\n"
          ]
        },
        {
          "output_type": "stream",
          "name": "stderr",
          "text": [
            "\n"
          ]
        }
      ]
    },
    {
      "cell_type": "code",
      "source": [
        "weight__ = model_sig.get_weights()\n",
        "print(weight__[1])\n",
        "print(weight__[2])\n",
        "print(weight__[3])"
      ],
      "metadata": {
        "colab": {
          "base_uri": "https://localhost:8080/"
        },
        "id": "OYDAIwOiFwg3",
        "outputId": "8bf5b597-f36f-47a9-dbf4-5ae8ec3f5de1"
      },
      "execution_count": null,
      "outputs": [
        {
          "output_type": "stream",
          "name": "stdout",
          "text": [
            "Parameter containing:\n",
            "tensor([[-0.0686,  0.0580, -0.0941,  ..., -0.1413,  0.0717, -0.1391],\n",
            "        [ 0.0475,  0.0379, -0.0702,  ..., -0.0660, -0.1099,  0.0535],\n",
            "        [ 0.0358, -0.0017, -0.0830,  ...,  0.0562,  0.0022,  0.1011],\n",
            "        ...,\n",
            "        [-0.0900, -0.1778, -0.0185,  ..., -0.0928,  0.0945, -0.1001],\n",
            "        [-0.0226, -0.1324,  0.1560,  ...,  0.0744, -0.0382,  0.1032],\n",
            "        [-0.0917, -0.0731, -0.0909,  ..., -0.0947,  0.0608,  0.0735]],\n",
            "       device='cuda:0', requires_grad=True)\n",
            "Parameter containing:\n",
            "tensor([[ 0.1049,  0.1408,  0.2085,  ...,  0.2442,  0.0316,  0.1901],\n",
            "        [-0.0195, -0.0400, -0.2170,  ...,  0.1656, -0.0411, -0.1578],\n",
            "        [ 0.0730,  0.3378, -0.1625,  ..., -0.0023, -0.3594, -0.2963],\n",
            "        ...,\n",
            "        [ 0.1400, -0.2512, -0.2374,  ..., -0.0759, -0.1338, -0.1510],\n",
            "        [-0.0808,  0.0539,  0.0137,  ..., -0.0437, -0.0978,  0.0066],\n",
            "        [-0.2605,  0.1162,  0.0655,  ..., -0.1395,  0.2328,  0.0559]],\n",
            "       device='cuda:0', requires_grad=True)\n",
            "Parameter containing:\n",
            "tensor([[-1.0972e+00, -7.7287e-01, -1.1394e+00,  8.0005e-01, -2.0038e-03,\n",
            "         -8.2603e-01, -3.4379e-01,  9.1861e-01, -8.1343e-01, -7.3017e-01,\n",
            "          2.4827e-01,  3.5079e-01,  7.1194e-01, -6.5065e-01,  4.9516e-01,\n",
            "          7.7777e-01, -9.4351e-01,  1.1929e-01,  6.9425e-01, -1.7555e-01,\n",
            "         -7.7710e-01, -7.4803e-02,  5.7221e-01, -1.4363e-02,  5.7780e-01,\n",
            "         -9.9818e-01,  2.2720e-01, -7.6735e-01,  2.1966e-01,  2.8390e-01,\n",
            "          1.2117e+00,  3.6150e-01, -1.0345e+00,  9.1838e-01,  1.6102e-01,\n",
            "         -6.4637e-01, -1.3431e-01, -4.3453e-01,  7.9570e-03, -1.0146e+00,\n",
            "          2.7850e-01, -3.1526e-01,  7.3376e-01,  3.3894e-01, -1.5092e-01,\n",
            "         -7.8727e-01, -5.6783e-01, -2.0546e-01, -8.2957e-02,  3.4647e-02,\n",
            "         -2.0134e-01,  9.2113e-01, -5.8181e-01,  6.3121e-01,  3.0214e-01,\n",
            "          7.9015e-01, -3.4517e-01, -1.0104e+00, -4.1259e-01, -3.9890e-01,\n",
            "          3.7665e-01, -6.3178e-01, -1.8287e-01,  8.1916e-01],\n",
            "        [ 8.7271e-01,  2.7008e-01,  3.3861e-01, -6.3764e-01,  3.9997e-01,\n",
            "          5.9056e-01,  2.2728e-01, -7.3033e-01,  6.7415e-01, -1.0022e+00,\n",
            "         -1.7077e-01, -8.9139e-01, -7.1811e-02,  6.5229e-01, -1.0190e+00,\n",
            "         -2.2289e-01,  5.3014e-01, -6.7700e-01, -3.2814e-01,  2.9855e-02,\n",
            "          1.6526e-01, -2.5484e-01, -6.0311e-01, -4.5393e-02, -8.4071e-01,\n",
            "          2.9321e-01, -1.2661e+00, -8.8240e-02, -6.3838e-01,  6.3863e-02,\n",
            "         -9.8284e-01, -4.1765e-01,  9.2299e-01,  7.6110e-02, -1.0296e+00,\n",
            "         -3.8984e-01, -6.7314e-01,  6.3204e-01, -2.1523e-01,  6.2849e-01,\n",
            "          1.7247e-01,  7.3154e-01, -8.2056e-01, -1.6464e-01,  5.8094e-01,\n",
            "          2.4272e-01,  6.0981e-01, -7.2259e-01,  7.8154e-01, -3.5547e-01,\n",
            "         -6.5410e-01, -4.4119e-02,  7.2776e-01, -5.7258e-01,  5.0591e-01,\n",
            "         -5.0032e-01,  4.1901e-01,  1.2331e+00, -5.6601e-02,  9.0849e-01,\n",
            "          6.6541e-01, -3.7702e-01,  2.9783e-01, -4.2616e-01],\n",
            "        [ 1.4418e-01, -7.9263e-01,  6.8761e-01, -7.1543e-01, -1.3977e-01,\n",
            "          3.0371e-01,  3.9047e-01, -8.4044e-02, -7.6534e-01, -1.5889e-01,\n",
            "         -5.5064e-02,  3.2051e-01, -2.9623e-01, -6.4579e-02, -7.6008e-01,\n",
            "          9.4959e-01, -3.0974e-01, -7.7149e-02,  9.9980e-01, -4.2743e-01,\n",
            "         -5.9286e-01, -2.7900e-01,  2.7713e-01,  5.3622e-01,  1.9248e-01,\n",
            "          6.1504e-01,  5.9408e-01,  1.2749e-01, -4.7503e-01, -6.3560e-02,\n",
            "         -2.5323e-01,  4.1988e-01,  9.8047e-01,  6.0463e-01, -1.0080e+00,\n",
            "          5.8626e-01,  9.7416e-01, -4.6595e-02, -1.5883e-01, -5.9076e-01,\n",
            "         -2.6146e-01, -6.3393e-01, -2.9317e-01, -1.8796e-01,  6.2012e-01,\n",
            "         -7.7328e-01,  1.4775e-01, -5.3105e-01, -2.0673e-01,  8.0388e-01,\n",
            "         -7.2534e-01,  1.1638e+00,  6.7577e-01,  5.6622e-01,  1.8174e-01,\n",
            "         -4.0397e-01,  2.0861e-01,  2.0023e-01, -2.4742e-01,  4.3172e-01,\n",
            "         -4.9468e-01,  1.8785e-01,  6.0227e-01, -3.9224e-01],\n",
            "        [ 4.7969e-01, -1.9876e-01,  3.2256e-01,  8.8458e-02, -3.3456e-01,\n",
            "         -6.2313e-01, -4.1506e-01,  8.4039e-01,  7.1581e-02,  3.9621e-01,\n",
            "         -9.2507e-02,  1.0693e+00, -1.3424e-01,  7.5320e-01, -9.4085e-01,\n",
            "         -1.9242e-01, -5.4480e-01, -5.5674e-01, -2.5823e-01,  5.4007e-01,\n",
            "         -1.7089e-01,  8.0921e-02,  2.3943e-01,  7.7849e-02, -3.2415e-01,\n",
            "          8.5197e-01,  3.1139e-01,  4.8588e-01,  7.6449e-01,  2.3956e-01,\n",
            "         -2.6441e-01,  4.3680e-01,  3.8739e-01, -5.3331e-01, -1.6392e-01,\n",
            "          4.0277e-01, -8.5293e-01,  6.3087e-01,  1.1145e+00,  2.1748e-01,\n",
            "         -8.4110e-01, -7.5576e-01,  2.5936e-01,  2.3867e-01,  7.0160e-01,\n",
            "         -4.8668e-01, -2.1268e-01, -5.8455e-01, -3.9041e-01,  6.1542e-01,\n",
            "         -1.9168e-01, -6.6368e-01, -2.8011e-01, -5.7209e-01, -8.9791e-02,\n",
            "          5.7179e-01, -7.4492e-01,  1.1368e+00, -1.6551e-01,  7.1788e-01,\n",
            "          2.8574e-01,  7.2819e-03, -4.8056e-01, -7.7383e-01],\n",
            "        [-2.8947e-02,  2.6697e-01,  1.0297e+00, -2.4736e-01, -1.3156e-01,\n",
            "          8.6781e-01, -5.6282e-01, -5.1657e-01, -9.0582e-01,  1.2204e+00,\n",
            "          5.3653e-01, -2.4272e-01, -3.5216e-01, -4.4563e-01,  5.5491e-01,\n",
            "         -1.6506e-01,  9.2401e-01,  1.5560e+00, -2.6279e-01,  2.1093e-01,\n",
            "          8.3052e-01,  2.0109e-02, -5.1851e-01, -1.9291e-01,  2.7148e-01,\n",
            "         -3.5953e-01, -2.5090e-01,  2.3411e-01, -7.4740e-01, -1.0824e-01,\n",
            "          3.8024e-01, -8.7486e-01,  1.9008e-01, -1.7759e-01,  1.1261e+00,\n",
            "          1.3810e-01,  1.0183e+00, -1.1636e+00, -7.4065e-01,  1.5303e-01,\n",
            "          6.3120e-01, -6.5811e-02, -4.1598e-01, -4.8138e-01, -6.0156e-02,\n",
            "          8.7965e-01,  3.0826e-01,  3.9727e-01,  4.1547e-01, -8.4280e-02,\n",
            "         -3.0743e-01, -8.8068e-01, -3.5598e-01, -4.4129e-01, -7.5330e-01,\n",
            "          4.0188e-02, -1.5345e-03, -6.4616e-01, -9.6948e-02, -1.0147e+00,\n",
            "         -4.6908e-01,  1.0592e+00,  2.1187e-01, -5.7206e-01],\n",
            "        [-7.2517e-01,  4.8062e-01, -4.6839e-01,  8.3854e-01,  3.0864e-01,\n",
            "         -1.0781e+00, -3.7349e-01,  2.6861e-01,  4.5364e-01, -5.9206e-01,\n",
            "          3.3267e-01,  5.6127e-01,  1.3251e-01,  9.4432e-02,  2.3237e-02,\n",
            "          3.8873e-01, -3.9752e-01,  9.3157e-01, -3.1492e-01,  1.8488e-01,\n",
            "         -2.3138e-01,  2.7139e-01, -2.5852e-02, -2.0089e-02, -3.9031e-01,\n",
            "         -6.6771e-01,  1.4533e-01, -5.6891e-01,  1.9547e-01,  1.7508e-01,\n",
            "         -5.4239e-02, -6.7666e-01, -8.2857e-01,  6.0216e-01,  5.4333e-01,\n",
            "         -1.0878e+00, -2.9776e-01, -1.8070e-01,  2.2629e-01,  7.8651e-01,\n",
            "         -3.9689e-01,  5.1520e-01,  4.7651e-01,  5.7597e-01,  3.7875e-01,\n",
            "          7.7584e-01, -4.7774e-04, -2.1073e-01,  6.1733e-01,  4.9310e-01,\n",
            "          2.1116e-01, -2.7840e-01, -8.4000e-01, -1.6655e-01,  3.5480e-01,\n",
            "          3.5248e-01,  4.4624e-01, -1.1505e-01,  4.6909e-01,  5.3214e-01,\n",
            "          4.2684e-01, -9.7136e-02, -4.2636e-01,  9.8703e-02],\n",
            "        [ 2.2452e-01, -1.9062e-01,  6.6972e-01, -6.4722e-01, -6.5126e-01,\n",
            "          1.8787e-01, -3.3205e-01, -3.2812e-01, -6.7254e-01, -1.0130e+00,\n",
            "         -5.2185e-01, -6.7470e-01,  2.9053e-01, -1.0604e+00,  8.0254e-01,\n",
            "          2.9234e-01,  3.0580e-01,  1.2069e+00, -2.2154e-01, -1.2977e-01,\n",
            "          5.1823e-01, -5.3934e-01, -1.6502e-01,  5.1066e-02, -1.0012e+00,\n",
            "          2.3995e-01, -4.9948e-02,  4.6969e-01, -4.1723e-01, -1.1938e+00,\n",
            "          6.6818e-01,  5.0295e-01,  4.1223e-02,  2.9861e-01,  1.5089e-02,\n",
            "         -7.3210e-01,  1.3836e+00,  2.7972e-01, -5.2858e-01,  1.0851e-01,\n",
            "          6.7418e-01, -2.4257e-01,  7.5255e-01,  3.8031e-01, -8.0510e-01,\n",
            "          5.3003e-01, -1.3778e-01, -2.5254e-01, -3.4348e-01, -6.8668e-01,\n",
            "         -1.0178e+00,  1.0017e+00, -5.6622e-01,  4.9098e-01, -3.8652e-01,\n",
            "         -3.7835e-01,  4.8955e-01, -4.4842e-02,  1.7607e-01,  4.2464e-01,\n",
            "         -5.4335e-01, -3.8223e-01,  2.3968e-01,  7.6231e-01],\n",
            "        [ 4.2046e-01,  5.2321e-01, -6.4297e-01, -4.3794e-01,  2.4966e-01,\n",
            "          4.5427e-01,  7.0346e-01, -1.0855e+00,  1.0062e+00,  8.7236e-01,\n",
            "         -1.0409e-01, -3.9365e-01,  8.2880e-02, -2.3107e-01,  6.2446e-02,\n",
            "         -6.4045e-01, -8.5444e-02, -1.0911e+00, -7.3965e-02,  6.3826e-02,\n",
            "          4.8835e-01, -1.8772e-01,  7.6309e-01,  2.9933e-01,  3.1416e-01,\n",
            "         -1.0030e+00, -9.0874e-01,  1.6963e-01,  7.0427e-01,  7.9303e-01,\n",
            "         -8.1397e-02, -7.7803e-02,  4.7838e-01, -2.3112e-02, -9.9958e-01,\n",
            "          5.8098e-01, -8.0673e-01,  2.9953e-01,  1.0689e+00, -9.8273e-01,\n",
            "          3.5720e-01,  1.5944e-01, -1.2915e-01, -5.4786e-01, -6.1948e-01,\n",
            "         -8.7196e-01,  9.7156e-01,  4.2761e-01,  7.7408e-01, -1.0889e+00,\n",
            "          7.8329e-01, -3.1094e-01,  5.0669e-01,  7.1510e-01,  7.8047e-01,\n",
            "          1.1604e-01, -6.8023e-01, -3.1818e-01, -8.7765e-01, -8.2590e-01,\n",
            "         -3.5701e-01,  8.8559e-01, -2.1326e-01,  2.7366e-01],\n",
            "        [ 7.8782e-01,  8.1983e-01, -8.4991e-02, -1.1177e-02, -2.0056e-02,\n",
            "         -1.6118e-01, -3.1235e-01,  9.5056e-01,  6.0421e-01, -2.6916e-01,\n",
            "         -4.5265e-01, -7.8778e-01,  3.4545e-02,  7.4907e-01, -1.9458e-01,\n",
            "          5.5001e-01,  6.7247e-02, -5.5841e-01,  6.0448e-01, -3.3624e-02,\n",
            "         -3.1924e-01,  4.9452e-01, -5.0251e-01, -3.2316e-01,  6.3513e-01,\n",
            "          6.0380e-01,  1.6501e-01, -7.3748e-01, -1.1232e-01,  8.9269e-03,\n",
            "         -3.6875e-01,  2.4080e-01, -5.8413e-01, -6.4733e-02, -8.1009e-02,\n",
            "         -1.6530e-01, -3.0609e-01,  3.4015e-01, -9.9239e-01, -1.2319e-01,\n",
            "          1.5600e-01,  8.8629e-01, -5.0511e-02,  2.9803e-01, -3.3073e-01,\n",
            "          7.8687e-01, -7.1016e-01,  4.2886e-01, -8.6962e-01,  6.4882e-01,\n",
            "          1.6542e-01, -5.5384e-01,  6.6249e-01, -6.7286e-01, -7.4129e-01,\n",
            "         -6.7310e-01,  9.1578e-01, -2.8229e-01,  6.0505e-01,  5.4710e-01,\n",
            "          2.7214e-01, -4.8278e-01, -1.0765e-01,  2.1419e-01],\n",
            "        [-1.7853e-01,  5.1490e-01, -6.0585e-01, -5.0322e-02,  3.2261e-01,\n",
            "          7.0118e-01,  3.1610e-01, -4.5158e-01, -4.1158e-02,  1.0934e+00,\n",
            "          4.1734e-01,  3.6753e-01,  1.1558e-02, -1.8199e-01,  7.8535e-01,\n",
            "         -6.7867e-01,  5.5891e-01, -2.5415e-01, -3.4579e-01, -5.7263e-02,\n",
            "          2.5128e-01,  8.0317e-02,  6.1483e-01,  2.1702e-01,  2.5009e-01,\n",
            "          4.8795e-01, -7.9230e-02, -9.8974e-02, -2.3189e-01,  6.9205e-01,\n",
            "         -5.5788e-01,  5.5386e-02, -4.1181e-01, -8.7311e-01,  8.2665e-01,\n",
            "          9.9129e-01, -9.4220e-01, -3.7636e-01, -1.7843e-01, -9.5407e-02,\n",
            "          9.0948e-02, -3.4122e-01, -4.0149e-01,  5.7097e-02, -4.7089e-01,\n",
            "          1.1999e-01,  2.5934e-01,  6.8517e-01, -3.8247e-01, -4.2218e-01,\n",
            "          1.3548e+00, -6.1244e-01,  2.9912e-01, -6.0726e-01, -5.4305e-01,\n",
            "         -4.9339e-01,  5.2876e-02, -3.9258e-01,  3.8877e-01, -1.0349e+00,\n",
            "          8.1909e-02,  7.0963e-01,  1.6190e-02, -4.4434e-01]], device='cuda:0',\n",
            "       requires_grad=True)\n"
          ]
        }
      ]
    },
    {
      "cell_type": "markdown",
      "source": [
        "##### MLP with ReLU function "
      ],
      "metadata": {
        "id": "-lcpb19hACYI"
      }
    },
    {
      "cell_type": "code",
      "source": [
        "x_grid = np.linspace(-5,5,200).reshape(-1,1)\n",
        "plt.plot(x_grid,F.relu(torch.tensor(x_grid)))"
      ],
      "metadata": {
        "colab": {
          "base_uri": "https://localhost:8080/",
          "height": 283
        },
        "id": "Jg2fgitGAEIa",
        "outputId": "70ac85c9-47b0-4e1c-b631-1e152c37519e"
      },
      "execution_count": null,
      "outputs": [
        {
          "output_type": "execute_result",
          "data": {
            "text/plain": [
              "[<matplotlib.lines.Line2D at 0x7fafbc3d9a50>]"
            ]
          },
          "metadata": {},
          "execution_count": 8
        },
        {
          "output_type": "display_data",
          "data": {
            "text/plain": [
              "<Figure size 432x288 with 1 Axes>"
            ],
            "image/png": "[encoded data removed]"
          },
          "metadata": {
            "needs_background": "light"
          }
        }
      ]
    },
    {
      "cell_type": "code",
      "source": [
        "model_relu = Classifier(input_dim = 784, hidden_dim=(256,128,64), output_dim=10,device=device, activation='relu')\n",
        "\n",
        "weight__ = model_relu.get_weights()\n",
        "\n",
        "print(weight__[1])\n",
        "print(weight__[2])\n",
        "print(weight__[3])"
      ],
      "metadata": {
        "colab": {
          "base_uri": "https://localhost:8080/"
        },
        "id": "kUwxqfG6LLyg",
        "outputId": "a230fcf7-9c30-4ec1-d0bb-126707a7e4c0"
      },
      "execution_count": null,
      "outputs": [
        {
          "output_type": "stream",
          "name": "stdout",
          "text": [
            "Parameter containing:\n",
            "tensor([[-0.0788,  0.0948,  0.0811,  ...,  0.0621, -0.0877, -0.1155],\n",
            "        [-0.0062, -0.0505,  0.0487,  ...,  0.0530,  0.0828,  0.0647],\n",
            "        [-0.0443, -0.0739, -0.0677,  ...,  0.0570,  0.0707,  0.1179],\n",
            "        ...,\n",
            "        [ 0.0309,  0.0642,  0.1220,  ...,  0.0698,  0.1041,  0.0810],\n",
            "        [-0.0482, -0.1109,  0.0246,  ...,  0.1190, -0.0135, -0.0920],\n",
            "        [-0.1206, -0.0072, -0.1064,  ...,  0.0550,  0.0984,  0.0649]],\n",
            "       device='cuda:0', requires_grad=True)\n",
            "Parameter containing:\n",
            "tensor([[-0.0745,  0.0982,  0.0716,  ..., -0.0615,  0.1239,  0.0058],\n",
            "        [-0.0807, -0.1717,  0.0530,  ..., -0.1156,  0.1498, -0.0081],\n",
            "        [-0.0348, -0.1387, -0.0184,  ..., -0.0882,  0.0542, -0.0426],\n",
            "        ...,\n",
            "        [-0.1123,  0.1205,  0.0082,  ...,  0.1224,  0.1346,  0.0108],\n",
            "        [ 0.0453,  0.0799, -0.0979,  ..., -0.1048,  0.1532, -0.0399],\n",
            "        [ 0.0760, -0.1586,  0.0747,  ...,  0.0583,  0.0294, -0.1044]],\n",
            "       device='cuda:0', requires_grad=True)\n",
            "Parameter containing:\n",
            "tensor([[-0.1413, -0.2037,  0.0397, -0.0668, -0.1220, -0.0576, -0.1580, -0.2423,\n",
            "         -0.1564,  0.1373, -0.2392,  0.0123,  0.2176,  0.0107,  0.0298,  0.2049,\n",
            "          0.0916,  0.0965, -0.0309, -0.1350,  0.0498,  0.2001, -0.2306, -0.0545,\n",
            "         -0.2368, -0.1964, -0.1251,  0.1599, -0.1401, -0.1108,  0.2395,  0.1343,\n",
            "          0.2214,  0.1367, -0.2023,  0.1686,  0.0904,  0.2164,  0.1819,  0.1142,\n",
            "         -0.0315,  0.1370,  0.1001,  0.1626,  0.2599, -0.0578,  0.0464,  0.1040,\n",
            "          0.0772, -0.1480,  0.0813, -0.2129, -0.0947, -0.2732, -0.1094, -0.1914,\n",
            "         -0.0567,  0.0808, -0.2201, -0.2394, -0.1410, -0.1857,  0.0252,  0.2715],\n",
            "        [-0.1031, -0.0801,  0.1614, -0.2698, -0.2031,  0.0090,  0.0845, -0.2679,\n",
            "          0.0217,  0.1341,  0.2126,  0.2834, -0.2703,  0.1693, -0.1661, -0.2013,\n",
            "         -0.2204,  0.0996, -0.1582,  0.0727,  0.2063, -0.1367,  0.0481, -0.2464,\n",
            "         -0.0392,  0.0231,  0.2409,  0.0404,  0.1084, -0.2492,  0.0091, -0.1101,\n",
            "         -0.1545,  0.0065,  0.1140, -0.2502, -0.1809,  0.1307, -0.2235,  0.2014,\n",
            "         -0.2393, -0.1217,  0.0842, -0.1945, -0.0105,  0.2370,  0.1240,  0.0511,\n",
            "          0.2526, -0.2656, -0.0828, -0.2403,  0.1974, -0.1216, -0.1709,  0.0772,\n",
            "         -0.0017,  0.0198, -0.0218,  0.1408, -0.0602,  0.1963, -0.1120, -0.0670],\n",
            "        [ 0.0604,  0.0175,  0.0055,  0.2382, -0.2323,  0.0162, -0.0589, -0.1232,\n",
            "          0.2486, -0.2126, -0.1794, -0.1153, -0.1631, -0.1832,  0.2123,  0.2773,\n",
            "         -0.2372, -0.1917,  0.0565,  0.2530, -0.1897,  0.0531, -0.2433, -0.0198,\n",
            "          0.2305, -0.2632,  0.2186,  0.0649, -0.0487, -0.0629,  0.1738, -0.0904,\n",
            "          0.2003, -0.2436,  0.1455, -0.2444, -0.2837, -0.0429,  0.1895,  0.2009,\n",
            "          0.1133,  0.2735, -0.0938, -0.2747, -0.2069,  0.0983, -0.2438,  0.2483,\n",
            "          0.2144,  0.0005,  0.0281,  0.1953, -0.1326, -0.0423, -0.2079, -0.2413,\n",
            "          0.0128,  0.2498, -0.1882,  0.2502, -0.0088, -0.1226,  0.0312,  0.2413],\n",
            "        [ 0.0650, -0.1264,  0.2524, -0.1031, -0.2198,  0.2065, -0.1782,  0.1009,\n",
            "         -0.0504,  0.2772, -0.0574,  0.0696, -0.2127, -0.1691, -0.1647,  0.0319,\n",
            "         -0.2417,  0.1825,  0.1620, -0.1271,  0.0272,  0.2193,  0.0246,  0.0379,\n",
            "          0.2286, -0.0610,  0.1753, -0.0869, -0.2690, -0.2401,  0.0221,  0.1117,\n",
            "          0.0542,  0.1882, -0.1377,  0.1176,  0.1257,  0.0732, -0.2160, -0.1746,\n",
            "          0.2820, -0.0755,  0.0010, -0.2820, -0.1849, -0.1571, -0.1235,  0.1602,\n",
            "         -0.0820, -0.1410,  0.1988, -0.0023, -0.2735, -0.2527,  0.2257,  0.1863,\n",
            "          0.0868, -0.1532, -0.2847, -0.1541,  0.2014, -0.1113, -0.2280,  0.0975],\n",
            "        [-0.0443,  0.1058,  0.1295, -0.1965,  0.2571,  0.1817,  0.2162,  0.0481,\n",
            "         -0.0315,  0.0312,  0.0245,  0.1369,  0.0494,  0.2085,  0.0434, -0.1566,\n",
            "         -0.0365,  0.0263, -0.2646, -0.1216, -0.0493,  0.1942,  0.1523, -0.0614,\n",
            "         -0.1222, -0.0578,  0.2694,  0.1913, -0.1436,  0.0075, -0.0297,  0.1863,\n",
            "          0.2775, -0.1441,  0.0937, -0.0035,  0.2002,  0.1809, -0.0774, -0.1749,\n",
            "         -0.1035, -0.1485, -0.2092,  0.1602,  0.0366,  0.0784, -0.1003, -0.0890,\n",
            "          0.1621, -0.1309, -0.1565,  0.2617,  0.1499, -0.1712,  0.0799,  0.0150,\n",
            "         -0.2672, -0.1218, -0.1034, -0.2343,  0.0743,  0.0552, -0.2481,  0.1309],\n",
            "        [-0.0606,  0.1738,  0.2575,  0.0520,  0.2123,  0.2530, -0.0226,  0.2393,\n",
            "         -0.2742, -0.0667, -0.1937, -0.2489, -0.0237,  0.0678, -0.0577, -0.1161,\n",
            "         -0.0773, -0.1316,  0.0352, -0.1718,  0.2533, -0.0336,  0.2401,  0.2461,\n",
            "          0.2002, -0.1477,  0.0826,  0.0738,  0.2813,  0.0219,  0.0635, -0.1741,\n",
            "          0.0217,  0.0290, -0.0547,  0.2476, -0.1854,  0.1934, -0.2754, -0.1421,\n",
            "          0.1982,  0.2803,  0.2269,  0.2495, -0.2238,  0.2022,  0.2221,  0.0214,\n",
            "          0.0485, -0.0637,  0.0050, -0.1680,  0.1085,  0.1085,  0.1051, -0.1426,\n",
            "         -0.0842, -0.2207,  0.2089, -0.0343, -0.2641,  0.1288, -0.0469,  0.2516],\n",
            "        [-0.1835,  0.1463,  0.2520, -0.0799, -0.1267, -0.1858, -0.2317,  0.2248,\n",
            "          0.2839,  0.0538, -0.1449, -0.1003,  0.0244, -0.2449, -0.1312, -0.2211,\n",
            "          0.2170,  0.2773,  0.1929, -0.0089,  0.0731, -0.0861, -0.0967,  0.1429,\n",
            "         -0.0618,  0.2392, -0.1611,  0.1766, -0.2497,  0.1557,  0.1266, -0.1640,\n",
            "          0.1314, -0.0721,  0.0792,  0.2455,  0.2587, -0.0217,  0.2572,  0.2007,\n",
            "          0.0672,  0.2127,  0.1696,  0.1692, -0.2380,  0.0195,  0.1173, -0.2448,\n",
            "          0.1199, -0.2747,  0.0611,  0.0547, -0.0249, -0.1500, -0.0949,  0.1842,\n",
            "         -0.1626,  0.0063, -0.2058, -0.0968,  0.0749, -0.0539,  0.2790, -0.2441],\n",
            "        [-0.2753, -0.2675, -0.1475, -0.0627, -0.0210,  0.2185,  0.0578,  0.1399,\n",
            "          0.0036,  0.2669,  0.1614,  0.2424,  0.2648,  0.1434, -0.0511, -0.1153,\n",
            "          0.1463, -0.2175, -0.2637, -0.0903,  0.0599, -0.2123, -0.2035,  0.1346,\n",
            "         -0.1096, -0.1162,  0.2125,  0.2170,  0.1773,  0.1302, -0.0896,  0.0690,\n",
            "         -0.1439, -0.1740,  0.0741, -0.0654, -0.1963,  0.0718, -0.1209,  0.1675,\n",
            "         -0.0182,  0.1495,  0.2413, -0.1903,  0.2389,  0.2416, -0.0788, -0.0417,\n",
            "         -0.1619, -0.0489, -0.2103,  0.1362, -0.2069,  0.1408,  0.0291, -0.1652,\n",
            "         -0.1479,  0.1887, -0.2701, -0.2829, -0.2178,  0.0781,  0.2433,  0.2495],\n",
            "        [-0.2073, -0.0228, -0.2314, -0.0017, -0.2281,  0.0220,  0.1016,  0.2254,\n",
            "          0.0121,  0.1732, -0.0645,  0.1740,  0.1159, -0.0344,  0.1761, -0.1977,\n",
            "         -0.1190, -0.1910, -0.1432, -0.1755,  0.0478, -0.2801, -0.1515,  0.2169,\n",
            "         -0.2041, -0.1745,  0.2035, -0.0334,  0.0882, -0.0852, -0.0365, -0.0983,\n",
            "         -0.2189, -0.1104,  0.0414,  0.0380,  0.1274, -0.2363,  0.2389,  0.0811,\n",
            "          0.1077,  0.1753, -0.2401, -0.1270, -0.2275,  0.1887,  0.0533,  0.0087,\n",
            "          0.1922, -0.0165,  0.1249, -0.0421, -0.0833, -0.2645, -0.2779,  0.1273,\n",
            "          0.2004, -0.1699,  0.0886,  0.0239, -0.0916,  0.1522,  0.0518,  0.1925],\n",
            "        [ 0.1765,  0.1915,  0.0763,  0.1896,  0.1329, -0.1696,  0.2193, -0.0527,\n",
            "         -0.2179, -0.1043, -0.2374, -0.2789,  0.0046,  0.2605, -0.1652, -0.1667,\n",
            "         -0.0497,  0.1654,  0.2730, -0.2631, -0.0892,  0.0166,  0.0935,  0.0939,\n",
            "         -0.1410,  0.0873, -0.1033,  0.1239,  0.0258, -0.2119,  0.1631,  0.0013,\n",
            "          0.0517, -0.1092, -0.2050, -0.1269,  0.0614, -0.2143,  0.0378,  0.1289,\n",
            "          0.2327, -0.1898,  0.1686, -0.0980,  0.2317, -0.0403,  0.0376,  0.1899,\n",
            "          0.2670,  0.0872,  0.2340, -0.1630,  0.0199,  0.1169, -0.1824, -0.0075,\n",
            "         -0.0123,  0.1495, -0.1037,  0.2544, -0.1707, -0.0258,  0.1609,  0.0143]],\n",
            "       device='cuda:0', requires_grad=True)\n"
          ]
        }
      ]
    },
    {
      "cell_type": "code",
      "source": [
        "model_relu.fit(train_loader)"
      ],
      "metadata": {
        "colab": {
          "base_uri": "https://localhost:8080/"
        },
        "id": "u3Douj9fxODP",
        "outputId": "1900a8a8-b850-4387-8520-d0e7cc132eb0"
      },
      "execution_count": null,
      "outputs": [
        {
          "output_type": "stream",
          "name": "stderr",
          "text": [
            "100%|██████████| 60000/60000 [01:32<00:00, 650.90it/s]\n"
          ]
        },
        {
          "output_type": "stream",
          "name": "stdout",
          "text": [
            "Epoch 1 Loss:  0.363327749382417\n"
          ]
        },
        {
          "output_type": "stream",
          "name": "stderr",
          "text": [
            "100%|██████████| 60000/60000 [01:31<00:00, 652.62it/s]\n"
          ]
        },
        {
          "output_type": "stream",
          "name": "stdout",
          "text": [
            "Epoch 2 Loss:  0.1523065240601691\n"
          ]
        },
        {
          "output_type": "stream",
          "name": "stderr",
          "text": [
            "100%|██████████| 60000/60000 [01:32<00:00, 651.59it/s]\n"
          ]
        },
        {
          "output_type": "stream",
          "name": "stdout",
          "text": [
            "Epoch 3 Loss:  0.10408780320204669\n"
          ]
        },
        {
          "output_type": "stream",
          "name": "stderr",
          "text": [
            "100%|██████████| 60000/60000 [01:32<00:00, 651.77it/s]\n"
          ]
        },
        {
          "output_type": "stream",
          "name": "stdout",
          "text": [
            "Epoch 4 Loss:  0.0787270494169636\n"
          ]
        },
        {
          "output_type": "stream",
          "name": "stderr",
          "text": [
            "100%|██████████| 60000/60000 [01:31<00:00, 656.16it/s]\n"
          ]
        },
        {
          "output_type": "stream",
          "name": "stdout",
          "text": [
            "Epoch 5 Loss:  0.06267599235423642\n"
          ]
        },
        {
          "output_type": "stream",
          "name": "stderr",
          "text": [
            "100%|██████████| 60000/60000 [01:31<00:00, 654.14it/s]\n"
          ]
        },
        {
          "output_type": "stream",
          "name": "stdout",
          "text": [
            "Epoch 6 Loss:  0.050864713917251676\n"
          ]
        },
        {
          "output_type": "stream",
          "name": "stderr",
          "text": [
            "100%|██████████| 60000/60000 [01:31<00:00, 653.27it/s]\n"
          ]
        },
        {
          "output_type": "stream",
          "name": "stdout",
          "text": [
            "Epoch 7 Loss:  0.041298305257505906\n"
          ]
        },
        {
          "output_type": "stream",
          "name": "stderr",
          "text": [
            "100%|██████████| 60000/60000 [01:31<00:00, 655.84it/s]\n"
          ]
        },
        {
          "output_type": "stream",
          "name": "stdout",
          "text": [
            "Epoch 8 Loss:  0.03326335309964715\n"
          ]
        },
        {
          "output_type": "stream",
          "name": "stderr",
          "text": [
            "100%|██████████| 60000/60000 [01:31<00:00, 656.60it/s]\n"
          ]
        },
        {
          "output_type": "stream",
          "name": "stdout",
          "text": [
            "Epoch 9 Loss:  0.02753185433995348\n"
          ]
        },
        {
          "output_type": "stream",
          "name": "stderr",
          "text": [
            "100%|██████████| 60000/60000 [01:31<00:00, 652.39it/s]"
          ]
        },
        {
          "output_type": "stream",
          "name": "stdout",
          "text": [
            "Epoch 10 Loss:  0.021742749816556592\n"
          ]
        },
        {
          "output_type": "stream",
          "name": "stderr",
          "text": [
            "\n"
          ]
        }
      ]
    },
    {
      "cell_type": "code",
      "source": [
        "weight__ = model_relu.get_weights()\n",
        "\n",
        "print(weight__[1])\n",
        "print(weight__[2])\n",
        "print(weight__[3])"
      ],
      "metadata": {
        "colab": {
          "base_uri": "https://localhost:8080/"
        },
        "id": "TpZKtzXaLTXd",
        "outputId": "44f0e498-0e86-4dbb-c4ab-a9880f3c69a1"
      },
      "execution_count": null,
      "outputs": [
        {
          "output_type": "stream",
          "name": "stdout",
          "text": [
            "Parameter containing:\n",
            "tensor([[-0.0133,  0.0852,  0.0715,  ...,  0.0355, -0.1318, -0.1321],\n",
            "        [-0.0033, -0.0874,  0.0355,  ...,  0.0484,  0.0574,  0.0585],\n",
            "        [-0.0494, -0.1106, -0.0722,  ...,  0.0324,  0.0862,  0.1595],\n",
            "        ...,\n",
            "        [ 0.0664,  0.0266,  0.1197,  ...,  0.0954,  0.1142,  0.0895],\n",
            "        [-0.0578, -0.1266,  0.0517,  ...,  0.0596, -0.0023, -0.0988],\n",
            "        [-0.1183, -0.0557, -0.1652,  ...,  0.0534,  0.1157,  0.0878]],\n",
            "       device='cuda:0', requires_grad=True)\n",
            "Parameter containing:\n",
            "tensor([[-0.1060,  0.1066,  0.0498,  ..., -0.0507,  0.1632, -0.0267],\n",
            "        [-0.0393, -0.1708,  0.1368,  ..., -0.1423,  0.2770, -0.0102],\n",
            "        [-0.0670, -0.1627,  0.0302,  ..., -0.0873,  0.1138,  0.0161],\n",
            "        ...,\n",
            "        [-0.1258,  0.0962,  0.0359,  ...,  0.1477,  0.1533,  0.0302],\n",
            "        [ 0.0961,  0.0894, -0.1407,  ..., -0.0821,  0.1653, -0.0817],\n",
            "        [ 0.1220, -0.1601,  0.1356,  ...,  0.1406,  0.0613, -0.0397]],\n",
            "       device='cuda:0', requires_grad=True)\n",
            "Parameter containing:\n",
            "tensor([[-0.2687, -0.3485, -0.0084, -0.0668, -0.1369, -0.1798, -0.3584, -0.5310,\n",
            "         -0.1926,  0.0431, -0.2340, -0.0221,  0.4749, -0.1218,  0.0424,  0.5678,\n",
            "          0.1961,  0.2032,  0.0281, -0.1479, -0.0361,  0.2675, -0.3614, -0.0546,\n",
            "         -0.4578, -0.3198, -0.4100,  0.2707, -0.1487, -0.1784,  0.4889,  0.3894,\n",
            "          0.2285,  0.1103, -0.3950,  0.4790,  0.0953,  0.2588,  0.4544,  0.1150,\n",
            "         -0.0315,  0.3030,  0.1079,  0.2355,  0.5207, -0.2960, -0.0433,  0.1276,\n",
            "         -0.0181, -0.2735,  0.0898, -0.2159, -0.0953, -0.2945, -0.2161, -0.1911,\n",
            "         -0.1739,  0.1180, -0.2545, -0.3166, -0.1282, -0.3895,  0.1122,  0.3589],\n",
            "        [-0.2589, -0.2469,  0.1237, -0.2656, -0.1537, -0.0151,  0.2167, -0.5911,\n",
            "          0.1284,  0.0696,  0.2117,  0.5167, -0.4412,  0.2946, -0.2317, -0.2971,\n",
            "         -0.1725,  0.2483, -0.3362,  0.0771,  0.5051, -0.0971, -0.0750, -0.2659,\n",
            "          0.0607,  0.3819,  0.6214, -0.0418,  0.1011, -0.3117, -0.0244, -0.1651,\n",
            "         -0.1372,  0.2477,  0.3415, -0.4165, -0.2773,  0.1267, -0.3171,  0.2146,\n",
            "         -0.2393, -0.2032,  0.2508, -0.3116,  0.0676,  0.4430,  0.0833, -0.0202,\n",
            "          0.3365, -0.5741, -0.1657, -0.2390,  0.2034, -0.1246, -0.0453,  0.0521,\n",
            "          0.1982, -0.0360,  0.0684,  0.5519, -0.0645,  0.2960, -0.1621, -0.1374],\n",
            "        [ 0.0643,  0.0840,  0.0135,  0.2405, -0.2905,  0.0072, -0.1800, -0.2811,\n",
            "          0.6491, -0.3990, -0.1834, -0.1732, -0.2995, -0.2833,  0.3853,  0.5969,\n",
            "         -0.2624, -0.3733,  0.0380,  0.2774, -0.4332,  0.0487, -0.4543, -0.0128,\n",
            "          0.4511, -0.3258,  0.4195,  0.0421, -0.0465,  0.0037,  0.3359, -0.0250,\n",
            "          0.2109, -0.4825,  0.3148, -0.4608, -0.5443, -0.0117,  0.4096,  0.2020,\n",
            "          0.1133,  0.4536, -0.1912, -0.3194, -0.1636,  0.0873, -0.2998,  0.2743,\n",
            "          0.2108,  0.0121,  0.0390,  0.2100, -0.1462, -0.0240, -0.1451, -0.2483,\n",
            "          0.1557,  0.6098, -0.3399,  0.4758, -0.0213, -0.2542,  0.0229,  0.3355],\n",
            "        [ 0.3806, -0.2400,  0.2748, -0.1050, -0.1273,  0.1802, -0.3659,  0.4239,\n",
            "         -0.1626,  0.7444, -0.0588,  0.2822, -0.3510, -0.2387, -0.3022,  0.0352,\n",
            "         -0.3263,  0.2540,  0.5637, -0.1955, -0.1305,  0.1814,  0.1797,  0.0838,\n",
            "          0.7182, -0.2148,  0.2286, -0.3209, -0.3754, -0.3359, -0.0989,  0.1945,\n",
            "          0.0451,  0.3529, -0.2652,  0.0748,  0.0596,  0.1759, -0.3958, -0.1789,\n",
            "          0.2820, -0.1651, -0.0926, -0.3813, -0.3102, -0.2149, -0.1343,  0.5080,\n",
            "         -0.0926, -0.1527,  0.2410, -0.0419, -0.2722, -0.2764,  0.3645,  0.1907,\n",
            "          0.4242, -0.0288, -0.4065, -0.4792,  0.1985, -0.1462, -0.3395,  0.0492],\n",
            "        [-0.0131,  0.4148,  0.2106, -0.1979,  0.2518,  0.4873,  0.6436,  0.0049,\n",
            "          0.0077, -0.2141,  0.0278,  0.2382, -0.1426,  0.4233,  0.0931, -0.1520,\n",
            "         -0.0382,  0.2354, -0.5366, -0.0952, -0.1048,  0.5676,  0.1257, -0.0544,\n",
            "         -0.1926,  0.2119,  0.3112,  0.4582, -0.2340,  0.0477, -0.0107,  0.1465,\n",
            "          0.2674, -0.1892,  0.2509, -0.3145,  0.5475,  0.0798, -0.0547, -0.1752,\n",
            "         -0.1035, -0.3917, -0.4469,  0.3617, -0.0604,  0.0423, -0.2743, -0.3987,\n",
            "          0.2924, -0.0880, -0.3181,  0.3656,  0.1541, -0.2254,  0.2393, -0.0009,\n",
            "         -0.5375, -0.4602, -0.2824, -0.2962,  0.0791,  0.1693, -0.3899,  0.2292],\n",
            "        [-0.1065,  0.2388,  0.3668,  0.0520,  0.2438,  0.4262, -0.3088,  0.3092,\n",
            "         -0.3581, -0.0162, -0.1873, -0.6480,  0.0658, -0.0076, -0.0651, -0.2279,\n",
            "         -0.1591, -0.3658,  0.2702, -0.1256,  0.3717, -0.0631,  0.6068,  0.2306,\n",
            "          0.3186, -0.1945,  0.1119, -0.0837,  0.4416,  0.1159,  0.0039, -0.4484,\n",
            "          0.0300,  0.0141, -0.1354,  0.4818, -0.3507,  0.3639, -0.6035, -0.1488,\n",
            "          0.1982,  0.5106,  0.4761,  0.3878, -0.3818,  0.1828,  0.4818, -0.0568,\n",
            "          0.0948, -0.0552,  0.0173, -0.1917,  0.1076,  0.1397, -0.0019, -0.1456,\n",
            "         -0.3265, -0.3887,  0.4588, -0.0376, -0.2803,  0.2622, -0.0330,  0.3657],\n",
            "        [-0.4436,  0.2569,  0.4888, -0.0798, -0.1272, -0.2749, -0.5154,  0.0901,\n",
            "          0.3559,  0.0711, -0.1508, -0.2504, -0.0596, -0.4531, -0.1076, -0.3539,\n",
            "          0.3245,  0.4478,  0.2251, -0.0337,  0.1531, -0.2204, -0.0325,  0.1357,\n",
            "         -0.1900,  0.4132, -0.4697,  0.0878, -0.2538,  0.2314,  0.2822, -0.3578,\n",
            "          0.1401, -0.0543,  0.1189,  0.4520,  0.4421, -0.0258,  0.5467,  0.1965,\n",
            "          0.0672,  0.5499,  0.1592,  0.3196, -0.4161, -0.0223,  0.1397, -0.6110,\n",
            "         -0.0767, -0.5680,  0.0145,  0.0637, -0.0254, -0.1578, -0.1610,  0.1830,\n",
            "         -0.5137, -0.1805, -0.1943, -0.0908,  0.0646, -0.1611,  0.3578, -0.4623],\n",
            "        [-0.2485, -0.5342, -0.3538, -0.0643, -0.0318,  0.4030,  0.2062,  0.2285,\n",
            "          0.0375,  0.3753,  0.1555,  0.4745,  0.3716,  0.3126, -0.0760, -0.1355,\n",
            "          0.4074, -0.4069, -0.6798, -0.0380, -0.0105, -0.3847, -0.4427,  0.1289,\n",
            "         -0.0839, -0.2499,  0.3393,  0.3938,  0.2010,  0.4013, -0.2647,  0.2321,\n",
            "         -0.1575, -0.1549,  0.4176, -0.2005, -0.4055,  0.1309, -0.3744,  0.1677,\n",
            "         -0.0182, -0.0834,  0.3680, -0.2407,  0.4202,  0.4715, -0.1101, -0.0351,\n",
            "         -0.3506,  0.1262, -0.3049,  0.1735, -0.1929,  0.0964,  0.2148, -0.1654,\n",
            "         -0.2129,  0.6099, -0.6100, -0.3240, -0.2011,  0.1117,  0.3958,  0.2225],\n",
            "        [-0.3579, -0.0925, -0.3898, -0.0037, -0.3149, -0.1067,  0.2508,  0.5119,\n",
            "          0.0583,  0.2892, -0.0684,  0.2014,  0.2080, -0.2285,  0.4094, -0.3651,\n",
            "         -0.3248, -0.3126, -0.0402, -0.2257,  0.0683, -0.3994, -0.0757,  0.2163,\n",
            "         -0.4750, -0.4265,  0.1479, -0.2299,  0.0318, -0.2250, -0.2049, -0.0837,\n",
            "         -0.2337, -0.1615, -0.2787,  0.1675,  0.2855, -0.5003,  0.5117,  0.0864,\n",
            "          0.1077,  0.1795, -0.3686, -0.2077, -0.3508,  0.2599,  0.1342,  0.0562,\n",
            "          0.2391,  0.1329,  0.2114, -0.0553, -0.0870, -0.2656, -0.6173,  0.1334,\n",
            "          0.5592, -0.3554,  0.4938, -0.0524, -0.0775,  0.2071, -0.0757,  0.2647],\n",
            "        [ 0.5404,  0.4038,  0.0707,  0.1897,  0.1366, -0.4327,  0.4436,  0.1297,\n",
            "         -0.6819, -0.2711, -0.2303, -0.4418,  0.1824,  0.5328, -0.4201, -0.3270,\n",
            "         -0.1698,  0.1879,  0.3288, -0.2598,  0.0073,  0.0351,  0.1642,  0.0828,\n",
            "         -0.4026,  0.0585, -0.2841,  0.3527,  0.1135, -0.3924,  0.1353, -0.0149,\n",
            "          0.0474, -0.1746, -0.4192, -0.1335,  0.1683, -0.2461, -0.1822,  0.1240,\n",
            "          0.2327, -0.4580,  0.1878, -0.2670,  0.3517, -0.1416,  0.0782,  0.5659,\n",
            "          0.4559,  0.4403,  0.4605, -0.2494,  0.0137,  0.2238, -0.2336,  0.0346,\n",
            "         -0.0032,  0.1435, -0.0314,  0.1979, -0.1728,  0.0175,  0.2697, -0.0858]],\n",
            "       device='cuda:0', requires_grad=True)\n"
          ]
        }
      ]
    },
    {
      "cell_type": "code",
      "source": [
        "test_x = mnist_test.data.view(-1,784).float().to(device)\n",
        "test_y = mnist_test.targets.to(device)\n",
        "model_sig.evaluation(test_x,test_y)\n",
        "model_relu.evaluation(test_x,test_y)"
      ],
      "metadata": {
        "colab": {
          "base_uri": "https://localhost:8080/"
        },
        "id": "LEerF_yoZ-sE",
        "outputId": "97c42d65-1b3d-4bad-b7fe-59e0757feeb9"
      },
      "execution_count": null,
      "outputs": [
        {
          "output_type": "stream",
          "name": "stdout",
          "text": [
            "Accuracy 0.9077000021934509\n",
            "Accuracy 0.9732999801635742\n"
          ]
        },
        {
          "output_type": "execute_result",
          "data": {
            "text/plain": [
              "0.9732999801635742"
            ]
          },
          "metadata": {},
          "execution_count": 12
        }
      ]
    },
    {
      "cell_type": "markdown",
      "source": [
        "### Activation function"
      ],
      "metadata": {
        "id": "P_uQNYQypBba"
      }
    },
    {
      "cell_type": "code",
      "source": [
        "x_grid = np.linspace(-5,5,200).reshape(-1,1)\n",
        "\n",
        "plt.figure(figsize=(10,10))\n",
        "plt.plot(x_grid,F.relu(torch.tensor(x_grid)), label='ReLU')\n",
        "plt.plot(x_grid,F.tanh(torch.tensor(x_grid)), label='tanh')\n",
        "plt.plot(x_grid,F.sigmoid(torch.tensor(x_grid)), label='sigmoid')\n",
        "plt.plot(x_grid,F.softplus(torch.tensor(x_grid)), label='softplus')\n",
        "plt.plot(x_grid,F.softsign(torch.tensor(x_grid)), label='softsign')\n",
        "plt.plot(x_grid,F.elu(torch.tensor(x_grid)), label='ELU')\n",
        "plt.plot(x_grid,F.leaky_relu(torch.tensor(x_grid)), label='LReLU')\n",
        "plt.xlim(-4,4)\n",
        "plt.ylim(-1,2)\n",
        "plt.legend()"
      ],
      "metadata": {
        "colab": {
          "base_uri": "https://localhost:8080/",
          "height": 687
        },
        "id": "-SfZ-OH8o9uS",
        "outputId": "6a183565-8aa6-4b4f-b25e-1759ccaeb614"
      },
      "execution_count": null,
      "outputs": [
        {
          "output_type": "stream",
          "name": "stderr",
          "text": [
            "/usr/local/lib/python3.7/dist-packages/torch/nn/functional.py:1933: UserWarning: nn.functional.tanh is deprecated. Use torch.tanh instead.\n",
            "  warnings.warn(\"nn.functional.tanh is deprecated. Use torch.tanh instead.\")\n",
            "/usr/local/lib/python3.7/dist-packages/torch/nn/functional.py:1944: UserWarning: nn.functional.sigmoid is deprecated. Use torch.sigmoid instead.\n",
            "  warnings.warn(\"nn.functional.sigmoid is deprecated. Use torch.sigmoid instead.\")\n"
          ]
        },
        {
          "output_type": "execute_result",
          "data": {
            "text/plain": [
              "<matplotlib.legend.Legend at 0x7faf5986f590>"
            ]
          },
          "metadata": {},
          "execution_count": 13
        },
        {
          "output_type": "display_data",
          "data": {
            "text/plain": [
              "<Figure size 720x720 with 1 Axes>"
            ],
            "image/png": "[encoded data removed]"
          },
          "metadata": {
            "needs_background": "light"
          }
        }
      ]
    },
    {
      "cell_type": "markdown",
      "source": [
        "### Mini-batch Gradient Descent"
      ],
      "metadata": {
        "id": "3bup_WMdAuxG"
      }
    },
    {
      "cell_type": "markdown",
      "source": [
        "##### Loss with **Stochastic Gradient Descent**"
      ],
      "metadata": {
        "id": "H1nbvt3hkgg2"
      }
    },
    {
      "cell_type": "code",
      "source": [
        "fig = plt.figure(figsize=(10,5))\n",
        "ax = fig.add_subplot(2,1,1)\n",
        "ax.plot(model_sig.losses)\n",
        "ax = fig.add_subplot(2,1,2)\n",
        "ax.plot(model_sig.losses[:1000])"
      ],
      "metadata": {
        "colab": {
          "base_uri": "https://localhost:8080/",
          "height": 340
        },
        "id": "YKUuG5nWei4s",
        "outputId": "12acd2b4-b395-4778-9d71-945152f38551"
      },
      "execution_count": null,
      "outputs": [
        {
          "output_type": "execute_result",
          "data": {
            "text/plain": [
              "[<matplotlib.lines.Line2D at 0x7fafc373cf90>]"
            ]
          },
          "metadata": {},
          "execution_count": 14
        },
        {
          "output_type": "display_data",
          "data": {
            "text/plain": [
              "<Figure size 720x360 with 2 Axes>"
            ],
            "image/png": "[encoded data removed]"
          },
          "metadata": {
            "needs_background": "light"
          }
        }
      ]
    },
    {
      "cell_type": "code",
      "source": [
        "fig = plt.figure(figsize=(10,5))\n",
        "ax = fig.add_subplot(2,1,1)\n",
        "ax.plot(model_relu.losses)\n",
        "ax = fig.add_subplot(2,1,2)\n",
        "ax.plot(model_relu.losses[:1000])"
      ],
      "metadata": {
        "colab": {
          "base_uri": "https://localhost:8080/",
          "height": 338
        },
        "id": "LlKMezt0gAce",
        "outputId": "79f2cfc0-b5d0-4e22-bf20-4f9e02842a40"
      },
      "execution_count": null,
      "outputs": [
        {
          "output_type": "execute_result",
          "data": {
            "text/plain": [
              "[<matplotlib.lines.Line2D at 0x7fafbc4a0650>]"
            ]
          },
          "metadata": {},
          "execution_count": 15
        },
        {
          "output_type": "display_data",
          "data": {
            "text/plain": [
              "<Figure size 720x360 with 2 Axes>"
            ],
            "image/png": "[encoded data removed]"
          },
          "metadata": {
            "needs_background": "light"
          }
        }
      ]
    },
    {
      "cell_type": "markdown",
      "source": [
        "##### Loss with **Batch Gradient Descent**"
      ],
      "metadata": {
        "id": "QVSzOWp5lBYZ"
      }
    },
    {
      "cell_type": "code",
      "source": [
        "batch_size = 60000\n",
        "\n",
        "train_loader = torch.utils.data.DataLoader(dataset=mnist_train, batch_size=batch_size, shuffle=True, drop_last=True)\n",
        "test_loader = torch.utils.data.DataLoader(dataset=mnist_test, shuffle=True, drop_last=True)\n",
        "\n",
        "model_relu_bat = Classifier(input_dim = 784, hidden_dim=(256,128,64), output_dim=10,device=device, activation='relu')\n",
        "\n",
        "model_relu_bat.fit(train_loader)\n",
        "\n",
        "test_x = mnist_test.data.view(-1,784).float().to(device)\n",
        "test_y = mnist_test.targets.to(device)\n",
        "model_relu_bat.evaluation(test_x,test_y)"
      ],
      "metadata": {
        "colab": {
          "base_uri": "https://localhost:8080/"
        },
        "id": "U5JzoK3WTUis",
        "outputId": "c804b234-d339-4eac-e71b-418923bd0f0e"
      },
      "execution_count": null,
      "outputs": [
        {
          "output_type": "stream",
          "name": "stderr",
          "text": [
            "100%|██████████| 1/1 [00:04<00:00,  4.91s/it]\n"
          ]
        },
        {
          "output_type": "stream",
          "name": "stdout",
          "text": [
            "Epoch 1 Loss:  2.339146852493286\n"
          ]
        },
        {
          "output_type": "stream",
          "name": "stderr",
          "text": [
            "100%|██████████| 1/1 [00:04<00:00,  4.56s/it]\n"
          ]
        },
        {
          "output_type": "stream",
          "name": "stdout",
          "text": [
            "Epoch 2 Loss:  2.3386433124542236\n"
          ]
        },
        {
          "output_type": "stream",
          "name": "stderr",
          "text": [
            "100%|██████████| 1/1 [00:04<00:00,  4.63s/it]\n"
          ]
        },
        {
          "output_type": "stream",
          "name": "stdout",
          "text": [
            "Epoch 3 Loss:  2.3381402492523193\n"
          ]
        },
        {
          "output_type": "stream",
          "name": "stderr",
          "text": [
            "100%|██████████| 1/1 [00:04<00:00,  4.59s/it]\n"
          ]
        },
        {
          "output_type": "stream",
          "name": "stdout",
          "text": [
            "Epoch 4 Loss:  2.3376386165618896\n"
          ]
        },
        {
          "output_type": "stream",
          "name": "stderr",
          "text": [
            "100%|██████████| 1/1 [00:04<00:00,  4.61s/it]\n"
          ]
        },
        {
          "output_type": "stream",
          "name": "stdout",
          "text": [
            "Epoch 5 Loss:  2.337137460708618\n"
          ]
        },
        {
          "output_type": "stream",
          "name": "stderr",
          "text": [
            "100%|██████████| 1/1 [00:04<00:00,  4.67s/it]\n"
          ]
        },
        {
          "output_type": "stream",
          "name": "stdout",
          "text": [
            "Epoch 6 Loss:  2.3366377353668213\n"
          ]
        },
        {
          "output_type": "stream",
          "name": "stderr",
          "text": [
            "100%|██████████| 1/1 [00:04<00:00,  4.62s/it]\n"
          ]
        },
        {
          "output_type": "stream",
          "name": "stdout",
          "text": [
            "Epoch 7 Loss:  2.336139678955078\n"
          ]
        },
        {
          "output_type": "stream",
          "name": "stderr",
          "text": [
            "100%|██████████| 1/1 [00:04<00:00,  4.61s/it]\n"
          ]
        },
        {
          "output_type": "stream",
          "name": "stdout",
          "text": [
            "Epoch 8 Loss:  2.3356423377990723\n"
          ]
        },
        {
          "output_type": "stream",
          "name": "stderr",
          "text": [
            "100%|██████████| 1/1 [00:04<00:00,  4.60s/it]\n"
          ]
        },
        {
          "output_type": "stream",
          "name": "stdout",
          "text": [
            "Epoch 9 Loss:  2.3351454734802246\n"
          ]
        },
        {
          "output_type": "stream",
          "name": "stderr",
          "text": [
            "100%|██████████| 1/1 [00:04<00:00,  4.63s/it]"
          ]
        },
        {
          "output_type": "stream",
          "name": "stdout",
          "text": [
            "Epoch 10 Loss:  2.3346502780914307\n",
            "Accuracy 0.0843999981880188\n"
          ]
        },
        {
          "output_type": "stream",
          "name": "stderr",
          "text": [
            "\n"
          ]
        },
        {
          "output_type": "execute_result",
          "data": {
            "text/plain": [
              "0.0843999981880188"
            ]
          },
          "metadata": {},
          "execution_count": 16
        }
      ]
    },
    {
      "cell_type": "code",
      "source": [
        "fig = plt.figure(figsize=(10,5))\n",
        "ax = fig.add_subplot(2,1,1)\n",
        "ax.plot(model_relu_bat.losses)\n",
        "ax = fig.add_subplot(2,1,2)\n",
        "ax.plot(model_relu_bat.losses[:1000])"
      ],
      "metadata": {
        "colab": {
          "base_uri": "https://localhost:8080/",
          "height": 338
        },
        "id": "NJVL0wizTh1o",
        "outputId": "c0b19ac1-30b0-46a0-f40f-6b029a466248"
      },
      "execution_count": null,
      "outputs": [
        {
          "output_type": "execute_result",
          "data": {
            "text/plain": [
              "[<matplotlib.lines.Line2D at 0x7faf5811dd90>]"
            ]
          },
          "metadata": {},
          "execution_count": 17
        },
        {
          "output_type": "display_data",
          "data": {
            "text/plain": [
              "<Figure size 720x360 with 2 Axes>"
            ],
            "image/png": "[encoded data removed]"
          },
          "metadata": {
            "needs_background": "light"
          }
        }
      ]
    },
    {
      "cell_type": "markdown",
      "source": [
        "##### Loss with **Mini-Batch Gradient Descent**"
      ],
      "metadata": {
        "id": "10mix5v5W7_x"
      }
    },
    {
      "cell_type": "code",
      "source": [
        "batch_size = 128\n",
        "\n",
        "train_loader = torch.utils.data.DataLoader(dataset=mnist_train, batch_size=batch_size, shuffle=True, drop_last=True)"
      ],
      "metadata": {
        "id": "92VqBGV8SRNR"
      },
      "execution_count": null,
      "outputs": []
    },
    {
      "cell_type": "code",
      "source": [
        "model_relu_mini = Classifier(input_dim = 784, hidden_dim=(256,128,64), output_dim=10,device=device, activation='relu')\n",
        "\n",
        "model_relu_mini.fit(train_loader)"
      ],
      "metadata": {
        "colab": {
          "base_uri": "https://localhost:8080/"
        },
        "id": "3TElGe1lSkms",
        "outputId": "5b80a759-dfbc-4827-871a-1e570d2880a5"
      },
      "execution_count": null,
      "outputs": [
        {
          "output_type": "stream",
          "name": "stderr",
          "text": [
            "100%|██████████| 468/468 [00:05<00:00, 88.16it/s]\n"
          ]
        },
        {
          "output_type": "stream",
          "name": "stdout",
          "text": [
            "Epoch 1 Loss:  2.2570529585210686\n"
          ]
        },
        {
          "output_type": "stream",
          "name": "stderr",
          "text": [
            "100%|██████████| 468/468 [00:05<00:00, 87.92it/s]\n"
          ]
        },
        {
          "output_type": "stream",
          "name": "stdout",
          "text": [
            "Epoch 2 Loss:  2.002778268013245\n"
          ]
        },
        {
          "output_type": "stream",
          "name": "stderr",
          "text": [
            "100%|██████████| 468/468 [00:05<00:00, 87.28it/s]\n"
          ]
        },
        {
          "output_type": "stream",
          "name": "stdout",
          "text": [
            "Epoch 3 Loss:  1.6985209668293977\n"
          ]
        },
        {
          "output_type": "stream",
          "name": "stderr",
          "text": [
            "100%|██████████| 468/468 [00:05<00:00, 87.54it/s]\n"
          ]
        },
        {
          "output_type": "stream",
          "name": "stdout",
          "text": [
            "Epoch 4 Loss:  1.3596406016084883\n"
          ]
        },
        {
          "output_type": "stream",
          "name": "stderr",
          "text": [
            "100%|██████████| 468/468 [00:05<00:00, 87.57it/s]\n"
          ]
        },
        {
          "output_type": "stream",
          "name": "stdout",
          "text": [
            "Epoch 5 Loss:  1.0768180708599906\n"
          ]
        },
        {
          "output_type": "stream",
          "name": "stderr",
          "text": [
            "100%|██████████| 468/468 [00:05<00:00, 87.61it/s]\n"
          ]
        },
        {
          "output_type": "stream",
          "name": "stdout",
          "text": [
            "Epoch 6 Loss:  0.8804528556573086\n"
          ]
        },
        {
          "output_type": "stream",
          "name": "stderr",
          "text": [
            "100%|██████████| 468/468 [00:05<00:00, 88.31it/s]\n"
          ]
        },
        {
          "output_type": "stream",
          "name": "stdout",
          "text": [
            "Epoch 7 Loss:  0.7494022271826736\n"
          ]
        },
        {
          "output_type": "stream",
          "name": "stderr",
          "text": [
            "100%|██████████| 468/468 [00:05<00:00, 87.52it/s]\n"
          ]
        },
        {
          "output_type": "stream",
          "name": "stdout",
          "text": [
            "Epoch 8 Loss:  0.6597581848374798\n"
          ]
        },
        {
          "output_type": "stream",
          "name": "stderr",
          "text": [
            "100%|██████████| 468/468 [00:05<00:00, 87.49it/s]\n"
          ]
        },
        {
          "output_type": "stream",
          "name": "stdout",
          "text": [
            "Epoch 9 Loss:  0.5957504752227384\n"
          ]
        },
        {
          "output_type": "stream",
          "name": "stderr",
          "text": [
            "100%|██████████| 468/468 [00:05<00:00, 87.66it/s]"
          ]
        },
        {
          "output_type": "stream",
          "name": "stdout",
          "text": [
            "Epoch 10 Loss:  0.5477087746063868\n"
          ]
        },
        {
          "output_type": "stream",
          "name": "stderr",
          "text": [
            "\n"
          ]
        }
      ]
    },
    {
      "cell_type": "code",
      "source": [
        "test_x = mnist_test.data.view(-1,784).float().to(device)\n",
        "test_y = mnist_test.targets.to(device)\n",
        "print(model_relu_mini.evaluation(test_x,test_y))"
      ],
      "metadata": {
        "colab": {
          "base_uri": "https://localhost:8080/"
        },
        "id": "VIGyfzCKlihG",
        "outputId": "db4029f4-0218-426d-fb20-cbb41ec3211b"
      },
      "execution_count": null,
      "outputs": [
        {
          "output_type": "stream",
          "name": "stdout",
          "text": [
            "Accuracy 0.8687999844551086\n",
            "0.8687999844551086\n"
          ]
        }
      ]
    },
    {
      "cell_type": "code",
      "source": [
        "fig = plt.figure(figsize=(10,5))\n",
        "ax = fig.add_subplot(2,1,1)\n",
        "ax.plot(model_relu_mini.losses)\n",
        "ax = fig.add_subplot(2,1,2)\n",
        "ax.plot(model_relu_mini.losses[:1000])"
      ],
      "metadata": {
        "colab": {
          "base_uri": "https://localhost:8080/",
          "height": 339
        },
        "id": "snGAlVNtSwCt",
        "outputId": "112f7da4-8668-488b-9ed7-e0de652ad8f2"
      },
      "execution_count": null,
      "outputs": [
        {
          "output_type": "execute_result",
          "data": {
            "text/plain": [
              "[<matplotlib.lines.Line2D at 0x7faf580c00d0>]"
            ]
          },
          "metadata": {},
          "execution_count": 21
        },
        {
          "output_type": "display_data",
          "data": {
            "text/plain": [
              "<Figure size 720x360 with 2 Axes>"
            ],
            "image/png": "[encoded data removed]"
          },
          "metadata": {
            "needs_background": "light"
          }
        }
      ]
    },
    {
      "cell_type": "markdown",
      "source": [
        "### Overfitting & Dropout\n",
        "![dropout.PNG](data:image/png;base64,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)"
      ],
      "metadata": {
        "id": "vYf-id4NaA38"
      }
    },
    {
      "cell_type": "markdown",
      "source": [
        "##### Overfitting"
      ],
      "metadata": {
        "id": "Ibmeh4halp9z"
      }
    },
    {
      "cell_type": "code",
      "source": [
        "rotate_transforms = torchvision.transforms.Compose([torchvision.transforms.RandomRotation(0.2),\n",
        "                                                    torchvision.transforms.Resize(35),\n",
        "                                                    torchvision.transforms.CenterCrop(28),\n",
        "                                                    torchvision.transforms.RandomHorizontalFlip(),\n",
        "                                                    torchvision.transforms.ToTensor()])\n",
        "\n",
        "rotate_mnist_train = torchvision.datasets.MNIST(root='MNIST_data/', train=True, transform=rotate_transforms, download=True)\n",
        "rotate_mnist_test = torchvision.datasets.MNIST(root='MNIST_data/', train=False, transform=rotate_transforms, download=True)\n",
        "\n",
        "batch_size = 128\n",
        "\n",
        "rotate_train_loader = torch.utils.data.DataLoader(dataset=rotate_mnist_train, batch_size=batch_size, shuffle=True, drop_last=True)\n",
        "rotate_test_loader = torch.utils.data.DataLoader(dataset=rotate_mnist_test, shuffle=True, drop_last=True)"
      ],
      "metadata": {
        "id": "PYM31OrJT3ds"
      },
      "execution_count": null,
      "outputs": []
    },
    {
      "cell_type": "code",
      "source": [
        "overfitting_model = Classifier(input_dim = 784, hidden_dim=(1024,1024,1024), output_dim=10, device=device, activation='relu', epochs=75)\n",
        "\n",
        "overfitting_model.fit(rotate_train_loader)"
      ],
      "metadata": {
        "colab": {
          "base_uri": "https://localhost:8080/"
        },
        "id": "MBjU43FZdaHU",
        "outputId": "e815f68f-3cce-4897-a279-fd24ade52512"
      },
      "execution_count": null,
      "outputs": [
        {
          "output_type": "stream",
          "name": "stderr",
          "text": [
            "100%|██████████| 468/468 [00:19<00:00, 24.20it/s]\n"
          ]
        },
        {
          "output_type": "stream",
          "name": "stdout",
          "text": [
            "Epoch 1 Loss:  2.159770093412481\n"
          ]
        },
        {
          "output_type": "stream",
          "name": "stderr",
          "text": [
            "100%|██████████| 468/468 [00:15<00:00, 30.87it/s]\n"
          ]
        },
        {
          "output_type": "stream",
          "name": "stdout",
          "text": [
            "Epoch 2 Loss:  1.8520122656964848\n"
          ]
        },
        {
          "output_type": "stream",
          "name": "stderr",
          "text": [
            "100%|██████████| 468/468 [00:15<00:00, 30.91it/s]\n"
          ]
        },
        {
          "output_type": "stream",
          "name": "stdout",
          "text": [
            "Epoch 3 Loss:  1.5005533807298057\n"
          ]
        },
        {
          "output_type": "stream",
          "name": "stderr",
          "text": [
            "100%|██████████| 468/468 [00:15<00:00, 30.74it/s]\n"
          ]
        },
        {
          "output_type": "stream",
          "name": "stdout",
          "text": [
            "Epoch 4 Loss:  1.1906173770499027\n"
          ]
        },
        {
          "output_type": "stream",
          "name": "stderr",
          "text": [
            "100%|██████████| 468/468 [00:15<00:00, 29.69it/s]\n"
          ]
        },
        {
          "output_type": "stream",
          "name": "stdout",
          "text": [
            "Epoch 5 Loss:  0.9826352206560282\n"
          ]
        },
        {
          "output_type": "stream",
          "name": "stderr",
          "text": [
            "100%|██████████| 468/468 [00:15<00:00, 30.81it/s]\n"
          ]
        },
        {
          "output_type": "stream",
          "name": "stdout",
          "text": [
            "Epoch 6 Loss:  0.8546195314225987\n"
          ]
        },
        {
          "output_type": "stream",
          "name": "stderr",
          "text": [
            "100%|██████████| 468/468 [00:15<00:00, 30.93it/s]\n"
          ]
        },
        {
          "output_type": "stream",
          "name": "stdout",
          "text": [
            "Epoch 7 Loss:  0.7723872405596268\n"
          ]
        },
        {
          "output_type": "stream",
          "name": "stderr",
          "text": [
            "100%|██████████| 468/468 [00:15<00:00, 30.77it/s]\n"
          ]
        },
        {
          "output_type": "stream",
          "name": "stdout",
          "text": [
            "Epoch 8 Loss:  0.715168787055036\n"
          ]
        },
        {
          "output_type": "stream",
          "name": "stderr",
          "text": [
            "100%|██████████| 468/468 [00:15<00:00, 30.69it/s]\n"
          ]
        },
        {
          "output_type": "stream",
          "name": "stdout",
          "text": [
            "Epoch 9 Loss:  0.6733354337067685\n"
          ]
        },
        {
          "output_type": "stream",
          "name": "stderr",
          "text": [
            "100%|██████████| 468/468 [00:15<00:00, 30.88it/s]\n"
          ]
        },
        {
          "output_type": "stream",
          "name": "stdout",
          "text": [
            "Epoch 10 Loss:  0.6411355107258527\n"
          ]
        },
        {
          "output_type": "stream",
          "name": "stderr",
          "text": [
            "100%|██████████| 468/468 [00:15<00:00, 30.82it/s]\n"
          ]
        },
        {
          "output_type": "stream",
          "name": "stdout",
          "text": [
            "Epoch 11 Loss:  0.6155190730196798\n"
          ]
        },
        {
          "output_type": "stream",
          "name": "stderr",
          "text": [
            "100%|██████████| 468/468 [00:15<00:00, 30.71it/s]\n"
          ]
        },
        {
          "output_type": "stream",
          "name": "stdout",
          "text": [
            "Epoch 12 Loss:  0.593760571991786\n"
          ]
        },
        {
          "output_type": "stream",
          "name": "stderr",
          "text": [
            "100%|██████████| 468/468 [00:15<00:00, 30.67it/s]\n"
          ]
        },
        {
          "output_type": "stream",
          "name": "stdout",
          "text": [
            "Epoch 13 Loss:  0.5756273301493409\n"
          ]
        },
        {
          "output_type": "stream",
          "name": "stderr",
          "text": [
            "100%|██████████| 468/468 [00:15<00:00, 30.83it/s]\n"
          ]
        },
        {
          "output_type": "stream",
          "name": "stdout",
          "text": [
            "Epoch 14 Loss:  0.5598803256821429\n"
          ]
        },
        {
          "output_type": "stream",
          "name": "stderr",
          "text": [
            "100%|██████████| 468/468 [00:15<00:00, 30.96it/s]\n"
          ]
        },
        {
          "output_type": "stream",
          "name": "stdout",
          "text": [
            "Epoch 15 Loss:  0.5457145616284802\n"
          ]
        },
        {
          "output_type": "stream",
          "name": "stderr",
          "text": [
            "100%|██████████| 468/468 [00:15<00:00, 30.83it/s]\n"
          ]
        },
        {
          "output_type": "stream",
          "name": "stdout",
          "text": [
            "Epoch 16 Loss:  0.533064627303527\n"
          ]
        },
        {
          "output_type": "stream",
          "name": "stderr",
          "text": [
            "100%|██████████| 468/468 [00:15<00:00, 30.94it/s]\n"
          ]
        },
        {
          "output_type": "stream",
          "name": "stdout",
          "text": [
            "Epoch 17 Loss:  0.521835442345876\n"
          ]
        },
        {
          "output_type": "stream",
          "name": "stderr",
          "text": [
            "100%|██████████| 468/468 [00:15<00:00, 31.01it/s]\n"
          ]
        },
        {
          "output_type": "stream",
          "name": "stdout",
          "text": [
            "Epoch 18 Loss:  0.5120578121043678\n"
          ]
        },
        {
          "output_type": "stream",
          "name": "stderr",
          "text": [
            "100%|██████████| 468/468 [00:15<00:00, 30.69it/s]\n"
          ]
        },
        {
          "output_type": "stream",
          "name": "stdout",
          "text": [
            "Epoch 19 Loss:  0.5018182314741306\n"
          ]
        },
        {
          "output_type": "stream",
          "name": "stderr",
          "text": [
            "100%|██████████| 468/468 [00:15<00:00, 30.80it/s]\n"
          ]
        },
        {
          "output_type": "stream",
          "name": "stdout",
          "text": [
            "Epoch 20 Loss:  0.4920204690633676\n"
          ]
        },
        {
          "output_type": "stream",
          "name": "stderr",
          "text": [
            "100%|██████████| 468/468 [00:15<00:00, 31.01it/s]\n"
          ]
        },
        {
          "output_type": "stream",
          "name": "stdout",
          "text": [
            "Epoch 21 Loss:  0.4835320754438384\n"
          ]
        },
        {
          "output_type": "stream",
          "name": "stderr",
          "text": [
            "100%|██████████| 468/468 [00:15<00:00, 30.91it/s]\n"
          ]
        },
        {
          "output_type": "stream",
          "name": "stdout",
          "text": [
            "Epoch 22 Loss:  0.4759940853358334\n"
          ]
        },
        {
          "output_type": "stream",
          "name": "stderr",
          "text": [
            "100%|██████████| 468/468 [00:15<00:00, 30.95it/s]\n"
          ]
        },
        {
          "output_type": "stream",
          "name": "stdout",
          "text": [
            "Epoch 23 Loss:  0.46874092786740035\n"
          ]
        },
        {
          "output_type": "stream",
          "name": "stderr",
          "text": [
            "100%|██████████| 468/468 [00:15<00:00, 30.87it/s]\n"
          ]
        },
        {
          "output_type": "stream",
          "name": "stdout",
          "text": [
            "Epoch 24 Loss:  0.4612037892270292\n"
          ]
        },
        {
          "output_type": "stream",
          "name": "stderr",
          "text": [
            "100%|██████████| 468/468 [00:15<00:00, 30.77it/s]\n"
          ]
        },
        {
          "output_type": "stream",
          "name": "stdout",
          "text": [
            "Epoch 25 Loss:  0.45526009161248165\n"
          ]
        },
        {
          "output_type": "stream",
          "name": "stderr",
          "text": [
            "100%|██████████| 468/468 [00:15<00:00, 30.85it/s]\n"
          ]
        },
        {
          "output_type": "stream",
          "name": "stdout",
          "text": [
            "Epoch 26 Loss:  0.4483329662655154\n"
          ]
        },
        {
          "output_type": "stream",
          "name": "stderr",
          "text": [
            "100%|██████████| 468/468 [00:15<00:00, 30.83it/s]\n"
          ]
        },
        {
          "output_type": "stream",
          "name": "stdout",
          "text": [
            "Epoch 27 Loss:  0.4423540521444928\n"
          ]
        },
        {
          "output_type": "stream",
          "name": "stderr",
          "text": [
            "100%|██████████| 468/468 [00:15<00:00, 30.82it/s]\n"
          ]
        },
        {
          "output_type": "stream",
          "name": "stdout",
          "text": [
            "Epoch 28 Loss:  0.43569765717555314\n"
          ]
        },
        {
          "output_type": "stream",
          "name": "stderr",
          "text": [
            "100%|██████████| 468/468 [00:15<00:00, 30.88it/s]\n"
          ]
        },
        {
          "output_type": "stream",
          "name": "stdout",
          "text": [
            "Epoch 29 Loss:  0.4297070489225224\n"
          ]
        },
        {
          "output_type": "stream",
          "name": "stderr",
          "text": [
            "100%|██████████| 468/468 [00:15<00:00, 30.67it/s]\n"
          ]
        },
        {
          "output_type": "stream",
          "name": "stdout",
          "text": [
            "Epoch 30 Loss:  0.4249851176690342\n"
          ]
        },
        {
          "output_type": "stream",
          "name": "stderr",
          "text": [
            "100%|██████████| 468/468 [00:15<00:00, 30.84it/s]\n"
          ]
        },
        {
          "output_type": "stream",
          "name": "stdout",
          "text": [
            "Epoch 31 Loss:  0.4186350279129468\n"
          ]
        },
        {
          "output_type": "stream",
          "name": "stderr",
          "text": [
            "100%|██████████| 468/468 [00:15<00:00, 30.82it/s]\n"
          ]
        },
        {
          "output_type": "stream",
          "name": "stdout",
          "text": [
            "Epoch 32 Loss:  0.4138892932325347\n"
          ]
        },
        {
          "output_type": "stream",
          "name": "stderr",
          "text": [
            "100%|██████████| 468/468 [00:15<00:00, 30.66it/s]\n"
          ]
        },
        {
          "output_type": "stream",
          "name": "stdout",
          "text": [
            "Epoch 33 Loss:  0.40860167374977696\n"
          ]
        },
        {
          "output_type": "stream",
          "name": "stderr",
          "text": [
            "100%|██████████| 468/468 [00:15<00:00, 30.82it/s]\n"
          ]
        },
        {
          "output_type": "stream",
          "name": "stdout",
          "text": [
            "Epoch 34 Loss:  0.4038212675378363\n"
          ]
        },
        {
          "output_type": "stream",
          "name": "stderr",
          "text": [
            "100%|██████████| 468/468 [00:15<00:00, 30.84it/s]\n"
          ]
        },
        {
          "output_type": "stream",
          "name": "stdout",
          "text": [
            "Epoch 35 Loss:  0.39862511622217983\n"
          ]
        },
        {
          "output_type": "stream",
          "name": "stderr",
          "text": [
            "100%|██████████| 468/468 [00:15<00:00, 30.71it/s]\n"
          ]
        },
        {
          "output_type": "stream",
          "name": "stdout",
          "text": [
            "Epoch 36 Loss:  0.3939847458695245\n"
          ]
        },
        {
          "output_type": "stream",
          "name": "stderr",
          "text": [
            "100%|██████████| 468/468 [00:15<00:00, 30.97it/s]\n"
          ]
        },
        {
          "output_type": "stream",
          "name": "stdout",
          "text": [
            "Epoch 37 Loss:  0.3892412847624375\n"
          ]
        },
        {
          "output_type": "stream",
          "name": "stderr",
          "text": [
            "100%|██████████| 468/468 [00:15<00:00, 30.91it/s]\n"
          ]
        },
        {
          "output_type": "stream",
          "name": "stdout",
          "text": [
            "Epoch 38 Loss:  0.3841945685955704\n"
          ]
        },
        {
          "output_type": "stream",
          "name": "stderr",
          "text": [
            "100%|██████████| 468/468 [00:15<00:00, 31.03it/s]\n"
          ]
        },
        {
          "output_type": "stream",
          "name": "stdout",
          "text": [
            "Epoch 39 Loss:  0.3798917575588084\n"
          ]
        },
        {
          "output_type": "stream",
          "name": "stderr",
          "text": [
            "100%|██████████| 468/468 [00:15<00:00, 30.81it/s]\n"
          ]
        },
        {
          "output_type": "stream",
          "name": "stdout",
          "text": [
            "Epoch 40 Loss:  0.37595945931015873\n"
          ]
        },
        {
          "output_type": "stream",
          "name": "stderr",
          "text": [
            "100%|██████████| 468/468 [00:15<00:00, 30.81it/s]\n"
          ]
        },
        {
          "output_type": "stream",
          "name": "stdout",
          "text": [
            "Epoch 41 Loss:  0.371490285341811\n"
          ]
        },
        {
          "output_type": "stream",
          "name": "stderr",
          "text": [
            "100%|██████████| 468/468 [00:15<00:00, 30.91it/s]\n"
          ]
        },
        {
          "output_type": "stream",
          "name": "stdout",
          "text": [
            "Epoch 42 Loss:  0.36720387258718157\n"
          ]
        },
        {
          "output_type": "stream",
          "name": "stderr",
          "text": [
            "100%|██████████| 468/468 [00:15<00:00, 30.87it/s]\n"
          ]
        },
        {
          "output_type": "stream",
          "name": "stdout",
          "text": [
            "Epoch 43 Loss:  0.36382511815326846\n"
          ]
        },
        {
          "output_type": "stream",
          "name": "stderr",
          "text": [
            "100%|██████████| 468/468 [00:15<00:00, 30.90it/s]\n"
          ]
        },
        {
          "output_type": "stream",
          "name": "stdout",
          "text": [
            "Epoch 44 Loss:  0.35998322267053473\n"
          ]
        },
        {
          "output_type": "stream",
          "name": "stderr",
          "text": [
            "100%|██████████| 468/468 [00:15<00:00, 30.97it/s]\n"
          ]
        },
        {
          "output_type": "stream",
          "name": "stdout",
          "text": [
            "Epoch 45 Loss:  0.3558501409541847\n"
          ]
        },
        {
          "output_type": "stream",
          "name": "stderr",
          "text": [
            "100%|██████████| 468/468 [00:15<00:00, 30.75it/s]\n"
          ]
        },
        {
          "output_type": "stream",
          "name": "stdout",
          "text": [
            "Epoch 46 Loss:  0.35234742468366254\n"
          ]
        },
        {
          "output_type": "stream",
          "name": "stderr",
          "text": [
            "100%|██████████| 468/468 [00:15<00:00, 30.88it/s]\n"
          ]
        },
        {
          "output_type": "stream",
          "name": "stdout",
          "text": [
            "Epoch 47 Loss:  0.3482599484805877\n"
          ]
        },
        {
          "output_type": "stream",
          "name": "stderr",
          "text": [
            "100%|██████████| 468/468 [00:15<00:00, 31.00it/s]\n"
          ]
        },
        {
          "output_type": "stream",
          "name": "stdout",
          "text": [
            "Epoch 48 Loss:  0.3448843109047311\n"
          ]
        },
        {
          "output_type": "stream",
          "name": "stderr",
          "text": [
            "100%|██████████| 468/468 [00:15<00:00, 31.10it/s]\n"
          ]
        },
        {
          "output_type": "stream",
          "name": "stdout",
          "text": [
            "Epoch 49 Loss:  0.3416484665348489\n"
          ]
        },
        {
          "output_type": "stream",
          "name": "stderr",
          "text": [
            "100%|██████████| 468/468 [00:15<00:00, 30.98it/s]\n"
          ]
        },
        {
          "output_type": "stream",
          "name": "stdout",
          "text": [
            "Epoch 50 Loss:  0.3384147768155632\n"
          ]
        },
        {
          "output_type": "stream",
          "name": "stderr",
          "text": [
            "100%|██████████| 468/468 [00:15<00:00, 30.62it/s]\n"
          ]
        },
        {
          "output_type": "stream",
          "name": "stdout",
          "text": [
            "Epoch 51 Loss:  0.3343614357022139\n"
          ]
        },
        {
          "output_type": "stream",
          "name": "stderr",
          "text": [
            "100%|██████████| 468/468 [00:15<00:00, 31.09it/s]\n"
          ]
        },
        {
          "output_type": "stream",
          "name": "stdout",
          "text": [
            "Epoch 52 Loss:  0.33078955546912986\n"
          ]
        },
        {
          "output_type": "stream",
          "name": "stderr",
          "text": [
            "100%|██████████| 468/468 [00:15<00:00, 30.85it/s]\n"
          ]
        },
        {
          "output_type": "stream",
          "name": "stdout",
          "text": [
            "Epoch 53 Loss:  0.32830513341941386\n"
          ]
        },
        {
          "output_type": "stream",
          "name": "stderr",
          "text": [
            "100%|██████████| 468/468 [00:15<00:00, 30.86it/s]\n"
          ]
        },
        {
          "output_type": "stream",
          "name": "stdout",
          "text": [
            "Epoch 54 Loss:  0.3253669900517178\n"
          ]
        },
        {
          "output_type": "stream",
          "name": "stderr",
          "text": [
            "100%|██████████| 468/468 [00:15<00:00, 30.82it/s]\n"
          ]
        },
        {
          "output_type": "stream",
          "name": "stdout",
          "text": [
            "Epoch 55 Loss:  0.3216165717468302\n"
          ]
        },
        {
          "output_type": "stream",
          "name": "stderr",
          "text": [
            "100%|██████████| 468/468 [00:15<00:00, 30.95it/s]\n"
          ]
        },
        {
          "output_type": "stream",
          "name": "stdout",
          "text": [
            "Epoch 56 Loss:  0.31909465828003025\n"
          ]
        },
        {
          "output_type": "stream",
          "name": "stderr",
          "text": [
            "100%|██████████| 468/468 [00:15<00:00, 30.92it/s]\n"
          ]
        },
        {
          "output_type": "stream",
          "name": "stdout",
          "text": [
            "Epoch 57 Loss:  0.31621059673464197\n"
          ]
        },
        {
          "output_type": "stream",
          "name": "stderr",
          "text": [
            "100%|██████████| 468/468 [00:15<00:00, 31.11it/s]\n"
          ]
        },
        {
          "output_type": "stream",
          "name": "stdout",
          "text": [
            "Epoch 58 Loss:  0.31359405344368046\n"
          ]
        },
        {
          "output_type": "stream",
          "name": "stderr",
          "text": [
            "100%|██████████| 468/468 [00:15<00:00, 30.82it/s]\n"
          ]
        },
        {
          "output_type": "stream",
          "name": "stdout",
          "text": [
            "Epoch 59 Loss:  0.31023875846822035\n"
          ]
        },
        {
          "output_type": "stream",
          "name": "stderr",
          "text": [
            "100%|██████████| 468/468 [00:15<00:00, 31.02it/s]\n"
          ]
        },
        {
          "output_type": "stream",
          "name": "stdout",
          "text": [
            "Epoch 60 Loss:  0.30811545755873376\n"
          ]
        },
        {
          "output_type": "stream",
          "name": "stderr",
          "text": [
            "100%|██████████| 468/468 [00:15<00:00, 30.80it/s]\n"
          ]
        },
        {
          "output_type": "stream",
          "name": "stdout",
          "text": [
            "Epoch 61 Loss:  0.30512825628885853\n"
          ]
        },
        {
          "output_type": "stream",
          "name": "stderr",
          "text": [
            "100%|██████████| 468/468 [00:15<00:00, 30.77it/s]\n"
          ]
        },
        {
          "output_type": "stream",
          "name": "stdout",
          "text": [
            "Epoch 62 Loss:  0.3027330885649237\n"
          ]
        },
        {
          "output_type": "stream",
          "name": "stderr",
          "text": [
            "100%|██████████| 468/468 [00:15<00:00, 30.82it/s]\n"
          ]
        },
        {
          "output_type": "stream",
          "name": "stdout",
          "text": [
            "Epoch 63 Loss:  0.29974703086364984\n"
          ]
        },
        {
          "output_type": "stream",
          "name": "stderr",
          "text": [
            "100%|██████████| 468/468 [00:15<00:00, 31.09it/s]\n"
          ]
        },
        {
          "output_type": "stream",
          "name": "stdout",
          "text": [
            "Epoch 64 Loss:  0.29748675453229845\n"
          ]
        },
        {
          "output_type": "stream",
          "name": "stderr",
          "text": [
            "100%|██████████| 468/468 [00:15<00:00, 30.93it/s]\n"
          ]
        },
        {
          "output_type": "stream",
          "name": "stdout",
          "text": [
            "Epoch 65 Loss:  0.29456711773816335\n"
          ]
        },
        {
          "output_type": "stream",
          "name": "stderr",
          "text": [
            "100%|██████████| 468/468 [00:15<00:00, 31.02it/s]\n"
          ]
        },
        {
          "output_type": "stream",
          "name": "stdout",
          "text": [
            "Epoch 66 Loss:  0.29237808771113044\n"
          ]
        },
        {
          "output_type": "stream",
          "name": "stderr",
          "text": [
            "100%|██████████| 468/468 [00:15<00:00, 30.60it/s]\n"
          ]
        },
        {
          "output_type": "stream",
          "name": "stdout",
          "text": [
            "Epoch 67 Loss:  0.29016120680886454\n"
          ]
        },
        {
          "output_type": "stream",
          "name": "stderr",
          "text": [
            "100%|██████████| 468/468 [00:15<00:00, 30.90it/s]\n"
          ]
        },
        {
          "output_type": "stream",
          "name": "stdout",
          "text": [
            "Epoch 68 Loss:  0.28710332254950816\n"
          ]
        },
        {
          "output_type": "stream",
          "name": "stderr",
          "text": [
            "100%|██████████| 468/468 [00:15<00:00, 30.84it/s]\n"
          ]
        },
        {
          "output_type": "stream",
          "name": "stdout",
          "text": [
            "Epoch 69 Loss:  0.2851329050385035\n"
          ]
        },
        {
          "output_type": "stream",
          "name": "stderr",
          "text": [
            "100%|██████████| 468/468 [00:15<00:00, 30.82it/s]\n"
          ]
        },
        {
          "output_type": "stream",
          "name": "stdout",
          "text": [
            "Epoch 70 Loss:  0.28299083856818\n"
          ]
        },
        {
          "output_type": "stream",
          "name": "stderr",
          "text": [
            "100%|██████████| 468/468 [00:15<00:00, 31.01it/s]\n"
          ]
        },
        {
          "output_type": "stream",
          "name": "stdout",
          "text": [
            "Epoch 71 Loss:  0.2805699015147666\n"
          ]
        },
        {
          "output_type": "stream",
          "name": "stderr",
          "text": [
            "100%|██████████| 468/468 [00:15<00:00, 30.88it/s]\n"
          ]
        },
        {
          "output_type": "stream",
          "name": "stdout",
          "text": [
            "Epoch 72 Loss:  0.27862743297830606\n"
          ]
        },
        {
          "output_type": "stream",
          "name": "stderr",
          "text": [
            "100%|██████████| 468/468 [00:15<00:00, 30.77it/s]\n"
          ]
        },
        {
          "output_type": "stream",
          "name": "stdout",
          "text": [
            "Epoch 73 Loss:  0.2767967713566927\n"
          ]
        },
        {
          "output_type": "stream",
          "name": "stderr",
          "text": [
            "100%|██████████| 468/468 [00:15<00:00, 30.70it/s]\n"
          ]
        },
        {
          "output_type": "stream",
          "name": "stdout",
          "text": [
            "Epoch 74 Loss:  0.2743521722781862\n"
          ]
        },
        {
          "output_type": "stream",
          "name": "stderr",
          "text": [
            "100%|██████████| 468/468 [00:15<00:00, 31.01it/s]"
          ]
        },
        {
          "output_type": "stream",
          "name": "stdout",
          "text": [
            "Epoch 75 Loss:  0.2726407398780187\n"
          ]
        },
        {
          "output_type": "stream",
          "name": "stderr",
          "text": [
            "\n"
          ]
        }
      ]
    },
    {
      "cell_type": "code",
      "source": [
        "print(overfitting_model.accuracy[-1])"
      ],
      "metadata": {
        "colab": {
          "base_uri": "https://localhost:8080/"
        },
        "id": "gPzQW6JorA3C",
        "outputId": "84a628ac-1e87-4edb-ae3a-2e085dee6612"
      },
      "execution_count": null,
      "outputs": [
        {
          "output_type": "stream",
          "name": "stdout",
          "text": [
            "0.9209568643162394\n"
          ]
        }
      ]
    },
    {
      "cell_type": "code",
      "source": [
        "test_x = rotate_mnist_test.data.view(-1,784).float().to(device)\n",
        "test_y = rotate_mnist_test.targets.to(device)\n",
        "acc = overfitting_model.evaluation(test_x,test_y)"
      ],
      "metadata": {
        "colab": {
          "base_uri": "https://localhost:8080/"
        },
        "id": "9dK0z0QOd_UY",
        "outputId": "55109d82-f06c-4f63-d8ce-f5b490faa002"
      },
      "execution_count": null,
      "outputs": [
        {
          "output_type": "stream",
          "name": "stdout",
          "text": [
            "Accuracy 0.6735000014305115\n"
          ]
        }
      ]
    },
    {
      "cell_type": "code",
      "source": [
        "class Classifier_dropout(torch.nn.Module):\n",
        "    def __init__(self, input_dim, hidden_dim,device, output_dim, lr = 0.001, epochs = 10, activation='sigmoid',dropout=0.0):\n",
        "        super(Classifier_dropout, self).__init__()\n",
        "        self.input_dim = input_dim\n",
        "        self.hidden_dim = hidden_dim\n",
        "        self.output_dim = output_dim\n",
        "        self.epochs = epochs\n",
        "        self.total_losses = []\n",
        "        self.accuracy=[]\n",
        "        self.lr = lr\n",
        "        self.device = device\n",
        "        self.activation = activation\n",
        "        self.dropout = dropout\n",
        "\n",
        "        self.fc1 = torch.nn.Linear(self.input_dim, self.hidden_dim[0]).to(self.device)\n",
        "        self.dropout1 = torch.nn.Dropout(self.dropout)\n",
        "        self.fc2 = torch.nn.Linear(self.hidden_dim[0], self.hidden_dim[1]).to(self.device)\n",
        "        self.dropout2 = torch.nn.Dropout(self.dropout)\n",
        "        self.fc3 = torch.nn.Linear(self.hidden_dim[1], self.hidden_dim[2]).to(self.device)\n",
        "        self.dropout3 = torch.nn.Dropout(self.dropout)\n",
        "        self.fc4 = torch.nn.Linear(self.hidden_dim[2], self.output_dim).to(self.device)\n",
        "        self.dropout4 = torch.nn.Dropout(self.dropout)\n",
        "        \n",
        "        torch.nn.init.xavier_uniform_(self.fc1.weight)\n",
        "        torch.nn.init.xavier_uniform_(self.fc2.weight)\n",
        "        torch.nn.init.xavier_uniform_(self.fc3.weight)\n",
        "        torch.nn.init.xavier_uniform_(self.fc4.weight)\n",
        "        \n",
        "    def forward(self, x):\n",
        "        if self.activation == 'relu':\n",
        "            #dropout(layer)\n",
        "            \n",
        "            \n",
        "        else:\n",
        "            \n",
        "        \n",
        "        return pred\n",
        "\n",
        "    def fit(self, data):\n",
        "        criterion = torch.nn.CrossEntropyLoss().to(self.device)\n",
        "        optimizer = torch.optim.SGD(self.parameters(), lr = self.lr)\n",
        "        for _ in range(self.epochs):\n",
        "            total_loss=0\n",
        "            total_accuracy=0\n",
        "            for x, y in tqdm(data):\n",
        "                x = x.view(-1,784).to(self.device)\n",
        "                y = y.to(self.device)\n",
        "                optimizer.zero_grad()\n",
        "\n",
        "                pred = self.forward(x)\n",
        "\n",
        "                loss = criterion(pred, y)\n",
        "                loss.backward()\n",
        "                optimizer.step()\n",
        "                correct_pred = torch.argmax(pred,1) == y\n",
        "                accuracy = correct_pred.float().mean()\n",
        "                total_accuracy+=accuracy.item()\n",
        "                total_loss+=loss.item()\n",
        "                \n",
        "            print('Epoch {} Loss: '.format(_+1),total_loss/len(data))\n",
        "            self.accuracy.append(total_accuracy/len(data))\n",
        "            self.total_losses.append(total_loss/len(data))\n",
        "\n",
        "    def evaluation(self, x, y):\n",
        "        with torch.no_grad():\n",
        "            self.eval()\n",
        "            criterion = torch.nn.CrossEntropyLoss().to(self.device)\n",
        "            pred = self.forward(x)\n",
        "            loss = criterion(pred, y)\n",
        "            correct_pred = torch.argmax(pred,1) == y\n",
        "            accuracy = correct_pred.float().mean()\n",
        "            print('Accuracy', accuracy.item())\n",
        "        \n",
        "        return accuracy.item()\n",
        "\n",
        "    def get_weights(self):\n",
        "        return [self.fc1.weight, self.fc2.weight,self.fc3.weight, self.fc4.weight]\n"
      ],
      "metadata": {
        "id": "rVL9UImMfyDi"
      },
      "execution_count": null,
      "outputs": []
    },
    {
      "cell_type": "code",
      "source": [
        "dropout_model = Classifier_dropout(input_dim = 784, hidden_dim=(1024,1024,1024), output_dim=10,device=device, activation='relu', epochs=75, dropout=0.2)\n",
        "\n",
        "dropout_model.fit(rotate_train_loader)"
      ],
      "metadata": {
        "colab": {
          "base_uri": "https://localhost:8080/"
        },
        "id": "ysC81oD8nLc8",
        "outputId": "4fc83b1f-3db0-471c-e4b2-e3d455b3a03f"
      },
      "execution_count": null,
      "outputs": [
        {
          "output_type": "stream",
          "name": "stderr",
          "text": [
            "100%|██████████| 468/468 [00:15<00:00, 30.84it/s]\n"
          ]
        },
        {
          "output_type": "stream",
          "name": "stdout",
          "text": [
            "Epoch 1 Loss:  2.219733623867361\n"
          ]
        },
        {
          "output_type": "stream",
          "name": "stderr",
          "text": [
            "100%|██████████| 468/468 [00:15<00:00, 30.95it/s]\n"
          ]
        },
        {
          "output_type": "stream",
          "name": "stdout",
          "text": [
            "Epoch 2 Loss:  2.021408956529748\n"
          ]
        },
        {
          "output_type": "stream",
          "name": "stderr",
          "text": [
            "100%|██████████| 468/468 [00:15<00:00, 30.87it/s]\n"
          ]
        },
        {
          "output_type": "stream",
          "name": "stdout",
          "text": [
            "Epoch 3 Loss:  1.7944257750979855\n"
          ]
        },
        {
          "output_type": "stream",
          "name": "stderr",
          "text": [
            "100%|██████████| 468/468 [00:15<00:00, 30.94it/s]\n"
          ]
        },
        {
          "output_type": "stream",
          "name": "stdout",
          "text": [
            "Epoch 4 Loss:  1.564422104603205\n"
          ]
        },
        {
          "output_type": "stream",
          "name": "stderr",
          "text": [
            "100%|██████████| 468/468 [00:15<00:00, 31.01it/s]\n"
          ]
        },
        {
          "output_type": "stream",
          "name": "stdout",
          "text": [
            "Epoch 5 Loss:  1.388302386061758\n"
          ]
        },
        {
          "output_type": "stream",
          "name": "stderr",
          "text": [
            "100%|██████████| 468/468 [00:15<00:00, 30.86it/s]\n"
          ]
        },
        {
          "output_type": "stream",
          "name": "stdout",
          "text": [
            "Epoch 6 Loss:  1.2641385386132786\n"
          ]
        },
        {
          "output_type": "stream",
          "name": "stderr",
          "text": [
            "100%|██████████| 468/468 [00:15<00:00, 30.85it/s]\n"
          ]
        },
        {
          "output_type": "stream",
          "name": "stdout",
          "text": [
            "Epoch 7 Loss:  1.1780511024925444\n"
          ]
        },
        {
          "output_type": "stream",
          "name": "stderr",
          "text": [
            "100%|██████████| 468/468 [00:15<00:00, 30.58it/s]\n"
          ]
        },
        {
          "output_type": "stream",
          "name": "stdout",
          "text": [
            "Epoch 8 Loss:  1.1170685776533225\n"
          ]
        },
        {
          "output_type": "stream",
          "name": "stderr",
          "text": [
            "100%|██████████| 468/468 [00:15<00:00, 30.93it/s]\n"
          ]
        },
        {
          "output_type": "stream",
          "name": "stdout",
          "text": [
            "Epoch 9 Loss:  1.0759592541517355\n"
          ]
        },
        {
          "output_type": "stream",
          "name": "stderr",
          "text": [
            "100%|██████████| 468/468 [00:15<00:00, 30.93it/s]\n"
          ]
        },
        {
          "output_type": "stream",
          "name": "stdout",
          "text": [
            "Epoch 10 Loss:  1.0378119294714725\n"
          ]
        },
        {
          "output_type": "stream",
          "name": "stderr",
          "text": [
            "100%|██████████| 468/468 [00:15<00:00, 30.93it/s]\n"
          ]
        },
        {
          "output_type": "stream",
          "name": "stdout",
          "text": [
            "Epoch 11 Loss:  1.0097221384445827\n"
          ]
        },
        {
          "output_type": "stream",
          "name": "stderr",
          "text": [
            "100%|██████████| 468/468 [00:15<00:00, 30.86it/s]\n"
          ]
        },
        {
          "output_type": "stream",
          "name": "stdout",
          "text": [
            "Epoch 12 Loss:  0.9893562777174844\n"
          ]
        },
        {
          "output_type": "stream",
          "name": "stderr",
          "text": [
            "100%|██████████| 468/468 [00:15<00:00, 30.80it/s]\n"
          ]
        },
        {
          "output_type": "stream",
          "name": "stdout",
          "text": [
            "Epoch 13 Loss:  0.9637688716762086\n"
          ]
        },
        {
          "output_type": "stream",
          "name": "stderr",
          "text": [
            "100%|██████████| 468/468 [00:15<00:00, 30.77it/s]\n"
          ]
        },
        {
          "output_type": "stream",
          "name": "stdout",
          "text": [
            "Epoch 14 Loss:  0.9426249137036821\n"
          ]
        },
        {
          "output_type": "stream",
          "name": "stderr",
          "text": [
            "100%|██████████| 468/468 [00:15<00:00, 30.74it/s]\n"
          ]
        },
        {
          "output_type": "stream",
          "name": "stdout",
          "text": [
            "Epoch 15 Loss:  0.9324924984039404\n"
          ]
        },
        {
          "output_type": "stream",
          "name": "stderr",
          "text": [
            "100%|██████████| 468/468 [00:15<00:00, 30.59it/s]\n"
          ]
        },
        {
          "output_type": "stream",
          "name": "stdout",
          "text": [
            "Epoch 16 Loss:  0.912272845960071\n"
          ]
        },
        {
          "output_type": "stream",
          "name": "stderr",
          "text": [
            "100%|██████████| 468/468 [00:15<00:00, 30.58it/s]\n"
          ]
        },
        {
          "output_type": "stream",
          "name": "stdout",
          "text": [
            "Epoch 17 Loss:  0.905122351187926\n"
          ]
        },
        {
          "output_type": "stream",
          "name": "stderr",
          "text": [
            "100%|██████████| 468/468 [00:15<00:00, 30.84it/s]\n"
          ]
        },
        {
          "output_type": "stream",
          "name": "stdout",
          "text": [
            "Epoch 18 Loss:  0.8886799907837158\n"
          ]
        },
        {
          "output_type": "stream",
          "name": "stderr",
          "text": [
            "100%|██████████| 468/468 [00:15<00:00, 30.16it/s]\n"
          ]
        },
        {
          "output_type": "stream",
          "name": "stdout",
          "text": [
            "Epoch 19 Loss:  0.8762957807789501\n"
          ]
        },
        {
          "output_type": "stream",
          "name": "stderr",
          "text": [
            "100%|██████████| 468/468 [00:15<00:00, 30.74it/s]\n"
          ]
        },
        {
          "output_type": "stream",
          "name": "stdout",
          "text": [
            "Epoch 20 Loss:  0.8676116507277529\n"
          ]
        },
        {
          "output_type": "stream",
          "name": "stderr",
          "text": [
            "100%|██████████| 468/468 [00:15<00:00, 30.58it/s]\n"
          ]
        },
        {
          "output_type": "stream",
          "name": "stdout",
          "text": [
            "Epoch 21 Loss:  0.8555787284659524\n"
          ]
        },
        {
          "output_type": "stream",
          "name": "stderr",
          "text": [
            "100%|██████████| 468/468 [00:15<00:00, 30.72it/s]\n"
          ]
        },
        {
          "output_type": "stream",
          "name": "stdout",
          "text": [
            "Epoch 22 Loss:  0.8452090161223696\n"
          ]
        },
        {
          "output_type": "stream",
          "name": "stderr",
          "text": [
            "100%|██████████| 468/468 [00:15<00:00, 30.43it/s]\n"
          ]
        },
        {
          "output_type": "stream",
          "name": "stdout",
          "text": [
            "Epoch 23 Loss:  0.8358523580763075\n"
          ]
        },
        {
          "output_type": "stream",
          "name": "stderr",
          "text": [
            "100%|██████████| 468/468 [00:15<00:00, 30.28it/s]\n"
          ]
        },
        {
          "output_type": "stream",
          "name": "stdout",
          "text": [
            "Epoch 24 Loss:  0.8228535208946619\n"
          ]
        },
        {
          "output_type": "stream",
          "name": "stderr",
          "text": [
            "100%|██████████| 468/468 [00:15<00:00, 29.90it/s]\n"
          ]
        },
        {
          "output_type": "stream",
          "name": "stdout",
          "text": [
            "Epoch 25 Loss:  0.8193524956193745\n"
          ]
        },
        {
          "output_type": "stream",
          "name": "stderr",
          "text": [
            "100%|██████████| 468/468 [00:15<00:00, 30.20it/s]\n"
          ]
        },
        {
          "output_type": "stream",
          "name": "stdout",
          "text": [
            "Epoch 26 Loss:  0.8143807748953501\n"
          ]
        },
        {
          "output_type": "stream",
          "name": "stderr",
          "text": [
            "100%|██████████| 468/468 [00:15<00:00, 30.82it/s]\n"
          ]
        },
        {
          "output_type": "stream",
          "name": "stdout",
          "text": [
            "Epoch 27 Loss:  0.8012260500437174\n"
          ]
        },
        {
          "output_type": "stream",
          "name": "stderr",
          "text": [
            "100%|██████████| 468/468 [00:15<00:00, 30.75it/s]\n"
          ]
        },
        {
          "output_type": "stream",
          "name": "stdout",
          "text": [
            "Epoch 28 Loss:  0.7925917240034821\n"
          ]
        },
        {
          "output_type": "stream",
          "name": "stderr",
          "text": [
            "100%|██████████| 468/468 [00:15<00:00, 30.79it/s]\n"
          ]
        },
        {
          "output_type": "stream",
          "name": "stdout",
          "text": [
            "Epoch 29 Loss:  0.7869950536734018\n"
          ]
        },
        {
          "output_type": "stream",
          "name": "stderr",
          "text": [
            "100%|██████████| 468/468 [00:15<00:00, 30.76it/s]\n"
          ]
        },
        {
          "output_type": "stream",
          "name": "stdout",
          "text": [
            "Epoch 30 Loss:  0.7767738650242487\n"
          ]
        },
        {
          "output_type": "stream",
          "name": "stderr",
          "text": [
            "100%|██████████| 468/468 [00:15<00:00, 30.75it/s]\n"
          ]
        },
        {
          "output_type": "stream",
          "name": "stdout",
          "text": [
            "Epoch 31 Loss:  0.7732973520317649\n"
          ]
        },
        {
          "output_type": "stream",
          "name": "stderr",
          "text": [
            "100%|██████████| 468/468 [00:15<00:00, 30.93it/s]\n"
          ]
        },
        {
          "output_type": "stream",
          "name": "stdout",
          "text": [
            "Epoch 32 Loss:  0.7707105201278996\n"
          ]
        },
        {
          "output_type": "stream",
          "name": "stderr",
          "text": [
            "100%|██████████| 468/468 [00:15<00:00, 30.86it/s]\n"
          ]
        },
        {
          "output_type": "stream",
          "name": "stdout",
          "text": [
            "Epoch 33 Loss:  0.7583391102205994\n"
          ]
        },
        {
          "output_type": "stream",
          "name": "stderr",
          "text": [
            "100%|██████████| 468/468 [00:15<00:00, 30.77it/s]\n"
          ]
        },
        {
          "output_type": "stream",
          "name": "stdout",
          "text": [
            "Epoch 34 Loss:  0.7513833664293982\n"
          ]
        },
        {
          "output_type": "stream",
          "name": "stderr",
          "text": [
            "100%|██████████| 468/468 [00:15<00:00, 30.61it/s]\n"
          ]
        },
        {
          "output_type": "stream",
          "name": "stdout",
          "text": [
            "Epoch 35 Loss:  0.7469072105665492\n"
          ]
        },
        {
          "output_type": "stream",
          "name": "stderr",
          "text": [
            "100%|██████████| 468/468 [00:15<00:00, 30.82it/s]\n"
          ]
        },
        {
          "output_type": "stream",
          "name": "stdout",
          "text": [
            "Epoch 36 Loss:  0.7429665385657905\n"
          ]
        },
        {
          "output_type": "stream",
          "name": "stderr",
          "text": [
            "100%|██████████| 468/468 [00:15<00:00, 30.76it/s]\n"
          ]
        },
        {
          "output_type": "stream",
          "name": "stdout",
          "text": [
            "Epoch 37 Loss:  0.7344151536623637\n"
          ]
        },
        {
          "output_type": "stream",
          "name": "stderr",
          "text": [
            "100%|██████████| 468/468 [00:15<00:00, 30.89it/s]\n"
          ]
        },
        {
          "output_type": "stream",
          "name": "stdout",
          "text": [
            "Epoch 38 Loss:  0.7332678171049836\n"
          ]
        },
        {
          "output_type": "stream",
          "name": "stderr",
          "text": [
            "100%|██████████| 468/468 [00:15<00:00, 30.56it/s]\n"
          ]
        },
        {
          "output_type": "stream",
          "name": "stdout",
          "text": [
            "Epoch 39 Loss:  0.7188204583576602\n"
          ]
        },
        {
          "output_type": "stream",
          "name": "stderr",
          "text": [
            "100%|██████████| 468/468 [00:15<00:00, 30.22it/s]\n"
          ]
        },
        {
          "output_type": "stream",
          "name": "stdout",
          "text": [
            "Epoch 40 Loss:  0.7200853004414811\n"
          ]
        },
        {
          "output_type": "stream",
          "name": "stderr",
          "text": [
            "100%|██████████| 468/468 [00:15<00:00, 30.81it/s]\n"
          ]
        },
        {
          "output_type": "stream",
          "name": "stdout",
          "text": [
            "Epoch 41 Loss:  0.7152569449355459\n"
          ]
        },
        {
          "output_type": "stream",
          "name": "stderr",
          "text": [
            "100%|██████████| 468/468 [00:15<00:00, 30.94it/s]\n"
          ]
        },
        {
          "output_type": "stream",
          "name": "stdout",
          "text": [
            "Epoch 42 Loss:  0.7095696172780461\n"
          ]
        },
        {
          "output_type": "stream",
          "name": "stderr",
          "text": [
            "100%|██████████| 468/468 [00:15<00:00, 30.81it/s]\n"
          ]
        },
        {
          "output_type": "stream",
          "name": "stdout",
          "text": [
            "Epoch 43 Loss:  0.6988035150700145\n"
          ]
        },
        {
          "output_type": "stream",
          "name": "stderr",
          "text": [
            "100%|██████████| 468/468 [00:15<00:00, 30.80it/s]\n"
          ]
        },
        {
          "output_type": "stream",
          "name": "stdout",
          "text": [
            "Epoch 44 Loss:  0.6979900025404416\n"
          ]
        },
        {
          "output_type": "stream",
          "name": "stderr",
          "text": [
            "100%|██████████| 468/468 [00:15<00:00, 30.51it/s]\n"
          ]
        },
        {
          "output_type": "stream",
          "name": "stdout",
          "text": [
            "Epoch 45 Loss:  0.6928187802943409\n"
          ]
        },
        {
          "output_type": "stream",
          "name": "stderr",
          "text": [
            "100%|██████████| 468/468 [00:15<00:00, 30.97it/s]\n"
          ]
        },
        {
          "output_type": "stream",
          "name": "stdout",
          "text": [
            "Epoch 46 Loss:  0.6881436829128836\n"
          ]
        },
        {
          "output_type": "stream",
          "name": "stderr",
          "text": [
            "100%|██████████| 468/468 [00:15<00:00, 30.80it/s]\n"
          ]
        },
        {
          "output_type": "stream",
          "name": "stdout",
          "text": [
            "Epoch 47 Loss:  0.6844669517416221\n"
          ]
        },
        {
          "output_type": "stream",
          "name": "stderr",
          "text": [
            "100%|██████████| 468/468 [00:15<00:00, 30.88it/s]\n"
          ]
        },
        {
          "output_type": "stream",
          "name": "stdout",
          "text": [
            "Epoch 48 Loss:  0.6763967118329473\n"
          ]
        },
        {
          "output_type": "stream",
          "name": "stderr",
          "text": [
            "100%|██████████| 468/468 [00:15<00:00, 30.75it/s]\n"
          ]
        },
        {
          "output_type": "stream",
          "name": "stdout",
          "text": [
            "Epoch 49 Loss:  0.6722368547676975\n"
          ]
        },
        {
          "output_type": "stream",
          "name": "stderr",
          "text": [
            "100%|██████████| 468/468 [00:15<00:00, 30.59it/s]\n"
          ]
        },
        {
          "output_type": "stream",
          "name": "stdout",
          "text": [
            "Epoch 50 Loss:  0.6659498452248737\n"
          ]
        },
        {
          "output_type": "stream",
          "name": "stderr",
          "text": [
            "100%|██████████| 468/468 [00:15<00:00, 30.46it/s]\n"
          ]
        },
        {
          "output_type": "stream",
          "name": "stdout",
          "text": [
            "Epoch 51 Loss:  0.6619396948406839\n"
          ]
        },
        {
          "output_type": "stream",
          "name": "stderr",
          "text": [
            "100%|██████████| 468/468 [00:15<00:00, 30.83it/s]\n"
          ]
        },
        {
          "output_type": "stream",
          "name": "stdout",
          "text": [
            "Epoch 52 Loss:  0.6609384433453919\n"
          ]
        },
        {
          "output_type": "stream",
          "name": "stderr",
          "text": [
            "100%|██████████| 468/468 [00:15<00:00, 30.68it/s]\n"
          ]
        },
        {
          "output_type": "stream",
          "name": "stdout",
          "text": [
            "Epoch 53 Loss:  0.6581668357054392\n"
          ]
        },
        {
          "output_type": "stream",
          "name": "stderr",
          "text": [
            "100%|██████████| 468/468 [00:15<00:00, 30.65it/s]\n"
          ]
        },
        {
          "output_type": "stream",
          "name": "stdout",
          "text": [
            "Epoch 54 Loss:  0.6522886463974276\n"
          ]
        },
        {
          "output_type": "stream",
          "name": "stderr",
          "text": [
            "100%|██████████| 468/468 [00:15<00:00, 30.80it/s]\n"
          ]
        },
        {
          "output_type": "stream",
          "name": "stdout",
          "text": [
            "Epoch 55 Loss:  0.6542721142371496\n"
          ]
        },
        {
          "output_type": "stream",
          "name": "stderr",
          "text": [
            "100%|██████████| 468/468 [00:15<00:00, 30.51it/s]\n"
          ]
        },
        {
          "output_type": "stream",
          "name": "stdout",
          "text": [
            "Epoch 56 Loss:  0.6425351264894518\n"
          ]
        },
        {
          "output_type": "stream",
          "name": "stderr",
          "text": [
            "100%|██████████| 468/468 [00:15<00:00, 30.61it/s]\n"
          ]
        },
        {
          "output_type": "stream",
          "name": "stdout",
          "text": [
            "Epoch 57 Loss:  0.6409003477957513\n"
          ]
        },
        {
          "output_type": "stream",
          "name": "stderr",
          "text": [
            "100%|██████████| 468/468 [00:15<00:00, 30.68it/s]\n"
          ]
        },
        {
          "output_type": "stream",
          "name": "stdout",
          "text": [
            "Epoch 58 Loss:  0.6379831035295104\n"
          ]
        },
        {
          "output_type": "stream",
          "name": "stderr",
          "text": [
            "100%|██████████| 468/468 [00:15<00:00, 30.39it/s]\n"
          ]
        },
        {
          "output_type": "stream",
          "name": "stdout",
          "text": [
            "Epoch 59 Loss:  0.6358237239794854\n"
          ]
        },
        {
          "output_type": "stream",
          "name": "stderr",
          "text": [
            "100%|██████████| 468/468 [00:15<00:00, 29.53it/s]\n"
          ]
        },
        {
          "output_type": "stream",
          "name": "stdout",
          "text": [
            "Epoch 60 Loss:  0.6314901268889761\n"
          ]
        },
        {
          "output_type": "stream",
          "name": "stderr",
          "text": [
            "100%|██████████| 468/468 [00:15<00:00, 29.70it/s]\n"
          ]
        },
        {
          "output_type": "stream",
          "name": "stdout",
          "text": [
            "Epoch 61 Loss:  0.6338672057176248\n"
          ]
        },
        {
          "output_type": "stream",
          "name": "stderr",
          "text": [
            "100%|██████████| 468/468 [00:15<00:00, 30.39it/s]\n"
          ]
        },
        {
          "output_type": "stream",
          "name": "stdout",
          "text": [
            "Epoch 62 Loss:  0.6239417795187387\n"
          ]
        },
        {
          "output_type": "stream",
          "name": "stderr",
          "text": [
            "100%|██████████| 468/468 [00:15<00:00, 30.32it/s]\n"
          ]
        },
        {
          "output_type": "stream",
          "name": "stdout",
          "text": [
            "Epoch 63 Loss:  0.6203124666443238\n"
          ]
        },
        {
          "output_type": "stream",
          "name": "stderr",
          "text": [
            "100%|██████████| 468/468 [00:15<00:00, 30.79it/s]\n"
          ]
        },
        {
          "output_type": "stream",
          "name": "stdout",
          "text": [
            "Epoch 64 Loss:  0.6143479347229004\n"
          ]
        },
        {
          "output_type": "stream",
          "name": "stderr",
          "text": [
            "100%|██████████| 468/468 [00:15<00:00, 30.38it/s]\n"
          ]
        },
        {
          "output_type": "stream",
          "name": "stdout",
          "text": [
            "Epoch 65 Loss:  0.6126379222951384\n"
          ]
        },
        {
          "output_type": "stream",
          "name": "stderr",
          "text": [
            "100%|██████████| 468/468 [00:15<00:00, 30.76it/s]\n"
          ]
        },
        {
          "output_type": "stream",
          "name": "stdout",
          "text": [
            "Epoch 66 Loss:  0.6060405930774844\n"
          ]
        },
        {
          "output_type": "stream",
          "name": "stderr",
          "text": [
            "100%|██████████| 468/468 [00:15<00:00, 30.30it/s]\n"
          ]
        },
        {
          "output_type": "stream",
          "name": "stdout",
          "text": [
            "Epoch 67 Loss:  0.6099751432481993\n"
          ]
        },
        {
          "output_type": "stream",
          "name": "stderr",
          "text": [
            "100%|██████████| 468/468 [00:15<00:00, 30.56it/s]\n"
          ]
        },
        {
          "output_type": "stream",
          "name": "stdout",
          "text": [
            "Epoch 68 Loss:  0.6036158424412084\n"
          ]
        },
        {
          "output_type": "stream",
          "name": "stderr",
          "text": [
            "100%|██████████| 468/468 [00:15<00:00, 30.60it/s]\n"
          ]
        },
        {
          "output_type": "stream",
          "name": "stdout",
          "text": [
            "Epoch 69 Loss:  0.5989350403348604\n"
          ]
        },
        {
          "output_type": "stream",
          "name": "stderr",
          "text": [
            "100%|██████████| 468/468 [00:15<00:00, 30.66it/s]\n"
          ]
        },
        {
          "output_type": "stream",
          "name": "stdout",
          "text": [
            "Epoch 70 Loss:  0.5959656621910568\n"
          ]
        },
        {
          "output_type": "stream",
          "name": "stderr",
          "text": [
            "100%|██████████| 468/468 [00:15<00:00, 30.58it/s]\n"
          ]
        },
        {
          "output_type": "stream",
          "name": "stdout",
          "text": [
            "Epoch 71 Loss:  0.5933624514275126\n"
          ]
        },
        {
          "output_type": "stream",
          "name": "stderr",
          "text": [
            "100%|██████████| 468/468 [00:15<00:00, 30.56it/s]\n"
          ]
        },
        {
          "output_type": "stream",
          "name": "stdout",
          "text": [
            "Epoch 72 Loss:  0.5922601543303229\n"
          ]
        },
        {
          "output_type": "stream",
          "name": "stderr",
          "text": [
            "100%|██████████| 468/468 [00:15<00:00, 30.58it/s]\n"
          ]
        },
        {
          "output_type": "stream",
          "name": "stdout",
          "text": [
            "Epoch 73 Loss:  0.5934381286303202\n"
          ]
        },
        {
          "output_type": "stream",
          "name": "stderr",
          "text": [
            "100%|██████████| 468/468 [00:15<00:00, 30.62it/s]\n"
          ]
        },
        {
          "output_type": "stream",
          "name": "stdout",
          "text": [
            "Epoch 74 Loss:  0.5921486825642422\n"
          ]
        },
        {
          "output_type": "stream",
          "name": "stderr",
          "text": [
            "100%|██████████| 468/468 [00:15<00:00, 30.63it/s]"
          ]
        },
        {
          "output_type": "stream",
          "name": "stdout",
          "text": [
            "Epoch 75 Loss:  0.5848195722215196\n"
          ]
        },
        {
          "output_type": "stream",
          "name": "stderr",
          "text": [
            "\n"
          ]
        }
      ]
    },
    {
      "cell_type": "code",
      "source": [
        "print(dropout_model.accuracy[-1])\n",
        "acc = dropout_model.evaluation(test_x,test_y)"
      ],
      "metadata": {
        "colab": {
          "base_uri": "https://localhost:8080/"
        },
        "id": "RHzTMj0aoAQZ",
        "outputId": "1cd4eece-d2dd-4076-e54e-a2755bba0f12"
      },
      "execution_count": null,
      "outputs": [
        {
          "output_type": "stream",
          "name": "stdout",
          "text": [
            "0.7887286324786325\n",
            "Accuracy 0.6786999702453613\n"
          ]
        }
      ]
    },
    {
      "cell_type": "markdown",
      "source": [
        "### Batch Normalization\n",
        "\n",
        "![BN.PNG](data:image/png;base64,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)"
      ],
      "metadata": {
        "id": "m3KqXm9GC95o"
      }
    },
    {
      "cell_type": "code",
      "source": [
        "test_x = mnist_test.data\n",
        "bn = torch.nn.BatchNorm1d(784)\n",
        "print(test_x.view(-1,784)[0,300:400])\n",
        "print(bn(test_x.view(-1,784).float())[0,300:400])"
      ],
      "metadata": {
        "colab": {
          "base_uri": "https://localhost:8080/"
        },
        "id": "qbeH_rvcE_B7",
        "outputId": "a2d271b4-7b50-472d-81b2-6948bbf11b4c"
      },
      "execution_count": null,
      "outputs": [
        {
          "output_type": "stream",
          "name": "stdout",
          "text": [
            "tensor([254, 106,   0,   0,   0,   0,   0,   0,   0,   0,   0,   0,   0,   0,\n",
            "          0,   0,   0,   0,   0,   0,   0,   0,   0,   0,   0,   0,  83, 253,\n",
            "        209,  18,   0,   0,   0,   0,   0,   0,   0,   0,   0,   0,   0,   0,\n",
            "          0,   0,   0,   0,   0,   0,   0,   0,   0,   0,   0,  22, 233, 255,\n",
            "         83,   0,   0,   0,   0,   0,   0,   0,   0,   0,   0,   0,   0,   0,\n",
            "          0,   0,   0,   0,   0,   0,   0,   0,   0,   0,   0, 129, 254, 238,\n",
            "         44,   0,   0,   0,   0,   0,   0,   0,   0,   0,   0,   0,   0,   0,\n",
            "          0,   0], dtype=torch.uint8)\n",
            "tensor([ 1.8146e+00,  6.9107e-01, -3.8366e-01, -2.6310e-01, -1.6647e-01,\n",
            "        -7.9966e-02, -4.5500e-02, -1.9554e-02, -1.0000e-02, -1.8623e-02,\n",
            "        -4.1498e-02, -7.2266e-02, -1.2325e-01, -2.1227e-01, -3.3132e-01,\n",
            "        -4.9111e-01, -6.8771e-01, -8.6262e-01, -9.3914e-01, -8.7000e-01,\n",
            "        -7.5819e-01, -7.2218e-01, -7.3981e-01, -8.0997e-01, -9.1121e-01,\n",
            "        -1.0003e+00, -2.2154e-01,  1.5314e+00,  1.4761e+00, -2.7315e-01,\n",
            "        -3.6316e-01, -2.5297e-01, -1.5716e-01, -6.5202e-02, -3.3529e-02,\n",
            "        -1.2421e-02,  0.0000e+00, -1.4850e-02, -3.2967e-02, -6.0150e-02,\n",
            "        -1.1836e-01, -2.1926e-01, -3.5439e-01, -5.2300e-01, -7.1571e-01,\n",
            "        -8.6264e-01, -9.0523e-01, -8.3160e-01, -7.5131e-01, -7.6296e-01,\n",
            "        -8.2587e-01, -9.3025e-01, -1.0473e+00, -8.7900e-01,  1.1146e+00,\n",
            "         1.6166e+00,  2.6399e-01, -4.6427e-01, -3.5491e-01, -2.5602e-01,\n",
            "        -1.5843e-01, -6.2069e-02, -2.4291e-02,  0.0000e+00,  0.0000e+00,\n",
            "        -1.1788e-02, -2.5262e-02, -5.0246e-02, -1.1507e-01, -2.3520e-01,\n",
            "        -3.7755e-01, -5.4731e-01, -7.2306e-01, -8.4899e-01, -8.7892e-01,\n",
            "        -8.2645e-01, -7.9549e-01, -8.8353e-01, -9.9483e-01, -1.1336e+00,\n",
            "        -1.2087e+00,  5.6073e-05,  1.2871e+00,  1.5008e+00, -1.2256e-01,\n",
            "        -4.6210e-01, -3.6016e-01, -2.6389e-01, -1.6629e-01, -5.6865e-02,\n",
            "        -1.0544e-02,  0.0000e+00,  0.0000e+00,  0.0000e+00, -1.6638e-02,\n",
            "        -4.2324e-02, -1.1993e-01, -2.5256e-01, -3.9193e-01, -5.5616e-01],\n",
            "       grad_fn=<SliceBackward0>)\n"
          ]
        }
      ]
    },
    {
      "cell_type": "code",
      "source": [
        "class Classifier_bn(torch.nn.Module):\n",
        "    def __init__(self, input_dim, hidden_dim,device, output_dim, lr = 0.001, epochs = 10, activation='sigmoid',dropout=0.0):\n",
        "        super(Classifier_bn, self).__init__()\n",
        "        self.input_dim = input_dim\n",
        "        self.hidden_dim = hidden_dim\n",
        "        self.output_dim = output_dim\n",
        "        self.epochs = epochs\n",
        "        self.total_losses = []\n",
        "        self.accuracy=[]\n",
        "        self.lr = lr\n",
        "        self.device = device\n",
        "        self.activation = activation\n",
        "        self.dropout = dropout\n",
        "\n",
        "        self.fc1 = torch.nn.Linear(self.input_dim, self.hidden_dim[0]).to(self.device)\n",
        "        self.bn1 = torch.nn.BatchNorm1d(self.hidden_dim[0]).to(self.device)\n",
        "        self.dropout1 = torch.nn.Dropout(self.dropout)\n",
        "        self.fc2 = torch.nn.Linear(self.hidden_dim[0], self.hidden_dim[1]).to(self.device)\n",
        "        self.bn2 = torch.nn.BatchNorm1d(self.hidden_dim[1]).to(self.device)\n",
        "        self.dropout2 = torch.nn.Dropout(self.dropout)\n",
        "        self.fc3 = torch.nn.Linear(self.hidden_dim[1], self.hidden_dim[2]).to(self.device)\n",
        "        self.bn3 = torch.nn.BatchNorm1d(self.hidden_dim[2]).to(self.device)\n",
        "        self.dropout3 = torch.nn.Dropout(self.dropout)\n",
        "        self.fc4 = torch.nn.Linear(self.hidden_dim[2], self.output_dim).to(self.device)\n",
        "        self.dropout4 = torch.nn.Dropout(self.dropout)\n",
        "        \n",
        "        torch.nn.init.xavier_uniform_(self.fc1.weight)\n",
        "        torch.nn.init.xavier_uniform_(self.fc2.weight)\n",
        "        torch.nn.init.xavier_uniform_(self.fc3.weight)\n",
        "        torch.nn.init.xavier_uniform_(self.fc4.weight)\n",
        "        \n",
        "    def forward(self, x):\n",
        "        if self.activation == 'relu':\n",
        "            #BatchNorm1d(Layer)\n",
        "            \n",
        "        else:\n",
        "\n",
        "            \n",
        "\n",
        "        return pred\n",
        "\n",
        "    def fit(self, data):\n",
        "        criterion = torch.nn.CrossEntropyLoss().to(self.device)\n",
        "        optimizer = torch.optim.SGD(self.parameters(), lr = self.lr)\n",
        "        for _ in range(self.epochs):\n",
        "            total_loss=0\n",
        "            total_accuracy=0\n",
        "            for x, y in tqdm(data):\n",
        "                x = x.view(-1,784).to(self.device)\n",
        "                y = y.to(self.device)\n",
        "                \n",
        "                optimizer.zero_grad()\n",
        "\n",
        "                pred = self.forward(x)\n",
        "\n",
        "                loss = criterion(pred, y)\n",
        "                loss.backward()\n",
        "                optimizer.step()\n",
        "                correct_pred = torch.argmax(pred,1) == y\n",
        "                accuracy = correct_pred.float().mean()\n",
        "                total_accuracy+=accuracy.item()\n",
        "                total_loss+=loss.item()\n",
        "\n",
        "            print('Epoch {} Loss: '.format(_+1),total_loss/len(data))\n",
        "            self.total_losses.append(total_loss/len(data))\n",
        "            self.accuracy.append(total_accuracy/len(data))\n",
        "\n",
        "    def evaluation(self, x, y):\n",
        "        with torch.no_grad():\n",
        "            self.eval()\n",
        "            criterion = torch.nn.CrossEntropyLoss().to(self.device)\n",
        "            pred = self.forward(x)\n",
        "            loss = criterion(pred, y)\n",
        "            correct_pred = torch.argmax(pred,1) == y\n",
        "            accuracy = correct_pred.float().mean()\n",
        "            print('Accuracy', accuracy.item())\n",
        "        \n",
        "        return accuracy.item()\n",
        "\n",
        "    def get_weights(self):\n",
        "        return [self.fc1.weight, self.fc2.weight,self.fc3.weight, self.fc4.weight]\n"
      ],
      "metadata": {
        "id": "9FYKSNbdDGa0"
      },
      "execution_count": null,
      "outputs": []
    },
    {
      "cell_type": "code",
      "source": [
        "model_bn = Classifier_bn(input_dim = 784, hidden_dim=(256,128,64), output_dim=10,device=device, activation='relu')\n",
        "\n",
        "model_bn.fit(train_loader)"
      ],
      "metadata": {
        "colab": {
          "base_uri": "https://localhost:8080/"
        },
        "id": "MGqu3Qu_rOO6",
        "outputId": "23553f4e-5c97-42ed-dd98-f6fbc3960a97"
      },
      "execution_count": null,
      "outputs": [
        {
          "output_type": "stream",
          "name": "stderr",
          "text": [
            "100%|██████████| 468/468 [00:05<00:00, 81.53it/s]\n"
          ]
        },
        {
          "output_type": "stream",
          "name": "stdout",
          "text": [
            "Epoch 1 Loss:  1.7997193015538728\n"
          ]
        },
        {
          "output_type": "stream",
          "name": "stderr",
          "text": [
            "100%|██████████| 468/468 [00:05<00:00, 83.47it/s]\n"
          ]
        },
        {
          "output_type": "stream",
          "name": "stdout",
          "text": [
            "Epoch 2 Loss:  1.1245550967943974\n"
          ]
        },
        {
          "output_type": "stream",
          "name": "stderr",
          "text": [
            "100%|██████████| 468/468 [00:05<00:00, 83.43it/s]\n"
          ]
        },
        {
          "output_type": "stream",
          "name": "stdout",
          "text": [
            "Epoch 3 Loss:  0.865203076066115\n"
          ]
        },
        {
          "output_type": "stream",
          "name": "stderr",
          "text": [
            "100%|██████████| 468/468 [00:05<00:00, 83.09it/s]\n"
          ]
        },
        {
          "output_type": "stream",
          "name": "stdout",
          "text": [
            "Epoch 4 Loss:  0.717189999217661\n"
          ]
        },
        {
          "output_type": "stream",
          "name": "stderr",
          "text": [
            "100%|██████████| 468/468 [00:05<00:00, 83.05it/s]\n"
          ]
        },
        {
          "output_type": "stream",
          "name": "stdout",
          "text": [
            "Epoch 5 Loss:  0.6212207795972498\n"
          ]
        },
        {
          "output_type": "stream",
          "name": "stderr",
          "text": [
            "100%|██████████| 468/468 [00:05<00:00, 83.53it/s]\n"
          ]
        },
        {
          "output_type": "stream",
          "name": "stdout",
          "text": [
            "Epoch 6 Loss:  0.5545561816702541\n"
          ]
        },
        {
          "output_type": "stream",
          "name": "stderr",
          "text": [
            "100%|██████████| 468/468 [00:05<00:00, 83.64it/s]\n"
          ]
        },
        {
          "output_type": "stream",
          "name": "stdout",
          "text": [
            "Epoch 7 Loss:  0.5039581515722804\n"
          ]
        },
        {
          "output_type": "stream",
          "name": "stderr",
          "text": [
            "100%|██████████| 468/468 [00:05<00:00, 83.79it/s]\n"
          ]
        },
        {
          "output_type": "stream",
          "name": "stdout",
          "text": [
            "Epoch 8 Loss:  0.46424469326296425\n"
          ]
        },
        {
          "output_type": "stream",
          "name": "stderr",
          "text": [
            "100%|██████████| 468/468 [00:05<00:00, 83.77it/s]\n"
          ]
        },
        {
          "output_type": "stream",
          "name": "stdout",
          "text": [
            "Epoch 9 Loss:  0.4325200269619624\n"
          ]
        },
        {
          "output_type": "stream",
          "name": "stderr",
          "text": [
            "100%|██████████| 468/468 [00:05<00:00, 83.20it/s]"
          ]
        },
        {
          "output_type": "stream",
          "name": "stdout",
          "text": [
            "Epoch 10 Loss:  0.40654369609223473\n"
          ]
        },
        {
          "output_type": "stream",
          "name": "stderr",
          "text": [
            "\n"
          ]
        }
      ]
    },
    {
      "cell_type": "code",
      "source": [
        "plt.plot(model_relu_mini.accuracy, label='Model1')\n",
        "plt.plot(model_bn.accuracy, label='Model2')\n",
        "plt.legend()"
      ],
      "metadata": {
        "id": "3TgGeUHtEzgW",
        "colab": {
          "base_uri": "https://localhost:8080/",
          "height": 283
        },
        "outputId": "c19de45f-007a-4c43-8fd1-d182d827a5ca"
      },
      "execution_count": null,
      "outputs": [
        {
          "output_type": "execute_result",
          "data": {
            "text/plain": [
              "<matplotlib.legend.Legend at 0x7faf5842dc50>"
            ]
          },
          "metadata": {},
          "execution_count": 32
        },
        {
          "output_type": "display_data",
          "data": {
            "text/plain": [
              "<Figure size 432x288 with 1 Axes>"
            ],
            "image/png": "[encoded data removed]"
          },
          "metadata": {
            "needs_background": "light"
          }
        }
      ]
    },
    {
      "cell_type": "markdown",
      "source": [
        "### Better Gradient Descent Methods\n",
        "*   Other Optimizer"
      ],
      "metadata": {
        "id": "6L7xktdYM8FZ"
      }
    },
    {
      "cell_type": "markdown",
      "source": [
        "##### Other Optimizer\n",
        "\n",
        "*   SGD with Momentum\n",
        "*   Adagrad\n",
        "*   RMSProp\n",
        "*   Adam (RMSProp + Momentum)"
      ],
      "metadata": {
        "id": "Td8jw2V9VOAS"
      }
    },
    {
      "cell_type": "code",
      "source": [
        "class Classifier_opt(torch.nn.Module):\n",
        "    def __init__(self, input_dim, hidden_dim,device, output_dim, lr = 0.001, epochs = 10, activation='sigmoid',dropout=0.0, opt='sgd', momentum=0.9):\n",
        "        super(Classifier_opt, self).__init__()\n",
        "        self.input_dim = input_dim\n",
        "        self.hidden_dim = hidden_dim\n",
        "        self.output_dim = output_dim\n",
        "        self.epochs = epochs\n",
        "        self.total_losses = []\n",
        "        self.accuracy=[]\n",
        "        self.lr = lr\n",
        "        self.device = device\n",
        "        self.activation = activation\n",
        "        self.dropout = dropout\n",
        "        self.opt=opt\n",
        "        self.momentum=momentum\n",
        "\n",
        "        self.fc1 = torch.nn.Linear(self.input_dim, self.hidden_dim[0]).to(self.device)\n",
        "        self.bn1 = torch.nn.BatchNorm1d(self.hidden_dim[0]).to(self.device)\n",
        "        self.dropout1 = torch.nn.Dropout(self.dropout)\n",
        "        self.fc2 = torch.nn.Linear(self.hidden_dim[0], self.hidden_dim[1]).to(self.device)\n",
        "        self.bn2 = torch.nn.BatchNorm1d(self.hidden_dim[1]).to(self.device)\n",
        "        self.dropout2 = torch.nn.Dropout(self.dropout)\n",
        "        self.fc3 = torch.nn.Linear(self.hidden_dim[1], self.hidden_dim[2]).to(self.device)\n",
        "        self.bn3 = torch.nn.BatchNorm1d(self.hidden_dim[2]).to(self.device)\n",
        "        self.dropout3 = torch.nn.Dropout(self.dropout)\n",
        "        self.fc4 = torch.nn.Linear(self.hidden_dim[2], self.output_dim).to(self.device)\n",
        "        self.dropout4 = torch.nn.Dropout(self.dropout)\n",
        "        \n",
        "        torch.nn.init.xavier_uniform_(self.fc1.weight)\n",
        "        torch.nn.init.xavier_uniform_(self.fc2.weight)\n",
        "        torch.nn.init.xavier_uniform_(self.fc3.weight)\n",
        "        torch.nn.init.xavier_uniform_(self.fc4.weight)\n",
        "        \n",
        "    def forward(self, x):\n",
        "        if self.activation == 'relu':\n",
        "            pred = self.dropout1(F.relu(self.bn1(self.fc1(x))))\n",
        "            pred = self.dropout2(F.relu(self.bn2(self.fc2(pred))))\n",
        "            pred = self.dropout3(F.relu(self.bn3(self.fc3(pred))))\n",
        "            pred = self.dropout4(self.fc4(pred))\n",
        "        else:\n",
        "            pred = self.dropout1(torch.sigmoid(self.bn1(self.fc1(x))))\n",
        "            pred = self.dropout2(torch.sigmoid(self.bn2(self.fc2(pred))))\n",
        "            pred = self.dropout3(torch.sigmoid(self.bn3(self.fc3(pred))))\n",
        "            pred = self.dropout4(self.fc4(pred))\n",
        "        \n",
        "        return pred\n",
        "\n",
        "    def fit(self, data):\n",
        "        criterion = torch.nn.CrossEntropyLoss().to(self.device)\n",
        "        if self.opt =='sgd':\n",
        "          optimizer = torch.optim.SGD(self.parameters(), lr = self.lr, momentum=self.momentum)\n",
        "        elif self.opt =='adagrad':\n",
        "          optimizer = torch.optim.Adagrad(self.parameters(), lr = self.lr)\n",
        "        elif self.opt =='rmsprop':\n",
        "          optimizer = torch.optim.RMSprop(self.parameters(), lr = self.lr)\n",
        "        elif self.opt =='adam':\n",
        "          optimizer = torch.optim.Adam(self.parameters(), lr = self.lr)\n",
        "        \n",
        "        for _ in range(self.epochs):\n",
        "            total_loss=0\n",
        "            total_accuracy=0\n",
        "            for x, y in tqdm(data):\n",
        "                x = x.view(-1,784).to(self.device)\n",
        "                y = y.to(self.device)\n",
        "                optimizer.zero_grad()\n",
        "\n",
        "                pred = self.forward(x)\n",
        "\n",
        "                loss = criterion(pred, y)\n",
        "                loss.backward()\n",
        "                optimizer.step()\n",
        "                \n",
        "                correct_pred = torch.argmax(pred,1) == y\n",
        "                accuracy = correct_pred.float().mean()\n",
        "                total_accuracy+=accuracy.item()\n",
        "                total_loss+=loss.item()\n",
        "\n",
        "            print('Epoch {} Loss: '.format(_+1),total_loss/len(data))\n",
        "            self.total_losses.append(total_loss/len(data))\n",
        "            self.accuracy.append(total_accuracy/len(data))\n",
        "\n",
        "    def evaluation(self, x, y):\n",
        "        with torch.no_grad():\n",
        "            self.eval()\n",
        "            criterion = torch.nn.CrossEntropyLoss().to(self.device)\n",
        "            pred = self.forward(x)\n",
        "            loss = criterion(pred, y)\n",
        "            correct_pred = torch.argmax(pred,1) == y\n",
        "            accuracy = correct_pred.float().mean()\n",
        "            print('Accuracy', accuracy.item())\n",
        "        \n",
        "        return accuracy.item()\n",
        "\n",
        "    def get_weights(self):\n",
        "        return [self.fc1.weight, self.fc2.weight,self.fc3.weight, self.fc4.weight]\n"
      ],
      "metadata": {
        "id": "stpE4oVJVNZG"
      },
      "execution_count": null,
      "outputs": []
    },
    {
      "cell_type": "code",
      "source": [
        "model_rmsprop = Classifier_opt(input_dim = 784, hidden_dim=(256,128,64), output_dim=10,device=device, activation='relu',opt='rmsprop')\n",
        "model_adagrad = Classifier_opt(input_dim = 784, hidden_dim=(256,128,64), output_dim=10,device=device, activation='relu',opt='adagrad')\n",
        "model_adam = Classifier_opt(input_dim = 784, hidden_dim=(256,128,64), output_dim=10,device=device, activation='relu',opt='adam')\n",
        "model_momentum = Classifier_opt(input_dim = 784, hidden_dim=(256,128,64), output_dim=10,device=device, activation='relu')"
      ],
      "metadata": {
        "id": "VpivxnBiHUna"
      },
      "execution_count": null,
      "outputs": []
    },
    {
      "cell_type": "code",
      "source": [
        "model_rmsprop.fit(train_loader)"
      ],
      "metadata": {
        "id": "dmptdEjlUcoC",
        "colab": {
          "base_uri": "https://localhost:8080/"
        },
        "outputId": "14ac3a41-7780-4f8b-9f0a-31a691720fbd"
      },
      "execution_count": null,
      "outputs": [
        {
          "output_type": "stream",
          "name": "stderr",
          "text": [
            "100%|██████████| 468/468 [00:05<00:00, 79.38it/s]\n"
          ]
        },
        {
          "output_type": "stream",
          "name": "stdout",
          "text": [
            "Epoch 1 Loss:  0.17685424578654715\n"
          ]
        },
        {
          "output_type": "stream",
          "name": "stderr",
          "text": [
            "100%|██████████| 468/468 [00:05<00:00, 78.14it/s]\n"
          ]
        },
        {
          "output_type": "stream",
          "name": "stdout",
          "text": [
            "Epoch 2 Loss:  0.0727069991099465\n"
          ]
        },
        {
          "output_type": "stream",
          "name": "stderr",
          "text": [
            "100%|██████████| 468/468 [00:05<00:00, 79.39it/s]\n"
          ]
        },
        {
          "output_type": "stream",
          "name": "stdout",
          "text": [
            "Epoch 3 Loss:  0.05113135958806826\n"
          ]
        },
        {
          "output_type": "stream",
          "name": "stderr",
          "text": [
            "100%|██████████| 468/468 [00:05<00:00, 79.71it/s]\n"
          ]
        },
        {
          "output_type": "stream",
          "name": "stdout",
          "text": [
            "Epoch 4 Loss:  0.036013817905177735\n"
          ]
        },
        {
          "output_type": "stream",
          "name": "stderr",
          "text": [
            "100%|██████████| 468/468 [00:05<00:00, 80.31it/s]\n"
          ]
        },
        {
          "output_type": "stream",
          "name": "stdout",
          "text": [
            "Epoch 5 Loss:  0.028647174780121725\n"
          ]
        },
        {
          "output_type": "stream",
          "name": "stderr",
          "text": [
            "100%|██████████| 468/468 [00:05<00:00, 79.87it/s]\n"
          ]
        },
        {
          "output_type": "stream",
          "name": "stdout",
          "text": [
            "Epoch 6 Loss:  0.024111878025369383\n"
          ]
        },
        {
          "output_type": "stream",
          "name": "stderr",
          "text": [
            "100%|██████████| 468/468 [00:05<00:00, 78.89it/s]\n"
          ]
        },
        {
          "output_type": "stream",
          "name": "stdout",
          "text": [
            "Epoch 7 Loss:  0.020162915794525105\n"
          ]
        },
        {
          "output_type": "stream",
          "name": "stderr",
          "text": [
            "100%|██████████| 468/468 [00:05<00:00, 79.95it/s]\n"
          ]
        },
        {
          "output_type": "stream",
          "name": "stdout",
          "text": [
            "Epoch 8 Loss:  0.0180861763516839\n"
          ]
        },
        {
          "output_type": "stream",
          "name": "stderr",
          "text": [
            "100%|██████████| 468/468 [00:05<00:00, 78.80it/s]\n"
          ]
        },
        {
          "output_type": "stream",
          "name": "stdout",
          "text": [
            "Epoch 9 Loss:  0.014581423057800429\n"
          ]
        },
        {
          "output_type": "stream",
          "name": "stderr",
          "text": [
            "100%|██████████| 468/468 [00:05<00:00, 79.76it/s]"
          ]
        },
        {
          "output_type": "stream",
          "name": "stdout",
          "text": [
            "Epoch 10 Loss:  0.0134016612233904\n"
          ]
        },
        {
          "output_type": "stream",
          "name": "stderr",
          "text": [
            "\n"
          ]
        }
      ]
    },
    {
      "cell_type": "code",
      "source": [
        "model_adagrad.fit(train_loader)"
      ],
      "metadata": {
        "id": "VguA2IACWz3k",
        "colab": {
          "base_uri": "https://localhost:8080/"
        },
        "outputId": "1a6417c3-1885-4454-8299-59b2b5dcc175"
      },
      "execution_count": null,
      "outputs": [
        {
          "output_type": "stream",
          "name": "stderr",
          "text": [
            "100%|██████████| 468/468 [00:05<00:00, 80.29it/s]\n"
          ]
        },
        {
          "output_type": "stream",
          "name": "stdout",
          "text": [
            "Epoch 1 Loss:  0.5980231240391731\n"
          ]
        },
        {
          "output_type": "stream",
          "name": "stderr",
          "text": [
            "100%|██████████| 468/468 [00:05<00:00, 80.54it/s]\n"
          ]
        },
        {
          "output_type": "stream",
          "name": "stdout",
          "text": [
            "Epoch 2 Loss:  0.32611310440633035\n"
          ]
        },
        {
          "output_type": "stream",
          "name": "stderr",
          "text": [
            "100%|██████████| 468/468 [00:05<00:00, 80.66it/s]\n"
          ]
        },
        {
          "output_type": "stream",
          "name": "stdout",
          "text": [
            "Epoch 3 Loss:  0.26445125263088787\n"
          ]
        },
        {
          "output_type": "stream",
          "name": "stderr",
          "text": [
            "100%|██████████| 468/468 [00:05<00:00, 81.22it/s]\n"
          ]
        },
        {
          "output_type": "stream",
          "name": "stdout",
          "text": [
            "Epoch 4 Loss:  0.22884496156540182\n"
          ]
        },
        {
          "output_type": "stream",
          "name": "stderr",
          "text": [
            "100%|██████████| 468/468 [00:05<00:00, 80.92it/s]\n"
          ]
        },
        {
          "output_type": "stream",
          "name": "stdout",
          "text": [
            "Epoch 5 Loss:  0.20523719027893156\n"
          ]
        },
        {
          "output_type": "stream",
          "name": "stderr",
          "text": [
            "100%|██████████| 468/468 [00:05<00:00, 80.92it/s]\n"
          ]
        },
        {
          "output_type": "stream",
          "name": "stdout",
          "text": [
            "Epoch 6 Loss:  0.18797045527424058\n"
          ]
        },
        {
          "output_type": "stream",
          "name": "stderr",
          "text": [
            "100%|██████████| 468/468 [00:05<00:00, 80.32it/s]\n"
          ]
        },
        {
          "output_type": "stream",
          "name": "stdout",
          "text": [
            "Epoch 7 Loss:  0.17498558686457127\n"
          ]
        },
        {
          "output_type": "stream",
          "name": "stderr",
          "text": [
            "100%|██████████| 468/468 [00:05<00:00, 79.95it/s]\n"
          ]
        },
        {
          "output_type": "stream",
          "name": "stdout",
          "text": [
            "Epoch 8 Loss:  0.16419820078354105\n"
          ]
        },
        {
          "output_type": "stream",
          "name": "stderr",
          "text": [
            "100%|██████████| 468/468 [00:05<00:00, 80.44it/s]\n"
          ]
        },
        {
          "output_type": "stream",
          "name": "stdout",
          "text": [
            "Epoch 9 Loss:  0.15371483693329188\n"
          ]
        },
        {
          "output_type": "stream",
          "name": "stderr",
          "text": [
            "100%|██████████| 468/468 [00:05<00:00, 80.56it/s]"
          ]
        },
        {
          "output_type": "stream",
          "name": "stdout",
          "text": [
            "Epoch 10 Loss:  0.14564847827562663\n"
          ]
        },
        {
          "output_type": "stream",
          "name": "stderr",
          "text": [
            "\n"
          ]
        }
      ]
    },
    {
      "cell_type": "code",
      "source": [
        "model_adam.fit(train_loader)"
      ],
      "metadata": {
        "id": "U2_txu0JXeMp",
        "colab": {
          "base_uri": "https://localhost:8080/"
        },
        "outputId": "9138c873-4042-40e9-96b4-13be67f91e44"
      },
      "execution_count": null,
      "outputs": [
        {
          "output_type": "stream",
          "name": "stderr",
          "text": [
            "100%|██████████| 468/468 [00:06<00:00, 76.71it/s]\n"
          ]
        },
        {
          "output_type": "stream",
          "name": "stdout",
          "text": [
            "Epoch 1 Loss:  0.23729713232471392\n"
          ]
        },
        {
          "output_type": "stream",
          "name": "stderr",
          "text": [
            "100%|██████████| 468/468 [00:06<00:00, 76.66it/s]\n"
          ]
        },
        {
          "output_type": "stream",
          "name": "stdout",
          "text": [
            "Epoch 2 Loss:  0.0817362158638863\n"
          ]
        },
        {
          "output_type": "stream",
          "name": "stderr",
          "text": [
            "100%|██████████| 468/468 [00:06<00:00, 75.98it/s]\n"
          ]
        },
        {
          "output_type": "stream",
          "name": "stdout",
          "text": [
            "Epoch 3 Loss:  0.05238481804342447\n"
          ]
        },
        {
          "output_type": "stream",
          "name": "stderr",
          "text": [
            "100%|██████████| 468/468 [00:06<00:00, 77.73it/s]\n"
          ]
        },
        {
          "output_type": "stream",
          "name": "stdout",
          "text": [
            "Epoch 4 Loss:  0.03660747292899312\n"
          ]
        },
        {
          "output_type": "stream",
          "name": "stderr",
          "text": [
            "100%|██████████| 468/468 [00:06<00:00, 77.91it/s]\n"
          ]
        },
        {
          "output_type": "stream",
          "name": "stdout",
          "text": [
            "Epoch 5 Loss:  0.030314601282191135\n"
          ]
        },
        {
          "output_type": "stream",
          "name": "stderr",
          "text": [
            "100%|██████████| 468/468 [00:06<00:00, 77.83it/s]\n"
          ]
        },
        {
          "output_type": "stream",
          "name": "stdout",
          "text": [
            "Epoch 6 Loss:  0.022183777800757185\n"
          ]
        },
        {
          "output_type": "stream",
          "name": "stderr",
          "text": [
            "100%|██████████| 468/468 [00:06<00:00, 77.08it/s]\n"
          ]
        },
        {
          "output_type": "stream",
          "name": "stdout",
          "text": [
            "Epoch 7 Loss:  0.021552957104231454\n"
          ]
        },
        {
          "output_type": "stream",
          "name": "stderr",
          "text": [
            "100%|██████████| 468/468 [00:06<00:00, 76.86it/s]\n"
          ]
        },
        {
          "output_type": "stream",
          "name": "stdout",
          "text": [
            "Epoch 8 Loss:  0.01781354304134416\n"
          ]
        },
        {
          "output_type": "stream",
          "name": "stderr",
          "text": [
            "100%|██████████| 468/468 [00:06<00:00, 77.31it/s]\n"
          ]
        },
        {
          "output_type": "stream",
          "name": "stdout",
          "text": [
            "Epoch 9 Loss:  0.014997243443424376\n"
          ]
        },
        {
          "output_type": "stream",
          "name": "stderr",
          "text": [
            "100%|██████████| 468/468 [00:06<00:00, 76.68it/s]"
          ]
        },
        {
          "output_type": "stream",
          "name": "stdout",
          "text": [
            "Epoch 10 Loss:  0.01654571067090604\n"
          ]
        },
        {
          "output_type": "stream",
          "name": "stderr",
          "text": [
            "\n"
          ]
        }
      ]
    },
    {
      "cell_type": "code",
      "source": [
        "model_momentum.fit(train_loader)"
      ],
      "metadata": {
        "id": "mJkwbj6mhg9x",
        "colab": {
          "base_uri": "https://localhost:8080/"
        },
        "outputId": "f3c574b2-8435-478b-b62d-2cb59436b109"
      },
      "execution_count": null,
      "outputs": [
        {
          "output_type": "stream",
          "name": "stderr",
          "text": [
            "100%|██████████| 468/468 [00:05<00:00, 81.68it/s]\n"
          ]
        },
        {
          "output_type": "stream",
          "name": "stdout",
          "text": [
            "Epoch 1 Loss:  0.7829459541373782\n"
          ]
        },
        {
          "output_type": "stream",
          "name": "stderr",
          "text": [
            "100%|██████████| 468/468 [00:05<00:00, 81.79it/s]\n"
          ]
        },
        {
          "output_type": "stream",
          "name": "stdout",
          "text": [
            "Epoch 2 Loss:  0.3294532344891475\n"
          ]
        },
        {
          "output_type": "stream",
          "name": "stderr",
          "text": [
            "100%|██████████| 468/468 [00:05<00:00, 81.71it/s]\n"
          ]
        },
        {
          "output_type": "stream",
          "name": "stdout",
          "text": [
            "Epoch 3 Loss:  0.24066398789485297\n"
          ]
        },
        {
          "output_type": "stream",
          "name": "stderr",
          "text": [
            "100%|██████████| 468/468 [00:05<00:00, 81.04it/s]\n"
          ]
        },
        {
          "output_type": "stream",
          "name": "stdout",
          "text": [
            "Epoch 4 Loss:  0.19579339266205445\n"
          ]
        },
        {
          "output_type": "stream",
          "name": "stderr",
          "text": [
            "100%|██████████| 468/468 [00:05<00:00, 81.56it/s]\n"
          ]
        },
        {
          "output_type": "stream",
          "name": "stdout",
          "text": [
            "Epoch 5 Loss:  0.16553242514944738\n"
          ]
        },
        {
          "output_type": "stream",
          "name": "stderr",
          "text": [
            "100%|██████████| 468/468 [00:05<00:00, 80.71it/s]\n"
          ]
        },
        {
          "output_type": "stream",
          "name": "stdout",
          "text": [
            "Epoch 6 Loss:  0.14390510247431249\n"
          ]
        },
        {
          "output_type": "stream",
          "name": "stderr",
          "text": [
            "100%|██████████| 468/468 [00:05<00:00, 81.64it/s]\n"
          ]
        },
        {
          "output_type": "stream",
          "name": "stdout",
          "text": [
            "Epoch 7 Loss:  0.128001664343298\n"
          ]
        },
        {
          "output_type": "stream",
          "name": "stderr",
          "text": [
            "100%|██████████| 468/468 [00:05<00:00, 81.37it/s]\n"
          ]
        },
        {
          "output_type": "stream",
          "name": "stdout",
          "text": [
            "Epoch 8 Loss:  0.11429463195590636\n"
          ]
        },
        {
          "output_type": "stream",
          "name": "stderr",
          "text": [
            "100%|██████████| 468/468 [00:05<00:00, 81.05it/s]\n"
          ]
        },
        {
          "output_type": "stream",
          "name": "stdout",
          "text": [
            "Epoch 9 Loss:  0.10300944526640014\n"
          ]
        },
        {
          "output_type": "stream",
          "name": "stderr",
          "text": [
            "100%|██████████| 468/468 [00:05<00:00, 81.43it/s]"
          ]
        },
        {
          "output_type": "stream",
          "name": "stdout",
          "text": [
            "Epoch 10 Loss:  0.09493635283607958\n"
          ]
        },
        {
          "output_type": "stream",
          "name": "stderr",
          "text": [
            "\n"
          ]
        }
      ]
    },
    {
      "cell_type": "code",
      "source": [
        "fig = plt.figure(figsize=(20,5))\n",
        "ax = fig.add_subplot(1,2,1)\n",
        "ax.plot(model_bn.accuracy, label='Normal')\n",
        "ax.plot(model_rmsprop.accuracy, label='RMSProp')\n",
        "ax.plot(model_adagrad.accuracy, label='Adagrad')\n",
        "ax.plot(model_adam.accuracy, label='Adam')\n",
        "ax.plot(model_momentum.accuracy, label='Momentum')\n",
        "ax.legend()\n",
        "ax = fig.add_subplot(1,2,2)\n",
        "ax.plot(model_bn.total_losses, label='Normal')\n",
        "ax.plot(model_rmsprop.total_losses, label='RMSProp')\n",
        "ax.plot(model_adagrad.total_losses, label='Adagrad')\n",
        "ax.plot(model_adam.total_losses, label='Adam')\n",
        "ax.plot(model_momentum.total_losses, label='Momentum')\n",
        "ax.legend()"
      ],
      "metadata": {
        "id": "zp5DlEkWizty",
        "colab": {
          "base_uri": "https://localhost:8080/",
          "height": 338
        },
        "outputId": "210575f0-3dfa-4282-88b0-f04f4e18fc8a"
      },
      "execution_count": null,
      "outputs": [
        {
          "output_type": "execute_result",
          "data": {
            "text/plain": [
              "<matplotlib.legend.Legend at 0x7faf584b90d0>"
            ]
          },
          "metadata": {},
          "execution_count": 39
        },
        {
          "output_type": "display_data",
          "data": {
            "text/plain": [
              "<Figure size 1440x360 with 2 Axes>"
            ],
            "image/png": "[encoded data removed]"
          },
          "metadata": {
            "needs_background": "light"
          }
        }
      ]
    },
    {
      "cell_type": "markdown",
      "source": [
        "### Regularization\n",
        "*   Early Stopping\n",
        "*   Max norm constraints\n",
        "*   Weight Decay"
      ],
      "metadata": {
        "id": "WSC0CGNyq317"
      }
    },
    {
      "cell_type": "markdown",
      "source": [
        "##### Early Stopping\n",
        "*    Validation Set"
      ],
      "metadata": {
        "id": "Pot5hfqJrauk"
      }
    },
    {
      "cell_type": "markdown",
      "source": [
        "![DATASET.PNG](data:image/png;base64,iVBORw0KGgoAAAANSUhEUgAAA2kAAADRCAYAAABW+fojAAAAAXNSR0IArs4c6QAAAARnQU1BAACxjwv8YQUAAAAJcEhZcwAADsMAAA7DAcdvqGQAACerSURBVHhe7d1PjxzXdf5xvYP4FQRB9oyD7OxFgEAIsskiiywEZOFkk0UAwdlY2djZKAmyyIYIICCBIxlRECLZGAIkG5AQ2uBPBKMfKAgCRAm2w4gixBFpmqRaIod/ZsiKnp45M6dvn1t1qrua0139fYAPNOyqrq7uLs/cx7e6+pmGEEIIIYQQQsjahJJGCCGEEEIIIWsUShohhBBCCCGErFEoaYQQQgghhBCyRlm4pO3c3m3OnL/SPP/Kxea50283z754tvmt7/wIAAAAWHsau2oMq7GsxrQa255E9h4/aSb395vrk0fNp3ceNFdvPWj+9+Z9bBC9Z3rv9B5Odvem7+my6V3Szn10o/nWSxfCgx0AAADYVBrjaqz7NHLv4X6z8/nDcNCPzaf3Vu/xokmXtJ9/9kXz7R+8e3QQf/2F4wP61OF/AQAAgE0xO4Z94+hnjXk19l1FHu4/aa5P2svZ5V/Gt2P9hO+Vu03vtd7zvkmVtLMf3Gi+8d03pwft11/48dEBDAAAAIzRN7/35nQMPGTuPXzcXDk8nfHjKU5tHKPLX/Hvrd5zvfd90lnSXj33sTtgKWgAAADYHhoLD5HJ7v7sQJ7ZstEr32MdA9m0ljT9vwfRwQoAAABsi2Vn1DSL4gfr2F7ZGbVqSdN5uHaKIwAAALCtdOrjop9R0+eR7BRHQMdC5jNq1ZLmLxICAAAAbDONjRdJ10VCsH10THQlLGm69KgORi4SAgAAABzoe3l+XYJdg3JdJITPoMEfA12X5w9LGt+DBgAAAMzSGLlP7HvQuIojjB0LOjbaMlfS9G3rOgj996ABAAAA2+3ge9Q0Vs5k7/GTuQE6MHU4o6ZjpJa5knbm/JXigAQAAAAgGitnMtndmx+cA07bJfnnStrzr1wMD0gAAABg22msnMn1yaNwYA4YHSO1zJW0506/PT0ATxUHJAAAALCtbGyssXImn97hc2hop2OklrmS9uyLZ+cOSgAAAAA/mo6VM7nKd6Ohg46RWuZKWnQwAgAAADiQiQ3EufQ+Sv6YqIWSBgAAAPSQiR+UAzW1UNIAAACAHjKJBuRAqRZKGgAAANBDJtGAHCjVQkkDAAAAesgkGpADpVooaQAAAEAPmUQDcqBUCyUNAAAA6CGTaEAOlGqhpAEAAAA9ZBINyIFSLZQ0AAAAoIdMogE5UKqFkgYAAAD0kEk0IAdKtVDSAAAAgB4yiQbkQKkWShoAAADQQybRgBwo1UJJAwAAAHrIJBqQA6VaKGkAAABAD5lEA3KgVAslDQAAAOghk2hADpRqoaQBAAAAPWQSDciBUi2UNAAAAKCHTKIBOVCqhZIGAAAA9JBJNCAHSrVQ0gAAAIAeMokG5ECpFkoaAAAA0EMm0YAcKNVCSQMAAAB6yCQakAOlWihpADbGJzfvHv6mykf3sfv//WuXDm+No3Vff/fazGNm/Gzni6P7R8sj9lx+cunG3DK/n3fuPWr+4O9+MrdOxLap+5fL9DhKbR99vvNv74XrlGyb0XOI/NNbv2je/+ROc/3z2T9K9x/tH732f/rShfC+ALBOMokG5H0988wzvf3VX//t0f31c7RO6T9f/6+ZxzU/vfhh8xd/+UJz6rd/Z2Z9/Vu3a7mt+7u/9/sz62ToPnZ/7YPdbrd5fvt/8w//GK5Tsm36x2nzxk/fmT6v6LnoNi3TOtF9F1ULJQ3AxrAS0ie+lHSVNItKRLYYqVT4ZEuGPZeukqb89y9+NbdOxLa5bEnT84/WKWVLmkpfWcxqqe0fAKyTTKIBeV9lUcgYqqSpkETrev6xomLTxZenPiXt1772tZmCWJMtae/+7Frzh3/0x0fb7xJtY1G1UNIAbDxLtMzz5adcpnJlpUPJlgVffpS+hSoqOLafmkWzRMWrZNtcpqTZY3YVL7Fttq377+evTNdRtG3NlpUzdXrtNcum104zbX4ZAKyjTKIB+RD6zA5ZScus6/mCpm2Us0faB62TmdGy7UTLvGxJ+/Xf+M3pfzPPKfNa6bmp9Gk9/VfPS/fz66jE6Ta9FppF9MuWVQslDcDGs0TLvLaSZlQiLJlZMSs1tm2duhetV8qUNK2j4qLoccr1SkOUNJUlS9fz7yppfluULwBjkkk0IB9CpniYRUqaZqh0H3n5zA/DdfqwbUXLvGxJO/3P/3pUqvRztK7peq30XG1bKl8qY9F6q1QLJQ3AxrNEy7xMSRNLVHY8254+k6Z/W0nS7FG5bilb0nTaZXZ2a4iSpp+zn7FrK2nabxVWhYIGYGwyiQbkQ1h1SesqS31lt5UtaVpPM3j6WQWrrVh1vVa2zZMqaFILJQ3AxrNEy7yhS5rKh2KlzE7t6yo3YoWqraQp5b/bLuoxREnTfX3BaruQSltJs9cm+/k2ANgkmUQD8iE8zZI2RHGxbUXLvGxJ03Py/9Znycp1TdtrpVk4LVPRy3y+bVVqoaQB2HiWaJlXlp+ICoqlrRD59fRzeVvXqYJ9SprYaY9tpWeokqZ/26mKKmu159JW0qzkZWYVAWDTZBINyIew6pKmYmanAP7Jn/15uE4f2o5Ey7y+Jc2fqlg7LbPttbILhQzxHJdRCyUNwMazRMu8TEmzGaCuz4DZZ9fsVEdjpwp2XUCkb0lTAbTTHmuzW0OWNLHnUj5HUytpfv+twALAmGQSDciHsOqSJjbLJDoVUI8ZrZdh24mWeX1Lmthpj7qYSDTr1/Za2WMN8bm7ZdRCSQOw8SzRMq+tpGnWzEqJZoHaZtHECpNmnPztfgbK317qW9L87bXZraFLmgqWzYiVz1NqJc1O+8xc7AQANlEm0YB8CIuUtDa17fgLdNh6i5Q1u3+0zFukpPnbdVVGf7vUXit/cZSTPNVRaqGkAdh4lmiZ58tPLSoxXQVNy5VaEbNi03aq3yIlTey0x6hsDV3SxJfOclasVtK6Hkva3oto/wFgnWQSDciH8LRKmqjA6HTAcv0+X+hs94uWeYuWNH/aY1kia69V12MZW6dU7sMyaqGkAdh4lmiZ11YMlK5TFI2dElm7amHmohmLljR/2mNZAldR0sRmGMvn21XS2p5/23sR7QMArJNMogH5EBYpaZl120RlLVtUbP1ombdoSRN/2qO/PVPS2i6OYuuUKGkAkGCJlnm18qOyY7NfteJl/CmAtTLhH6c2K7doSfPLy9mtVZW02nOulbSu/a+xRPsAAOskk2hAPoSTKGlGZc0uuJEtK7ZutMxbpqTVlre9VvZYWqdcVtO1D4uohZIGYONZomVeW3lQmbIiEn3+ytjnrbKplb5lSprYaY/+oh6rKmlipz1qFs+KYa2k6fNylj6Fy9LnPgBwEjKJBuRDOMmSZmy70nWZflsvWuYtW9L8aY92Ombba6VZt7btRShpANCDJVrmdZUfu2JjOUPl6RS+Pqlta9mS5me3rFSusqSJbd9OC62VNLHXqWtm0rNQ0gCsu0yiAfkQ1qGkibYrXTNRtl60zFu2pIk9X12RUv9ue610oREtK0+RbENJA4AeLNEyL1N+rFxEl523C4YoXRcX8bNJ0QVEli1pUs5urbqk6TlZMdTzbytpfsaxbWbSs1DSAKy7TKIB+RAoae0FSQVN6+lzam2vlWbe7PGiK0NGKGkA0IMlWuZlyo8vYmVZsFMM2y6I4bVdQGSIkiZ2UQ/t26pLmthso55TW0kT/5UGUVEtWbr2AQBOWibRgHwI61DSfKHqutKjrRct84YqadofradTH+373mrP3y44IpmiRkkDgB4s0TIvW36sjPnPX4nNImUKh/jHK2fehipp/rRH+29UcoYqaWL7bo9XK2naN5uZVHQ/vXb+O960jmbarNAqmX0AgJOUSTQgH8KqS5q2r4uDqODoZ79Ms0/++9My29V6Ei3zhippYs87s5/+qpU69VHFrSye2jeVONseJQ0AEizRMi9bflQc7DL39vkrf/qeL25drKSUn80aqqSJnfZoWXVJ86c9KrWSJnqtrPRmov3zJQ4A1lEm0YB8CIuUtC5+W74stdF9ui4aIrZ+tMwbsqSJnfYoXa+VipkVsC4qctrXaDuLqIWSBmDjWaJlXp/y44uP7melqs+FMMTKnUqNL3dDljSxUwuVVZc0sdMelbaSZlS8/CmZFr0uuk3boJwB2BSZRAPyIay6pIlmyzTDZMXIqKDo9pfP/HBm/TZ232iZN3RJs9MeJfNaqXCqrGndsrDpNs2kDVnOTC2UNAAAAKCHTKIBOVCqhZIGAAAA9JBJNCAHSrVQ0gAAAIAeMokG5ECpFkoaAAAA0EMm0YAcKNVCSQMAAAB6yCQakAOlWihpAAAAQA+ZRANyoFQLJQ0AAADoIZNoQA6UaqGkAQAAAD1kEg3IgVItlDQAAACgh0yiATlQqoWSBgAAAPSQSTQgB0q1UNIAAACAHjKJBuRAqRZKGgAAANBDJtGAHCjVQkkDAAAAesgkGpADpVooaQAAAEAPmUQDcqBUCyUNAAAA6CGTaEAOlGqhpAEAAAA9ZBINyIFSLZQ0AAAAoIdMogE5UKqFkgYAAAD0kEk0IAdKtVDSAAAAgB4ysUH45V/OD8yx3fwxUctcSXv2xbPhwQgAAABsO42VM7l668HMwBwo6RipZa6kPXf67ekBeKo4IAEAAIBtZWNjjZUz+fQOJQ3tdIzUMlfSnn/l4txBCQAAAOBH07FyJtcnj8KBOWB0jNQyV9LOnL8SHpAAAADAttNYOZPJ/f1wYA6Yye7e4dEyn7mStnN79/AgfGPmgAQAAAC218HYWGPlTPYePzkYjHPhEJQOjwkdI7XMlTTlWy9dKA5KAAAAYLtpjNwnO58/nA7GP77J59NwwI4FHRttCUvauY9uhAcmAAAAsK00Ru6Tew+PT3nkUvzwx4COjbaEJU359g/eDQ9OAAAAYNtobLxIrk8OZtMAo2OiK9WS9vPPvmi++b03w4MUAAAA2Bbf+O6b07HxInm4/6S5wnem4ZCOBR0TXamWNOXsB5z2CAAAgO2mMfEyuffwcThgx/bRsZBJa0lTXj33cXiwAgAAAOP046OfNRYeIpPd2Uvy8xm18SvfYx0D2XSWNEX/7wGnPgIAAGBb6BTHZWfQymgWxZ/6yFUfx+nyV/x7q/c8O4NmSZU0Refhzl5M5Ph71E4d3QYAAABshtkx7PHYVmPeRT+D1hV9HmnmYiLBjBqzbJsjfK/cbXqvM59BK5MuaRZdepTvUQMAAMDYaIzb9zL7i0aXYLfvUcP46L3tusx+W3qXNIu+bf3M+SvN869cbJ47/Xbz7Itnw4MdAAAAWDcau2oMq7GsxrQa255E9h4/aSa7e831yaPm0zsPmqtcCXLj6D3Te6f3cHJ/f/qeLpuFSxohhBBCCCGEkOFDSSOEEEIIIYSQNQoljRBCCCGEEELWKJQ0QgghhBBCCFmjUNIIIYQQQgghZI1CSSOEEEIIIYSQNQoljRBCCCGEEELWKJQ0QgghhBBCCFmjUNIIIYQQQgghZI1CSSOEEEIIIYSQNQoljRBCCCGEEELWKJQ0QgghhBBCCFmjUNIIIYQQQgghZI1CSSOEEEIIIYSQNQoljRBCCCGEEELWKJQ0QgghhBBCCFmjUNIIIYQQQgghZI1CSSOEEEIIIYSQNQoljRBCCCGEEELWKJQ0QgghhBBCCFmjUNIIIYQQQgghZI2ycEnbub3bnDl/pXn+lYvNc6ffbp598WzzW9/5EQAAWGP6e62/2/r7rb/j+nt+EvnywX7z4c7d5q1Lt5vX3rvZnHnnRvMv/28HeGp0zOnY0zGoY1HH5Elk7/GTZnJ/v7k+edR8eudBc/XWg+Z/b97HBtF7pvdO7+Fkd2/6ni6b3iXt3Ec3mm+9dCH8xQ8AADaP/q7r7/vTyNVb95vX3/9VOGgGTpqOTR2jTyP3Hu43O58/DAf92Hx6b/UeL5p0Sfv5Z1803/7Bu0e/0L/+wvEv91OH/wUAAOtv9u/2G0c/6++8/t6vIrfv7TVvfXjbDYg/O/r5++cO/33u2tFtwEodHmsHx948Has6ZleRh/tPmuuT9nJ2+Zfx7Vg/4XvlbtN7rfe8b1Il7ewHN5pvfPfN6S/wr7/w46Nf5gAAYFy++b03p3/3h8wntx40r1647gbBKmSzg2LgxNn/WXD4bx2zOnaHzL2Hj5srh6czfjzFqY1jdPkr/r3Ve673vk86S9qr5z4Of4kDAIDx0t//IfLBtbtHg96XD/8LbBIdw0Nksrs/O5Bntmz0yvdYx0A2rSVN/09a9IsbAACM37IzapqFiAa9wEZws73LzqhpFsUP1rG9sjNq1ZKmc9LtFEcAALB9dOrjop9R0+d5jk5x5NRGbDgdy4t+Rk2fR7JTHAEdC5nPqFVLmr9ICAAA2DYHn0HXeGCRzF4kBNhcdpqujulF0nWREGwfHRNdCUuaLsOrX8xcJAQAAPS9PL8uYV4OdIEx6Ht5fl2CXYNyXSSEz6DBHwNdl+cPSxrfgwYAAIzGBX1y/D1ox1fKAzbbwbGsY7tP7HvQuIojjB0LOjbaMlfSdm7vTn8h++9BAwAA2+rge9Q0Psjkywf7x4NaPouGsXDHso7xTPYeP5kboANThzNqOkZqmStpZ85fKX45AwCAbafxQSYf7hxfch8YIx3jmUx29+YH54AzuV8v/HMl7flXLoa/nAEAwPbS+CCTty5xwRCMm47xTK5PHoUDc8DoGKllrqQ9d/rt6S/jU8UvZwAAsH1sPKDxQSavvXdzOpD9Pqc6YmTsmNYxnsmnd/gcGtrpGKllrqQ9++LZuV/QAABgu2l8kMmZd27MDW6BcTi4eIiO8Uyu8t1o6KBjpJa5khb9YgYAAMjkaEB77trxz8AYuGM6ExuIc+l9lPwxUQslDQAApGQyM6gFRioTPygHamqhpAEAgJRMogEtMDaZRANyoFQLJQ0AAKRkEg1ogbHJJBqQA6VaKGkAACAlk2hAC4xNJtGAHCjVQkkDAAApmUQDWmBsMokG5ECpFkoaAABIySQa0AJjk0k0IAdKtVDSAABASibRgBYYm0yiATlQqoWSBgAAUjKJBrTA2GQSDciBUi2UNAAAkJJJNKAFxiaTaEAOlGqhpAEAgJRMogEtMDaZRANyoFQLJQ0AAKRkEg1ogbHJJBqQA6VaKGkAACAlk2hAC4xNJtGAHCjVQkkDAAApmUQDWmBsMokG5ECpFkoaAABIySQa0AJjk0k0IAdKtVDSAABASibRgBYYm0yiATlQqoWSBgAAUjKJBrTA2GQSDciBUi2UNAAAkJJJNKAFxiaTaEAOlGqhpAEAgJRMogEtMDaZRANyoFQLJQ0AAKRkEg1ogbHJJBqQA6VaKGkAACAlk2hAC4xNJtGAHCjVQkkDEv7+tUuH/wvpF93PtvHJzbuHt87nzr1Hzfuf3Gm+82/vzTxuF61v8Y/Vxj+XaLnfz9ffvRauU7Jt6r7Rcku0jz+5dONwadP8bOeLueU1lmhZ6U9fujB9Ltq/+4/2D+95kOuf35++9v/01i/C+wI4lkk0oO3jP/7/8e+E965+Ga5Tc+OLR9P73br7KFx+9qM70+XKhcuTcJ2S1rNEyyNd95ns7h0unc/e4yfT5dfuPOj9/I2ev6LtRMtlkXxy6/7R/fWz0vYYRu/ppZ270/16sPd4ej+L7v8/N3an60T39Xz0XkbrlGw//b4PIZNoQN7XM88809tf/fXfHt1fP0frlP7z9f+aeVzz04sfNn/xly80p377d2bW1791u5bbur/7e78/s06G7mP31z7Y7Xab57f/N//wj+E6Jdumf5w2b/z0nenzip6LbtMyrRPdd1G1UNKABF9s+sSXkraS5vPv56/MPHYblQuLfo7WKfUpaSo0KjjRet5QJU3JliVLtMwrt9+WaP8AHMskGtD21VW2Ihrkq+AotXJj21X0c7RO6WmXtDIqNX3K2uvv/+rwngfRv6P1FskiJU37bu9LW7SOylq0DeNz98F+uE6JkrZ4SVMhidb1/GNFxaaLL099Stqvfe1rMwWxJlvS3v3ZteYP/+iPj7bfJdrGomqhpAFLsAKg/0bLPSs/0boqJprRsWTKwh/83U+mJUqzcKLotmhdL1vSbJu14uUNUdLs8fScMs/DEi0TbcO/pjZbVm5b+6RZNs3iZV53YJtlEg1o+9LA3pKZYRHN1CgqNdFyK3FabrM5mW2vsqRFxUGlSs9fJdKXGz2/ct2IL0+KZuSi9SK2313FSzIlzdZR9JrrOfjSqJ91m+2r0laeLfb+ZYqX7UNm3T4yiQbkQ+gzO2QlLbOu5wuatlHOHmkftE5mRsu2Ey3zsiXt13/jN6f/zTynzGul56bSp/X0Xz0v3c+voxKn2/RaaBbRL1tWLZQ0YAlDlTRRebCikpkV04ybrWszapnTE7MlTdu3UwO7ZveGKGn6r5WqzPO3RMvEtqXn0Pc0UgCxTKIB7SJsIN41u2I0s6LUBuNW4lQCbEYts+2nXdI8lRhfYDIzava62T6o6EXrRYYsafZ6K5lZS70Xltr7YvElvjZTaChp/UuaZqh0H3n5zA/DdfqwbUXLvGxJO/3P/3pUqvRztK7peq30XG1bKl8qY9F6q1QLJQ1YwpAlTWx7tbLj2fZUQKwkqeRF63rZkqb1VPqUrtmtoUpan8/YWaJltk0KGjCsTKIB7SJscJ05rU0DdUtt0G5lR59lsjKiQhOt651kSTNWQLv21x7XThO1x8nOwg1V0vypp31OWbVt6r7RLKdFP2c+dye2zexrnZVJNCAfwqpLWldZ6iu7rWxJ03qawdPPKlhtxarrtbJtnlRBk1ooacASfMGIlntDljR9Tkzxpcxm4brKjRUqJVpe7qf9u+2iHkOUNLuv/VvPp60YWsrb7bVRuBgIMKxMogHtIjLFy+iUPqVWCGxbvuT4GSe/bmkdSpp/Ldpm02yG0EqZzWZlSpcMVdJsVqxWttrY+xK9Nhbtpy+CbTOilLTlStoQxcW2FS3zsiVNz8n/W58lK9c1ba+VZuG0TEUv8/m2VamFkgYswQqFFZo2ZfmJ/PcvDv4Qd13l0NbTf8vbuk4V7FvSVHrstMda6RmypImdquifX8lS3m6zf5lZRQD9ZBINaBdlZabrc1U2sK8VGCtxfjt2W9epeOtQ0sRm02r7q9JisWLkb+squjJUSbN97XrfIva+RDOoFu2n/m2nPaqs1Z4fJa1/SVMxs1MA/+TP/jxcpw9tR6JlXt+S5k9VrJ2W2fZa2YVChniOy6iFkgYsYciSptPysp8Bs/X8qXz+VMHMqYlKtDzaT198om0PXdL8c6mdrmgpb7f9byt4ABaTSTSgXZTNBLWd5mcD9bZ1bMbFX7bdX46/bbZnXUpaWykSm70qZxPttMBMYRqqpFmsTPXR9tpZ/Hbt+dVmUSlpi104xGaZRKcC6jGj9TJsO9Eyr29JEzvtURcTiWb92l4re6whPne3jFooacAShihpKj3+Ih1dM2F2wRDNNpXLbAaq7QIii5Q0f3tUfoYuaf726HmKpbzdTvvsKroA+sskGtAuwwpWbZbMBum1QbgVvWhmxmZ82k6X6ypcka77rKKk1WYT/WyTvz1i+71MSfPlNzN7V+pb0vxpj9ExYvvZ57XOyCQakA9hkZLWprYdf4EOW2+Rsmb3j5Z5i5Q0f7uuyuhvl9pr5S+OcpKnOkotlDRgCVYkykITsZJTi0paZjs6FVKJiljmVL9FS5o/7bEsW6soaWKlM3pdLLXbo8cytfeitv8ADmQSDWiXYZ+zik7zy5zOZyUuKmI2+9Q2C7cJJc2KUa2IWYnpuoDIECVtkdfLa7u/Rev4230RLWdFKWmLlzRRgdHpgOX6fb7Q2e4XLfMWLWn+tMeyRNZeq67HMrZOqdyHZdRCSQOWYAUjU65qxUBR+cl8abS/KEa0vl/e9fkxJVpu+xk9p1oJXFVJ86c9ls/X4m/zt7ddNKT2XtT2H8CBTKIB7TLaTku0klUrFf6CG1GJ88trM3WLlI6u+wxd0tqKrF8ezSZ6tt9DlbS200hr2l47i9Ypl1kZL18DStpipzuWorKWLSq2frTMW7SkiT/t0d+eKWltF0exdUqUNGDNLVLS/LoqHjYzpqJW+/yVaSs0xh6ndvGRZUpabfmqSlrbcou/Tbr2P9K1DwAOZBINaJdlpyWWM0G1201bsTFWmGqfaeoqXJGu+9hj9ikOVrTK/fSn+0XlRfz++M/llWy9ZUqaWGr706bttbNE2629DpS0YUqaUVmzC25ky4qtGy3zlilpteVtr5U9ltYpl9V07cMiaqGkAUuwwX2mELSVB/sy6trnr4x93iqbaLZt2ZKmbdppj1YqV1nSJPqsncWvJ/Za9ilcmX0AcHIlLZox6zrFT+xzWtlEs21tpaGm6z6LlDR7LmUhtc/cZVObbRPb72VLmu3rMld3jEqzJSppYqc96vFtFo+SNmxJM7Zd6bpMv60XLfOWLWn+tEc7HbPttdKsW9v2IpQ0YEPY4L5WaLy28qOLh1gBq21Lp+/1TbStZUuaaJlipXLVJc22708LtZTr+tcpKqmRzD4AOLmSpgG3xYqUzSzVioAN2PskGsivQ0mzIhZ95spmE7OJtmGGKmlWtNoeK6J1bTYsmh211Eqa2GtrxwUlbTUlTbRd6ZqJsvWiZd6yJU3s+eqKlPp322ulC41oWXmKZBtKGrAhbHDfVmhMV/nx5SI67dFOi+z6DjWx2aToAiJDlDTxs1urLmli3wNnz99SridWeLtmJk12H4Btl0k0oB2ClTIbbNtgPpr9EvuMUu00Rs+2HV1A5KRLmmYM7bmW6/vP67Wdxij+83e100OHKml6LNvntpm7Ule5s7SVNP/Yek1sPzOvdR+ZRAPyIVDS2guSCprW0+fU2l4rzbzZ40VXhoxQ0oANYYP7rkIjmfJjRawsC5pps7RdEMNoBslSrj9USbOLemh2y74WoFZyLMuUND/b6AtttK6/4Ii2G323m5fdB2DbZRINaIfgT2WzmaVamdAA31K7IIjnC0y5/kmWNG3HCkf0XK3UdF0QxFgZra0/VEkTO0VVyRQ1255Se88sbSVN7LH1PClpqylpvlB1XenR1ouWeUOVNO2P1tOpj/Z9b7XnbxcckUxRo6QBG8IG912FRjLlx3/ey3/+KnNp/ZI9XjnzNlRJE3v+ts+1kmNZpqSJ7bs9nhKtJ1YcFa2vmbjy8VXm9Npa+cvsA7DNMokGtEOxzzpZyanNCGUurV+ybZYzb0+7pGn2R8/L1lG0T9HMkhW42utQ8vsVzbwNWdLESqGiwqT99DOf+lm32fuqtD0XS1dJE3v97DWipOVLmravi4Oo4Ohnv0yzT/770zLb1XoSLfOGKmlizzuzn/6qlTr1UcWtLJ7aN5U42x4lDVhzVjAyhSZbfqyQqVjYZ6qsRERfJF1T+2zWkCVN7LRHZdUlTey0R0u0jtHj2WvXFb3evhgDmJdJNKAdihUDRYPvaB2xQX/t82oR/xk2XyR8sWmLLyvZktYVPUcVzmgbKjOWPp/7ss+wRbNbQ5c00f5bUWqL1uma9bRkSpo/7VHZ9pLWxW/Ll6U2uk/XRUPE1o+WeUOWNLHTHqXrtVIxswLWRUVO+xptZxG1UNKAJayipIkVH93Hl6rshTCMFRT/mEOXtPLUwmgdyxAlzZ/2qETrlDSrphnFsrDpddbn97Q8uh+AWZlEA9qh+NMSawXMFyRftjKs3PkB/dMuaSpRKlAqYW3ly7aROZXQs3KnAlNufxUlTfQ4Kmta1xcn/axZwq7naiyZkiY2o6pQ0tqV29JsmWaYrBgZFRTd/vKZH86s38buGy3zhi5pdtqjZF4rFU6VNa1bFjbdppm0IcuZqYWSBgAAUjKJBrTA2GQSDciBUi2UNAAAkJJJNKAFxiaTaEAOlGqhpAEAgJRMogEtMDaZRANyoFQLJQ0AAKRkEg1ogbHJJBqQA6VaKGkAACAlk2hAC4xNJtGAHCjVQkkDAAApmUQDWmBsMokG5ECpFkoaAABIySQa0AJjk0k0IAdKtVDSAABASibRgBYYm0yiATlQqoWSBgAAUjKJBrTA2GQSDciBUi2UNAAAkJJJNKAFxiaTaEAOlGqhpAEAgJRMogEtMDaZRANyoFQLJQ0AAKRkEg1ogbHJJBqQA6VaKGkAACAlk2hAC4xNJtGAHCjVQkkDAAApmUQDWmBsMokG5ECpFkoaAABIySQa0AJjk0k0IAdKtVDSAABASibRgBYYm0yiATlQqoWSBgAAUjKJBrTA2GQSDciBUi2UNAAAkJJJNKAFxiaTaEAOlGqhpAEAgJRMjgay567NDGqBjeeO6UxsEH75l/MDc2w3f0zUMlfSnn3xbPiLGQAAbC+NDzI5886Nw4HsZ0cDWmBMdIxncvXWg5mBOVDSMVLLXEl77vTb01/Gp4pfzgAAYPvYeEDjg0xee+/mdCD7/XPxABfYVHZM6xjP5NM7lDS00zFSy1xJe/6Vi3O/oAEAwHbT+CCTty7dnhvcAmOiYzyT65NH4cAcMDpGapkraWfOXwl/OQMAgO2l8UEmH+7cDQe2wFjoGM9kcn8/HJgDZrK7d3i0zGeupO3c3j38hfzGzC9nAACwjQ7GAxofZPLlg/3jAS2nPGIs3LGsYzyTvcdPDgbjXDgEpcNjQsdILXMlTfnWSxeKX9AAAGBbaVzQJ6+//6vDAS0XD8FYHBzLOrb7ZOfzh9PB+Mc3+XwaDtixoGOjLWFJO/fRjfCXNAAA2D4aF/TJ1Vv3iwEuMA46tvvk3sPjUx65FD/8MaBjoy1hSVO+/YN3w1/UAABge2g8sEje+vDgAiIvF4NcYFPpmF4k1ycHs2mA0THRlWpJ+/lnXzTf/N6b4S9sAAAwft/47pvT8cAiuX1vr3n1wvVwsAtsjMPPoulY1jG9SB7uP2mu8J1pOKRjQcdEV6olTTn7Aac9AgCwrTQOWCaffDUYKQe7wCbSsbxM7j18HA7YsX10LGTSWtKUV899HP7iBgAAY/Pjo5/193+IfHCNS/Jj8/jTdHUMD5HJ7uwl+fmM2viV77GOgWw6S5qi/yeNUx8BABg/neK47AxaGc1CzJ76+Bkza1g/02Py+IqkOmaXnUEro1kUf+ojV30cp8tf8e+t3vPsDJolVdIUnZM+ezGR4+9RO3V0GwAAWHezf7eP/57r7/yin0Hrij7PYxcTKX3fCtu5a3PLgJWYHmufHR97BR2ri34GrSv6PNLMxUSCGTVm2TZH+F652/ReZz6DViZd0iy6DC/fowYAwHjo73rfy+wvGl3C/Ph71ID1omOz72X2F40uwW7fo4bx0XvbdZn9tvQuaZad27vNmfNXmudfudg8d/rt5tkXz4a/+AEAwPrQ32v93dbfb/0d19/zk8iXD/abD3fuNm9dut289t7N5sw7N8JBM7AqOuZ07OkY1LGoY/Iksvf4STPZ3WuuTx41n9558FVJ5BTITaP3TO+d3sPJ/f3pe7psFi5phBBCCCGEEEKGDyWNEEIIIYQQQtYolDRCCCGEEEIIWaNQ0gghhBBCCCFkjUJJI4QQQgghhJA1CiWNEEIIIYQQQtYmTfN/wdnFN0VbIQYAAAAASUVORK5CYII=)"
      ],
      "metadata": {
        "id": "rI1H0LMr82MO"
      }
    },
    {
      "cell_type": "code",
      "source": [
        "#from pytorchtools import EarlyStopping\n",
        "#EarlyStopping(monitor=None, min_delta=0.0,patience = 3, verbose = False, mode = min, strict = True, check_finite = True, stopping_threshold = None, divergence_threshold = None, check_on_train_epoch_end = None)"
      ],
      "metadata": {
        "id": "tVjPZdT3FPGd"
      },
      "execution_count": null,
      "outputs": []
    },
    {
      "cell_type": "code",
      "source": [
        "class EarlyStopping:\n",
        "    def __init__(self, patience=7, verbose=False, delta=0, path='./Checkpoint.pt'):\n",
        "        self.patience = patience              # validation set의 Loss가 개선된 뒤 기다리는 epoch의 수\n",
        "        self.verbose = verbose\n",
        "        self.counter = 0\n",
        "        self.best_ = None\n",
        "        self.early_stop = False\n",
        "        self.valid_loss_min = np.Inf\n",
        "        self.delta = delta                    # 개선되었다고 판단되는 Quantity\n",
        "        self.path = path\n",
        "\n",
        "    def __call__(self, valid_loss, model):\n",
        "        score = -valid_loss\n",
        "\n",
        "        if self.best_ is None:\n",
        "            self.best_ = score\n",
        "            self.save_checkpoint(valid_loss, model)\n",
        "        elif score < self.best_ + self.delta:\n",
        "            self.counter += 1\n",
        "            print(f\"Early Stopping Counter : {self.counter} out of {self.patience}\")\n",
        "            if self.counter >= self.patience:\n",
        "                self.early_stop = True\n",
        "        else:\n",
        "            self.best_ = score\n",
        "            self.save_checkpoint(valid_loss, model)\n",
        "            self.counter = 0\n",
        "    \n",
        "    def save_checkpoint(self, valid_loss, model):\n",
        "        if self.verbose:\n",
        "            print(f\"Validation Loss Decreased {self.valid_loss_min:.6f} > {valid_loss:.6f}. Save model ...\")\n",
        "        torch.save(model.state_dict(), self.path)\n",
        "        self.valid_loss_min = valid_loss"
      ],
      "metadata": {
        "id": "eU6yPYLcFVqL"
      },
      "execution_count": null,
      "outputs": []
    },
    {
      "cell_type": "code",
      "source": [
        "class Classifier_ES(torch.nn.Module):\n",
        "    def __init__(self, input_dim, hidden_dim,device, output_dim, lr = 0.001, epochs = 10, activation='sigmoid',dropout=0.0, opt='sgd', momentum=0.9):\n",
        "        super(Classifier_ES, self).__init__()\n",
        "        self.input_dim = input_dim\n",
        "        self.hidden_dim = hidden_dim\n",
        "        self.output_dim = output_dim\n",
        "        self.epochs = epochs\n",
        "        self.train_losses=[]\n",
        "        self.valid_losses=[]\n",
        "        self.train_accuracy=[]\n",
        "        self.valid_accuracy=[]\n",
        "        self.lr = lr\n",
        "        self.device = device\n",
        "        self.activation = activation\n",
        "        self.dropout = dropout\n",
        "        self.opt=opt\n",
        "        self.momentum=momentum\n",
        "\n",
        "        self.fc1 = torch.nn.Linear(self.input_dim, self.hidden_dim[0]).to(self.device)\n",
        "        self.bn1 = torch.nn.BatchNorm1d(self.hidden_dim[0]).to(self.device)\n",
        "        self.dropout1 = torch.nn.Dropout(self.dropout)\n",
        "        self.fc2 = torch.nn.Linear(self.hidden_dim[0], self.hidden_dim[1]).to(self.device)\n",
        "        self.bn2 = torch.nn.BatchNorm1d(self.hidden_dim[1]).to(self.device)\n",
        "        self.dropout2 = torch.nn.Dropout(self.dropout)\n",
        "        self.fc3 = torch.nn.Linear(self.hidden_dim[1], self.hidden_dim[2]).to(self.device)\n",
        "        self.bn3 = torch.nn.BatchNorm1d(self.hidden_dim[2]).to(self.device)\n",
        "        self.dropout3 = torch.nn.Dropout(self.dropout)\n",
        "        self.fc4 = torch.nn.Linear(self.hidden_dim[2], self.output_dim).to(self.device)\n",
        "        self.dropout4 = torch.nn.Dropout(self.dropout)\n",
        "        \n",
        "        torch.nn.init.xavier_uniform_(self.fc1.weight)\n",
        "        torch.nn.init.xavier_uniform_(self.fc2.weight)\n",
        "        torch.nn.init.xavier_uniform_(self.fc3.weight)\n",
        "        torch.nn.init.xavier_uniform_(self.fc4.weight)\n",
        "\n",
        "        \n",
        "        \n",
        "    def forward(self, x):\n",
        "        if self.activation == 'relu':\n",
        "            pred = self.dropout1(F.relu(self.bn1(self.fc1(x))))\n",
        "            pred = self.dropout2(F.relu(self.bn2(self.fc2(pred))))\n",
        "            pred = self.dropout3(F.relu(self.bn3(self.fc3(pred))))\n",
        "            pred = self.dropout4(self.fc4(pred))\n",
        "        else:\n",
        "            pred = self.dropout1(torch.sigmoid(self.bn1(self.fc1(x))))\n",
        "            pred = self.dropout2(torch.sigmoid(self.bn2(self.fc2(pred))))\n",
        "            pred = self.dropout3(torch.sigmoid(self.bn3(self.fc3(pred))))\n",
        "            pred = self.dropout4(self.fc4(pred))\n",
        "        \n",
        "        return pred\n",
        "\n",
        "    def fit(self, train_data, valid_data,early_stop=False, verbose=True, patience=7):\n",
        "        if early_stop:\n",
        "            early_stopping = EarlyStopping(patience = patience, verbose=True)\n",
        "\n",
        "        criterion = torch.nn.CrossEntropyLoss().to(self.device)\n",
        "        if self.opt =='sgd':\n",
        "          optimizer = torch.optim.SGD(self.parameters(), lr = self.lr, momentum=self.momentum)\n",
        "        elif self.opt =='adagrad':\n",
        "          optimizer = torch.optim.Adagrad(self.parameters(), lr = self.lr)\n",
        "        elif self.opt =='rmsprop':\n",
        "          optimizer = torch.optim.RMSprop(self.parameters(), lr = self.lr)\n",
        "        elif self.opt =='adam':\n",
        "          optimizer = torch.optim.Adam(self.parameters(), lr = self.lr)\n",
        "          \n",
        "        \n",
        "        for _ in range(self.epochs):\n",
        "            total_train_loss=0\n",
        "            total_valid_loss=0\n",
        "            total_train_accuracy=0\n",
        "            total_valid_accuracy=0\n",
        "            self.train()\n",
        "            for x, y in tqdm(train_data):\n",
        "                x = x.view(-1,784).to(self.device)\n",
        "                y = y.to(self.device)\n",
        "                optimizer.zero_grad()\n",
        "\n",
        "                pred = self.forward(x)\n",
        "\n",
        "                loss = criterion(pred, y)\n",
        "                loss.backward()\n",
        "                optimizer.step()\n",
        "                \n",
        "                correct_pred = torch.argmax(pred,1) == y\n",
        "                accuracy = correct_pred.float().mean()\n",
        "                total_train_accuracy+=accuracy.item()\n",
        "                total_train_loss+=loss.item()\n",
        "\n",
        "            self.eval()\n",
        "            for x, y in valid_data:\n",
        "                x = x.view(-1,784).to(self.device)\n",
        "                y = y.to(self.device)\n",
        "                valid_pred = self.forward(x)\n",
        "                valid_loss = criterion(valid_pred, y)\n",
        "                \n",
        "                vaild_correct_pred = torch.argmax(valid_pred,1) == y\n",
        "                valid_accuracy = vaild_correct_pred.float().mean()\n",
        "                total_valid_accuracy += valid_accuracy.item()\n",
        "                total_valid_loss+=valid_loss.item()\n",
        "\n",
        "\n",
        "            print('Epoch {} Train Loss: '.format(_+1),total_train_loss/len(train_data),\"Valid Loss: \",total_valid_loss/len(valid_data))\n",
        "            \n",
        "            self.train_losses.append(total_train_loss/len(train_data))\n",
        "            self.valid_losses.append(total_valid_loss/len(valid_data))\n",
        "            self.train_accuracy.append(total_train_accuracy/len(train_data))\n",
        "            self.valid_accuracy.append(total_valid_accuracy/len(valid_data))\n",
        "\n",
        "            if early_stop:\n",
        "                early_stopping(total_valid_loss/len(valid_data), self)\n",
        "\n",
        "            if early_stop:\n",
        "                if early_stopping.early_stop:\n",
        "                    print(\"Early Stopping...\")\n",
        "                    break\n",
        "        if early_stop:\n",
        "            self.load_state_dict(torch.load('Checkpoint.pt'))\n",
        "\n",
        "    def evaluation(self, x, y):\n",
        "        with torch.no_grad():\n",
        "            self.eval()\n",
        "            criterion = torch.nn.CrossEntropyLoss().to(self.device)\n",
        "            pred = self.forward(x)\n",
        "            loss = criterion(pred, y)\n",
        "            correct_pred = torch.argmax(pred,1) == y\n",
        "            accuracy = correct_pred.float().mean()\n",
        "            print('Accuracy', accuracy.item())\n",
        "        \n",
        "        return accuracy.item()\n",
        "\n",
        "    def get_weights(self):\n",
        "        return [self.fc1.weight, self.fc2.weight,self.fc3.weight, self.fc4.weight]\n"
      ],
      "metadata": {
        "id": "j-F347exq2st"
      },
      "execution_count": null,
      "outputs": []
    },
    {
      "cell_type": "code",
      "source": [
        "from torch.utils.data.dataset import random_split\n",
        "\n",
        "mnist_train = torchvision.datasets.MNIST(root='MNIST_data/', train=True, transform=torchvision.transforms.ToTensor(), download=True)\n",
        "mnist_test = torchvision.datasets.MNIST(root='MNIST_data/', train=False,transform=torchvision.transforms.ToTensor(),download=True)\n",
        "\n",
        "train_set, valid_set = random_split(mnist_train,[50000,10000])\n",
        "\n",
        "batch_size = 128\n",
        "\n",
        "train_loader = torch.utils.data.DataLoader(dataset=train_set,batch_size=batch_size, shuffle=True, drop_last=True)\n",
        "valid_loader = torch.utils.data.DataLoader(dataset=valid_set,batch_size=batch_size, shuffle=True, drop_last=True)\n",
        "test_loader = torch.utils.data.DataLoader(dataset=mnist_test,batch_size=batch_size, shuffle=True, drop_last=True)"
      ],
      "metadata": {
        "id": "35bOFoQDPM-h"
      },
      "execution_count": null,
      "outputs": []
    },
    {
      "cell_type": "code",
      "source": [
        "model_ES = Classifier_ES(input_dim = 784, hidden_dim=(256,128,64), output_dim=10,device=device, activation='relu',opt='adam', epochs=30)"
      ],
      "metadata": {
        "id": "CAPdbGQWRQBp"
      },
      "execution_count": null,
      "outputs": []
    },
    {
      "cell_type": "code",
      "source": [
        "model_ES.fit(train_data=train_loader, valid_data=valid_loader,early_stop=True, verbose=True, patience=7)"
      ],
      "metadata": {
        "id": "RKqsgxwsRfiB",
        "colab": {
          "base_uri": "https://localhost:8080/"
        },
        "outputId": "1969b598-c42f-429f-9655-e4bfd6730cbf"
      },
      "execution_count": null,
      "outputs": [
        {
          "output_type": "stream",
          "name": "stderr",
          "text": [
            "100%|██████████| 390/390 [00:05<00:00, 75.57it/s]\n"
          ]
        },
        {
          "output_type": "stream",
          "name": "stdout",
          "text": [
            "Epoch 1 Train Loss:  0.26749669750913596 Valid Loss:  0.11587144878621285\n",
            "Validation Loss Decreased inf > 0.115871. Save model ...\n"
          ]
        },
        {
          "output_type": "stream",
          "name": "stderr",
          "text": [
            "100%|██████████| 390/390 [00:05<00:00, 76.41it/s]\n"
          ]
        },
        {
          "output_type": "stream",
          "name": "stdout",
          "text": [
            "Epoch 2 Train Loss:  0.08847614284604788 Valid Loss:  0.09146501066593024\n",
            "Validation Loss Decreased 0.115871 > 0.091465. Save model ...\n"
          ]
        },
        {
          "output_type": "stream",
          "name": "stderr",
          "text": [
            "100%|██████████| 390/390 [00:05<00:00, 75.78it/s]\n"
          ]
        },
        {
          "output_type": "stream",
          "name": "stdout",
          "text": [
            "Epoch 3 Train Loss:  0.053651565088866614 Valid Loss:  0.09104719645797442\n",
            "Validation Loss Decreased 0.091465 > 0.091047. Save model ...\n"
          ]
        },
        {
          "output_type": "stream",
          "name": "stderr",
          "text": [
            "100%|██████████| 390/390 [00:05<00:00, 75.16it/s]\n"
          ]
        },
        {
          "output_type": "stream",
          "name": "stdout",
          "text": [
            "Epoch 4 Train Loss:  0.03976104133523618 Valid Loss:  0.07628505614896615\n",
            "Validation Loss Decreased 0.091047 > 0.076285. Save model ...\n"
          ]
        },
        {
          "output_type": "stream",
          "name": "stderr",
          "text": [
            "100%|██████████| 390/390 [00:05<00:00, 76.67it/s]\n"
          ]
        },
        {
          "output_type": "stream",
          "name": "stdout",
          "text": [
            "Epoch 5 Train Loss:  0.029588360745961276 Valid Loss:  0.07543094199485122\n",
            "Validation Loss Decreased 0.076285 > 0.075431. Save model ...\n"
          ]
        },
        {
          "output_type": "stream",
          "name": "stderr",
          "text": [
            "100%|██████████| 390/390 [00:05<00:00, 75.70it/s]\n"
          ]
        },
        {
          "output_type": "stream",
          "name": "stdout",
          "text": [
            "Epoch 6 Train Loss:  0.026234501961451502 Valid Loss:  0.07468877490968086\n",
            "Validation Loss Decreased 0.075431 > 0.074689. Save model ...\n"
          ]
        },
        {
          "output_type": "stream",
          "name": "stderr",
          "text": [
            "100%|██████████| 390/390 [00:05<00:00, 76.71it/s]\n"
          ]
        },
        {
          "output_type": "stream",
          "name": "stdout",
          "text": [
            "Epoch 7 Train Loss:  0.02014709197354909 Valid Loss:  0.08695156687798981\n",
            "Early Stopping Counter : 1 out of 7\n"
          ]
        },
        {
          "output_type": "stream",
          "name": "stderr",
          "text": [
            "100%|██████████| 390/390 [00:05<00:00, 75.51it/s]\n"
          ]
        },
        {
          "output_type": "stream",
          "name": "stdout",
          "text": [
            "Epoch 8 Train Loss:  0.015688847828931055 Valid Loss:  0.07540501793846488\n",
            "Early Stopping Counter : 2 out of 7\n"
          ]
        },
        {
          "output_type": "stream",
          "name": "stderr",
          "text": [
            "100%|██████████| 390/390 [00:05<00:00, 75.20it/s]\n"
          ]
        },
        {
          "output_type": "stream",
          "name": "stdout",
          "text": [
            "Epoch 9 Train Loss:  0.012790068916868992 Valid Loss:  0.0840329051328202\n",
            "Early Stopping Counter : 3 out of 7\n"
          ]
        },
        {
          "output_type": "stream",
          "name": "stderr",
          "text": [
            "100%|██████████| 390/390 [00:05<00:00, 75.74it/s]\n"
          ]
        },
        {
          "output_type": "stream",
          "name": "stdout",
          "text": [
            "Epoch 10 Train Loss:  0.014455390706634484 Valid Loss:  0.08257060175916801\n",
            "Early Stopping Counter : 4 out of 7\n"
          ]
        },
        {
          "output_type": "stream",
          "name": "stderr",
          "text": [
            "100%|██████████| 390/390 [00:05<00:00, 75.39it/s]\n"
          ]
        },
        {
          "output_type": "stream",
          "name": "stdout",
          "text": [
            "Epoch 11 Train Loss:  0.011804245963979226 Valid Loss:  0.07723283428006256\n",
            "Early Stopping Counter : 5 out of 7\n"
          ]
        },
        {
          "output_type": "stream",
          "name": "stderr",
          "text": [
            "100%|██████████| 390/390 [00:05<00:00, 76.38it/s]\n"
          ]
        },
        {
          "output_type": "stream",
          "name": "stdout",
          "text": [
            "Epoch 12 Train Loss:  0.01617753130864376 Valid Loss:  0.08180288275560507\n",
            "Early Stopping Counter : 6 out of 7\n"
          ]
        },
        {
          "output_type": "stream",
          "name": "stderr",
          "text": [
            "100%|██████████| 390/390 [00:05<00:00, 75.61it/s]\n"
          ]
        },
        {
          "output_type": "stream",
          "name": "stdout",
          "text": [
            "Epoch 13 Train Loss:  0.01063931091578128 Valid Loss:  0.0719969763707083\n",
            "Validation Loss Decreased 0.074689 > 0.071997. Save model ...\n"
          ]
        },
        {
          "output_type": "stream",
          "name": "stderr",
          "text": [
            "100%|██████████| 390/390 [00:05<00:00, 74.77it/s]\n"
          ]
        },
        {
          "output_type": "stream",
          "name": "stdout",
          "text": [
            "Epoch 14 Train Loss:  0.01118574467933892 Valid Loss:  0.08873732451898739\n",
            "Early Stopping Counter : 1 out of 7\n"
          ]
        },
        {
          "output_type": "stream",
          "name": "stderr",
          "text": [
            "100%|██████████| 390/390 [00:05<00:00, 75.31it/s]\n"
          ]
        },
        {
          "output_type": "stream",
          "name": "stdout",
          "text": [
            "Epoch 15 Train Loss:  0.00946701126343284 Valid Loss:  0.08505018049468979\n",
            "Early Stopping Counter : 2 out of 7\n"
          ]
        },
        {
          "output_type": "stream",
          "name": "stderr",
          "text": [
            "100%|██████████| 390/390 [00:05<00:00, 74.98it/s]\n"
          ]
        },
        {
          "output_type": "stream",
          "name": "stdout",
          "text": [
            "Epoch 16 Train Loss:  0.01059070440585343 Valid Loss:  0.09070350254963462\n",
            "Early Stopping Counter : 3 out of 7\n"
          ]
        },
        {
          "output_type": "stream",
          "name": "stderr",
          "text": [
            "100%|██████████| 390/390 [00:05<00:00, 75.89it/s]\n"
          ]
        },
        {
          "output_type": "stream",
          "name": "stdout",
          "text": [
            "Epoch 17 Train Loss:  0.009494191634159786 Valid Loss:  0.07578982003421213\n",
            "Early Stopping Counter : 4 out of 7\n"
          ]
        },
        {
          "output_type": "stream",
          "name": "stderr",
          "text": [
            "100%|██████████| 390/390 [00:05<00:00, 75.68it/s]\n"
          ]
        },
        {
          "output_type": "stream",
          "name": "stdout",
          "text": [
            "Epoch 18 Train Loss:  0.0055966592479634505 Valid Loss:  0.09666290486422487\n",
            "Early Stopping Counter : 5 out of 7\n"
          ]
        },
        {
          "output_type": "stream",
          "name": "stderr",
          "text": [
            "100%|██████████| 390/390 [00:05<00:00, 75.64it/s]\n"
          ]
        },
        {
          "output_type": "stream",
          "name": "stdout",
          "text": [
            "Epoch 19 Train Loss:  0.010331479990548896 Valid Loss:  0.09153647578428857\n",
            "Early Stopping Counter : 6 out of 7\n"
          ]
        },
        {
          "output_type": "stream",
          "name": "stderr",
          "text": [
            "100%|██████████| 390/390 [00:05<00:00, 75.66it/s]\n"
          ]
        },
        {
          "output_type": "stream",
          "name": "stdout",
          "text": [
            "Epoch 20 Train Loss:  0.010196380422656567 Valid Loss:  0.083388860493776\n",
            "Early Stopping Counter : 7 out of 7\n",
            "Early Stopping...\n"
          ]
        }
      ]
    },
    {
      "cell_type": "code",
      "source": [
        "plt.plot(model_ES.train_losses, label='Training Loss')\n",
        "plt.plot(model_ES.valid_losses, label='Valid Loss')\n",
        "plt.legend()"
      ],
      "metadata": {
        "id": "8g23OQyEW7HA",
        "colab": {
          "base_uri": "https://localhost:8080/",
          "height": 283
        },
        "outputId": "e6efd2a9-645f-4c2f-ba8a-0ad7ed28994d"
      },
      "execution_count": null,
      "outputs": [
        {
          "output_type": "execute_result",
          "data": {
            "text/plain": [
              "<matplotlib.legend.Legend at 0x7faf58c5da10>"
            ]
          },
          "metadata": {},
          "execution_count": 46
        },
        {
          "output_type": "display_data",
          "data": {
            "text/plain": [
              "<Figure size 432x288 with 1 Axes>"
            ],
            "image/png": "[encoded data removed]"
          },
          "metadata": {
            "needs_background": "light"
          }
        }
      ]
    },
    {
      "cell_type": "code",
      "source": [
        "test_x = mnist_test.data.view(-1,784).float().to(device)\n",
        "test_y = mnist_test.targets.to(device)\n",
        "print(model_ES.train_accuracy[-1])\n",
        "print(model_ES.valid_accuracy[-1])\n",
        "acc = model_ES.evaluation(test_x,test_y)"
      ],
      "metadata": {
        "id": "otmP2x4tXeNc",
        "colab": {
          "base_uri": "https://localhost:8080/"
        },
        "outputId": "ce3e63f9-94c6-4814-a44a-3fcf115b1c8b"
      },
      "execution_count": null,
      "outputs": [
        {
          "output_type": "stream",
          "name": "stdout",
          "text": [
            "0.9965745192307692\n",
            "0.9800681089743589\n",
            "Accuracy 0.7128999829292297\n"
          ]
        }
      ]
    },
    {
      "cell_type": "markdown",
      "source": [
        "##### Max norm constraints"
      ],
      "metadata": {
        "id": "ZZKSCrPOrpds"
      }
    },
    {
      "cell_type": "code",
      "source": [
        "class Classifier_MNC(torch.nn.Module):\n",
        "    def __init__(self, input_dim, hidden_dim,device, output_dim, lr = 0.001, epochs = 10, activation='sigmoid',dropout=0.0, opt='sgd', momentum=0.9, max_norm = 0.5):\n",
        "        super(Classifier_MNC, self).__init__()\n",
        "        self.input_dim = input_dim\n",
        "        self.hidden_dim = hidden_dim\n",
        "        self.output_dim = output_dim\n",
        "        self.epochs = epochs\n",
        "        self.train_losses=[]\n",
        "        self.valid_losses=[]\n",
        "        self.train_accuracy=[]\n",
        "        self.valid_accuracy=[]\n",
        "        self.lr = lr\n",
        "        self.device = device\n",
        "        self.activation = activation\n",
        "        self.dropout = dropout\n",
        "        self.opt=opt\n",
        "        self.momentum=momentum\n",
        "        self.max_norm=max_norm\n",
        "\n",
        "        self.fc1 = torch.nn.Linear(self.input_dim, self.hidden_dim[0]).to(self.device)\n",
        "        self.bn1 = torch.nn.BatchNorm1d(self.hidden_dim[0]).to(self.device)\n",
        "        self.dropout1 = torch.nn.Dropout(self.dropout)\n",
        "        self.fc2 = torch.nn.Linear(self.hidden_dim[0], self.hidden_dim[1]).to(self.device)\n",
        "        self.bn2 = torch.nn.BatchNorm1d(self.hidden_dim[1]).to(self.device)\n",
        "        self.dropout2 = torch.nn.Dropout(self.dropout)\n",
        "        self.fc3 = torch.nn.Linear(self.hidden_dim[1], self.hidden_dim[2]).to(self.device)\n",
        "        self.bn3 = torch.nn.BatchNorm1d(self.hidden_dim[2]).to(self.device)\n",
        "        self.dropout3 = torch.nn.Dropout(self.dropout)\n",
        "        self.fc4 = torch.nn.Linear(self.hidden_dim[2], self.output_dim).to(self.device)\n",
        "        self.dropout4 = torch.nn.Dropout(self.dropout)\n",
        "        \n",
        "        torch.nn.init.xavier_uniform_(self.fc1.weight)\n",
        "        torch.nn.init.xavier_uniform_(self.fc2.weight)\n",
        "        torch.nn.init.xavier_uniform_(self.fc3.weight)\n",
        "        torch.nn.init.xavier_uniform_(self.fc4.weight)\n",
        "\n",
        "        \n",
        "    def forward(self, x):\n",
        "        if self.activation == 'relu':\n",
        "            pred = self.dropout1(F.relu(self.bn1(self.fc1(x))))\n",
        "            pred = self.dropout2(F.relu(self.bn2(self.fc2(pred))))\n",
        "            pred = self.dropout3(F.relu(self.bn3(self.fc3(pred))))\n",
        "            pred = self.dropout4(self.fc4(pred))\n",
        "        else:\n",
        "            pred = self.dropout1(torch.sigmoid(self.bn1(self.fc1(x))))\n",
        "            pred = self.dropout2(torch.sigmoid(self.bn2(self.fc2(pred))))\n",
        "            pred = self.dropout3(torch.sigmoid(self.bn3(self.fc3(pred))))\n",
        "            pred = self.dropout4(self.fc4(pred))\n",
        "        \n",
        "        return pred\n",
        "\n",
        "    def fit(self, train_data, valid_data, early_stop=False, verbose=True, patience=7):\n",
        "        if early_stop:\n",
        "            early_stopping = EarlyStopping(patience = patience, verbose=True)\n",
        "\n",
        "        criterion = torch.nn.CrossEntropyLoss().to(self.device)\n",
        "        if self.opt =='sgd':\n",
        "          optimizer = torch.optim.SGD(self.parameters(), lr = self.lr, momentum=self.momentum)\n",
        "        elif self.opt =='adagrad':\n",
        "          optimizer = torch.optim.Adagrad(self.parameters(), lr = self.lr)\n",
        "        elif self.opt =='rmsprop':\n",
        "          optimizer = torch.optim.RMSprop(self.parameters(), lr = self.lr)\n",
        "        elif self.opt =='adam':\n",
        "          optimizer = torch.optim.Adam(self.parameters(), lr = self.lr)\n",
        "          \n",
        "        \n",
        "        for _ in range(self.epochs):\n",
        "            total_train_loss=0\n",
        "            total_valid_loss=0\n",
        "            total_train_accuracy=0\n",
        "            total_valid_accuracy=0\n",
        "            self.train()\n",
        "            for x, y in tqdm(train_data):\n",
        "                x = x.view(-1,784).to(self.device)\n",
        "                y = y.to(self.device)\n",
        "                optimizer.zero_grad()\n",
        "\n",
        "                pred = self.forward(x)\n",
        "\n",
        "                loss = criterion(pred, y)\n",
        "                loss.backward()\n",
        "                torch.nn.utils.clip_grad_norm_(self.parameters(),self.max_norm)\n",
        "                optimizer.step()\n",
        "                \n",
        "                correct_pred = torch.argmax(pred,1) == y\n",
        "                accuracy = correct_pred.float().mean()\n",
        "                total_train_accuracy+=accuracy.item()\n",
        "                total_train_loss+=loss.item()\n",
        "\n",
        "            self.eval()\n",
        "            for x, y in valid_data:\n",
        "                x = x.view(-1,784).to(self.device)\n",
        "                y = y.to(self.device)\n",
        "                valid_pred = self.forward(x)\n",
        "                valid_loss = criterion(valid_pred, y)\n",
        "                \n",
        "                vaild_correct_pred = torch.argmax(valid_pred,1) == y\n",
        "                valid_accuracy = vaild_correct_pred.float().mean()\n",
        "                total_valid_accuracy += valid_accuracy.item()\n",
        "                total_valid_loss+=valid_loss.item()\n",
        "\n",
        "\n",
        "            print('Epoch {} Train Loss: '.format(_+1),total_train_loss/len(train_data),\"Valid Loss: \",total_valid_loss/len(valid_data))\n",
        "            \n",
        "            self.train_losses.append(total_train_loss/len(train_data))\n",
        "            self.valid_losses.append(total_valid_loss/len(valid_data))\n",
        "            self.train_accuracy.append(total_train_accuracy/len(train_data))\n",
        "            self.valid_accuracy.append(total_valid_accuracy/len(valid_data))\n",
        "            \n",
        "            if early_stop:\n",
        "                early_stopping(total_valid_loss/len(valid_data), self)\n",
        "\n",
        "            if early_stop:\n",
        "                if early_stopping.early_stop:\n",
        "                    print(\"Early Stopping...\")\n",
        "                    break\n",
        "\n",
        "        if early_stop:\n",
        "            self.load_state_dict(torch.load('Checkpoint.pt'))\n",
        "\n",
        "    def evaluation(self, x, y):\n",
        "        with torch.no_grad():\n",
        "            self.eval()\n",
        "            criterion = torch.nn.CrossEntropyLoss().to(self.device)\n",
        "            pred = self.forward(x)\n",
        "            loss = criterion(pred, y)\n",
        "            correct_pred = torch.argmax(pred,1) == y\n",
        "            accuracy = correct_pred.float().mean()\n",
        "            print('Accuracy', accuracy.item())\n",
        "        \n",
        "        return accuracy.item()\n",
        "\n",
        "    def get_weights(self):\n",
        "        return [self.fc1.weight, self.fc2.weight,self.fc3.weight, self.fc4.weight]"
      ],
      "metadata": {
        "id": "lWVtWyUarsZs"
      },
      "execution_count": null,
      "outputs": []
    },
    {
      "cell_type": "code",
      "source": [
        "model_MNC = Classifier_MNC(input_dim = 784, hidden_dim=(256,128,64), output_dim=10,device=device, activation='relu',opt='adam', epochs=10)\n",
        "model_MNC.fit(train_data=train_loader, valid_data=valid_loader)"
      ],
      "metadata": {
        "id": "lzuEw1vIbFKZ",
        "colab": {
          "base_uri": "https://localhost:8080/"
        },
        "outputId": "ad4c5152-bc96-49db-82a9-05c1388092b6"
      },
      "execution_count": null,
      "outputs": [
        {
          "output_type": "stream",
          "name": "stderr",
          "text": [
            "100%|██████████| 390/390 [00:05<00:00, 72.72it/s]\n"
          ]
        },
        {
          "output_type": "stream",
          "name": "stdout",
          "text": [
            "Epoch 1 Train Loss:  0.24351485358216823 Valid Loss:  0.11344113310751243\n"
          ]
        },
        {
          "output_type": "stream",
          "name": "stderr",
          "text": [
            "100%|██████████| 390/390 [00:05<00:00, 73.28it/s]\n"
          ]
        },
        {
          "output_type": "stream",
          "name": "stdout",
          "text": [
            "Epoch 2 Train Loss:  0.08075199528382375 Valid Loss:  0.08939890854824813\n"
          ]
        },
        {
          "output_type": "stream",
          "name": "stderr",
          "text": [
            "100%|██████████| 390/390 [00:05<00:00, 72.52it/s]\n"
          ]
        },
        {
          "output_type": "stream",
          "name": "stdout",
          "text": [
            "Epoch 3 Train Loss:  0.051029600588700326 Valid Loss:  0.07555894665897657\n"
          ]
        },
        {
          "output_type": "stream",
          "name": "stderr",
          "text": [
            "100%|██████████| 390/390 [00:05<00:00, 72.59it/s]\n"
          ]
        },
        {
          "output_type": "stream",
          "name": "stdout",
          "text": [
            "Epoch 4 Train Loss:  0.03614897073115198 Valid Loss:  0.07922760910617235\n"
          ]
        },
        {
          "output_type": "stream",
          "name": "stderr",
          "text": [
            "100%|██████████| 390/390 [00:05<00:00, 73.19it/s]\n"
          ]
        },
        {
          "output_type": "stream",
          "name": "stdout",
          "text": [
            "Epoch 5 Train Loss:  0.02702359900218793 Valid Loss:  0.07957293386929311\n"
          ]
        },
        {
          "output_type": "stream",
          "name": "stderr",
          "text": [
            "100%|██████████| 390/390 [00:05<00:00, 72.88it/s]\n"
          ]
        },
        {
          "output_type": "stream",
          "name": "stdout",
          "text": [
            "Epoch 6 Train Loss:  0.02124519773060456 Valid Loss:  0.07741581104122676\n"
          ]
        },
        {
          "output_type": "stream",
          "name": "stderr",
          "text": [
            "100%|██████████| 390/390 [00:05<00:00, 72.77it/s]\n"
          ]
        },
        {
          "output_type": "stream",
          "name": "stdout",
          "text": [
            "Epoch 7 Train Loss:  0.01871635018167301 Valid Loss:  0.07203603681558982\n"
          ]
        },
        {
          "output_type": "stream",
          "name": "stderr",
          "text": [
            "100%|██████████| 390/390 [00:05<00:00, 73.10it/s]\n"
          ]
        },
        {
          "output_type": "stream",
          "name": "stdout",
          "text": [
            "Epoch 8 Train Loss:  0.01532908112813647 Valid Loss:  0.09330898103638528\n"
          ]
        },
        {
          "output_type": "stream",
          "name": "stderr",
          "text": [
            "100%|██████████| 390/390 [00:05<00:00, 73.16it/s]\n"
          ]
        },
        {
          "output_type": "stream",
          "name": "stdout",
          "text": [
            "Epoch 9 Train Loss:  0.012937789499007452 Valid Loss:  0.08996253297067223\n"
          ]
        },
        {
          "output_type": "stream",
          "name": "stderr",
          "text": [
            "100%|██████████| 390/390 [00:05<00:00, 72.60it/s]\n"
          ]
        },
        {
          "output_type": "stream",
          "name": "stdout",
          "text": [
            "Epoch 10 Train Loss:  0.012045795758977199 Valid Loss:  0.09387809619641839\n"
          ]
        }
      ]
    },
    {
      "cell_type": "code",
      "source": [
        "plt.plot(model_MNC.train_losses, label='Training Loss')\n",
        "plt.plot(model_MNC.valid_losses, label='Valid Loss')\n",
        "plt.legend()"
      ],
      "metadata": {
        "colab": {
          "base_uri": "https://localhost:8080/",
          "height": 283
        },
        "id": "loKf9Uwh9Puf",
        "outputId": "a53c10fd-3b5b-4c50-bd5e-aa25d02d7257"
      },
      "execution_count": null,
      "outputs": [
        {
          "output_type": "execute_result",
          "data": {
            "text/plain": [
              "<matplotlib.legend.Legend at 0x7faf588fcc50>"
            ]
          },
          "metadata": {},
          "execution_count": 50
        },
        {
          "output_type": "display_data",
          "data": {
            "text/plain": [
              "<Figure size 432x288 with 1 Axes>"
            ],
            "image/png": "[encoded data removed]"
          },
          "metadata": {
            "needs_background": "light"
          }
        }
      ]
    },
    {
      "cell_type": "markdown",
      "source": [
        "##### Weight Decay"
      ],
      "metadata": {
        "id": "pjQuvFMArsrV"
      }
    },
    {
      "cell_type": "code",
      "source": [
        "class Classifier_WD(torch.nn.Module):\n",
        "    def __init__(self, input_dim, hidden_dim,device, output_dim, lr = 0.001, epochs = 10, activation='sigmoid',dropout=0.0, opt='sgd', momentum=0.9, max_norm = 0.5, weight_decay = 0):\n",
        "        super(Classifier_WD, self).__init__()\n",
        "        self.input_dim = input_dim\n",
        "        self.hidden_dim = hidden_dim\n",
        "        self.output_dim = output_dim\n",
        "        self.epochs = epochs\n",
        "        self.train_losses=[]\n",
        "        self.valid_losses=[]\n",
        "        self.train_accuracy=[]\n",
        "        self.valid_accuracy=[]\n",
        "        self.lr = lr\n",
        "        self.device = device\n",
        "        self.activation = activation\n",
        "        self.dropout = dropout\n",
        "        self.opt=opt\n",
        "        self.momentum=momentum\n",
        "        self.max_norm=max_norm\n",
        "        self.weight_decay = weight_decay\n",
        "\n",
        "        self.fc1 = torch.nn.Linear(self.input_dim, self.hidden_dim[0]).to(self.device)\n",
        "        self.bn1 = torch.nn.BatchNorm1d(self.hidden_dim[0]).to(self.device)\n",
        "        self.dropout1 = torch.nn.Dropout(self.dropout)\n",
        "        self.fc2 = torch.nn.Linear(self.hidden_dim[0], self.hidden_dim[1]).to(self.device)\n",
        "        self.bn2 = torch.nn.BatchNorm1d(self.hidden_dim[1]).to(self.device)\n",
        "        self.dropout2 = torch.nn.Dropout(self.dropout)\n",
        "        self.fc3 = torch.nn.Linear(self.hidden_dim[1], self.hidden_dim[2]).to(self.device)\n",
        "        self.bn3 = torch.nn.BatchNorm1d(self.hidden_dim[2]).to(self.device)\n",
        "        self.dropout3 = torch.nn.Dropout(self.dropout)\n",
        "        self.fc4 = torch.nn.Linear(self.hidden_dim[2], self.output_dim).to(self.device)\n",
        "        self.dropout4 = torch.nn.Dropout(self.dropout)\n",
        "        \n",
        "        torch.nn.init.xavier_uniform_(self.fc1.weight)\n",
        "        torch.nn.init.xavier_uniform_(self.fc2.weight)\n",
        "        torch.nn.init.xavier_uniform_(self.fc3.weight)\n",
        "        torch.nn.init.xavier_uniform_(self.fc4.weight)\n",
        "\n",
        "        \n",
        "    def forward(self, x):\n",
        "        if self.activation == 'relu':\n",
        "            pred = self.dropout1(F.relu(self.bn1(self.fc1(x))))\n",
        "            pred = self.dropout2(F.relu(self.bn2(self.fc2(pred))))\n",
        "            pred = self.dropout3(F.relu(self.bn3(self.fc3(pred))))\n",
        "            pred = self.dropout4(self.fc4(pred))\n",
        "        else:\n",
        "            pred = self.dropout1(torch.sigmoid(self.bn1(self.fc1(x))))\n",
        "            pred = self.dropout2(torch.sigmoid(self.bn2(self.fc2(pred))))\n",
        "            pred = self.dropout3(torch.sigmoid(self.bn3(self.fc3(pred))))\n",
        "            pred = self.dropout4(self.fc4(pred))\n",
        "        \n",
        "        return pred\n",
        "\n",
        "    def fit(self, train_data, valid_data, early_stop=False, verbose=True, patience=7):\n",
        "        if early_stop:\n",
        "            early_stopping = EarlyStopping(patience = patience, verbose=True)\n",
        "\n",
        "        criterion = torch.nn.CrossEntropyLoss().to(self.device)\n",
        "        if self.opt =='sgd':\n",
        "          optimizer = torch.optim.SGD(self.parameters(), lr = self.lr, momentum=self.momentum, weight_decay=self.weight_decay)\n",
        "        elif self.opt =='adagrad':\n",
        "          optimizer = torch.optim.Adagrad(self.parameters(), lr = self.lr, weight_decay=self.weight_decay)\n",
        "        elif self.opt =='rmsprop':\n",
        "          optimizer = torch.optim.RMSprop(self.parameters(), lr = self.lr, weight_decay=self.weight_decay)\n",
        "        elif self.opt =='adam':\n",
        "          optimizer = torch.optim.Adam(self.parameters(), lr = self.lr, weight_decay=self.weight_decay)\n",
        "          \n",
        "        \n",
        "        for _ in range(self.epochs):\n",
        "            total_train_loss=0\n",
        "            total_valid_loss=0\n",
        "            total_train_accuracy=0\n",
        "            total_valid_accuracy=0\n",
        "            self.train()\n",
        "            for x, y in tqdm(train_data):\n",
        "                x = x.view(-1,784).to(self.device)\n",
        "                y = y.to(self.device)\n",
        "                optimizer.zero_grad()\n",
        "\n",
        "                pred = self.forward(x)\n",
        "\n",
        "                loss = criterion(pred, y)\n",
        "                loss.backward()\n",
        "                #torch.nn.utils.clip_grad_norm_(self.parameters(),self.max_norm)\n",
        "                optimizer.step()\n",
        "                \n",
        "                correct_pred = torch.argmax(pred,1) == y\n",
        "                accuracy = correct_pred.float().mean()\n",
        "                total_train_accuracy+=accuracy.item()\n",
        "                total_train_loss+=loss.item()\n",
        "\n",
        "            self.eval()\n",
        "            for x, y in valid_data:\n",
        "                x = x.view(-1,784).to(self.device)\n",
        "                y = y.to(self.device)\n",
        "                valid_pred = self.forward(x)\n",
        "                valid_loss = criterion(valid_pred, y)\n",
        "                \n",
        "                vaild_correct_pred = torch.argmax(valid_pred,1) == y\n",
        "                valid_accuracy = vaild_correct_pred.float().mean()\n",
        "                total_valid_accuracy += valid_accuracy.item()\n",
        "                total_valid_loss+=valid_loss.item()\n",
        "\n",
        "\n",
        "            print('Epoch {} Train Loss: '.format(_+1),total_train_loss/len(train_data),\"Valid Loss: \",total_valid_loss/len(valid_data))\n",
        "            \n",
        "            self.train_losses.append(total_train_loss/len(train_data))\n",
        "            self.valid_losses.append(total_valid_loss/len(valid_data))\n",
        "            self.train_accuracy.append(total_train_accuracy/len(train_data))\n",
        "            self.valid_accuracy.append(total_valid_accuracy/len(valid_data))\n",
        "            \n",
        "            if early_stop:\n",
        "                early_stopping(total_valid_loss/len(valid_data), self)\n",
        "\n",
        "            if early_stop:\n",
        "                if early_stopping.early_stop:\n",
        "                    print(\"Early Stopping...\")\n",
        "                    break\n",
        "\n",
        "        if early_stop:\n",
        "            self.load_state_dict(torch.load('Checkpoint.pt'))\n",
        "\n",
        "    def evaluation(self, x, y):\n",
        "        with torch.no_grad():\n",
        "            self.eval()\n",
        "            criterion = torch.nn.CrossEntropyLoss().to(self.device)\n",
        "            pred = self.forward(x)\n",
        "            loss = criterion(pred, y)\n",
        "            correct_pred = torch.argmax(pred,1) == y\n",
        "            accuracy = correct_pred.float().mean()\n",
        "            print('Accuracy', accuracy.item())\n",
        "        \n",
        "        return accuracy.item()\n",
        "\n",
        "    def get_weights(self):\n",
        "        return [self.fc1.weight, self.fc2.weight,self.fc3.weight, self.fc4.weight]"
      ],
      "metadata": {
        "id": "ZoUPnuSjrwRR"
      },
      "execution_count": null,
      "outputs": []
    },
    {
      "cell_type": "code",
      "source": [
        "model_WD1 = Classifier_WD(input_dim = 784, hidden_dim=(256,128,64), output_dim=10,device=device, activation='relu',opt='adam', epochs=10,weight_decay=1)\n",
        "model_WD1.fit(train_data=train_loader, valid_data=valid_loader)"
      ],
      "metadata": {
        "id": "7CrnFZtifufg",
        "colab": {
          "base_uri": "https://localhost:8080/"
        },
        "outputId": "ae291db8-0dfa-4628-a61b-b7548fef5c8f"
      },
      "execution_count": null,
      "outputs": [
        {
          "output_type": "stream",
          "name": "stderr",
          "text": [
            "100%|██████████| 390/390 [00:05<00:00, 74.73it/s]\n"
          ]
        },
        {
          "output_type": "stream",
          "name": "stdout",
          "text": [
            "Epoch 1 Train Loss:  1.1282206821135985 Valid Loss:  1.4802893996238708\n"
          ]
        },
        {
          "output_type": "stream",
          "name": "stderr",
          "text": [
            "100%|██████████| 390/390 [00:05<00:00, 75.91it/s]\n"
          ]
        },
        {
          "output_type": "stream",
          "name": "stdout",
          "text": [
            "Epoch 2 Train Loss:  1.6067272421641228 Valid Loss:  1.8963339084233992\n"
          ]
        },
        {
          "output_type": "stream",
          "name": "stderr",
          "text": [
            "100%|██████████| 390/390 [00:05<00:00, 76.24it/s]\n"
          ]
        },
        {
          "output_type": "stream",
          "name": "stdout",
          "text": [
            "Epoch 3 Train Loss:  2.027927273359054 Valid Loss:  2.1804554951496615\n"
          ]
        },
        {
          "output_type": "stream",
          "name": "stderr",
          "text": [
            "100%|██████████| 390/390 [00:05<00:00, 75.83it/s]\n"
          ]
        },
        {
          "output_type": "stream",
          "name": "stdout",
          "text": [
            "Epoch 4 Train Loss:  2.2518817803798576 Valid Loss:  2.2993072118514624\n"
          ]
        },
        {
          "output_type": "stream",
          "name": "stderr",
          "text": [
            "100%|██████████| 390/390 [00:05<00:00, 74.98it/s]\n"
          ]
        },
        {
          "output_type": "stream",
          "name": "stdout",
          "text": [
            "Epoch 5 Train Loss:  2.3020212998756997 Valid Loss:  2.3024610770054355\n"
          ]
        },
        {
          "output_type": "stream",
          "name": "stderr",
          "text": [
            "100%|██████████| 390/390 [00:05<00:00, 75.29it/s]\n"
          ]
        },
        {
          "output_type": "stream",
          "name": "stdout",
          "text": [
            "Epoch 6 Train Loss:  2.3023529676290657 Valid Loss:  2.3025212776966586\n"
          ]
        },
        {
          "output_type": "stream",
          "name": "stderr",
          "text": [
            "100%|██████████| 390/390 [00:05<00:00, 75.06it/s]\n"
          ]
        },
        {
          "output_type": "stream",
          "name": "stdout",
          "text": [
            "Epoch 7 Train Loss:  2.302294482328953 Valid Loss:  2.3024284717364187\n"
          ]
        },
        {
          "output_type": "stream",
          "name": "stderr",
          "text": [
            "100%|██████████| 390/390 [00:05<00:00, 75.41it/s]\n"
          ]
        },
        {
          "output_type": "stream",
          "name": "stdout",
          "text": [
            "Epoch 8 Train Loss:  2.302330959760226 Valid Loss:  2.3024040766251392\n"
          ]
        },
        {
          "output_type": "stream",
          "name": "stderr",
          "text": [
            "100%|██████████| 390/390 [00:05<00:00, 75.79it/s]\n"
          ]
        },
        {
          "output_type": "stream",
          "name": "stdout",
          "text": [
            "Epoch 9 Train Loss:  2.3023455136861557 Valid Loss:  2.302326291035383\n"
          ]
        },
        {
          "output_type": "stream",
          "name": "stderr",
          "text": [
            "100%|██████████| 390/390 [00:05<00:00, 74.58it/s]\n"
          ]
        },
        {
          "output_type": "stream",
          "name": "stdout",
          "text": [
            "Epoch 10 Train Loss:  2.3023170972481752 Valid Loss:  2.3024332431646495\n"
          ]
        }
      ]
    },
    {
      "cell_type": "code",
      "source": [
        "model_WD2 = Classifier_WD(input_dim = 784, hidden_dim=(256,128,64), output_dim=10,device=device, activation='relu',opt='adam', epochs=10,weight_decay=0.1)\n",
        "model_WD2.fit(train_data=train_loader, valid_data=valid_loader)"
      ],
      "metadata": {
        "id": "NjMGwwVBfvMs",
        "colab": {
          "base_uri": "https://localhost:8080/"
        },
        "outputId": "df406c6b-2053-4271-f894-bcc489338948"
      },
      "execution_count": null,
      "outputs": [
        {
          "output_type": "stream",
          "name": "stderr",
          "text": [
            "100%|██████████| 390/390 [00:05<00:00, 76.19it/s]\n"
          ]
        },
        {
          "output_type": "stream",
          "name": "stdout",
          "text": [
            "Epoch 1 Train Loss:  0.4804799565902123 Valid Loss:  0.4940857035227311\n"
          ]
        },
        {
          "output_type": "stream",
          "name": "stderr",
          "text": [
            "100%|██████████| 390/390 [00:05<00:00, 75.27it/s]\n"
          ]
        },
        {
          "output_type": "stream",
          "name": "stdout",
          "text": [
            "Epoch 2 Train Loss:  0.49881006685587076 Valid Loss:  0.6391663230382479\n"
          ]
        },
        {
          "output_type": "stream",
          "name": "stderr",
          "text": [
            "100%|██████████| 390/390 [00:05<00:00, 75.59it/s]\n"
          ]
        },
        {
          "output_type": "stream",
          "name": "stdout",
          "text": [
            "Epoch 3 Train Loss:  0.6018111866254073 Valid Loss:  0.6934523995106037\n"
          ]
        },
        {
          "output_type": "stream",
          "name": "stderr",
          "text": [
            "100%|██████████| 390/390 [00:05<00:00, 75.52it/s]\n"
          ]
        },
        {
          "output_type": "stream",
          "name": "stdout",
          "text": [
            "Epoch 4 Train Loss:  0.6429474558585729 Valid Loss:  0.6687106490135193\n"
          ]
        },
        {
          "output_type": "stream",
          "name": "stderr",
          "text": [
            "100%|██████████| 390/390 [00:05<00:00, 75.51it/s]\n"
          ]
        },
        {
          "output_type": "stream",
          "name": "stdout",
          "text": [
            "Epoch 5 Train Loss:  0.6425604899724324 Valid Loss:  0.6978058815002441\n"
          ]
        },
        {
          "output_type": "stream",
          "name": "stderr",
          "text": [
            "100%|██████████| 390/390 [00:05<00:00, 75.33it/s]\n"
          ]
        },
        {
          "output_type": "stream",
          "name": "stdout",
          "text": [
            "Epoch 6 Train Loss:  0.6377679377030103 Valid Loss:  0.5944077403117449\n"
          ]
        },
        {
          "output_type": "stream",
          "name": "stderr",
          "text": [
            "100%|██████████| 390/390 [00:05<00:00, 75.04it/s]\n"
          ]
        },
        {
          "output_type": "stream",
          "name": "stdout",
          "text": [
            "Epoch 7 Train Loss:  0.6246853943054492 Valid Loss:  0.6343993919017987\n"
          ]
        },
        {
          "output_type": "stream",
          "name": "stderr",
          "text": [
            "100%|██████████| 390/390 [00:05<00:00, 75.21it/s]\n"
          ]
        },
        {
          "output_type": "stream",
          "name": "stdout",
          "text": [
            "Epoch 8 Train Loss:  0.6180017368915753 Valid Loss:  0.5980176551219745\n"
          ]
        },
        {
          "output_type": "stream",
          "name": "stderr",
          "text": [
            "100%|██████████| 390/390 [00:05<00:00, 74.92it/s]\n"
          ]
        },
        {
          "output_type": "stream",
          "name": "stdout",
          "text": [
            "Epoch 9 Train Loss:  0.6116034055367494 Valid Loss:  0.5849645263873614\n"
          ]
        },
        {
          "output_type": "stream",
          "name": "stderr",
          "text": [
            "100%|██████████| 390/390 [00:05<00:00, 73.97it/s]\n"
          ]
        },
        {
          "output_type": "stream",
          "name": "stdout",
          "text": [
            "Epoch 10 Train Loss:  0.6115366330513587 Valid Loss:  0.5828544474565066\n"
          ]
        }
      ]
    },
    {
      "cell_type": "code",
      "source": [
        "plt.plot(model_WD1.train_losses, label='Weight Decay = 1 Training ')\n",
        "plt.plot(model_WD1.valid_losses, label='Weight Decay = 1 Valid')\n",
        "plt.plot(model_WD2.train_losses, label='Weight Decay = 0.1 Training ')\n",
        "plt.plot(model_WD2.valid_losses, label='Weight Decay = 0.1 Valid')\n",
        "plt.legend()"
      ],
      "metadata": {
        "colab": {
          "base_uri": "https://localhost:8080/",
          "height": 283
        },
        "id": "imbyPuH59HXI",
        "outputId": "8f67acea-77cf-4270-92dc-a08a24bb1151"
      },
      "execution_count": null,
      "outputs": [
        {
          "output_type": "execute_result",
          "data": {
            "text/plain": [
              "<matplotlib.legend.Legend at 0x7faf58875550>"
            ]
          },
          "metadata": {},
          "execution_count": 54
        },
        {
          "output_type": "display_data",
          "data": {
            "text/plain": [
              "<Figure size 432x288 with 1 Axes>"
            ],
            "image/png": "[encoded data removed]"
          },
          "metadata": {
            "needs_background": "light"
          }
        }
      ]
    },
    {
      "cell_type": "code",
      "source": [
        "cifar_train = torchvision.datasets.CIFAR10(root='/', train=True, transform=torchvision.transforms.ToTensor(), download=True)\n",
        "cifar_test = torchvision.datasets.CIFAR10(root='/', train=False, transform=torchvision.transforms.ToTensor(), download=True)\n",
        "\n",
        "batch_size = 64\n",
        "\n",
        "train_loader = torch.utils.data.DataLoader(dataset=cifar_train, batch_size=batch_size, shuffle=True, drop_last=True)\n",
        "test_loader = torch.utils.data.DataLoader(dataset=cifar_test, shuffle=True,batch_size=10000 , drop_last=True)"
      ],
      "metadata": {
        "id": "fXfoPwvxWDdU"
      },
      "execution_count": null,
      "outputs": []
    },
    {
      "cell_type": "code",
      "source": [
        "cifar_label = {0:'airplane', 1:'automobile', 2: 'bird', 3:'cat',4:'deer',5:'dog',6:'frog',7:'horse',8:'ship',9:'truck'}\n",
        "images = cifar_train.data[60:80]\n",
        "labels = cifar_train.targets[60:80]\n",
        "print(images.shape)\n",
        "fig = plt.figure(figsize=(25,5))\n",
        "for i in range(len(images)):\n",
        "    ax = fig.add_subplot(2, 20/2, i+1)\n",
        "    ax.imshow(images[i])\n",
        "    ax.set_title(cifar_label[labels[i]])\n",
        "    ax.axis('off')"
      ],
      "metadata": {
        "id": "1f_A59EJWFiR"
      },
      "execution_count": null,
      "outputs": []
    },
    {
      "cell_type": "code",
      "source": [
        "#TODO\n",
        "class "
      ],
      "metadata": {
        "id": "N5zsfay-WG6N"
      },
      "execution_count": null,
      "outputs": []
    }
  ]
}